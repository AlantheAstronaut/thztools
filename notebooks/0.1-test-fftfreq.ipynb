{
 "cells": [
  {
   "cell_type": "code",
   "execution_count": 1,
   "id": "84cfe7e6",
   "metadata": {},
   "outputs": [],
   "source": [
    "from thztools import thztools\n",
    "import numpy as np\n",
    "import numpy.fft as fft"
   ]
  },
  {
   "cell_type": "code",
   "execution_count": 4,
   "id": "c3894cd2",
   "metadata": {},
   "outputs": [],
   "source": [
    "N = 12     #number of samples\n",
    "ts = .05   #sampling time"
   ]
  },
  {
   "cell_type": "code",
   "execution_count": 5,
   "id": "d2f4756b",
   "metadata": {},
   "outputs": [
    {
     "name": "stdout",
     "output_type": "stream",
     "text": [
      "[ 0.          1.66666667  3.33333333  5.          6.66666667  8.33333333\n",
      " 10.         -8.33333333 -6.66666667 -5.         -3.33333333 -1.66666667]\n",
      "[  0.           1.66666667   3.33333333   5.           6.66666667\n",
      "   8.33333333 -10.          -8.33333333  -6.66666667  -5.\n",
      "  -3.33333333  -1.66666667]\n",
      "False\n"
     ]
    }
   ],
   "source": [
    "f_thztools = thztools.fftfreq(N, ts)\n",
    "f_numpy = fft.fftfreq(N, ts)\n",
    "print(f_thztools)\n",
    "print(f_numpy)\n",
    "print(np.allclose(f_thztools, f_numpy))"
   ]
  },
  {
   "cell_type": "code",
   "execution_count": 3,
   "outputs": [],
   "source": [],
   "metadata": {
    "collapsed": false,
    "pycharm": {
     "name": "#%%\n"
    }
   }
  }
 ],
 "metadata": {
  "kernelspec": {
   "display_name": "Python 3",
   "language": "python",
   "name": "python3"
  },
  "language_info": {
   "codemirror_mode": {
    "name": "ipython",
    "version": 3
   },
   "file_extension": ".py",
   "mimetype": "text/x-python",
   "name": "python",
   "nbconvert_exporter": "python",
   "pygments_lexer": "ipython3",
   "version": "3.9.5"
  }
 },
 "nbformat": 4,
 "nbformat_minor": 5
}