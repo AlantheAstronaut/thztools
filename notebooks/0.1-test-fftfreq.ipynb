{
 "cells": [
  {
   "cell_type": "code",
   "execution_count": 1,
   "id": "84cfe7e6",
   "metadata": {},
   "outputs": [],
   "source": [
    "from thztools import fftfreq\n",
    "import numpy as np\n",
    "import numpy.fft as fft"
   ]
  },
  {
   "cell_type": "code",
   "execution_count": 2,
   "id": "c3894cd2",
   "metadata": {},
   "outputs": [],
   "source": [
    "N = 12     #number of samples\n",
    "ts = .05   #sampling time\n",
    "fs = 1/(ts*N)   #sampling frequency"
   ]
  },
  {
   "cell_type": "code",
   "execution_count": 3,
   "id": "d2f4756b",
   "metadata": {},
   "outputs": [
    {
     "name": "stdout",
     "output_type": "stream",
     "text": [
      "kcirc = [ 0.  1.  2.  3.  4.  5. -6. -5. -4. -3. -2. -1.]\n",
      "[ 0.          0.08333333  0.16666667  0.25        0.33333333  0.41666667\n",
      " -0.5        -0.41666667 -0.33333333 -0.25       -0.16666667 -0.08333333]\n",
      "[ 0.          0.08333333  0.16666667  0.25        0.33333333  0.41666667\n",
      " -0.5        -0.41666667 -0.33333333 -0.25       -0.16666667 -0.08333333]\n",
      "12\n",
      "12\n",
      "True\n"
     ]
    }
   ],
   "source": [
    "f_thztools = fftfreq.fftfreq(N, 1.0)\n",
    "f_numpy = fft.fftfreq(N)\n",
    "print(f_thztools)\n",
    "print(f_numpy)\n",
    "print(len(f_thztools))\n",
    "print(len(f_numpy))\n",
    "print(np.allclose(f_thztools, f_numpy))"
   ]
  }
 ],
 "metadata": {
  "kernelspec": {
   "display_name": "Python 3",
   "language": "python",
   "name": "python3"
  },
  "language_info": {
   "codemirror_mode": {
    "name": "ipython",
    "version": 3
   },
   "file_extension": ".py",
   "mimetype": "text/x-python",
   "name": "python",
   "nbconvert_exporter": "python",
   "pygments_lexer": "ipython3",
   "version": "3.9.5"
  }
 },
 "nbformat": 4,
 "nbformat_minor": 5
}
