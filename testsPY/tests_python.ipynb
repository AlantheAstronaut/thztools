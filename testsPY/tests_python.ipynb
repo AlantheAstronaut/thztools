{
 "cells": [
  {
   "cell_type": "code",
   "execution_count": 1,
   "outputs": [
    {
     "name": "stderr",
     "output_type": "stream",
     "text": [
      "C:\\Users\\jonap\\anaconda3\\envs\\thztools1\\lib\\site-packages\\scipy\\__init__.py:146: UserWarning: A NumPy version >=1.16.5 and <1.23.0 is required for this version of SciPy (detected version 1.23.1\n",
      "  warnings.warn(f\"A NumPy version >={np_minversion} and <{np_maxversion}\"\n"
     ]
    }
   ],
   "source": [
    "import numpy as np\n",
    "import pandas as pd\n",
    "from thztoolsPY.thzgen import thzgen\n",
    "from thztoolsPY.fftfreq import fftfreq\n",
    "from thztoolsPY.costfunlsq import costfunlsq\n",
    "from numpy.testing import assert_array_almost_equal"
   ],
   "metadata": {
    "collapsed": false,
    "pycharm": {
     "name": "#%%\n"
    }
   }
  },
  {
   "cell_type": "code",
   "execution_count": 3,
   "outputs": [],
   "source": [
    "def fun(theta, wfft):\n",
    "    return theta[0] * np.exp(1j * theta[1] * wfft)\n",
    "\n",
    "theta = np.array([1, 2])\n",
    "n = 100\n",
    "ampSigma = 1e-5\n",
    "xx = np.column_stack([np.linspace(0, 10, n)])\n",
    "xx = np.squeeze(xx)\n",
    "yy = thzgen(n, 1, 1)[0] + ampSigma * np.ones(n)\n",
    "\n",
    "wfft = 2 * np.pi * np.fft.fftfreq(n, 1)\n",
    "sigmax = ampSigma * np.ones(n)\n",
    "sigmay = ampSigma * np.ones(n)"
   ],
   "metadata": {
    "collapsed": false,
    "pycharm": {
     "name": "#%%\n"
    }
   }
  },
  {
   "cell_type": "code",
   "execution_count": 5,
   "outputs": [
    {
     "data": {
      "text/plain": "array([-710640.00428233, -636395.39596111,  -45914.13608029,\n        -28010.29611584,   -8652.99433112,  -25733.65619194,\n        -25297.7287665 ,  -38361.53253123,  -40630.51617664,\n        -51909.8138844 ,  -55463.38574049,  -65770.06982368,\n        -70088.14138619,  -79776.43137088,  -84606.24841709,\n        -93863.08413397,  -99062.36774236, -107998.60375816,\n       -113479.27883465, -122166.05950881, -127869.83641887,\n       -136355.50998912, -142241.85359045, -150560.72686873,\n       -156600.35862664, -164777.60427546, -170948.73887891,\n       -179003.3213131 , -185289.36380971, -193235.87183385,\n       -199623.9445529 , -207473.78620842, -213953.75157062,\n       -221715.95933526, -228279.75183037, -235961.54027693,\n       -242602.69832144, -250209.8590935 , -256923.1902958 ,\n       -264460.37689557, -271241.7149621 , -278712.65080742,\n       -285558.67712305, -292966.30872994, -299874.42081229,\n       -307221.0306587 , -314189.24554574, -321476.53443333,\n       -328503.41892679, -335732.5644812 , -342817.18680405,\n       -349988.88254462, -357130.78184436, -364245.25964412,\n       -371444.43118014, -378501.46868539, -385758.3636759 ,\n       -392757.27719539, -400072.81731328, -407012.43968867,\n       -414388.04720817, -421266.68912054, -428704.33484976,\n       -435519.72677164, -443021.99930468, -449771.20970668,\n       -457341.41138969, -464020.73461798, -471663.01223793,\n       -478267.81632953, -485987.3383638 , -492511.8583712 ,\n       -500315.05643877, -506752.1116082 , -514647.01283489,\n       -520987.61450714, -528984.30614989, -535217.10443768,\n       -543328.39651826, -549438.88186291, -557681.2758066 ,\n       -563650.59506661, -572045.74263843, -577848.88496104,\n       -586425.8665774 , -592028.77055428, -600827.81342077,\n       -606182.5228954 , -615261.40908265, -620297.44938771,\n       -629743.35061087, -634351.11796861, -644304.52649394,\n       -648299.73202499, -659009.2778739 , -662044.51656833,\n       -674018.02582764, -675304.5780336 , -689878.16255034,\n       -686816.803597  ])"
     },
     "execution_count": 5,
     "metadata": {},
     "output_type": "execute_result"
    }
   ],
   "source": [
    "a1 = costfunlsq(fun, theta, xx, yy, sigmax, sigmay, wfft)\n",
    "np.real(a1)"
   ],
   "metadata": {
    "collapsed": false,
    "pycharm": {
     "name": "#%%\n"
    }
   }
  },
  {
   "cell_type": "code",
   "execution_count": 6,
   "outputs": [],
   "source": [
    "a2 = pd.read_csv('cosfunlsq_out.csv', header=None)\n",
    "a2 = np.array(a2[0])"
   ],
   "metadata": {
    "collapsed": false,
    "pycharm": {
     "name": "#%%\n"
    }
   }
  },
  {
   "cell_type": "code",
   "execution_count": 9,
   "outputs": [],
   "source": [
    "np.testing.assert_allclose(a1, a2, rtol=1e2, atol=1e2)"
   ],
   "metadata": {
    "collapsed": false,
    "pycharm": {
     "name": "#%%\n"
    }
   }
  },
  {
   "cell_type": "code",
   "execution_count": 15,
   "outputs": [],
   "source": [
    "theta = np.array([3., 4.])\n",
    "n = 5\n",
    "ts = 0.2\n",
    "\n",
    "\n",
    "def fun(theta, wfft):\n",
    "    return theta[0] * np.exp(1j * theta[1] * wfft)"
   ],
   "metadata": {
    "collapsed": false,
    "pycharm": {
     "name": "#%%\n"
    }
   }
  },
  {
   "cell_type": "code",
   "execution_count": 18,
   "outputs": [],
   "source": [
    "m = pd.read_csv('shitmtx_out.csv', header=None)"
   ],
   "metadata": {
    "collapsed": false,
    "pycharm": {
     "name": "#%%\n"
    }
   }
  },
  {
   "cell_type": "code",
   "execution_count": 19,
   "outputs": [
    {
     "data": {
      "text/plain": "array([[ 4.37e-17, -1.91e-17,  1.08e-17, ...,  1.89e-17, -3.99e-17,\n         1.00e+00],\n       [ 1.00e+00,  4.37e-17, -1.91e-17, ..., -1.90e-17,  1.89e-17,\n        -3.99e-17],\n       [-3.99e-17,  1.00e+00,  4.37e-17, ..., -5.70e-18, -1.90e-17,\n         1.89e-17],\n       ...,\n       [-1.75e-17,  8.45e-18, -1.65e-17, ...,  4.37e-17, -1.91e-17,\n         1.08e-17],\n       [ 1.08e-17, -1.75e-17,  8.45e-18, ...,  1.00e+00,  4.37e-17,\n        -1.91e-17],\n       [-1.91e-17,  1.08e-17, -1.75e-17, ..., -3.99e-17,  1.00e+00,\n         4.37e-17]])"
     },
     "execution_count": 19,
     "metadata": {},
     "output_type": "execute_result"
    }
   ],
   "source": [
    "np.array(m)"
   ],
   "metadata": {
    "collapsed": false,
    "pycharm": {
     "name": "#%%\n"
    }
   }
  }
 ],
 "metadata": {
  "kernelspec": {
   "display_name": "Python 3",
   "language": "python",
   "name": "python3"
  },
  "language_info": {
   "codemirror_mode": {
    "name": "ipython",
    "version": 2
   },
   "file_extension": ".py",
   "mimetype": "text/x-python",
   "name": "python",
   "nbconvert_exporter": "python",
   "pygments_lexer": "ipython2",
   "version": "2.7.6"
  }
 },
 "nbformat": 4,
 "nbformat_minor": 0
}