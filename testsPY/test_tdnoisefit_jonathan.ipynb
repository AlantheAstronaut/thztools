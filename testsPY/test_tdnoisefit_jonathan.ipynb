{
 "cells": [
  {
   "cell_type": "code",
   "execution_count": 2,
   "outputs": [],
   "source": [
    "import h5py\n",
    "import numpy as np"
   ],
   "metadata": {
    "collapsed": false,
    "pycharm": {
     "name": "#%%\n"
    }
   }
  },
  {
   "cell_type": "code",
   "execution_count": 3,
   "outputs": [],
   "source": [
    "file = h5py.File('tdnoisefit_test_data.mat')\n",
    "\n",
    "x = np.transpose(np.array(file['tdnoisefit_data']['X']))\n",
    "t = file['tdnoisefit_data']['t'][0]"
   ],
   "metadata": {
    "collapsed": false,
    "pycharm": {
     "name": "#%%\n"
    }
   }
  },
  {
   "cell_type": "code",
   "execution_count": 4,
   "outputs": [
    {
     "name": "stdout",
     "output_type": "stream",
     "text": [
      "===================================================\n",
      "===================================================\n",
      "Fit for Delay\n",
      "Optimization terminated successfully.\n",
      "         Current function value: 95733.140094\n",
      "         Iterations: 6\n",
      "         Function evaluations: 1313\n",
      "         Gradient evaluations: 13\n",
      "Elapsed time is 34.77984571456909\n",
      "Fit for Amplitude\n"
     ]
    },
    {
     "name": "stderr",
     "output_type": "stream",
     "text": [
      "C:\\Users\\jonap\\thzProject\\thztools\\thztoolsPY\\tdnll.py:176: RuntimeWarning: invalid value encountered in true_divide\n",
      "  gradnll[nStart:nStart + M] = np.conj(np.sum(term, axis=0)).reshape(M, 1) / a\n"
     ]
    },
    {
     "name": "stdout",
     "output_type": "stream",
     "text": [
      "Optimization terminated successfully.\n",
      "         Current function value: 120699.126764\n",
      "         Iterations: 3\n",
      "         Function evaluations: 707\n",
      "         Gradient evaluations: 7\n",
      "Elapsed time is 39.81986331939697\n",
      "Adjust x\n",
      "Fit for variance\n"
     ]
    },
    {
     "name": "stderr",
     "output_type": "stream",
     "text": [
      "C:\\Users\\jonap\\thzProject\\thztools\\thztoolsPY\\tdnll.py:50: RuntimeWarning: overflow encountered in exp\n",
      "  v = np.exp(param['logv'])\n",
      "C:\\Users\\jonap\\thzProject\\thztools\\thztoolsPY\\tdnll.py:161: RuntimeWarning: invalid value encountered in true_divide\n",
      "  dvar = (vtot - ressq) / vtot**2\n",
      "C:\\Users\\jonap\\anaconda3\\lib\\site-packages\\scipy\\optimize\\_numdiff.py:571: RuntimeWarning: invalid value encountered in subtract\n",
      "  df = f2 - f1\n",
      "C:\\Users\\jonap\\thzProject\\thztools\\thztoolsPY\\tdnll.py:50: RuntimeWarning: overflow encountered in exp\n",
      "  v = np.exp(param['logv'])\n",
      "C:\\Users\\jonap\\thzProject\\thztools\\thztoolsPY\\tdnll.py:161: RuntimeWarning: invalid value encountered in true_divide\n",
      "  dvar = (vtot - ressq) / vtot**2\n"
     ]
    },
    {
     "name": "stdout",
     "output_type": "stream",
     "text": [
      "Warning: Desired error not necessarily achieved due to precision loss.\n",
      "         Current function value: -78110.076965\n",
      "         Iterations: 9\n",
      "         Function evaluations: 320\n",
      "         Gradient evaluations: 44\n",
      "Elapsed time is 44.35234451293945\n",
      "Fit for all parameters\n"
     ]
    },
    {
     "name": "stderr",
     "output_type": "stream",
     "text": [
      "C:\\Users\\jonap\\thzProject\\thztools\\thztoolsPY\\tdnll.py:176: RuntimeWarning: invalid value encountered in true_divide\n",
      "  gradnll[nStart:nStart + M] = np.conj(np.sum(term, axis=0)).reshape(M, 1) / a\n",
      "C:\\Users\\jonap\\thzProject\\thztools\\thztoolsPY\\tdnll.py:50: RuntimeWarning: overflow encountered in exp\n",
      "  v = np.exp(param['logv'])\n",
      "C:\\Users\\jonap\\thzProject\\thztools\\thztoolsPY\\tdnll.py:161: RuntimeWarning: invalid value encountered in true_divide\n",
      "  dvar = (vtot - ressq) / vtot**2\n",
      "C:\\Users\\jonap\\thzProject\\thztools\\thztoolsPY\\tdnll.py:170: RuntimeWarning: invalid value encountered in multiply\n",
      "  P = np.fft.fft(v[1] * dvar * zeta - reswt, axis=0) - 1j * v[2] * w * np.fft.fft(dvar * Dzeta, axis=0)\n",
      "C:\\Users\\jonap\\anaconda3\\lib\\site-packages\\scipy\\optimize\\_numdiff.py:571: RuntimeWarning: invalid value encountered in subtract\n",
      "  df = f2 - f1\n",
      "C:\\Users\\jonap\\thzProject\\thztools\\thztoolsPY\\tdnll.py:50: RuntimeWarning: overflow encountered in exp\n",
      "  v = np.exp(param['logv'])\n",
      "C:\\Users\\jonap\\thzProject\\thztools\\thztoolsPY\\tdnll.py:161: RuntimeWarning: invalid value encountered in true_divide\n",
      "  dvar = (vtot - ressq) / vtot**2\n",
      "C:\\Users\\jonap\\thzProject\\thztools\\thztoolsPY\\tdnll.py:170: RuntimeWarning: invalid value encountered in multiply\n",
      "  P = np.fft.fft(v[1] * dvar * zeta - reswt, axis=0) - 1j * v[2] * w * np.fft.fft(dvar * Dzeta, axis=0)\n",
      "C:\\Users\\jonap\\thzProject\\thztools\\thztoolsPY\\tdnll.py:161: RuntimeWarning: overflow encountered in square\n",
      "  dvar = (vtot - ressq) / vtot**2\n"
     ]
    },
    {
     "ename": "KeyboardInterrupt",
     "evalue": "",
     "output_type": "error",
     "traceback": [
      "\u001B[1;31m---------------------------------------------------------------------------\u001B[0m",
      "\u001B[1;31mKeyboardInterrupt\u001B[0m                         Traceback (most recent call last)",
      "Input \u001B[1;32mIn [4]\u001B[0m, in \u001B[0;36m<cell line: 3>\u001B[1;34m()\u001B[0m\n\u001B[0;32m      1\u001B[0m \u001B[38;5;28;01mfrom\u001B[39;00m \u001B[38;5;21;01mthztools\u001B[39;00m\u001B[38;5;21;01m.\u001B[39;00m\u001B[38;5;21;01mthztoolsPY\u001B[39;00m\u001B[38;5;21;01m.\u001B[39;00m\u001B[38;5;21;01mnoisefitshow\u001B[39;00m \u001B[38;5;28;01mimport\u001B[39;00m noisefitshow\n\u001B[1;32m----> 3\u001B[0m \u001B[43mnoisefitshow\u001B[49m\u001B[43m(\u001B[49m\u001B[43mt\u001B[49m\u001B[43m,\u001B[49m\u001B[43m \u001B[49m\u001B[43mx\u001B[49m\u001B[43m)\u001B[49m\n",
      "File \u001B[1;32m~\\thzProject\\thztools\\thztoolsPY\\noisefitshow.py:92\u001B[0m, in \u001B[0;36mnoisefitshow\u001B[1;34m(t, x)\u001B[0m\n\u001B[0;32m     90\u001B[0m ignore[\u001B[38;5;124m'\u001B[39m\u001B[38;5;124mall\u001B[39m\u001B[38;5;124m'\u001B[39m] \u001B[38;5;241m=\u001B[39m {\u001B[38;5;124m'\u001B[39m\u001B[38;5;124ma\u001B[39m\u001B[38;5;124m'\u001B[39m: \u001B[38;5;28;01mFalse\u001B[39;00m, \u001B[38;5;124m'\u001B[39m\u001B[38;5;124meta\u001B[39m\u001B[38;5;124m'\u001B[39m: \u001B[38;5;28;01mFalse\u001B[39;00m}\n\u001B[0;32m     91\u001B[0m param[\u001B[38;5;124m'\u001B[39m\u001B[38;5;124mall\u001B[39m\u001B[38;5;124m'\u001B[39m] \u001B[38;5;241m=\u001B[39m {\u001B[38;5;124m'\u001B[39m\u001B[38;5;124mv0\u001B[39m\u001B[38;5;124m'\u001B[39m: v0, \u001B[38;5;124m'\u001B[39m\u001B[38;5;124mmu0\u001B[39m\u001B[38;5;124m'\u001B[39m: mu0, \u001B[38;5;124m'\u001B[39m\u001B[38;5;124ma\u001B[39m\u001B[38;5;124m'\u001B[39m: a0, \u001B[38;5;124m'\u001B[39m\u001B[38;5;124meta\u001B[39m\u001B[38;5;124m'\u001B[39m: eta0, \u001B[38;5;124m'\u001B[39m\u001B[38;5;124mts\u001B[39m\u001B[38;5;124m'\u001B[39m: t}\n\u001B[1;32m---> 92\u001B[0m p[\u001B[38;5;124m'\u001B[39m\u001B[38;5;124mall\u001B[39m\u001B[38;5;124m'\u001B[39m] \u001B[38;5;241m=\u001B[39m \u001B[43mtdnoisefit\u001B[49m\u001B[43m(\u001B[49m\u001B[43mx\u001B[49m\u001B[43m,\u001B[49m\u001B[43m \u001B[49m\u001B[43mparam\u001B[49m\u001B[43m[\u001B[49m\u001B[38;5;124;43m'\u001B[39;49m\u001B[38;5;124;43mall\u001B[39;49m\u001B[38;5;124;43m'\u001B[39;49m\u001B[43m]\u001B[49m\u001B[43m,\u001B[49m\u001B[43m \u001B[49m\u001B[43mfix\u001B[49m\u001B[43m[\u001B[49m\u001B[38;5;124;43m'\u001B[39;49m\u001B[38;5;124;43mall\u001B[39;49m\u001B[38;5;124;43m'\u001B[39;49m\u001B[43m]\u001B[49m\u001B[43m,\u001B[49m\u001B[43m \u001B[49m\u001B[43mignore\u001B[49m\u001B[43m[\u001B[49m\u001B[38;5;124;43m'\u001B[39;49m\u001B[38;5;124;43mall\u001B[39;49m\u001B[38;5;124;43m'\u001B[39;49m\u001B[43m]\u001B[49m\u001B[43m)\u001B[49m\n\u001B[0;32m     94\u001B[0m \u001B[38;5;28mprint\u001B[39m(\u001B[38;5;124m\"\u001B[39m\u001B[38;5;124mElapsed time is\u001B[39m\u001B[38;5;124m\"\u001B[39m, time\u001B[38;5;241m.\u001B[39mtime() \u001B[38;5;241m-\u001B[39m start_time)\n\u001B[0;32m     96\u001B[0m \u001B[38;5;66;03m# # Assing variables\u001B[39;00m\n\u001B[0;32m     97\u001B[0m \n\u001B[0;32m     98\u001B[0m \u001B[38;5;66;03m# vest = out['all'][0]['var']\u001B[39;00m\n\u001B[1;32m   (...)\u001B[0m\n\u001B[0;32m    143\u001B[0m \u001B[38;5;66;03m#   s[:, :, i] = shiftmtx(etaest[i], n, T)\u001B[39;00m\n\u001B[0;32m    144\u001B[0m \u001B[38;5;66;03m#   zeta[:, i] = aest[i] * s[:, :, i] @ muest\u001B[39;00m\n",
      "File \u001B[1;32m~\\thzProject\\thztools\\thztoolsPY\\tdnoisefit.py:175\u001B[0m, in \u001B[0;36mtdnoisefit\u001B[1;34m(x, param, fix, ignore)\u001B[0m\n\u001B[0;32m    171\u001B[0m     \u001B[38;5;28;01mreturn\u001B[39;00m tdnll(x, parsein(p), fix)[\u001B[38;5;241m1\u001B[39m]\n\u001B[0;32m    173\u001B[0m mle[\u001B[38;5;124m'\u001B[39m\u001B[38;5;124mobjective\u001B[39m\u001B[38;5;124m'\u001B[39m] \u001B[38;5;241m=\u001B[39m objective\n\u001B[1;32m--> 175\u001B[0m out \u001B[38;5;241m=\u001B[39m \u001B[43mminimize\u001B[49m\u001B[43m(\u001B[49m\u001B[43mmle\u001B[49m\u001B[43m[\u001B[49m\u001B[38;5;124;43m'\u001B[39;49m\u001B[38;5;124;43mobjective\u001B[39;49m\u001B[38;5;124;43m'\u001B[39;49m\u001B[43m]\u001B[49m\u001B[43m,\u001B[49m\u001B[43m \u001B[49m\u001B[43mmle\u001B[49m\u001B[43m[\u001B[49m\u001B[38;5;124;43m'\u001B[39;49m\u001B[38;5;124;43mx0\u001B[39;49m\u001B[38;5;124;43m'\u001B[39;49m\u001B[43m]\u001B[49m\u001B[43m,\u001B[49m\u001B[43m \u001B[49m\u001B[43mmethod\u001B[49m\u001B[38;5;241;43m=\u001B[39;49m\u001B[38;5;124;43m'\u001B[39;49m\u001B[38;5;124;43mCG\u001B[39;49m\u001B[38;5;124;43m'\u001B[39;49m\u001B[43m,\u001B[49m\u001B[43m \u001B[49m\u001B[43mjac\u001B[49m\u001B[38;5;241;43m=\u001B[39;49m\u001B[38;5;124;43m'\u001B[39;49m\u001B[38;5;124;43m3-point\u001B[39;49m\u001B[38;5;124;43m'\u001B[39;49m\u001B[43m,\u001B[49m\u001B[43m \u001B[49m\u001B[43moptions\u001B[49m\u001B[38;5;241;43m=\u001B[39;49m\u001B[43m{\u001B[49m\u001B[38;5;124;43m'\u001B[39;49m\u001B[38;5;124;43mdisp\u001B[39;49m\u001B[38;5;124;43m'\u001B[39;49m\u001B[43m:\u001B[49m\u001B[43m \u001B[49m\u001B[38;5;28;43;01mTrue\u001B[39;49;00m\u001B[43m}\u001B[49m\u001B[43m)\u001B[49m\n\u001B[0;32m    177\u001B[0m \u001B[38;5;66;03m################################################################################\u001B[39;00m\n\u001B[0;32m    178\u001B[0m \n\u001B[0;32m    179\u001B[0m \u001B[38;5;66;03m# Parse output\u001B[39;00m\n\u001B[0;32m    180\u001B[0m p \u001B[38;5;241m=\u001B[39m {}\n",
      "File \u001B[1;32m~\\anaconda3\\lib\\site-packages\\scipy\\optimize\\_minimize.py:616\u001B[0m, in \u001B[0;36mminimize\u001B[1;34m(fun, x0, args, method, jac, hess, hessp, bounds, constraints, tol, callback, options)\u001B[0m\n\u001B[0;32m    614\u001B[0m     \u001B[38;5;28;01mreturn\u001B[39;00m _minimize_powell(fun, x0, args, callback, bounds, \u001B[38;5;241m*\u001B[39m\u001B[38;5;241m*\u001B[39moptions)\n\u001B[0;32m    615\u001B[0m \u001B[38;5;28;01melif\u001B[39;00m meth \u001B[38;5;241m==\u001B[39m \u001B[38;5;124m'\u001B[39m\u001B[38;5;124mcg\u001B[39m\u001B[38;5;124m'\u001B[39m:\n\u001B[1;32m--> 616\u001B[0m     \u001B[38;5;28;01mreturn\u001B[39;00m _minimize_cg(fun, x0, args, jac, callback, \u001B[38;5;241m*\u001B[39m\u001B[38;5;241m*\u001B[39moptions)\n\u001B[0;32m    617\u001B[0m \u001B[38;5;28;01melif\u001B[39;00m meth \u001B[38;5;241m==\u001B[39m \u001B[38;5;124m'\u001B[39m\u001B[38;5;124mbfgs\u001B[39m\u001B[38;5;124m'\u001B[39m:\n\u001B[0;32m    618\u001B[0m     \u001B[38;5;28;01mreturn\u001B[39;00m _minimize_bfgs(fun, x0, args, jac, callback, \u001B[38;5;241m*\u001B[39m\u001B[38;5;241m*\u001B[39moptions)\n",
      "File \u001B[1;32m~\\anaconda3\\lib\\site-packages\\scipy\\optimize\\optimize.py:1586\u001B[0m, in \u001B[0;36m_minimize_cg\u001B[1;34m(fun, x0, args, jac, callback, gtol, norm, eps, maxiter, disp, return_all, finite_diff_rel_step, **unknown_options)\u001B[0m\n\u001B[0;32m   1582\u001B[0m     \u001B[38;5;28;01mreturn\u001B[39;00m np\u001B[38;5;241m.\u001B[39mdot(pk, gfk) \u001B[38;5;241m<\u001B[39m\u001B[38;5;241m=\u001B[39m \u001B[38;5;241m-\u001B[39msigma_3 \u001B[38;5;241m*\u001B[39m np\u001B[38;5;241m.\u001B[39mdot(gfk, gfk)\n\u001B[0;32m   1584\u001B[0m \u001B[38;5;28;01mtry\u001B[39;00m:\n\u001B[0;32m   1585\u001B[0m     alpha_k, fc, gc, old_fval, old_old_fval, gfkp1 \u001B[38;5;241m=\u001B[39m \\\n\u001B[1;32m-> 1586\u001B[0m              \u001B[43m_line_search_wolfe12\u001B[49m\u001B[43m(\u001B[49m\u001B[43mf\u001B[49m\u001B[43m,\u001B[49m\u001B[43m \u001B[49m\u001B[43mmyfprime\u001B[49m\u001B[43m,\u001B[49m\u001B[43m \u001B[49m\u001B[43mxk\u001B[49m\u001B[43m,\u001B[49m\u001B[43m \u001B[49m\u001B[43mpk\u001B[49m\u001B[43m,\u001B[49m\u001B[43m \u001B[49m\u001B[43mgfk\u001B[49m\u001B[43m,\u001B[49m\u001B[43m \u001B[49m\u001B[43mold_fval\u001B[49m\u001B[43m,\u001B[49m\n\u001B[0;32m   1587\u001B[0m \u001B[43m                                  \u001B[49m\u001B[43mold_old_fval\u001B[49m\u001B[43m,\u001B[49m\u001B[43m \u001B[49m\u001B[43mc2\u001B[49m\u001B[38;5;241;43m=\u001B[39;49m\u001B[38;5;241;43m0.4\u001B[39;49m\u001B[43m,\u001B[49m\u001B[43m \u001B[49m\u001B[43mamin\u001B[49m\u001B[38;5;241;43m=\u001B[39;49m\u001B[38;5;241;43m1e-100\u001B[39;49m\u001B[43m,\u001B[49m\u001B[43m \u001B[49m\u001B[43mamax\u001B[49m\u001B[38;5;241;43m=\u001B[39;49m\u001B[38;5;241;43m1e100\u001B[39;49m\u001B[43m,\u001B[49m\n\u001B[0;32m   1588\u001B[0m \u001B[43m                                  \u001B[49m\u001B[43mextra_condition\u001B[49m\u001B[38;5;241;43m=\u001B[39;49m\u001B[43mdescent_condition\u001B[49m\u001B[43m)\u001B[49m\n\u001B[0;32m   1589\u001B[0m \u001B[38;5;28;01mexcept\u001B[39;00m _LineSearchError:\n\u001B[0;32m   1590\u001B[0m     \u001B[38;5;66;03m# Line search failed to find a better solution.\u001B[39;00m\n\u001B[0;32m   1591\u001B[0m     warnflag \u001B[38;5;241m=\u001B[39m \u001B[38;5;241m2\u001B[39m\n",
      "File \u001B[1;32m~\\anaconda3\\lib\\site-packages\\scipy\\optimize\\optimize.py:1005\u001B[0m, in \u001B[0;36m_line_search_wolfe12\u001B[1;34m(f, fprime, xk, pk, gfk, old_fval, old_old_fval, **kwargs)\u001B[0m\n\u001B[0;32m    991\u001B[0m \u001B[38;5;124;03m\"\"\"\u001B[39;00m\n\u001B[0;32m    992\u001B[0m \u001B[38;5;124;03mSame as line_search_wolfe1, but fall back to line_search_wolfe2 if\u001B[39;00m\n\u001B[0;32m    993\u001B[0m \u001B[38;5;124;03msuitable step length is not found, and raise an exception if a\u001B[39;00m\n\u001B[1;32m   (...)\u001B[0m\n\u001B[0;32m   1000\u001B[0m \n\u001B[0;32m   1001\u001B[0m \u001B[38;5;124;03m\"\"\"\u001B[39;00m\n\u001B[0;32m   1003\u001B[0m extra_condition \u001B[38;5;241m=\u001B[39m kwargs\u001B[38;5;241m.\u001B[39mpop(\u001B[38;5;124m'\u001B[39m\u001B[38;5;124mextra_condition\u001B[39m\u001B[38;5;124m'\u001B[39m, \u001B[38;5;28;01mNone\u001B[39;00m)\n\u001B[1;32m-> 1005\u001B[0m ret \u001B[38;5;241m=\u001B[39m line_search_wolfe1(f, fprime, xk, pk, gfk,\n\u001B[0;32m   1006\u001B[0m                          old_fval, old_old_fval,\n\u001B[0;32m   1007\u001B[0m                          \u001B[38;5;241m*\u001B[39m\u001B[38;5;241m*\u001B[39mkwargs)\n\u001B[0;32m   1009\u001B[0m \u001B[38;5;28;01mif\u001B[39;00m ret[\u001B[38;5;241m0\u001B[39m] \u001B[38;5;129;01mis\u001B[39;00m \u001B[38;5;129;01mnot\u001B[39;00m \u001B[38;5;28;01mNone\u001B[39;00m \u001B[38;5;129;01mand\u001B[39;00m extra_condition \u001B[38;5;129;01mis\u001B[39;00m \u001B[38;5;129;01mnot\u001B[39;00m \u001B[38;5;28;01mNone\u001B[39;00m:\n\u001B[0;32m   1010\u001B[0m     xp1 \u001B[38;5;241m=\u001B[39m xk \u001B[38;5;241m+\u001B[39m ret[\u001B[38;5;241m0\u001B[39m] \u001B[38;5;241m*\u001B[39m pk\n",
      "File \u001B[1;32m~\\anaconda3\\lib\\site-packages\\scipy\\optimize\\linesearch.py:96\u001B[0m, in \u001B[0;36mline_search_wolfe1\u001B[1;34m(f, fprime, xk, pk, gfk, old_fval, old_old_fval, args, c1, c2, amax, amin, xtol)\u001B[0m\n\u001B[0;32m     92\u001B[0m     \u001B[38;5;28;01mreturn\u001B[39;00m np\u001B[38;5;241m.\u001B[39mdot(gval[\u001B[38;5;241m0\u001B[39m], pk)\n\u001B[0;32m     94\u001B[0m derphi0 \u001B[38;5;241m=\u001B[39m np\u001B[38;5;241m.\u001B[39mdot(gfk, pk)\n\u001B[1;32m---> 96\u001B[0m stp, fval, old_fval \u001B[38;5;241m=\u001B[39m \u001B[43mscalar_search_wolfe1\u001B[49m\u001B[43m(\u001B[49m\n\u001B[0;32m     97\u001B[0m \u001B[43m        \u001B[49m\u001B[43mphi\u001B[49m\u001B[43m,\u001B[49m\u001B[43m \u001B[49m\u001B[43mderphi\u001B[49m\u001B[43m,\u001B[49m\u001B[43m \u001B[49m\u001B[43mold_fval\u001B[49m\u001B[43m,\u001B[49m\u001B[43m \u001B[49m\u001B[43mold_old_fval\u001B[49m\u001B[43m,\u001B[49m\u001B[43m \u001B[49m\u001B[43mderphi0\u001B[49m\u001B[43m,\u001B[49m\n\u001B[0;32m     98\u001B[0m \u001B[43m        \u001B[49m\u001B[43mc1\u001B[49m\u001B[38;5;241;43m=\u001B[39;49m\u001B[43mc1\u001B[49m\u001B[43m,\u001B[49m\u001B[43m \u001B[49m\u001B[43mc2\u001B[49m\u001B[38;5;241;43m=\u001B[39;49m\u001B[43mc2\u001B[49m\u001B[43m,\u001B[49m\u001B[43m \u001B[49m\u001B[43mamax\u001B[49m\u001B[38;5;241;43m=\u001B[39;49m\u001B[43mamax\u001B[49m\u001B[43m,\u001B[49m\u001B[43m \u001B[49m\u001B[43mamin\u001B[49m\u001B[38;5;241;43m=\u001B[39;49m\u001B[43mamin\u001B[49m\u001B[43m,\u001B[49m\u001B[43m \u001B[49m\u001B[43mxtol\u001B[49m\u001B[38;5;241;43m=\u001B[39;49m\u001B[43mxtol\u001B[49m\u001B[43m)\u001B[49m\n\u001B[0;32m    100\u001B[0m \u001B[38;5;28;01mreturn\u001B[39;00m stp, fc[\u001B[38;5;241m0\u001B[39m], gc[\u001B[38;5;241m0\u001B[39m], fval, old_fval, gval[\u001B[38;5;241m0\u001B[39m]\n",
      "File \u001B[1;32m~\\anaconda3\\lib\\site-packages\\scipy\\optimize\\linesearch.py:173\u001B[0m, in \u001B[0;36mscalar_search_wolfe1\u001B[1;34m(phi, derphi, phi0, old_phi0, derphi0, c1, c2, amax, amin, xtol)\u001B[0m\n\u001B[0;32m    171\u001B[0m     alpha1 \u001B[38;5;241m=\u001B[39m stp\n\u001B[0;32m    172\u001B[0m     phi1 \u001B[38;5;241m=\u001B[39m phi(stp)\n\u001B[1;32m--> 173\u001B[0m     derphi1 \u001B[38;5;241m=\u001B[39m \u001B[43mderphi\u001B[49m\u001B[43m(\u001B[49m\u001B[43mstp\u001B[49m\u001B[43m)\u001B[49m\n\u001B[0;32m    174\u001B[0m \u001B[38;5;28;01melse\u001B[39;00m:\n\u001B[0;32m    175\u001B[0m     \u001B[38;5;28;01mbreak\u001B[39;00m\n",
      "File \u001B[1;32m~\\anaconda3\\lib\\site-packages\\scipy\\optimize\\linesearch.py:87\u001B[0m, in \u001B[0;36mline_search_wolfe1.<locals>.derphi\u001B[1;34m(s)\u001B[0m\n\u001B[0;32m     86\u001B[0m \u001B[38;5;28;01mdef\u001B[39;00m \u001B[38;5;21mderphi\u001B[39m(s):\n\u001B[1;32m---> 87\u001B[0m     gval[\u001B[38;5;241m0\u001B[39m] \u001B[38;5;241m=\u001B[39m \u001B[43mfprime\u001B[49m\u001B[43m(\u001B[49m\u001B[43mxk\u001B[49m\u001B[43m \u001B[49m\u001B[38;5;241;43m+\u001B[39;49m\u001B[43m \u001B[49m\u001B[43ms\u001B[49m\u001B[38;5;241;43m*\u001B[39;49m\u001B[43mpk\u001B[49m\u001B[43m,\u001B[49m\u001B[43m \u001B[49m\u001B[38;5;241;43m*\u001B[39;49m\u001B[43mnewargs\u001B[49m\u001B[43m)\u001B[49m\n\u001B[0;32m     88\u001B[0m     \u001B[38;5;28;01mif\u001B[39;00m gradient:\n\u001B[0;32m     89\u001B[0m         gc[\u001B[38;5;241m0\u001B[39m] \u001B[38;5;241m+\u001B[39m\u001B[38;5;241m=\u001B[39m \u001B[38;5;241m1\u001B[39m\n",
      "File \u001B[1;32m~\\anaconda3\\lib\\site-packages\\scipy\\optimize\\_differentiable_functions.py:255\u001B[0m, in \u001B[0;36mScalarFunction.grad\u001B[1;34m(self, x)\u001B[0m\n\u001B[0;32m    253\u001B[0m \u001B[38;5;28;01mif\u001B[39;00m \u001B[38;5;129;01mnot\u001B[39;00m np\u001B[38;5;241m.\u001B[39marray_equal(x, \u001B[38;5;28mself\u001B[39m\u001B[38;5;241m.\u001B[39mx):\n\u001B[0;32m    254\u001B[0m     \u001B[38;5;28mself\u001B[39m\u001B[38;5;241m.\u001B[39m_update_x_impl(x)\n\u001B[1;32m--> 255\u001B[0m \u001B[38;5;28;43mself\u001B[39;49m\u001B[38;5;241;43m.\u001B[39;49m\u001B[43m_update_grad\u001B[49m\u001B[43m(\u001B[49m\u001B[43m)\u001B[49m\n\u001B[0;32m    256\u001B[0m \u001B[38;5;28;01mreturn\u001B[39;00m \u001B[38;5;28mself\u001B[39m\u001B[38;5;241m.\u001B[39mg\n",
      "File \u001B[1;32m~\\anaconda3\\lib\\site-packages\\scipy\\optimize\\_differentiable_functions.py:238\u001B[0m, in \u001B[0;36mScalarFunction._update_grad\u001B[1;34m(self)\u001B[0m\n\u001B[0;32m    236\u001B[0m \u001B[38;5;28;01mdef\u001B[39;00m \u001B[38;5;21m_update_grad\u001B[39m(\u001B[38;5;28mself\u001B[39m):\n\u001B[0;32m    237\u001B[0m     \u001B[38;5;28;01mif\u001B[39;00m \u001B[38;5;129;01mnot\u001B[39;00m \u001B[38;5;28mself\u001B[39m\u001B[38;5;241m.\u001B[39mg_updated:\n\u001B[1;32m--> 238\u001B[0m         \u001B[38;5;28;43mself\u001B[39;49m\u001B[38;5;241;43m.\u001B[39;49m\u001B[43m_update_grad_impl\u001B[49m\u001B[43m(\u001B[49m\u001B[43m)\u001B[49m\n\u001B[0;32m    239\u001B[0m         \u001B[38;5;28mself\u001B[39m\u001B[38;5;241m.\u001B[39mg_updated \u001B[38;5;241m=\u001B[39m \u001B[38;5;28;01mTrue\u001B[39;00m\n",
      "File \u001B[1;32m~\\anaconda3\\lib\\site-packages\\scipy\\optimize\\_differentiable_functions.py:155\u001B[0m, in \u001B[0;36mScalarFunction.__init__.<locals>.update_grad\u001B[1;34m()\u001B[0m\n\u001B[0;32m    153\u001B[0m \u001B[38;5;28mself\u001B[39m\u001B[38;5;241m.\u001B[39m_update_fun()\n\u001B[0;32m    154\u001B[0m \u001B[38;5;28mself\u001B[39m\u001B[38;5;241m.\u001B[39mngev \u001B[38;5;241m+\u001B[39m\u001B[38;5;241m=\u001B[39m \u001B[38;5;241m1\u001B[39m\n\u001B[1;32m--> 155\u001B[0m \u001B[38;5;28mself\u001B[39m\u001B[38;5;241m.\u001B[39mg \u001B[38;5;241m=\u001B[39m approx_derivative(fun_wrapped, \u001B[38;5;28mself\u001B[39m\u001B[38;5;241m.\u001B[39mx, f0\u001B[38;5;241m=\u001B[39m\u001B[38;5;28mself\u001B[39m\u001B[38;5;241m.\u001B[39mf,\n\u001B[0;32m    156\u001B[0m                            \u001B[38;5;241m*\u001B[39m\u001B[38;5;241m*\u001B[39mfinite_diff_options)\n",
      "File \u001B[1;32m~\\anaconda3\\lib\\site-packages\\scipy\\optimize\\_numdiff.py:486\u001B[0m, in \u001B[0;36mapprox_derivative\u001B[1;34m(fun, x0, method, rel_step, abs_step, f0, bounds, sparsity, as_linear_operator, args, kwargs)\u001B[0m\n\u001B[0;32m    483\u001B[0m     use_one_sided \u001B[38;5;241m=\u001B[39m \u001B[38;5;28;01mFalse\u001B[39;00m\n\u001B[0;32m    485\u001B[0m \u001B[38;5;28;01mif\u001B[39;00m sparsity \u001B[38;5;129;01mis\u001B[39;00m \u001B[38;5;28;01mNone\u001B[39;00m:\n\u001B[1;32m--> 486\u001B[0m     \u001B[38;5;28;01mreturn\u001B[39;00m \u001B[43m_dense_difference\u001B[49m\u001B[43m(\u001B[49m\u001B[43mfun_wrapped\u001B[49m\u001B[43m,\u001B[49m\u001B[43m \u001B[49m\u001B[43mx0\u001B[49m\u001B[43m,\u001B[49m\u001B[43m \u001B[49m\u001B[43mf0\u001B[49m\u001B[43m,\u001B[49m\u001B[43m \u001B[49m\u001B[43mh\u001B[49m\u001B[43m,\u001B[49m\n\u001B[0;32m    487\u001B[0m \u001B[43m                             \u001B[49m\u001B[43muse_one_sided\u001B[49m\u001B[43m,\u001B[49m\u001B[43m \u001B[49m\u001B[43mmethod\u001B[49m\u001B[43m)\u001B[49m\n\u001B[0;32m    488\u001B[0m \u001B[38;5;28;01melse\u001B[39;00m:\n\u001B[0;32m    489\u001B[0m     \u001B[38;5;28;01mif\u001B[39;00m \u001B[38;5;129;01mnot\u001B[39;00m issparse(sparsity) \u001B[38;5;129;01mand\u001B[39;00m \u001B[38;5;28mlen\u001B[39m(sparsity) \u001B[38;5;241m==\u001B[39m \u001B[38;5;241m2\u001B[39m:\n",
      "File \u001B[1;32m~\\anaconda3\\lib\\site-packages\\scipy\\optimize\\_numdiff.py:570\u001B[0m, in \u001B[0;36m_dense_difference\u001B[1;34m(fun, x0, f0, h, use_one_sided, method)\u001B[0m\n\u001B[0;32m    568\u001B[0m     dx \u001B[38;5;241m=\u001B[39m x2[i] \u001B[38;5;241m-\u001B[39m x1[i]\n\u001B[0;32m    569\u001B[0m     f1 \u001B[38;5;241m=\u001B[39m fun(x1)\n\u001B[1;32m--> 570\u001B[0m     f2 \u001B[38;5;241m=\u001B[39m \u001B[43mfun\u001B[49m\u001B[43m(\u001B[49m\u001B[43mx2\u001B[49m\u001B[43m)\u001B[49m\n\u001B[0;32m    571\u001B[0m     df \u001B[38;5;241m=\u001B[39m f2 \u001B[38;5;241m-\u001B[39m f1\n\u001B[0;32m    572\u001B[0m \u001B[38;5;28;01melif\u001B[39;00m method \u001B[38;5;241m==\u001B[39m \u001B[38;5;124m'\u001B[39m\u001B[38;5;124mcs\u001B[39m\u001B[38;5;124m'\u001B[39m:\n",
      "File \u001B[1;32m~\\anaconda3\\lib\\site-packages\\scipy\\optimize\\_numdiff.py:437\u001B[0m, in \u001B[0;36mapprox_derivative.<locals>.fun_wrapped\u001B[1;34m(x)\u001B[0m\n\u001B[0;32m    436\u001B[0m \u001B[38;5;28;01mdef\u001B[39;00m \u001B[38;5;21mfun_wrapped\u001B[39m(x):\n\u001B[1;32m--> 437\u001B[0m     f \u001B[38;5;241m=\u001B[39m np\u001B[38;5;241m.\u001B[39matleast_1d(fun(x, \u001B[38;5;241m*\u001B[39margs, \u001B[38;5;241m*\u001B[39m\u001B[38;5;241m*\u001B[39mkwargs))\n\u001B[0;32m    438\u001B[0m     \u001B[38;5;28;01mif\u001B[39;00m f\u001B[38;5;241m.\u001B[39mndim \u001B[38;5;241m>\u001B[39m \u001B[38;5;241m1\u001B[39m:\n\u001B[0;32m    439\u001B[0m         \u001B[38;5;28;01mraise\u001B[39;00m \u001B[38;5;167;01mRuntimeError\u001B[39;00m(\u001B[38;5;124m\"\u001B[39m\u001B[38;5;124m`fun` return value has \u001B[39m\u001B[38;5;124m\"\u001B[39m\n\u001B[0;32m    440\u001B[0m                            \u001B[38;5;124m\"\u001B[39m\u001B[38;5;124mmore than 1 dimension.\u001B[39m\u001B[38;5;124m\"\u001B[39m)\n",
      "File \u001B[1;32m~\\anaconda3\\lib\\site-packages\\scipy\\optimize\\_differentiable_functions.py:134\u001B[0m, in \u001B[0;36mScalarFunction.__init__.<locals>.fun_wrapped\u001B[1;34m(x)\u001B[0m\n\u001B[0;32m    130\u001B[0m \u001B[38;5;28mself\u001B[39m\u001B[38;5;241m.\u001B[39mnfev \u001B[38;5;241m+\u001B[39m\u001B[38;5;241m=\u001B[39m \u001B[38;5;241m1\u001B[39m\n\u001B[0;32m    131\u001B[0m \u001B[38;5;66;03m# Send a copy because the user may overwrite it.\u001B[39;00m\n\u001B[0;32m    132\u001B[0m \u001B[38;5;66;03m# Overwriting results in undefined behaviour because\u001B[39;00m\n\u001B[0;32m    133\u001B[0m \u001B[38;5;66;03m# fun(self.x) will change self.x, with the two no longer linked.\u001B[39;00m\n\u001B[1;32m--> 134\u001B[0m \u001B[38;5;28;01mreturn\u001B[39;00m \u001B[43mfun\u001B[49m\u001B[43m(\u001B[49m\u001B[43mnp\u001B[49m\u001B[38;5;241;43m.\u001B[39;49m\u001B[43mcopy\u001B[49m\u001B[43m(\u001B[49m\u001B[43mx\u001B[49m\u001B[43m)\u001B[49m\u001B[43m,\u001B[49m\u001B[43m \u001B[49m\u001B[38;5;241;43m*\u001B[39;49m\u001B[43margs\u001B[49m\u001B[43m)\u001B[49m\n",
      "File \u001B[1;32m~\\thzProject\\thztools\\thztoolsPY\\tdnoisefit.py:168\u001B[0m, in \u001B[0;36mtdnoisefit.<locals>.objective\u001B[1;34m(p)\u001B[0m\n\u001B[0;32m    167\u001B[0m \u001B[38;5;28;01mdef\u001B[39;00m \u001B[38;5;21mobjective\u001B[39m(p):\n\u001B[1;32m--> 168\u001B[0m     \u001B[38;5;28;01mreturn\u001B[39;00m \u001B[43mtdnll\u001B[49m\u001B[43m(\u001B[49m\u001B[43mx\u001B[49m\u001B[43m,\u001B[49m\u001B[43m \u001B[49m\u001B[43mparsein\u001B[49m\u001B[43m(\u001B[49m\u001B[43mp\u001B[49m\u001B[43m)\u001B[49m\u001B[43m,\u001B[49m\u001B[43m \u001B[49m\u001B[43mfix\u001B[49m\u001B[43m)\u001B[49m[\u001B[38;5;241m0\u001B[39m]\n",
      "File \u001B[1;32m~\\thzProject\\thztools\\thztoolsPY\\tdnll.py:171\u001B[0m, in \u001B[0;36mtdnll\u001B[1;34m(x, param, Fix)\u001B[0m\n\u001B[0;32m    168\u001B[0m \u001B[38;5;28;01mif\u001B[39;00m gradcalc[\u001B[38;5;241m1\u001B[39m]:\n\u001B[0;32m    169\u001B[0m     \u001B[38;5;66;03m# Gradient wrt mu\u001B[39;00m\n\u001B[0;32m    170\u001B[0m     P \u001B[38;5;241m=\u001B[39m np\u001B[38;5;241m.\u001B[39mfft\u001B[38;5;241m.\u001B[39mfft(v[\u001B[38;5;241m1\u001B[39m] \u001B[38;5;241m*\u001B[39m dvar \u001B[38;5;241m*\u001B[39m zeta \u001B[38;5;241m-\u001B[39m reswt, axis\u001B[38;5;241m=\u001B[39m\u001B[38;5;241m0\u001B[39m) \u001B[38;5;241m-\u001B[39m \u001B[38;5;241m1\u001B[39mj \u001B[38;5;241m*\u001B[39m v[\u001B[38;5;241m2\u001B[39m] \u001B[38;5;241m*\u001B[39m w \u001B[38;5;241m*\u001B[39m np\u001B[38;5;241m.\u001B[39mfft\u001B[38;5;241m.\u001B[39mfft(dvar \u001B[38;5;241m*\u001B[39m Dzeta, axis\u001B[38;5;241m=\u001B[39m\u001B[38;5;241m0\u001B[39m)\n\u001B[1;32m--> 171\u001B[0m     gradnll[nStart:nStart \u001B[38;5;241m+\u001B[39m N] \u001B[38;5;241m=\u001B[39m np\u001B[38;5;241m.\u001B[39msum(np\u001B[38;5;241m.\u001B[39mconj(a)\u001B[38;5;241m.\u001B[39mT \u001B[38;5;241m*\u001B[39m np\u001B[38;5;241m.\u001B[39mreal(\u001B[43mnp\u001B[49m\u001B[38;5;241;43m.\u001B[39;49m\u001B[43mfft\u001B[49m\u001B[38;5;241;43m.\u001B[39;49m\u001B[43mifft\u001B[49m\u001B[43m(\u001B[49m\u001B[43mexp_iweta\u001B[49m\u001B[43m \u001B[49m\u001B[38;5;241;43m*\u001B[39;49m\u001B[43m \u001B[49m\u001B[43mP\u001B[49m\u001B[43m,\u001B[49m\u001B[43m \u001B[49m\u001B[43maxis\u001B[49m\u001B[38;5;241;43m=\u001B[39;49m\u001B[38;5;241;43m0\u001B[39;49m\u001B[43m)\u001B[49m), axis\u001B[38;5;241m=\u001B[39m\u001B[38;5;241m1\u001B[39m)\u001B[38;5;241m.\u001B[39mreshape(N, \u001B[38;5;241m1\u001B[39m)\n\u001B[0;32m    172\u001B[0m     nStart \u001B[38;5;241m=\u001B[39m nStart \u001B[38;5;241m+\u001B[39m N\n\u001B[0;32m    173\u001B[0m \u001B[38;5;28;01mif\u001B[39;00m gradcalc[\u001B[38;5;241m2\u001B[39m]:\n\u001B[0;32m    174\u001B[0m     \u001B[38;5;66;03m# Gradient wrt A\u001B[39;00m\n",
      "File \u001B[1;32m<__array_function__ internals>:5\u001B[0m, in \u001B[0;36mifft\u001B[1;34m(*args, **kwargs)\u001B[0m\n",
      "File \u001B[1;32m~\\anaconda3\\lib\\site-packages\\numpy\\fft\\_pocketfft.py:316\u001B[0m, in \u001B[0;36mifft\u001B[1;34m(a, n, axis, norm)\u001B[0m\n\u001B[0;32m    314\u001B[0m     n \u001B[38;5;241m=\u001B[39m a\u001B[38;5;241m.\u001B[39mshape[axis]\n\u001B[0;32m    315\u001B[0m inv_norm \u001B[38;5;241m=\u001B[39m _get_backward_norm(n, norm)\n\u001B[1;32m--> 316\u001B[0m output \u001B[38;5;241m=\u001B[39m \u001B[43m_raw_fft\u001B[49m\u001B[43m(\u001B[49m\u001B[43ma\u001B[49m\u001B[43m,\u001B[49m\u001B[43m \u001B[49m\u001B[43mn\u001B[49m\u001B[43m,\u001B[49m\u001B[43m \u001B[49m\u001B[43maxis\u001B[49m\u001B[43m,\u001B[49m\u001B[43m \u001B[49m\u001B[38;5;28;43;01mFalse\u001B[39;49;00m\u001B[43m,\u001B[49m\u001B[43m \u001B[49m\u001B[38;5;28;43;01mFalse\u001B[39;49;00m\u001B[43m,\u001B[49m\u001B[43m \u001B[49m\u001B[43minv_norm\u001B[49m\u001B[43m)\u001B[49m\n\u001B[0;32m    317\u001B[0m \u001B[38;5;28;01mreturn\u001B[39;00m output\n",
      "File \u001B[1;32m~\\anaconda3\\lib\\site-packages\\numpy\\fft\\_pocketfft.py:73\u001B[0m, in \u001B[0;36m_raw_fft\u001B[1;34m(a, n, axis, is_real, is_forward, inv_norm)\u001B[0m\n\u001B[0;32m     71\u001B[0m \u001B[38;5;28;01melse\u001B[39;00m:\n\u001B[0;32m     72\u001B[0m     a \u001B[38;5;241m=\u001B[39m swapaxes(a, axis, \u001B[38;5;241m-\u001B[39m\u001B[38;5;241m1\u001B[39m)\n\u001B[1;32m---> 73\u001B[0m     r \u001B[38;5;241m=\u001B[39m \u001B[43mpfi\u001B[49m\u001B[38;5;241;43m.\u001B[39;49m\u001B[43mexecute\u001B[49m\u001B[43m(\u001B[49m\u001B[43ma\u001B[49m\u001B[43m,\u001B[49m\u001B[43m \u001B[49m\u001B[43mis_real\u001B[49m\u001B[43m,\u001B[49m\u001B[43m \u001B[49m\u001B[43mis_forward\u001B[49m\u001B[43m,\u001B[49m\u001B[43m \u001B[49m\u001B[43mfct\u001B[49m\u001B[43m)\u001B[49m\n\u001B[0;32m     74\u001B[0m     r \u001B[38;5;241m=\u001B[39m swapaxes(r, axis, \u001B[38;5;241m-\u001B[39m\u001B[38;5;241m1\u001B[39m)\n\u001B[0;32m     75\u001B[0m \u001B[38;5;28;01mreturn\u001B[39;00m r\n",
      "\u001B[1;31mKeyboardInterrupt\u001B[0m: "
     ]
    }
   ],
   "source": [
    "from thztools.thztoolsPY.noisefitshow import noisefitshow\n",
    "\n",
    "noisefitshow(t, x)"
   ],
   "metadata": {
    "collapsed": false,
    "pycharm": {
     "name": "#%%\n"
    }
   }
  },
  {
   "cell_type": "code",
   "execution_count": null,
   "outputs": [],
   "source": [],
   "metadata": {
    "collapsed": false,
    "pycharm": {
     "name": "#%%\n"
    }
   }
  }
 ],
 "metadata": {
  "kernelspec": {
   "display_name": "Python 3",
   "language": "python",
   "name": "python3"
  },
  "language_info": {
   "codemirror_mode": {
    "name": "ipython",
    "version": 2
   },
   "file_extension": ".py",
   "mimetype": "text/x-python",
   "name": "python",
   "nbconvert_exporter": "python",
   "pygments_lexer": "ipython2",
   "version": "2.7.6"
  }
 },
 "nbformat": 4,
 "nbformat_minor": 0
}