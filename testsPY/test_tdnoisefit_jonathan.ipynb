{
 "cells": [
  {
   "cell_type": "code",
   "execution_count": 1,
   "outputs": [],
   "source": [
    "import h5py\n",
    "import numpy as np"
   ],
   "metadata": {
    "collapsed": false,
    "pycharm": {
     "name": "#%%\n"
    }
   }
  },
  {
   "cell_type": "code",
   "execution_count": 2,
   "outputs": [],
   "source": [
    "file = h5py.File('tdnoisefit_test_data.mat')\n",
    "\n",
    "x = np.transpose(np.array(file['tdnoisefit_data']['X']))\n",
    "t = file['tdnoisefit_data']['t'][0]"
   ],
   "metadata": {
    "collapsed": false,
    "pycharm": {
     "name": "#%%\n"
    }
   }
  },
  {
   "cell_type": "code",
   "execution_count": 3,
   "outputs": [
    {
     "name": "stdout",
     "output_type": "stream",
     "text": [
      "===================================================\n",
      "===================================================\n",
      "Fit for Delay\n",
      "Optimization terminated successfully.\n",
      "         Current function value: 95733.140094\n",
      "         Iterations: 78\n",
      "         Function evaluations: 295\n",
      "         Gradient evaluations: 295\n",
      "Elapsed time is 10.12995982170105\n",
      "Fit for Amplitude\n",
      "Warning: NaN result encountered.\n",
      "         Current function value: 7179010.200434\n",
      "         Iterations: 0\n",
      "         Function evaluations: 1\n",
      "         Gradient evaluations: 1\n",
      "Elapsed time is 10.151099443435669\n",
      "Adjust x\n"
     ]
    },
    {
     "name": "stderr",
     "output_type": "stream",
     "text": [
      "C:\\Users\\jonap\\thzProject\\thztools\\thztoolsPY\\tdnll.py:176: RuntimeWarning: invalid value encountered in true_divide\n",
      "  gradnll[nStart:nStart + M] = np.conj(np.sum(term, axis=0)).reshape(M, 1) / a\n",
      "C:\\Users\\jonap\\thzProject\\thztools\\thztoolsPY\\airscancorrect.py:59: RuntimeWarning: divide by zero encountered in true_divide\n",
      "  Xadj[:, m] = S @ (x[:, m] / A[m])\n",
      "C:\\Users\\jonap\\thzProject\\thztools\\thztoolsPY\\airscancorrect.py:59: RuntimeWarning: invalid value encountered in matmul\n",
      "  Xadj[:, m] = S @ (x[:, m] / A[m])\n",
      "C:\\Users\\jonap\\thzProject\\thztools\\thztoolsPY\\airscancorrect.py:59: RuntimeWarning: invalid value encountered in true_divide\n",
      "  Xadj[:, m] = S @ (x[:, m] / A[m])\n"
     ]
    },
    {
     "name": "stdout",
     "output_type": "stream",
     "text": [
      "Fit for variance\n",
      "Warning: NaN result encountered.\n",
      "         Current function value: nan\n",
      "         Iterations: 0\n",
      "         Function evaluations: 1\n",
      "         Gradient evaluations: 1\n",
      "Elapsed time is 10.4119393825531\n",
      "Fit for all parameters\n",
      "Warning: NaN result encountered.\n",
      "         Current function value: nan\n",
      "         Iterations: 0\n",
      "         Function evaluations: 2\n",
      "         Gradient evaluations: 2\n",
      "Elapsed time is 10.56141448020935\n"
     ]
    },
    {
     "data": {
      "text/plain": "{'delay': ({'var': array([7.28757976e+00, 1.61816777e-15, 1.61816777e-15]),\n   'mu': array([-0.27788, -0.23008, -0.19   , ..., -0.49096, -0.4767 , -0.46746]),\n   'a': array([0., 0., 0., 0., 0., 0., 0., 0., 0., 0., 0., 0., 0., 0., 0., 0., 0.,\n          0., 0., 0., 0., 0., 0., 0., 0., 0., 0., 0., 0., 0., 0., 0., 0., 0.,\n          0., 0., 0., 0., 0., 0., 0., 0., 0., 0., 0., 0., 0., 0., 0., 0.]),\n   'eta': array([-0.00579945, -0.00688437, -0.00748617, -0.00841736, -0.0090703 ,\n          -0.00922325, -0.0094963 , -0.00959227, -0.00893565, -0.00857797,\n          -0.0083272 , -0.00577771, -0.00802493, -0.00762923, -0.00715434,\n          -0.00666808, -0.00612603, -0.00563426, -0.00534868, -0.00435939,\n          -0.00284908, -0.00123768, -0.00579617,  0.00023451,  0.00124925,\n           0.00249854,  0.00359697,  0.00474741,  0.00563971,  0.0063868 ,\n           0.00716199,  0.0076896 ,  0.00816835, -0.00538172,  0.00888072,\n           0.00974955,  0.010496  ,  0.01141713,  0.01223157,  0.01305703,\n           0.01389246,  0.01458923,  0.01532697,  0.01632127, -0.00492889,\n           0.01732658, -0.00493684, -0.00498509, -0.00550971, -0.00618557]),\n   'ts': 0.05},\n  95733.140093623),\n 'amp': ({'var': array([7.28757976e+00, 1.61816777e-15, 1.61816777e-15]),\n   'mu': array([-0.27788, -0.23008, -0.19   , ..., -0.49096, -0.4767 , -0.46746]),\n   'a': array([0., 0., 0., 0., 0., 0., 0., 0., 0., 0., 0., 0., 0., 0., 0., 0., 0.,\n          0., 0., 0., 0., 0., 0., 0., 0., 0., 0., 0., 0., 0., 0., 0., 0., 0.,\n          0., 0., 0., 0., 0., 0., 0., 0., 0., 0., 0., 0., 0., 0., 0., 0.]),\n   'eta': array([-0.00579945, -0.00688437, -0.00748617, -0.00841736, -0.0090703 ,\n          -0.00922325, -0.0094963 , -0.00959227, -0.00893565, -0.00857797,\n          -0.0083272 , -0.00577771, -0.00802493, -0.00762923, -0.00715434,\n          -0.00666808, -0.00612603, -0.00563426, -0.00534868, -0.00435939,\n          -0.00284908, -0.00123768, -0.00579617,  0.00023451,  0.00124925,\n           0.00249854,  0.00359697,  0.00474741,  0.00563971,  0.0063868 ,\n           0.00716199,  0.0076896 ,  0.00816835, -0.00538172,  0.00888072,\n           0.00974955,  0.010496  ,  0.01141713,  0.01223157,  0.01305703,\n           0.01389246,  0.01458923,  0.01532697,  0.01632127, -0.00492889,\n           0.01732658, -0.00493684, -0.00498509, -0.00550971, -0.00618557]),\n   'ts': 0.05},\n  7179010.200434493),\n 'var': ({'var': array([7.28757976e+00, 1.61816777e-15, 1.61816777e-15]),\n   'mu': array([nan, nan, nan, ..., nan, nan, nan]),\n   'a': array([0., 0., 0., 0., 0., 0., 0., 0., 0., 0., 0., 0., 0., 0., 0., 0., 0.,\n          0., 0., 0., 0., 0., 0., 0., 0., 0., 0., 0., 0., 0., 0., 0., 0., 0.,\n          0., 0., 0., 0., 0., 0., 0., 0., 0., 0., 0., 0., 0., 0., 0., 0.]),\n   'eta': array([0., 0., 0., 0., 0., 0., 0., 0., 0., 0., 0., 0., 0., 0., 0., 0., 0.,\n          0., 0., 0., 0., 0., 0., 0., 0., 0., 0., 0., 0., 0., 0., 0., 0., 0.,\n          0., 0., 0., 0., 0., 0., 0., 0., 0., 0., 0., 0., 0., 0., 0., 0.]),\n   'ts': 0.05},\n  nan),\n 'all': ({'var': array([7.28757976e+00, 1.61816777e-15, 1.61816777e-15]),\n   'mu': array([nan, nan, nan, ..., nan, nan, nan]),\n   'a': array([0., 0., 0., 0., 0., 0., 0., 0., 0., 0., 0., 0., 0., 0., 0., 0., 0.,\n          0., 0., 0., 0., 0., 0., 0., 0., 0., 0., 0., 0., 0., 0., 0., 0., 0.,\n          0., 0., 0., 0., 0., 0., 0., 0., 0., 0., 0., 0., 0., 0., 0., 0.]),\n   'eta': array([0., 0., 0., 0., 0., 0., 0., 0., 0., 0., 0., 0., 0., 0., 0., 0., 0.,\n          0., 0., 0., 0., 0., 0., 0., 0., 0., 0., 0., 0., 0., 0., 0., 0., 0.,\n          0., 0., 0., 0., 0., 0., 0., 0., 0., 0., 0., 0., 0., 0., 0., 0.]),\n   'ts': 0.05},\n  nan)}"
     },
     "execution_count": 3,
     "metadata": {},
     "output_type": "execute_result"
    }
   ],
   "source": [
    "from thztools.thztoolsPY.noisefitshow import noisefitshow\n",
    "\n",
    "noisefitshow(t, x)"
   ],
   "metadata": {
    "collapsed": false,
    "pycharm": {
     "name": "#%%\n"
    }
   }
  },
  {
   "cell_type": "code",
   "execution_count": null,
   "outputs": [],
   "source": [],
   "metadata": {
    "collapsed": false,
    "pycharm": {
     "name": "#%%\n"
    }
   }
  }
 ],
 "metadata": {
  "kernelspec": {
   "display_name": "Python 3",
   "language": "python",
   "name": "python3"
  },
  "language_info": {
   "codemirror_mode": {
    "name": "ipython",
    "version": 2
   },
   "file_extension": ".py",
   "mimetype": "text/x-python",
   "name": "python",
   "nbconvert_exporter": "python",
   "pygments_lexer": "ipython2",
   "version": "2.7.6"
  }
 },
 "nbformat": 4,
 "nbformat_minor": 0
}