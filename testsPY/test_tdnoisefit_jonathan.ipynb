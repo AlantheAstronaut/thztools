{
 "cells": [
  {
   "cell_type": "code",
   "execution_count": 2,
   "outputs": [],
   "source": [
    "import h5py\n",
    "import numpy as np"
   ],
   "metadata": {
    "collapsed": false,
    "pycharm": {
     "name": "#%%\n"
    }
   }
  },
  {
   "cell_type": "code",
   "execution_count": 3,
   "outputs": [],
   "source": [
    "file = h5py.File('tdnoisefit_test_data.mat')\n",
    "\n",
    "x = np.transpose(np.array(file['tdnoisefit_data']['X']))\n",
    "t = file['tdnoisefit_data']['t'][0]"
   ],
   "metadata": {
    "collapsed": false,
    "pycharm": {
     "name": "#%%\n"
    }
   }
  },
  {
   "cell_type": "code",
   "execution_count": null,
   "outputs": [
    {
     "name": "stdout",
     "output_type": "stream",
     "text": [
      "===================================================\n",
      "===================================================\n",
      "Fit for Delay\n",
      "Optimization terminated successfully.\n",
      "         Current function value: 95733.140094\n",
      "         Iterations: 6\n",
      "         Function evaluations: 1313\n",
      "         Gradient evaluations: 13\n",
      "Elapsed time is 34.77984571456909\n",
      "Fit for Amplitude\n"
     ]
    },
    {
     "name": "stderr",
     "output_type": "stream",
     "text": [
      "C:\\Users\\jonap\\thzProject\\thztools\\thztoolsPY\\tdnll.py:176: RuntimeWarning: invalid value encountered in true_divide\n",
      "  gradnll[nStart:nStart + M] = np.conj(np.sum(term, axis=0)).reshape(M, 1) / a\n"
     ]
    },
    {
     "name": "stdout",
     "output_type": "stream",
     "text": [
      "Optimization terminated successfully.\n",
      "         Current function value: 120699.126764\n",
      "         Iterations: 3\n",
      "         Function evaluations: 707\n",
      "         Gradient evaluations: 7\n",
      "Elapsed time is 39.81986331939697\n",
      "Adjust x\n",
      "Fit for variance\n"
     ]
    },
    {
     "name": "stderr",
     "output_type": "stream",
     "text": [
      "C:\\Users\\jonap\\thzProject\\thztools\\thztoolsPY\\tdnll.py:50: RuntimeWarning: overflow encountered in exp\n",
      "  v = np.exp(param['logv'])\n",
      "C:\\Users\\jonap\\thzProject\\thztools\\thztoolsPY\\tdnll.py:161: RuntimeWarning: invalid value encountered in true_divide\n",
      "  dvar = (vtot - ressq) / vtot**2\n",
      "C:\\Users\\jonap\\anaconda3\\lib\\site-packages\\scipy\\optimize\\_numdiff.py:571: RuntimeWarning: invalid value encountered in subtract\n",
      "  df = f2 - f1\n",
      "C:\\Users\\jonap\\thzProject\\thztools\\thztoolsPY\\tdnll.py:50: RuntimeWarning: overflow encountered in exp\n",
      "  v = np.exp(param['logv'])\n",
      "C:\\Users\\jonap\\thzProject\\thztools\\thztoolsPY\\tdnll.py:161: RuntimeWarning: invalid value encountered in true_divide\n",
      "  dvar = (vtot - ressq) / vtot**2\n"
     ]
    },
    {
     "name": "stdout",
     "output_type": "stream",
     "text": [
      "Warning: Desired error not necessarily achieved due to precision loss.\n",
      "         Current function value: -78110.076965\n",
      "         Iterations: 9\n",
      "         Function evaluations: 320\n",
      "         Gradient evaluations: 44\n",
      "Elapsed time is 44.35234451293945\n",
      "Fit for all parameters\n"
     ]
    },
    {
     "name": "stderr",
     "output_type": "stream",
     "text": [
      "C:\\Users\\jonap\\thzProject\\thztools\\thztoolsPY\\tdnll.py:176: RuntimeWarning: invalid value encountered in true_divide\n",
      "  gradnll[nStart:nStart + M] = np.conj(np.sum(term, axis=0)).reshape(M, 1) / a\n"
     ]
    }
   ],
   "source": [
    "from thztools.thztoolsPY.noisefitshow import noisefitshow\n",
    "\n",
    "noisefitshow(t, x)"
   ],
   "metadata": {
    "collapsed": false,
    "pycharm": {
     "name": "#%%\n",
     "is_executing": true
    }
   }
  },
  {
   "cell_type": "code",
   "execution_count": null,
   "outputs": [],
   "source": [],
   "metadata": {
    "collapsed": false,
    "pycharm": {
     "name": "#%%\n"
    }
   }
  }
 ],
 "metadata": {
  "kernelspec": {
   "display_name": "Python 3",
   "language": "python",
   "name": "python3"
  },
  "language_info": {
   "codemirror_mode": {
    "name": "ipython",
    "version": 2
   },
   "file_extension": ".py",
   "mimetype": "text/x-python",
   "name": "python",
   "nbconvert_exporter": "python",
   "pygments_lexer": "ipython2",
   "version": "2.7.6"
  }
 },
 "nbformat": 4,
 "nbformat_minor": 0
}