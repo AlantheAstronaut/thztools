{
 "cells": [
  {
   "cell_type": "markdown",
   "id": "24c23400fad3c24d",
   "metadata": {},
   "source": [
    "# Estimate noise model parameters"
   ]
  },
  {
   "cell_type": "code",
   "execution_count": null,
   "id": "initial_id",
   "metadata": {},
   "outputs": [],
   "source": [
    "from matplotlib import pyplot as plt\n",
    "import numpy as np\n",
    "\n",
    "import thztools as thz"
   ]
  },
  {
   "cell_type": "code",
   "execution_count": null,
   "id": "9c483f358851818c",
   "metadata": {},
   "outputs": [],
   "source": [
    "rng = np.random.default_rng(0)\n",
    "n, m, dt = 256, 50, 0.05\n",
    "t = thz.timebase(n, dt=dt)\n",
    "mu = thz.wave(n, dt=dt)\n",
    "alpha, beta, tau = 1e-4, 1e-2, 1e-3\n",
    "noise_model = thz.NoiseModel(sigma_alpha=alpha, sigma_beta=beta, sigma_tau=tau, dt=dt)\n",
    "a = 1.0 + 1e-2 * np.concatenate(([0.0], rng.standard_normal(m - 1)))\n",
    "eta = 1e-3 * np.concatenate(([0.0], rng.standard_normal(m - 1)))\n",
    "# Orient the array columnwise\n",
    "z = thz.scaleshift(np.repeat(np.atleast_2d(mu), m, axis=0), dt=dt, a=a, eta=eta).T\n",
    "x = z + noise_model.noise_sim(z, axis=0, seed=12345)\n",
    "noise_res = thz.noisefit(x, sigma_alpha0=alpha, sigma_beta0=beta, sigma_tau0=tau, dt=dt)\n",
    "noise_res.noise_model"
   ]
  }
 ],
 "metadata": {
  "kernelspec": {
   "display_name": "Python 3",
   "language": "python",
   "name": "python3"
  },
  "language_info": {
   "codemirror_mode": {
    "name": "ipython",
    "version": 2
   },
   "file_extension": ".py",
   "mimetype": "text/x-python",
   "name": "python",
   "nbconvert_exporter": "python",
   "pygments_lexer": "ipython2",
   "version": "2.7.6"
  }
 },
 "nbformat": 4,
 "nbformat_minor": 5
}
