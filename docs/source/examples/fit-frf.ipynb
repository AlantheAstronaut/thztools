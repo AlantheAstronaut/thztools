{
 "cells": [
  {
   "cell_type": "markdown",
   "id": "1c0ca885c60d2d8",
   "metadata": {},
   "source": [
    "# Fit data with a frequency response function"
   ]
  },
  {
   "cell_type": "code",
   "execution_count": null,
   "id": "initial_id",
   "metadata": {},
   "outputs": [],
   "source": [
    "import matplotlib.pyplot as plt\n",
    "import numpy as np\n",
    "\n",
    "import thztools as thz"
   ]
  },
  {
   "cell_type": "code",
   "execution_count": null,
   "id": "7d19a67bd5ab2a1e",
   "metadata": {},
   "outputs": [],
   "source": [
    "n, dt = 256, 0.05\n",
    "t = thz.timebase(n, dt=dt)\n",
    "mu = thz.wave(n, dt=dt)\n",
    "alpha, beta, tau = 1e-4, 1e-2, 1e-3\n",
    "noise_model = thz.NoiseModel(sigma_alpha=alpha, sigma_beta=beta, sigma_tau=tau, dt=dt)"
   ]
  },
  {
   "cell_type": "code",
   "execution_count": null,
   "id": "9edcfefcdbac9713",
   "metadata": {},
   "outputs": [],
   "source": [
    "def frfun(omega, a, eta):\n",
    "    return a * np.exp(1j * omega * eta)\n",
    "\n",
    "p0 = (0.5, 1.0)\n",
    "psi = thz.apply_frf(frfun, mu, dt=dt, args=p0)\n",
    "x = mu + noise_model.noise_sim(mu, seed=0)\n",
    "y = psi + noise_model.noise_sim(psi)\n",
    "result = thz.fit(frfun, x, y, p0, noise_parms=(alpha, beta, tau), dt=dt)\n",
    "result.p_opt"
   ]
  },
  {
   "cell_type": "code",
   "execution_count": null,
   "id": "7bd815b6ea4a58e1",
   "metadata": {},
   "outputs": [],
   "source": [
    "_, ax = plt.subplots()\n",
    "ax.plot(t, result.r_tls, '.')\n",
    "ax.set_xlabel(\"t (ps)\")\n",
    "ax.set_ylabel(r\"$r_\\mathrm{TLS}$\")\n",
    "plt.show()"
   ]
  }
 ],
 "metadata": {
  "kernelspec": {
   "display_name": "Python 3",
   "language": "python",
   "name": "python3"
  },
  "language_info": {
   "codemirror_mode": {
    "name": "ipython",
    "version": 2
   },
   "file_extension": ".py",
   "mimetype": "text/x-python",
   "name": "python",
   "nbconvert_exporter": "python",
   "pygments_lexer": "ipython2",
   "version": "2.7.6"
  }
 },
 "nbformat": 4,
 "nbformat_minor": 5
}
