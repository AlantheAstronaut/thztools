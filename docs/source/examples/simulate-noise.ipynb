{
 "cells": [
  {
   "cell_type": "markdown",
   "metadata": {
    "collapsed": false
   },
   "source": [
    "# Simulate noise\n",
    "\n",
    "Objects from `thztools`: `thzgen`, `NoiseModel`, `NoiseModel.noise_sim`, `NoiseModel.noise_amp`"
   ]
  },
  {
   "cell_type": "code",
   "execution_count": null,
   "metadata": {},
   "outputs": [],
   "source": [
    "from matplotlib import pyplot as plt\n",
    "import numpy as np\n",
    "\n",
    "import thztools as thz"
   ]
  },
  {
   "cell_type": "markdown",
   "metadata": {
    "collapsed": false
   },
   "source": [
    "The first cell below sets the parameters for the simulation, and the subsequent cell uses the function `thzgen` to generate a terahertz time-domain waveform `mu` with `n = 256` samples."
   ]
  },
  {
   "cell_type": "code",
   "execution_count": null,
   "metadata": {},
   "outputs": [],
   "source": [
    "n = 256  # Number of samples\n",
    "dt = 0.05  # Sampling time [ps]\n",
    "\n",
    "sigma_alpha = 1e-4  # Additive noise amplitude [signal units]\n",
    "sigma_beta = 1e-2  # Multiplicative noise amplitude [dimensionless]\n",
    "sigma_tau = 1e-3  # Time base noise amplitude [ps]\n",
    "noise_model = thz.NoiseModel(sigma_alpha, sigma_beta, sigma_tau, dt=dt)"
   ]
  },
  {
   "cell_type": "code",
   "execution_count": null,
   "metadata": {},
   "outputs": [],
   "source": [
    "# Compute the timebase and ideal waveform\n",
    "t = thz.timebase(n, dt=dt)\n",
    "mu = thz.wave(n, dt=dt)\n",
    "delta = noise_model.noise_sim(mu, seed=0)\n",
    "sigma_mu = noise_model.noise_amp(mu)"
   ]
  },
  {
   "cell_type": "code",
   "execution_count": null,
   "metadata": {},
   "outputs": [],
   "source": [
    "_, ax = plt.subplots()\n",
    "\n",
    "ax.plot(t, delta)\n",
    "ax.plot(t, sigma_mu, 'k:')\n",
    "ax.plot(t, -sigma_mu, 'k:')\n",
    "\n",
    "ax.set_xlabel('Time (ps)')\n",
    "ax.set_ylabel(r'Amplitude (units of $\\mu_{p})$')\n",
    "\n",
    "ax.set_xticks(np.arange(0, 11, 5))\n",
    "ax.set_xlim(0, 10)\n",
    "\n",
    "plt.show()"
   ]
  }
 ],
 "metadata": {
  "kernelspec": {
   "display_name": "Python 3 (ipykernel)",
   "language": "python",
   "name": "python3"
  },
  "language_info": {
   "codemirror_mode": {
    "name": "ipython",
    "version": 3
   },
   "file_extension": ".py",
   "mimetype": "text/x-python",
   "name": "python",
   "nbconvert_exporter": "python",
   "pygments_lexer": "ipython3",
   "version": "3.9.16"
  }
 },
 "nbformat": 4,
 "nbformat_minor": 1
}
