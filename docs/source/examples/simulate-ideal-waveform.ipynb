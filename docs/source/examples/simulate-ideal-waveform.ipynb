{
 "cells": [
  {
   "cell_type": "markdown",
   "source": [
    "# Simulate waveform\n",
    "\n",
    "Objects from `thztools`: `thzgen`"
   ],
   "metadata": {
    "collapsed": false
   }
  },
  {
   "cell_type": "code",
   "source": [
    "from matplotlib import pyplot as plt\n",
    "import numpy as np\n",
    "\n",
    "import thztools as thz"
   ],
   "metadata": {
    "collapsed": false
   },
   "execution_count": null,
   "outputs": []
  },
  {
   "cell_type": "markdown",
   "source": "The first cell below sets the parameters for the simulation, and the subsequent cell uses the function `thzgen` to generate a terahertz time-domain waveform `mu` with `n = 256` samples.",
   "metadata": {
    "collapsed": false
   }
  },
  {
   "cell_type": "code",
   "metadata": {},
   "source": [
    "n = 256  # Number of samples\n",
    "dt = 0.05  # Sampling time [ps]"
   ],
   "execution_count": null,
   "outputs": []
  },
  {
   "cell_type": "code",
   "metadata": {},
   "source": [
    "# Compute the timebase and waveform\n",
    "t = thz.timebase(n, dt=dt)\n",
    "mu = thz.wave(n, dt=dt)"
   ],
   "execution_count": null,
   "outputs": []
  },
  {
   "metadata": {},
   "cell_type": "code",
   "source": [
    "_, ax = plt.subplots()\n",
    "\n",
    "ax.plot(t, mu)\n",
    "\n",
    "ax.set_xlabel('Time (ps)')\n",
    "ax.set_ylabel(r'Amplitude (units of $\\mu_{p})$')\n",
    "\n",
    "ax.set_xticks(np.arange(0, 11, 5))\n",
    "ax.set_xlim(0, 10)\n",
    "\n",
    "plt.show()"
   ],
   "execution_count": null,
   "outputs": []
  }
 ],
 "metadata": {
  "kernelspec": {
   "display_name": "Python 3 (ipykernel)",
   "language": "python",
   "name": "python3"
  },
  "language_info": {
   "codemirror_mode": {
    "name": "ipython",
    "version": 3
   },
   "file_extension": ".py",
   "mimetype": "text/x-python",
   "name": "python",
   "nbconvert_exporter": "python",
   "pygments_lexer": "ipython3",
   "version": "3.9.16"
  }
 },
 "nbformat": 4,
 "nbformat_minor": 1
}
