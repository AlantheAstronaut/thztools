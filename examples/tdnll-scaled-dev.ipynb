{
 "cells": [
  {
   "cell_type": "markdown",
   "id": "1b68c9725c753a51",
   "metadata": {
    "collapsed": false
   },
   "source": [
    "# Develop negative log-likelihood with scaled inputs"
   ]
  },
  {
   "cell_type": "code",
   "execution_count": null,
   "id": "416f6fcfaf869f9d",
   "metadata": {
    "ExecuteTime": {
     "end_time": "2024-01-09T04:30:48.329605Z",
     "start_time": "2024-01-09T04:30:47.174755Z"
    }
   },
   "outputs": [],
   "source": [
    "from __future__ import annotations\n",
    "\n",
    "import numdifftools as nd\n",
    "import numpy as np\n",
    "\n",
    "from numpy.typing import ArrayLike\n",
    "from scipy.fft import rfft, irfft, rfftfreq\n",
    "from scipy.optimize import minimize\n",
    "from matplotlib import pyplot as plt\n",
    "from matplotlib.figure import figaspect\n",
    "from scipy.optimize import approx_fprime\n",
    "from numpy.random import default_rng\n",
    "\n",
    "import thztools as thz\n",
    "from thztools.thztools import _costfun_noisefit as costfun"
   ]
  },
  {
   "cell_type": "markdown",
   "id": "6faafd5a43453c9c",
   "metadata": {
    "collapsed": false
   },
   "source": [
    "## Simulate measurements"
   ]
  },
  {
   "cell_type": "code",
   "execution_count": null,
   "id": "6bc9be6f87caaf9f",
   "metadata": {
    "ExecuteTime": {
     "end_time": "2024-01-09T04:30:48.333891Z",
     "start_time": "2024-01-09T04:30:48.329647Z"
    }
   },
   "outputs": [],
   "source": [
    "rng = np.random.default_rng(0)\n",
    "n = 256\n",
    "m = 64\n",
    "ts = 0.05\n",
    "thz.global_options.sampling_time = ts\n",
    "t = thz.timebase(n)\n",
    "mu = thz.wave(n)\n",
    "sigma = np.array([1e-5, 1e-2, 1e-3])\n",
    "noise_model = thz.NoiseModel(\n",
    "    sigma_alpha=sigma[0], sigma_beta=sigma[1], sigma_tau=sigma[2]\n",
    ")\n",
    "noise = noise_model.noise((np.ones((m, 1)) * mu), seed=0)\n",
    "x = np.array(mu + noise)\n",
    "delta_mu = np.zeros(n)\n",
    "delta_a = np.zeros(m - 1)\n",
    "eta = np.zeros(m - 1)\n",
    "\n",
    "logv = np.log(sigma**2)\n",
    "scale_sigma_alpha = noise_model.sigma_alpha\n",
    "scale_sigma_beta = noise_model.sigma_beta\n",
    "scale_sigma_tau = noise_model.sigma_tau\n",
    "scale_delta_mu = 1e-0 * noise_model.amplitude(mu)\n",
    "scale_delta_a = 1e-4 * np.ones(m - 1)\n",
    "scale_eta = 1e-3 * np.ones(m - 1)"
   ]
  },
  {
   "cell_type": "markdown",
   "id": "39d28b3fdac152cf",
   "metadata": {
    "collapsed": false
   },
   "source": [
    "## Check gradient"
   ]
  },
  {
   "cell_type": "code",
   "execution_count": null,
   "id": "e626769313b54ca5",
   "metadata": {
    "ExecuteTime": {
     "end_time": "2024-01-09T04:30:48.525146Z",
     "start_time": "2024-01-09T04:30:48.336677Z"
    }
   },
   "outputs": [],
   "source": [
    "_, grad_delta_mu_tdnll = costfun(\n",
    "    x,\n",
    "    logv[0],\n",
    "    logv[1],\n",
    "    logv[2],\n",
    "    delta_mu,\n",
    "    delta_a,\n",
    "    eta / ts,\n",
    "    fix_logv_alpha=True,\n",
    "    fix_logv_beta=True,\n",
    "    fix_logv_tau=True,\n",
    "    fix_delta_mu=False,\n",
    "    fix_delta_a=True,\n",
    "    fix_eta=True,\n",
    "    scale_sigma_alpha=1.0,\n",
    "    scale_sigma_beta=1.0,\n",
    "    scale_sigma_tau=1.0,\n",
    "    scale_delta_mu=np.ones(n),\n",
    "    scale_delta_a=np.ones(m - 1),\n",
    "    scale_eta=np.ones(m - 1),\n",
    ")\n",
    "\n",
    "_, grad_delta_mu_costfun = costfun(\n",
    "    x,\n",
    "    np.log(np.exp(logv[0]) / scale_sigma_alpha**2),\n",
    "    np.log(np.exp(logv[1]) / scale_sigma_beta**2),\n",
    "    np.log(np.exp(logv[2]) / scale_sigma_tau**2),\n",
    "    delta_mu / scale_delta_mu,\n",
    "    delta_a,\n",
    "    eta / ts,\n",
    "    fix_logv_alpha=True,\n",
    "    fix_logv_beta=True,\n",
    "    fix_logv_tau=True,\n",
    "    fix_delta_mu=False,\n",
    "    fix_delta_a=True,\n",
    "    fix_eta=True,\n",
    "    scale_sigma_alpha=scale_sigma_alpha,\n",
    "    scale_sigma_beta=scale_sigma_beta,\n",
    "    scale_sigma_tau=scale_sigma_tau,\n",
    "    scale_delta_mu=scale_delta_mu,\n",
    "    scale_delta_a=np.ones(m - 1),\n",
    "    scale_eta=np.ones(m - 1),\n",
    ")\n",
    "\n",
    "grad_delta_mu_nd = nd.Gradient(\n",
    "    lambda _delta_mu: costfun(\n",
    "        x,\n",
    "        logv[0],\n",
    "        logv[1],\n",
    "        logv[2],\n",
    "        _delta_mu,\n",
    "        delta_a,\n",
    "        eta / ts,\n",
    "        fix_logv_alpha=True,\n",
    "        fix_logv_beta=True,\n",
    "        fix_logv_tau=True,\n",
    "        fix_delta_mu=True,\n",
    "        fix_delta_a=True,\n",
    "        fix_eta=True,\n",
    "        scale_sigma_alpha=1.0,\n",
    "        scale_sigma_beta=1.0,\n",
    "        scale_sigma_tau=1.0,\n",
    "        scale_delta_mu=np.ones(n),\n",
    "        scale_delta_a=np.ones(m - 1),\n",
    "        scale_eta=np.ones(m - 1),\n",
    "    )[0],\n",
    "    step=1e-6,\n",
    ")(delta_mu)\n",
    "\n",
    "np.stack(\n",
    "    (\n",
    "        grad_delta_mu_tdnll,\n",
    "        grad_delta_mu_costfun / scale_delta_mu,\n",
    "        grad_delta_mu_nd,\n",
    "    )\n",
    ").T"
   ]
  },
  {
   "cell_type": "code",
   "execution_count": null,
   "id": "b4550f1fd812049",
   "metadata": {
    "ExecuteTime": {
     "end_time": "2024-01-09T04:30:48.630961Z",
     "start_time": "2024-01-09T04:30:48.525289Z"
    }
   },
   "outputs": [],
   "source": [
    "plt.plot(t, grad_delta_mu_tdnll)\n",
    "plt.plot(t, grad_delta_mu_costfun / scale_delta_mu)\n",
    "plt.show()\n",
    "plt.plot(t, grad_delta_mu_tdnll - grad_delta_mu_costfun / scale_delta_mu)\n",
    "plt.show()"
   ]
  },
  {
   "cell_type": "code",
   "execution_count": null,
   "id": "26b4830fe79ebc8",
   "metadata": {
    "ExecuteTime": {
     "end_time": "2024-01-09T04:30:48.700114Z",
     "start_time": "2024-01-09T04:30:48.635896Z"
    }
   },
   "outputs": [],
   "source": [
    "val, grad_logv_tdnll = costfun(\n",
    "    x,\n",
    "    logv[0],\n",
    "    logv[1],\n",
    "    logv[2],\n",
    "    delta_mu,\n",
    "    delta_a,\n",
    "    eta / ts,\n",
    "    fix_logv_alpha=False,\n",
    "    fix_logv_beta=False,\n",
    "    fix_logv_tau=False,\n",
    "    fix_delta_mu=True,\n",
    "    fix_delta_a=True,\n",
    "    fix_eta=True,\n",
    "    scale_sigma_alpha=1.0,\n",
    "    scale_sigma_beta=1.0,\n",
    "    scale_sigma_tau=1.0,\n",
    "    scale_delta_mu=scale_delta_mu,\n",
    "    scale_delta_a=np.ones(m - 1),\n",
    "    scale_eta=np.ones(m - 1),\n",
    ")\n",
    "\n",
    "val_scaled_v, grad_logv_costfun_v = costfun(\n",
    "    x,\n",
    "    logv[0],\n",
    "    logv[1],\n",
    "    logv[2],\n",
    "    delta_mu,\n",
    "    delta_a,\n",
    "    eta / ts,\n",
    "    fix_logv_alpha=False,\n",
    "    fix_logv_beta=False,\n",
    "    fix_logv_tau=False,\n",
    "    fix_delta_mu=True,\n",
    "    fix_delta_a=True,\n",
    "    fix_eta=True,\n",
    "    scale_sigma_alpha=1.0,\n",
    "    scale_sigma_beta=1.0,\n",
    "    scale_sigma_tau=1.0,\n",
    "    scale_delta_mu=scale_delta_mu,\n",
    "    scale_delta_a=np.ones(m - 1),\n",
    "    scale_eta=np.ones(m - 1),\n",
    ")\n",
    "\n",
    "val_scaled, grad_logv_costfun = costfun(\n",
    "    x,\n",
    "    np.log(np.exp(logv[0]) / scale_sigma_alpha**2),\n",
    "    np.log(np.exp(logv[1]) / scale_sigma_beta**2),\n",
    "    np.log(np.exp(logv[2]) / scale_sigma_tau**2),\n",
    "    delta_mu,\n",
    "    delta_a,\n",
    "    eta / ts,\n",
    "    fix_logv_alpha=False,\n",
    "    fix_logv_beta=False,\n",
    "    fix_logv_tau=False,\n",
    "    fix_delta_mu=True,\n",
    "    fix_delta_a=True,\n",
    "    fix_eta=True,\n",
    "    scale_sigma_alpha=scale_sigma_alpha,\n",
    "    scale_sigma_beta=scale_sigma_beta,\n",
    "    scale_sigma_tau=scale_sigma_tau,\n",
    "    scale_delta_mu=scale_delta_mu,\n",
    "    scale_delta_a=np.ones(m - 1),\n",
    "    scale_eta=np.ones(m - 1),\n",
    ")\n",
    "\n",
    "grad_logv_nd = nd.Gradient(\n",
    "    lambda _logv: costfun(\n",
    "        x,\n",
    "        np.log(np.exp(_logv[0]) / scale_sigma_alpha**2),\n",
    "        np.log(np.exp(_logv[1]) / scale_sigma_beta**2),\n",
    "        np.log(np.exp(_logv[2]) / scale_sigma_tau**2),\n",
    "        delta_mu,\n",
    "        delta_a,\n",
    "        eta / ts,\n",
    "        fix_logv_alpha=True,\n",
    "        fix_logv_beta=True,\n",
    "        fix_logv_tau=True,\n",
    "        fix_delta_mu=True,\n",
    "        fix_delta_a=True,\n",
    "        fix_eta=True,\n",
    "        scale_sigma_alpha=scale_sigma_alpha,\n",
    "        scale_sigma_beta=scale_sigma_beta,\n",
    "        scale_sigma_tau=scale_sigma_tau,\n",
    "        scale_delta_mu=scale_delta_mu,\n",
    "        scale_delta_a=scale_delta_a,\n",
    "        scale_eta=np.ones(m - 1),\n",
    "    )[0]\n",
    ")(logv)\n",
    "\n",
    "print(f\"{val =}\")\n",
    "print(f\"{val_scaled_v =}\")\n",
    "print(f\"{val_scaled =}\")\n",
    "np.stack(\n",
    "    (\n",
    "        grad_logv_tdnll,\n",
    "        grad_logv_costfun_v,\n",
    "        grad_logv_costfun,\n",
    "        grad_logv_nd,\n",
    "    )\n",
    ").T"
   ]
  },
  {
   "cell_type": "code",
   "execution_count": null,
   "id": "5136dc2abb3fcd50",
   "metadata": {
    "ExecuteTime": {
     "end_time": "2024-01-09T04:30:49.276220Z",
     "start_time": "2024-01-09T04:30:48.672931Z"
    }
   },
   "outputs": [],
   "source": [
    "_, grad_delta_a_tdnll = costfun(\n",
    "    x,\n",
    "    logv[0],\n",
    "    logv[1],\n",
    "    logv[2],\n",
    "    delta_mu,\n",
    "    delta_a,\n",
    "    eta / ts,\n",
    "    fix_logv_alpha=True,\n",
    "    fix_logv_beta=True,\n",
    "    fix_logv_tau=True,\n",
    "    fix_delta_mu=True,\n",
    "    fix_delta_a=False,\n",
    "    fix_eta=True,\n",
    "    scale_sigma_alpha=1.0,\n",
    "    scale_sigma_beta=1.0,\n",
    "    scale_sigma_tau=1.0,\n",
    "    scale_delta_mu=scale_delta_mu,\n",
    "    scale_delta_a=np.ones(m - 1),\n",
    "    scale_eta=np.ones(m - 1),\n",
    ")\n",
    "\n",
    "grad_delta_a_nd = nd.Gradient(\n",
    "    lambda _delta_a: costfun(\n",
    "        x,\n",
    "        logv[0],\n",
    "        logv[1],\n",
    "        logv[2],\n",
    "        delta_mu,\n",
    "        _delta_a,\n",
    "        eta / ts,\n",
    "        fix_logv_alpha=True,\n",
    "        fix_logv_beta=True,\n",
    "        fix_logv_tau=True,\n",
    "        fix_delta_mu=True,\n",
    "        fix_delta_a=True,\n",
    "        fix_eta=True,\n",
    "        scale_sigma_alpha=1.0,\n",
    "        scale_sigma_beta=1.0,\n",
    "        scale_sigma_tau=1.0,\n",
    "        scale_delta_mu=scale_delta_mu,\n",
    "        scale_delta_a=np.ones(m - 1),\n",
    "        scale_eta=np.ones(m - 1),\n",
    "    )[0]\n",
    ")(delta_a)\n",
    "\n",
    "np.stack((grad_delta_a_tdnll, grad_delta_a_nd)).T"
   ]
  },
  {
   "cell_type": "code",
   "execution_count": null,
   "id": "340e8a4843e9d0a5",
   "metadata": {
    "ExecuteTime": {
     "end_time": "2024-01-09T04:30:49.887798Z",
     "start_time": "2024-01-09T04:30:49.275409Z"
    }
   },
   "outputs": [],
   "source": [
    "_, grad_eta_tdnll = costfun(\n",
    "    x,\n",
    "    logv[0],\n",
    "    logv[1],\n",
    "    logv[2],\n",
    "    delta_mu,\n",
    "    delta_a,\n",
    "    eta / ts,\n",
    "    fix_logv_alpha=True,\n",
    "    fix_logv_beta=True,\n",
    "    fix_logv_tau=True,\n",
    "    fix_delta_mu=True,\n",
    "    fix_delta_a=True,\n",
    "    fix_eta=False,\n",
    "    scale_sigma_alpha=1.0,\n",
    "    scale_sigma_beta=1.0,\n",
    "    scale_sigma_tau=1.0,\n",
    "    scale_delta_mu=scale_delta_mu,\n",
    "    scale_delta_a=np.ones(m - 1),\n",
    "    scale_eta=np.ones(m - 1),\n",
    ")\n",
    "\n",
    "grad_eta_nd = nd.Gradient(\n",
    "    lambda _eta_scaled: costfun(\n",
    "        x,\n",
    "        logv[0],\n",
    "        logv[1],\n",
    "        logv[2],\n",
    "        delta_mu,\n",
    "        delta_a,\n",
    "        _eta_scaled,\n",
    "        fix_logv_alpha=True,\n",
    "        fix_logv_beta=True,\n",
    "        fix_logv_tau=True,\n",
    "        fix_delta_mu=True,\n",
    "        fix_delta_a=True,\n",
    "        fix_eta=True,\n",
    "        scale_sigma_alpha=1.0,\n",
    "        scale_sigma_beta=1.0,\n",
    "        scale_sigma_tau=1.0,\n",
    "        scale_delta_mu=scale_delta_mu,\n",
    "        scale_delta_a=np.ones(m - 1),\n",
    "        scale_eta=np.ones(m - 1),\n",
    "    )[0]\n",
    ")(eta)\n",
    "\n",
    "np.stack((grad_eta_tdnll, grad_eta_nd)).T"
   ]
  },
  {
   "cell_type": "markdown",
   "id": "d905c0f3e7dedba",
   "metadata": {
    "collapsed": false
   },
   "source": [
    "## Estimate noise parameters with revised NLL"
   ]
  },
  {
   "cell_type": "code",
   "execution_count": null,
   "id": "dc0d1efd00bb35d7",
   "metadata": {
    "ExecuteTime": {
     "end_time": "2024-01-09T04:30:51.300096Z",
     "start_time": "2024-01-09T04:30:49.887238Z"
    }
   },
   "outputs": [],
   "source": [
    "result = thz.noisefit(\n",
    "    x.T,\n",
    "    sigma_alpha0=sigma[0],\n",
    "    sigma_beta0=sigma[1],\n",
    "    sigma_tau0=sigma[2],\n",
    "    dt=ts,\n",
    "    fix_a=False,\n",
    "    fix_eta=False,\n",
    ")"
   ]
  },
  {
   "cell_type": "code",
   "execution_count": null,
   "id": "445f8f0c1a609ac3",
   "metadata": {
    "ExecuteTime": {
     "end_time": "2024-01-09T04:30:51.304279Z",
     "start_time": "2024-01-09T04:30:51.300273Z"
    }
   },
   "outputs": [],
   "source": [
    "print(result.diagnostic[\"message\"])"
   ]
  },
  {
   "cell_type": "code",
   "execution_count": null,
   "id": "24c887e71ac696f6",
   "metadata": {
    "ExecuteTime": {
     "end_time": "2024-01-09T04:30:51.305622Z",
     "start_time": "2024-01-09T04:30:51.303501Z"
    }
   },
   "outputs": [],
   "source": [
    "sigma_out = np.array(\n",
    "    [\n",
    "        result.noise_model.sigma_alpha,\n",
    "        result.noise_model.sigma_beta,\n",
    "        result.noise_model.sigma_tau,\n",
    "    ]\n",
    ") * np.sqrt(m / (m - 1))\n",
    "sigma_err = np.sqrt(\n",
    "    np.array(\n",
    "        [result.err_sigma_alpha, result.err_sigma_beta, result.err_sigma_tau]\n",
    "    )\n",
    "    * m\n",
    "    / (m - 1)\n",
    ")\n",
    "for sigma_in, sigma_out, err in zip(sigma, sigma_out, sigma_err):\n",
    "    print(f\"Input: {sigma_in:6.4g}\\t Output: {sigma_out:6.4g} ± {err:6.4g}\")"
   ]
  },
  {
   "cell_type": "code",
   "execution_count": null,
   "id": "2461337648eae5fa",
   "metadata": {
    "ExecuteTime": {
     "end_time": "2024-01-09T04:30:51.358621Z",
     "start_time": "2024-01-09T04:30:51.312097Z"
    }
   },
   "outputs": [],
   "source": [
    "plt.plot(result.diagnostic[\"jac\"])\n",
    "plt.show()"
   ]
  },
  {
   "cell_type": "code",
   "execution_count": null,
   "id": "9fbe795d084c20db",
   "metadata": {
    "ExecuteTime": {
     "end_time": "2024-01-09T04:30:51.493972Z",
     "start_time": "2024-01-09T04:30:51.368942Z"
    }
   },
   "outputs": [],
   "source": [
    "plt.semilogy(np.diag(result.diagnostic[\"hess_inv\"]))\n",
    "plt.show()"
   ]
  },
  {
   "cell_type": "code",
   "execution_count": null,
   "id": "d69c3719ad1e9a4a",
   "metadata": {
    "ExecuteTime": {
     "end_time": "2024-01-09T04:30:51.498098Z",
     "start_time": "2024-01-09T04:30:51.494797Z"
    }
   },
   "outputs": [],
   "source": [
    "np.diag(result.diagnostic[\"hess_inv\"][:3, :3])"
   ]
  },
  {
   "cell_type": "code",
   "execution_count": null,
   "id": "f75beb5c4868ea14",
   "metadata": {
    "ExecuteTime": {
     "end_time": "2024-01-09T04:30:51.551680Z",
     "start_time": "2024-01-09T04:30:51.502409Z"
    }
   },
   "outputs": [],
   "source": [
    "plt.plot(t, np.log10(np.diag(result.diagnostic[\"hess_inv\"])[3 : 3 + n]))\n",
    "plt.plot(t, mu)\n",
    "plt.show()"
   ]
  },
  {
   "cell_type": "code",
   "execution_count": null,
   "id": "f8565beffa655791",
   "metadata": {
    "ExecuteTime": {
     "end_time": "2024-01-09T04:30:51.615113Z",
     "start_time": "2024-01-09T04:30:51.549414Z"
    }
   },
   "outputs": [],
   "source": [
    "noise_model_fit = thz.NoiseModel(\n",
    "    sigma_alpha=result.noise_model.sigma_alpha,\n",
    "    sigma_beta=result.noise_model.sigma_beta,\n",
    "    sigma_tau=result.noise_model.sigma_tau,\n",
    ")\n",
    "\n",
    "plt.plot(t, result.err_mu)\n",
    "plt.plot(t, noise_model_fit.amplitude(result.mu))\n",
    "plt.plot(t, np.std(x, axis=0))\n",
    "plt.show()"
   ]
  },
  {
   "cell_type": "markdown",
   "id": "7ca6053d2aa96157",
   "metadata": {
    "collapsed": false
   },
   "source": [
    "## Repeat fit with amplitudes and delays fixed"
   ]
  },
  {
   "cell_type": "code",
   "execution_count": null,
   "id": "460ada6a325cdef8",
   "metadata": {
    "ExecuteTime": {
     "end_time": "2024-01-09T04:30:52.006086Z",
     "start_time": "2024-01-09T04:30:51.589023Z"
    }
   },
   "outputs": [],
   "source": [
    "result = thz.noisefit(\n",
    "    x.T,\n",
    "    sigma_alpha0=sigma[0],\n",
    "    sigma_beta0=sigma[1],\n",
    "    sigma_tau0=sigma[2],\n",
    "    dt=ts,\n",
    "    fix_a=True,\n",
    "    fix_eta=True,\n",
    ")\n",
    "print(result.diagnostic[\"message\"])"
   ]
  },
  {
   "cell_type": "code",
   "execution_count": null,
   "id": "b209ca09ceff8cd2",
   "metadata": {
    "ExecuteTime": {
     "end_time": "2024-01-09T04:30:52.007733Z",
     "start_time": "2024-01-09T04:30:52.005553Z"
    }
   },
   "outputs": [],
   "source": [
    "sigma_out = np.array(\n",
    "    [\n",
    "        result.noise_model.sigma_alpha,\n",
    "        result.noise_model.sigma_beta,\n",
    "        result.noise_model.sigma_tau,\n",
    "    ]\n",
    ") * np.sqrt(m / (m - 1))\n",
    "sigma_err = np.sqrt(\n",
    "    np.array(\n",
    "        [result.err_sigma_alpha, result.err_sigma_beta, result.err_sigma_tau]\n",
    "    )\n",
    "    * m\n",
    "    / (m - 1)\n",
    ")\n",
    "for sigma_in, sigma_out, err in zip(sigma, sigma_out, sigma_err):\n",
    "    print(f\"Input: {sigma_in:6.4g}\\t Output: {sigma_out:6.4g} ± {err:6.4g}\")"
   ]
  },
  {
   "cell_type": "code",
   "execution_count": null,
   "id": "e8e7a5403d19035b",
   "metadata": {
    "ExecuteTime": {
     "end_time": "2024-01-09T04:30:52.051917Z",
     "start_time": "2024-01-09T04:30:52.009585Z"
    }
   },
   "outputs": [],
   "source": [
    "plt.plot(t, result.err_mu)\n",
    "plt.plot(t, noise_model_fit.amplitude(result.mu))\n",
    "plt.plot(t, np.std(x, axis=0))\n",
    "plt.show()"
   ]
  }
 ],
 "metadata": {
  "kernelspec": {
   "display_name": "Python 3",
   "language": "python",
   "name": "python3"
  },
  "language_info": {
   "codemirror_mode": {
    "name": "ipython",
    "version": 2
   },
   "file_extension": ".py",
   "mimetype": "text/x-python",
   "name": "python",
   "nbconvert_exporter": "python",
   "pygments_lexer": "ipython2",
   "version": "2.7.6"
  }
 },
 "nbformat": 4,
 "nbformat_minor": 5
}
