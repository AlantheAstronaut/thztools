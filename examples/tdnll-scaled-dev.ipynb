{
 "cells": [
  {
   "cell_type": "markdown",
   "id": "1b68c9725c753a51",
   "metadata": {
    "collapsed": false
   },
   "source": [
    "# Develop negative log-likelihood with scaled inputs"
   ]
  },
  {
   "cell_type": "code",
   "execution_count": null,
   "id": "416f6fcfaf869f9d",
   "metadata": {
    "ExecuteTime": {
     "end_time": "2024-06-11T21:27:58.096225Z",
     "start_time": "2024-06-11T21:27:57.248594Z"
    }
   },
   "outputs": [],
   "source": [
    "from __future__ import annotations\n",
    "\n",
    "import numdifftools as nd\n",
    "import numpy as np\n",
    "\n",
    "from numpy.typing import ArrayLike\n",
    "from scipy.fft import rfft, irfft, rfftfreq\n",
    "from scipy.optimize import minimize\n",
    "from matplotlib import pyplot as plt\n",
    "from matplotlib.figure import figaspect\n",
    "from scipy.optimize import approx_fprime\n",
    "from numpy.random import default_rng\n",
    "\n",
    "import thztools as thz\n",
    "from thztools.thztools import _costfun_noisefit as costfun"
   ]
  },
  {
   "cell_type": "markdown",
   "id": "6faafd5a43453c9c",
   "metadata": {
    "collapsed": false
   },
   "source": [
    "## Simulate measurements"
   ]
  },
  {
   "cell_type": "code",
   "execution_count": null,
   "id": "6bc9be6f87caaf9f",
   "metadata": {
    "ExecuteTime": {
     "end_time": "2024-06-11T21:27:58.101882Z",
     "start_time": "2024-06-11T21:27:58.097254Z"
    }
   },
   "outputs": [],
   "source": [
    "rng = np.random.default_rng(0)\n",
    "n = 256\n",
    "m = 64\n",
    "dt = 0.05\n",
    "thz.set_option(\"sampling_time\", dt)\n",
    "t = thz.timebase(n)\n",
    "mu = thz.wave(n)\n",
    "sigma_alpha, sigma_beta, sigma_tau = 1e-5, 1e-2, 1e-3\n",
    "noise_model = thz.NoiseModel(\n",
    "    sigma_alpha=sigma_alpha, sigma_beta=sigma_beta, sigma_tau=sigma_tau\n",
    ")\n",
    "noise = noise_model.noise_sim((np.ones((m, 1)) * mu), seed=0)\n",
    "x = np.array(mu + noise)\n",
    "delta_mu = np.zeros(n)\n",
    "delta_a = np.zeros(m - 1)\n",
    "eta = np.zeros(m - 1)\n",
    "\n",
    "scale_logv_alpha = 1 / m\n",
    "scale_logv_beta = 1 / m\n",
    "scale_logv_tau = 1 / m\n",
    "scale_logv = np.array([scale_logv_alpha, scale_logv_beta, scale_logv_tau])\n",
    "\n",
    "scale_delta_mu = 1e-0 * noise_model.noise_amp(mu)\n",
    "scale_delta_a = 1e-4 * np.ones(m - 1)\n",
    "scale_eta = 1e-3 * np.ones(m - 1)\n",
    "\n",
    "logv_scaled = np.array(\n",
    "    [\n",
    "        np.log(sigma_alpha**2) / scale_logv_alpha,\n",
    "        np.log(sigma_beta**2) / scale_logv_beta,\n",
    "        np.log((sigma_tau / dt) ** 2) / scale_logv_tau,\n",
    "    ]\n",
    ")\n",
    "print(f\"{logv_scaled=}\")"
   ]
  },
  {
   "cell_type": "code",
   "execution_count": null,
   "id": "989a1045da1efcea",
   "metadata": {
    "ExecuteTime": {
     "end_time": "2024-06-11T21:27:58.132946Z",
     "start_time": "2024-06-11T21:27:58.102501Z"
    }
   },
   "outputs": [],
   "source": [
    "d_var = ((x - mu) ** 2 - np.var(x, axis=0)) / np.var(x, axis=0) ** 2\n",
    "mu_f = np.fft.rfft(mu)\n",
    "w = 2 * np.pi * np.fft.rfftfreq(n, dt)\n",
    "dmu_dt = np.fft.irfft(1j * w * mu_f, n=n)\n",
    "[np.sum(d_var), np.sum(d_var * mu**2), np.sum(d_var * dmu_dt**2)] / np.sum(\n",
    "    d_var\n",
    ")"
   ]
  },
  {
   "cell_type": "code",
   "execution_count": null,
   "id": "dc0d1efd00bb35d7",
   "metadata": {
    "ExecuteTime": {
     "end_time": "2024-06-11T21:28:00.717158Z",
     "start_time": "2024-06-11T21:27:58.134485Z"
    }
   },
   "outputs": [],
   "source": [
    "result = thz.noisefit(\n",
    "    x.T,\n",
    "    sigma_alpha0=sigma_alpha,\n",
    "    sigma_beta0=sigma_beta,\n",
    "    sigma_tau0=sigma_tau,\n",
    "    mu0=mu,\n",
    "    a0=1 + np.concatenate(([0.0], delta_a)),\n",
    "    eta0=np.concatenate(([0.0], eta)),\n",
    "    dt=dt,\n",
    "    fix_sigma_alpha=False,\n",
    "    fix_sigma_beta=False,\n",
    "    fix_sigma_tau=False,\n",
    "    fix_mu=False,\n",
    "    fix_a=False,\n",
    "    fix_eta=False,\n",
    "    scale_logv_alpha=scale_logv_alpha,\n",
    "    scale_logv_beta=scale_logv_beta,\n",
    "    scale_logv_tau=scale_logv_tau,\n",
    "    scale_delta_mu=scale_delta_mu,\n",
    "    scale_delta_a=scale_delta_a,\n",
    "    scale_eta=scale_eta,\n",
    ")\n",
    "p_opt = result.diagnostic.x"
   ]
  },
  {
   "cell_type": "code",
   "execution_count": null,
   "id": "445f8f0c1a609ac3",
   "metadata": {
    "ExecuteTime": {
     "end_time": "2024-06-11T21:28:00.724640Z",
     "start_time": "2024-06-11T21:28:00.719634Z"
    }
   },
   "outputs": [],
   "source": [
    "print(result.diagnostic[\"message\"])"
   ]
  },
  {
   "cell_type": "code",
   "execution_count": null,
   "id": "24c887e71ac696f6",
   "metadata": {
    "ExecuteTime": {
     "end_time": "2024-06-11T21:28:00.733633Z",
     "start_time": "2024-06-11T21:28:00.727990Z"
    }
   },
   "outputs": [],
   "source": [
    "sigma = np.array([sigma_alpha, sigma_beta, sigma_tau])\n",
    "\n",
    "sigma_out = np.array(\n",
    "    [\n",
    "        result.noise_model.sigma_alpha,\n",
    "        result.noise_model.sigma_beta,\n",
    "        result.noise_model.sigma_tau,\n",
    "    ]\n",
    ") * np.sqrt(m / (m - 1))\n",
    "sigma_err = np.array(\n",
    "    [result.err_sigma_alpha, result.err_sigma_beta, result.err_sigma_tau]\n",
    ") * np.sqrt(m / (m - 1))\n",
    "for _in, _out, _err in zip(sigma, sigma_out, sigma_err):\n",
    "    print(f\"Input: {_in:6.4g}\\t Output: {_out:6.4g} ± {_err:6.4g}\")"
   ]
  },
  {
   "cell_type": "code",
   "execution_count": null,
   "id": "cc3db844e7168eb8",
   "metadata": {
    "ExecuteTime": {
     "end_time": "2024-06-11T21:28:00.742209Z",
     "start_time": "2024-06-11T21:28:00.735617Z"
    }
   },
   "outputs": [],
   "source": [
    "sigma_out"
   ]
  },
  {
   "cell_type": "code",
   "execution_count": null,
   "id": "80000fdf1735cc83",
   "metadata": {
    "ExecuteTime": {
     "end_time": "2024-06-11T21:28:00.748675Z",
     "start_time": "2024-06-11T21:28:00.744350Z"
    }
   },
   "outputs": [],
   "source": [
    "np.diag(result.diagnostic.hess_inv[:3, :3])"
   ]
  },
  {
   "cell_type": "markdown",
   "id": "39d28b3fdac152cf",
   "metadata": {},
   "source": [
    "## Check gradient"
   ]
  },
  {
   "cell_type": "code",
   "execution_count": null,
   "id": "e626769313b54ca5",
   "metadata": {
    "ExecuteTime": {
     "end_time": "2024-06-11T21:28:03.516202Z",
     "start_time": "2024-06-11T21:28:00.750765Z"
    }
   },
   "outputs": [],
   "source": [
    "_, grad_delta_mu_tdnll = costfun(\n",
    "    x,\n",
    "    logv_scaled[0],\n",
    "    logv_scaled[1],\n",
    "    logv_scaled[2],\n",
    "    delta_mu / scale_delta_mu,\n",
    "    delta_a / scale_delta_a,\n",
    "    eta / scale_eta,\n",
    "    fix_logv_alpha=True,\n",
    "    fix_logv_beta=True,\n",
    "    fix_logv_tau=True,\n",
    "    fix_delta_mu=False,\n",
    "    fix_delta_a=True,\n",
    "    fix_eta=True,\n",
    "    scale_logv_alpha=scale_logv_alpha,\n",
    "    scale_logv_beta=scale_logv_beta,\n",
    "    scale_logv_tau=scale_logv_tau,\n",
    "    scale_delta_mu=scale_delta_mu,\n",
    "    scale_delta_a=scale_delta_a,\n",
    "    scale_eta_on_dt=scale_eta / dt,\n",
    ")\n",
    "\n",
    "grad_delta_mu_nd = nd.Gradient(\n",
    "    lambda _delta_mu: costfun(\n",
    "        x,\n",
    "        logv_scaled[0],\n",
    "        logv_scaled[1],\n",
    "        logv_scaled[2],\n",
    "        _delta_mu,\n",
    "        delta_a / scale_delta_a,\n",
    "        eta / scale_eta,\n",
    "        fix_logv_alpha=True,\n",
    "        fix_logv_beta=True,\n",
    "        fix_logv_tau=True,\n",
    "        fix_delta_mu=True,\n",
    "        fix_delta_a=True,\n",
    "        fix_eta=True,\n",
    "        scale_logv_alpha=scale_logv_alpha,\n",
    "        scale_logv_beta=scale_logv_beta,\n",
    "        scale_logv_tau=scale_logv_tau,\n",
    "        scale_delta_mu=scale_delta_mu,\n",
    "        scale_delta_a=scale_delta_a,\n",
    "        scale_eta_on_dt=scale_eta / dt,\n",
    "    )[0],\n",
    ")(delta_mu / scale_delta_mu)\n",
    "\n",
    "np.stack(\n",
    "    (\n",
    "        grad_delta_mu_tdnll,\n",
    "        grad_delta_mu_nd,\n",
    "    )\n",
    ").T"
   ]
  },
  {
   "cell_type": "code",
   "execution_count": null,
   "id": "b4550f1fd812049",
   "metadata": {
    "ExecuteTime": {
     "end_time": "2024-06-11T21:28:03.630771Z",
     "start_time": "2024-06-11T21:28:03.518183Z"
    }
   },
   "outputs": [],
   "source": [
    "plt.plot(t, grad_delta_mu_tdnll)\n",
    "plt.plot(t, grad_delta_mu_nd)\n",
    "plt.show()\n",
    "plt.plot(t, grad_delta_mu_tdnll - grad_delta_mu_nd)\n",
    "plt.show()"
   ]
  },
  {
   "cell_type": "code",
   "execution_count": null,
   "id": "26b4830fe79ebc8",
   "metadata": {
    "ExecuteTime": {
     "end_time": "2024-06-11T21:28:03.673356Z",
     "start_time": "2024-06-11T21:28:03.631581Z"
    }
   },
   "outputs": [],
   "source": [
    "_, grad_logv_tdnll = costfun(\n",
    "    x,\n",
    "    logv_scaled[0],\n",
    "    logv_scaled[1],\n",
    "    logv_scaled[2],\n",
    "    delta_mu / scale_delta_mu,\n",
    "    delta_a / scale_delta_a,\n",
    "    eta / scale_eta,\n",
    "    fix_logv_alpha=False,\n",
    "    fix_logv_beta=False,\n",
    "    fix_logv_tau=False,\n",
    "    fix_delta_mu=True,\n",
    "    fix_delta_a=True,\n",
    "    fix_eta=True,\n",
    "    scale_logv_alpha=scale_logv_alpha,\n",
    "    scale_logv_beta=scale_logv_beta,\n",
    "    scale_logv_tau=scale_logv_tau,\n",
    "    scale_delta_mu=scale_delta_mu,\n",
    "    scale_delta_a=scale_delta_a,\n",
    "    scale_eta_on_dt=scale_eta / dt,\n",
    ")\n",
    "\n",
    "grad_logv_nd = nd.Gradient(\n",
    "    lambda _logv: costfun(\n",
    "        x,\n",
    "        _logv[0],\n",
    "        _logv[1],\n",
    "        _logv[2],\n",
    "        delta_mu / scale_delta_mu,\n",
    "        delta_a / scale_delta_a,\n",
    "        eta / scale_eta,\n",
    "        fix_logv_alpha=True,\n",
    "        fix_logv_beta=True,\n",
    "        fix_logv_tau=True,\n",
    "        fix_delta_mu=True,\n",
    "        fix_delta_a=True,\n",
    "        fix_eta=True,\n",
    "        scale_logv_alpha=scale_logv_alpha,\n",
    "        scale_logv_beta=scale_logv_beta,\n",
    "        scale_logv_tau=scale_logv_tau,\n",
    "        scale_delta_mu=scale_delta_mu,\n",
    "        scale_delta_a=scale_delta_a,\n",
    "        scale_eta_on_dt=scale_eta / dt,\n",
    "    )[0]\n",
    ")(logv_scaled)\n",
    "\n",
    "np.stack(\n",
    "    (\n",
    "        grad_logv_tdnll,\n",
    "        grad_logv_nd,\n",
    "    )\n",
    ").T"
   ]
  },
  {
   "cell_type": "code",
   "execution_count": null,
   "id": "5136dc2abb3fcd50",
   "metadata": {
    "ExecuteTime": {
     "end_time": "2024-06-11T21:28:04.324518Z",
     "start_time": "2024-06-11T21:28:03.674492Z"
    }
   },
   "outputs": [],
   "source": [
    "_, grad_delta_a_tdnll = costfun(\n",
    "    x,\n",
    "    logv_scaled[0],\n",
    "    logv_scaled[1],\n",
    "    logv_scaled[2],\n",
    "    delta_mu / scale_delta_mu,\n",
    "    delta_a / scale_delta_a,\n",
    "    eta / scale_eta,\n",
    "    fix_logv_alpha=True,\n",
    "    fix_logv_beta=True,\n",
    "    fix_logv_tau=True,\n",
    "    fix_delta_mu=True,\n",
    "    fix_delta_a=False,\n",
    "    fix_eta=True,\n",
    "    scale_logv_alpha=scale_logv_alpha,\n",
    "    scale_logv_beta=scale_logv_beta,\n",
    "    scale_logv_tau=scale_logv_tau,\n",
    "    scale_delta_mu=scale_delta_mu,\n",
    "    scale_delta_a=scale_delta_a,\n",
    "    scale_eta_on_dt=scale_eta / dt,\n",
    ")\n",
    "\n",
    "grad_delta_a_nd = nd.Gradient(\n",
    "    lambda _delta_a: costfun(\n",
    "        x,\n",
    "        logv_scaled[0],\n",
    "        logv_scaled[1],\n",
    "        logv_scaled[2],\n",
    "        delta_mu / scale_delta_mu,\n",
    "        _delta_a,\n",
    "        eta / scale_eta,\n",
    "        fix_logv_alpha=True,\n",
    "        fix_logv_beta=True,\n",
    "        fix_logv_tau=True,\n",
    "        fix_delta_mu=True,\n",
    "        fix_delta_a=True,\n",
    "        fix_eta=True,\n",
    "        scale_logv_alpha=scale_logv_alpha,\n",
    "        scale_logv_beta=scale_logv_beta,\n",
    "        scale_logv_tau=scale_logv_tau,\n",
    "        scale_delta_mu=scale_delta_mu,\n",
    "        scale_delta_a=scale_delta_a,\n",
    "        scale_eta_on_dt=scale_eta / dt,\n",
    "    )[0]\n",
    ")(delta_a)\n",
    "\n",
    "np.stack((grad_delta_a_tdnll, grad_delta_a_nd)).T"
   ]
  },
  {
   "cell_type": "code",
   "execution_count": null,
   "id": "ac9ba18cec5bed7c",
   "metadata": {
    "ExecuteTime": {
     "end_time": "2024-06-11T21:28:04.425900Z",
     "start_time": "2024-06-11T21:28:04.325158Z"
    }
   },
   "outputs": [],
   "source": [
    "plt.plot(grad_delta_a_tdnll)\n",
    "plt.plot(grad_delta_a_nd)\n",
    "plt.show()\n",
    "plt.plot(grad_delta_a_tdnll - grad_delta_a_nd)\n",
    "plt.show()"
   ]
  },
  {
   "cell_type": "code",
   "execution_count": null,
   "id": "340e8a4843e9d0a5",
   "metadata": {
    "ExecuteTime": {
     "end_time": "2024-06-11T21:28:05.447348Z",
     "start_time": "2024-06-11T21:28:04.427381Z"
    }
   },
   "outputs": [],
   "source": [
    "_, grad_eta_tdnll = costfun(\n",
    "    x,\n",
    "    logv_scaled[0],\n",
    "    logv_scaled[1],\n",
    "    logv_scaled[2],\n",
    "    delta_mu / scale_delta_mu,\n",
    "    delta_a / scale_delta_a,\n",
    "    eta / scale_eta,\n",
    "    fix_logv_alpha=True,\n",
    "    fix_logv_beta=True,\n",
    "    fix_logv_tau=True,\n",
    "    fix_delta_mu=True,\n",
    "    fix_delta_a=True,\n",
    "    fix_eta=False,\n",
    "    scale_logv_alpha=scale_logv_alpha,\n",
    "    scale_logv_beta=scale_logv_beta,\n",
    "    scale_logv_tau=scale_logv_tau,\n",
    "    scale_delta_mu=scale_delta_mu,\n",
    "    scale_delta_a=scale_delta_a,\n",
    "    scale_eta_on_dt=scale_eta / dt,\n",
    ")\n",
    "\n",
    "grad_eta_nd = nd.Gradient(\n",
    "    lambda _eta_scaled: costfun(\n",
    "        x,\n",
    "        logv_scaled[0],\n",
    "        logv_scaled[1],\n",
    "        logv_scaled[2],\n",
    "        delta_mu / scale_delta_mu,\n",
    "        delta_a / scale_delta_a,\n",
    "        _eta_scaled,\n",
    "        fix_logv_alpha=True,\n",
    "        fix_logv_beta=True,\n",
    "        fix_logv_tau=True,\n",
    "        fix_delta_mu=True,\n",
    "        fix_delta_a=True,\n",
    "        fix_eta=True,\n",
    "        scale_logv_alpha=scale_logv_alpha,\n",
    "        scale_logv_beta=scale_logv_beta,\n",
    "        scale_logv_tau=scale_logv_tau,\n",
    "        scale_delta_mu=scale_delta_mu,\n",
    "        scale_delta_a=scale_delta_a,\n",
    "        scale_eta_on_dt=scale_eta / dt,\n",
    "    )[0]\n",
    ")(eta)\n",
    "\n",
    "np.stack((grad_eta_tdnll, grad_eta_nd)).T"
   ]
  },
  {
   "cell_type": "code",
   "execution_count": null,
   "id": "5ff7d2682663ccff",
   "metadata": {
    "ExecuteTime": {
     "end_time": "2024-06-11T21:28:05.573730Z",
     "start_time": "2024-06-11T21:28:05.448436Z"
    }
   },
   "outputs": [],
   "source": [
    "plt.plot(grad_eta_tdnll)\n",
    "plt.plot(grad_eta_nd)\n",
    "plt.show()\n",
    "plt.plot(grad_eta_tdnll - grad_eta_nd)\n",
    "plt.show()"
   ]
  },
  {
   "cell_type": "code",
   "execution_count": null,
   "id": "511df0c6e9aa5c50",
   "metadata": {
    "ExecuteTime": {
     "end_time": "2024-06-11T21:28:09.740592Z",
     "start_time": "2024-06-11T21:28:05.575162Z"
    }
   },
   "outputs": [],
   "source": [
    "_, grad_all_tdnll = costfun(\n",
    "    x,\n",
    "    logv_scaled[0],\n",
    "    logv_scaled[1],\n",
    "    logv_scaled[2],\n",
    "    delta_mu / scale_delta_mu,\n",
    "    delta_a / scale_delta_a,\n",
    "    eta / scale_eta,\n",
    "    fix_logv_alpha=False,\n",
    "    fix_logv_beta=False,\n",
    "    fix_logv_tau=False,\n",
    "    fix_delta_mu=False,\n",
    "    fix_delta_a=False,\n",
    "    fix_eta=False,\n",
    "    scale_logv_alpha=scale_logv_alpha,\n",
    "    scale_logv_beta=scale_logv_beta,\n",
    "    scale_logv_tau=scale_logv_tau,\n",
    "    scale_delta_mu=scale_delta_mu,\n",
    "    scale_delta_a=scale_delta_a,\n",
    "    scale_eta_on_dt=scale_eta / dt,\n",
    ")\n",
    "\n",
    "p_all = np.concatenate(\n",
    "    (\n",
    "        logv_scaled,\n",
    "        delta_mu / scale_delta_mu,\n",
    "        delta_a / scale_delta_a,\n",
    "        eta / scale_eta,\n",
    "    )\n",
    ")\n",
    "grad_all_nd = nd.Gradient(\n",
    "    lambda _p: costfun(\n",
    "        x,\n",
    "        _p[0],\n",
    "        _p[1],\n",
    "        _p[2],\n",
    "        _p[3 : 3 + n],\n",
    "        _p[3 + n : 3 + n + m - 1],\n",
    "        _p[3 + n + m - 1 : 3 + n + m - 1 + m - 1],\n",
    "        fix_logv_alpha=True,\n",
    "        fix_logv_beta=True,\n",
    "        fix_logv_tau=True,\n",
    "        fix_delta_mu=True,\n",
    "        fix_delta_a=True,\n",
    "        fix_eta=True,\n",
    "        scale_logv_alpha=scale_logv_alpha,\n",
    "        scale_logv_beta=scale_logv_beta,\n",
    "        scale_logv_tau=scale_logv_tau,\n",
    "        scale_delta_mu=scale_delta_mu,\n",
    "        scale_delta_a=scale_delta_a,\n",
    "        scale_eta_on_dt=scale_eta / dt,\n",
    "    )[0]\n",
    ")(p_all)\n",
    "\n",
    "np.stack((grad_all_tdnll, grad_all_nd)).T"
   ]
  },
  {
   "cell_type": "markdown",
   "id": "d905c0f3e7dedba",
   "metadata": {},
   "source": [
    "## Estimate noise parameters with revised NLL"
   ]
  },
  {
   "cell_type": "code",
   "execution_count": null,
   "id": "7cf74dfd1a5fc679",
   "metadata": {
    "ExecuteTime": {
     "end_time": "2024-06-11T21:28:14.183703Z",
     "start_time": "2024-06-11T21:28:09.741320Z"
    }
   },
   "outputs": [],
   "source": [
    "grad_all_opt_nd = nd.Gradient(\n",
    "    lambda _p: costfun(\n",
    "        x,\n",
    "        _p[0],\n",
    "        _p[1],\n",
    "        _p[2],\n",
    "        _p[3 : 3 + n],\n",
    "        _p[3 + n : 3 + n + m - 1],\n",
    "        _p[3 + n + m - 1 : 3 + n + m - 1 + m - 1],\n",
    "        fix_logv_alpha=True,\n",
    "        fix_logv_beta=True,\n",
    "        fix_logv_tau=True,\n",
    "        fix_delta_mu=True,\n",
    "        fix_delta_a=True,\n",
    "        fix_eta=True,\n",
    "        scale_logv_alpha=scale_logv_alpha,\n",
    "        scale_logv_beta=scale_logv_beta,\n",
    "        scale_logv_tau=scale_logv_tau,\n",
    "        scale_delta_mu=scale_delta_mu,\n",
    "        scale_delta_a=scale_delta_a,\n",
    "        scale_eta_on_dt=scale_eta / dt,\n",
    "    )[0]\n",
    ")(p_opt)"
   ]
  },
  {
   "cell_type": "code",
   "execution_count": null,
   "id": "2461337648eae5fa",
   "metadata": {
    "ExecuteTime": {
     "end_time": "2024-06-11T21:28:14.316945Z",
     "start_time": "2024-06-11T21:28:14.184380Z"
    }
   },
   "outputs": [],
   "source": [
    "plt.plot(result.diagnostic[\"jac\"])\n",
    "plt.plot(grad_all_opt_nd)\n",
    "plt.show()\n",
    "\n",
    "plt.plot(result.diagnostic[\"jac\"] - grad_all_opt_nd)\n",
    "plt.show()"
   ]
  },
  {
   "cell_type": "code",
   "execution_count": null,
   "id": "9fbe795d084c20db",
   "metadata": {
    "ExecuteTime": {
     "end_time": "2024-06-11T21:28:14.466327Z",
     "start_time": "2024-06-11T21:28:14.318078Z"
    }
   },
   "outputs": [],
   "source": [
    "plt.semilogy(np.diag(result.diagnostic[\"hess_inv\"]))\n",
    "plt.show()"
   ]
  },
  {
   "cell_type": "code",
   "execution_count": null,
   "id": "abf3cc0cdb77a411",
   "metadata": {
    "ExecuteTime": {
     "end_time": "2024-06-11T21:28:14.472612Z",
     "start_time": "2024-06-11T21:28:14.468112Z"
    }
   },
   "outputs": [],
   "source": [
    "np.diag(result.diagnostic.hess_inv[:3, :3])"
   ]
  },
  {
   "cell_type": "markdown",
   "id": "23145b3664fb0ce5",
   "metadata": {},
   "source": [
    "$M = 64, N = 256$: array([4.02152611e+00, 1.25599933e+03, 1.00000000e+00])\n",
    "\n",
    "$M = 32, N = 256$: array([0.00033427, 0.00142627, 0.01256625])"
   ]
  },
  {
   "cell_type": "code",
   "execution_count": null,
   "id": "5296ea4bea37a091",
   "metadata": {
    "ExecuteTime": {
     "end_time": "2024-06-11T21:28:14.477511Z",
     "start_time": "2024-06-11T21:28:14.473817Z"
    }
   },
   "outputs": [],
   "source": [
    "1 / (\n",
    "    (m / 2)\n",
    "    * sigma_alpha**2\n",
    "    * np.sum(((x - mu) ** 2 - np.var(x, axis=0)) / np.var(x, axis=0) ** 2)\n",
    ")"
   ]
  },
  {
   "cell_type": "code",
   "execution_count": null,
   "id": "7f10c71672cf875c",
   "metadata": {
    "ExecuteTime": {
     "end_time": "2024-06-11T21:28:14.483223Z",
     "start_time": "2024-06-11T21:28:14.478907Z"
    }
   },
   "outputs": [],
   "source": [
    "1 / (\n",
    "    (m / 2)\n",
    "    * sigma_beta**2\n",
    "    * np.sum(\n",
    "        mu**2 * ((x - mu) ** 2 - np.var(x, axis=0)) / np.var(x, axis=0) ** 2\n",
    "    )\n",
    ")"
   ]
  },
  {
   "cell_type": "code",
   "execution_count": null,
   "id": "6cc11ec959ce86a8",
   "metadata": {
    "ExecuteTime": {
     "end_time": "2024-06-11T21:28:14.487229Z",
     "start_time": "2024-06-11T21:28:14.484581Z"
    }
   },
   "outputs": [],
   "source": [
    "mu_f = np.fft.rfft(mu)\n",
    "w = 2 * np.pi * np.fft.rfftfreq(n, dt)\n",
    "dmu_dt = np.fft.irfft(1j * w * mu_f, n=n)"
   ]
  },
  {
   "cell_type": "code",
   "execution_count": null,
   "id": "ebebcc26ce92340e",
   "metadata": {
    "ExecuteTime": {
     "end_time": "2024-06-11T21:28:14.493134Z",
     "start_time": "2024-06-11T21:28:14.489391Z"
    }
   },
   "outputs": [],
   "source": [
    "1 / (\n",
    "    (m / 2)\n",
    "    * sigma_tau**2\n",
    "    * np.sum(\n",
    "        dmu_dt**2\n",
    "        * ((x - mu) ** 2 - np.var(x, axis=0))\n",
    "        / np.var(x, axis=0) ** 2\n",
    "    )\n",
    ")"
   ]
  }
 ],
 "metadata": {
  "kernelspec": {
   "display_name": "Python 3",
   "language": "python",
   "name": "python3"
  },
  "language_info": {
   "codemirror_mode": {
    "name": "ipython",
    "version": 2
   },
   "file_extension": ".py",
   "mimetype": "text/x-python",
   "name": "python",
   "nbconvert_exporter": "python",
   "pygments_lexer": "ipython2",
   "version": "2.7.6"
  }
 },
 "nbformat": 4,
 "nbformat_minor": 5
}
