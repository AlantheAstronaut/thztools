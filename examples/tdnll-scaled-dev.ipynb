{
 "cells": [
  {
   "cell_type": "markdown",
   "source": [
    "# Develop negative log-likelihood with scaled inputs"
   ],
   "metadata": {
    "collapsed": false
   },
   "id": "1b68c9725c753a51"
  },
  {
   "cell_type": "code",
   "execution_count": null,
   "outputs": [],
   "source": [
    "from __future__ import annotations\n",
    "\n",
    "import numdifftools as nd\n",
    "import numpy as np\n",
    "\n",
    "from numpy.typing import ArrayLike\n",
    "from scipy.fft import rfft, irfft, rfftfreq\n",
    "from scipy.optimize import minimize\n",
    "from matplotlib import pyplot as plt\n",
    "from matplotlib.figure import figaspect\n",
    "from scipy.optimize import approx_fprime\n",
    "from numpy.random import default_rng\n",
    "\n",
    "import thztools as thz\n",
    "from thztools.thztools import _tdnll_scaled as tdnll_scaled"
   ],
   "metadata": {
    "collapsed": false
   },
   "id": "416f6fcfaf869f9d"
  },
  {
   "cell_type": "markdown",
   "source": [
    "## Simulate measurements"
   ],
   "metadata": {
    "collapsed": false
   },
   "id": "6faafd5a43453c9c"
  },
  {
   "cell_type": "code",
   "execution_count": null,
   "outputs": [],
   "source": [
    "rng = np.random.default_rng(0)\n",
    "n = 256\n",
    "m = 64\n",
    "ts = 0.05\n",
    "t = np.arange(n) * ts\n",
    "mu, _ = thz.thzgen(n, ts=ts, t0=n * ts / 3)\n",
    "sigma = np.array([1e-5, 1e-2, 1e-3])\n",
    "noise = thz.noiseamp(sigma, mu, ts) * rng.standard_normal((m, n))\n",
    "x = np.array(mu + noise)\n",
    "delta = np.zeros(n)\n",
    "alpha = np.zeros(m - 1)\n",
    "eta = np.zeros(m - 1)\n",
    "\n",
    "logv = np.log(sigma**2)\n",
    "scale_logv = 1e-1 * np.ones(3)\n",
    "scale_delta = 1e-1 * thz.noiseamp(sigma, mu, ts)\n",
    "scale_alpha = 1e-1 * np.ones(m - 1)\n",
    "scale_eta = 1e-2 * np.ones(m - 1)\n",
    "scale_v = 1.0e-2"
   ],
   "metadata": {
    "collapsed": false
   },
   "id": "6bc9be6f87caaf9f"
  },
  {
   "cell_type": "markdown",
   "source": [
    "## Check gradient"
   ],
   "metadata": {
    "collapsed": false
   },
   "id": "39d28b3fdac152cf"
  },
  {
   "cell_type": "code",
   "execution_count": null,
   "outputs": [],
   "source": [
    "_, grad_delta_tdnll = tdnll_scaled(\n",
    "    x,\n",
    "    logv,\n",
    "    delta,\n",
    "    alpha,\n",
    "    eta,\n",
    "    ts,\n",
    "    fix_logv=True,\n",
    "    fix_delta=False,\n",
    "    fix_alpha=True,\n",
    "    fix_eta=True,\n",
    "    scale_logv=np.ones(3),\n",
    "    scale_delta=np.ones(n),\n",
    "    scale_alpha=np.ones(m - 1),\n",
    "    scale_eta=np.ones(m - 1),\n",
    "    scale_v=1.0,\n",
    ")\n",
    "\n",
    "_, grad_delta_tdnll_scaled = tdnll_scaled(\n",
    "    x,\n",
    "    np.log(np.exp(logv) / scale_v) / scale_logv,\n",
    "    delta / scale_delta,\n",
    "    alpha,\n",
    "    eta,\n",
    "    ts,\n",
    "    fix_logv=True,\n",
    "    fix_delta=False,\n",
    "    fix_alpha=True,\n",
    "    fix_eta=True,\n",
    "    scale_logv=scale_logv,\n",
    "    scale_delta=scale_delta,\n",
    "    scale_alpha=np.ones(m - 1),\n",
    "    scale_eta=np.ones(m - 1),\n",
    "    scale_v=scale_v,\n",
    ")\n",
    "\n",
    "grad_delta_nd = nd.Gradient(\n",
    "    lambda _delta: tdnll_scaled(\n",
    "        x,\n",
    "        np.log(np.exp(logv) / scale_v),\n",
    "        _delta,\n",
    "        alpha,\n",
    "        eta,\n",
    "        ts,\n",
    "        fix_logv=True,\n",
    "        fix_delta=True,\n",
    "        fix_alpha=True,\n",
    "        fix_eta=True,\n",
    "        scale_logv=np.ones(3),\n",
    "        scale_delta=np.ones(n),\n",
    "        scale_alpha=np.ones(m - 1),\n",
    "        scale_eta=np.ones(m - 1),\n",
    "        scale_v=scale_v,\n",
    "    )[0],\n",
    "    step=1e-6,\n",
    ")(delta)\n",
    "\n",
    "np.stack(\n",
    "    (\n",
    "        grad_delta_tdnll,\n",
    "        grad_delta_tdnll_scaled / scale_v / scale_delta,\n",
    "        grad_delta_nd / scale_v,\n",
    "    )\n",
    ").T"
   ],
   "metadata": {
    "collapsed": false
   },
   "id": "e626769313b54ca5"
  },
  {
   "cell_type": "code",
   "execution_count": null,
   "outputs": [],
   "source": [
    "plt.plot(t, grad_delta_tdnll)\n",
    "plt.plot(t, grad_delta_tdnll_scaled / scale_v / scale_delta)\n",
    "plt.show()\n",
    "plt.plot(t, grad_delta_tdnll - grad_delta_tdnll_scaled / scale_v / scale_delta)\n",
    "plt.show()"
   ],
   "metadata": {
    "collapsed": false
   },
   "id": "b4550f1fd812049"
  },
  {
   "cell_type": "code",
   "execution_count": null,
   "outputs": [],
   "source": [
    "val, grad_logv_tdnll = tdnll_scaled(\n",
    "    x,\n",
    "    logv,\n",
    "    delta,\n",
    "    alpha,\n",
    "    eta,\n",
    "    ts,\n",
    "    fix_logv=False,\n",
    "    fix_delta=True,\n",
    "    fix_alpha=True,\n",
    "    fix_eta=True,\n",
    "    scale_logv=np.ones(3),\n",
    "    scale_delta=scale_delta,\n",
    "    scale_alpha=np.ones(m - 1),\n",
    "    scale_eta=np.ones(m - 1),\n",
    "    scale_v=1.0,\n",
    ")\n",
    "\n",
    "val_scaled_v, grad_logv_tdnll_scaled_v = tdnll_scaled(\n",
    "    x,\n",
    "    np.log(np.exp(logv) / scale_v),\n",
    "    delta,\n",
    "    alpha,\n",
    "    eta,\n",
    "    ts,\n",
    "    fix_logv=False,\n",
    "    fix_delta=True,\n",
    "    fix_alpha=True,\n",
    "    fix_eta=True,\n",
    "    scale_logv=np.ones(3),\n",
    "    scale_delta=scale_delta,\n",
    "    scale_alpha=np.ones(m - 1),\n",
    "    scale_eta=np.ones(m - 1),\n",
    "    scale_v=scale_v,\n",
    ")\n",
    "\n",
    "val_scaled, grad_logv_tdnll_scaled = tdnll_scaled(\n",
    "    x,\n",
    "    np.log(np.exp(logv) / scale_v) / scale_logv,\n",
    "    delta,\n",
    "    alpha,\n",
    "    eta,\n",
    "    ts,\n",
    "    fix_logv=False,\n",
    "    fix_delta=True,\n",
    "    fix_alpha=True,\n",
    "    fix_eta=True,\n",
    "    scale_logv=scale_logv,\n",
    "    scale_delta=scale_delta,\n",
    "    scale_alpha=np.ones(m - 1),\n",
    "    scale_eta=np.ones(m - 1),\n",
    "    scale_v=scale_v,\n",
    ")\n",
    "\n",
    "grad_logv_nd = nd.Gradient(\n",
    "    lambda _logv: tdnll_scaled(\n",
    "        x,\n",
    "        np.log(np.exp(_logv) / scale_v) / scale_logv,\n",
    "        delta,\n",
    "        alpha,\n",
    "        eta,\n",
    "        ts,\n",
    "        fix_logv=True,\n",
    "        fix_delta=True,\n",
    "        fix_alpha=True,\n",
    "        fix_eta=True,\n",
    "        scale_logv=scale_logv,\n",
    "        scale_delta=scale_delta,\n",
    "        scale_alpha=np.ones(m - 1),\n",
    "        scale_eta=np.ones(m - 1),\n",
    "        scale_v=scale_v,\n",
    "    )[0]\n",
    ")(logv)\n",
    "\n",
    "print(f\"{val =}\")\n",
    "print(f\"{val_scaled_v / scale_v =}\")\n",
    "print(f\"{val_scaled / scale_v =}\")\n",
    "np.stack(\n",
    "    (\n",
    "        grad_logv_tdnll,\n",
    "        grad_logv_tdnll_scaled_v,\n",
    "        grad_logv_tdnll_scaled / scale_logv,\n",
    "        grad_logv_nd,\n",
    "    )\n",
    ").T"
   ],
   "metadata": {
    "collapsed": false
   },
   "id": "26b4830fe79ebc8"
  },
  {
   "cell_type": "code",
   "execution_count": null,
   "outputs": [],
   "source": [
    "_, grad_alpha_tdnll = tdnll_scaled(\n",
    "    x,\n",
    "    logv,\n",
    "    delta,\n",
    "    alpha,\n",
    "    eta,\n",
    "    ts,\n",
    "    fix_logv=True,\n",
    "    fix_delta=True,\n",
    "    fix_alpha=False,\n",
    "    fix_eta=True,\n",
    "    scale_logv=np.ones(3),\n",
    "    scale_delta=scale_delta,\n",
    "    scale_alpha=np.ones(m - 1),\n",
    "    scale_eta=np.ones(m - 1),\n",
    "    scale_v=scale_v,\n",
    ")\n",
    "\n",
    "grad_alpha_nd = nd.Gradient(\n",
    "    lambda _alpha: tdnll_scaled(\n",
    "        x,\n",
    "        logv,\n",
    "        delta,\n",
    "        _alpha,\n",
    "        eta,\n",
    "        ts,\n",
    "        fix_logv=True,\n",
    "        fix_delta=True,\n",
    "        fix_alpha=True,\n",
    "        fix_eta=True,\n",
    "        scale_logv=np.ones(3),\n",
    "        scale_delta=scale_delta,\n",
    "        scale_alpha=np.ones(m - 1),\n",
    "        scale_eta=np.ones(m - 1),\n",
    "        scale_v=scale_v,\n",
    "    )[0]\n",
    ")(alpha)\n",
    "\n",
    "np.stack((grad_alpha_tdnll, grad_alpha_nd)).T"
   ],
   "metadata": {
    "collapsed": false
   },
   "id": "5136dc2abb3fcd50"
  },
  {
   "cell_type": "code",
   "execution_count": null,
   "outputs": [],
   "source": [
    "_, grad_eta_tdnll = tdnll_scaled(\n",
    "    x,\n",
    "    logv,\n",
    "    delta,\n",
    "    alpha,\n",
    "    eta,\n",
    "    ts,\n",
    "    fix_logv=True,\n",
    "    fix_delta=True,\n",
    "    fix_alpha=True,\n",
    "    fix_eta=False,\n",
    "    scale_logv=np.ones(3),\n",
    "    scale_delta=scale_delta,\n",
    "    scale_alpha=np.ones(m - 1),\n",
    "    scale_eta=np.ones(m - 1),\n",
    "    scale_v=scale_v,\n",
    ")\n",
    "\n",
    "grad_eta_nd = nd.Gradient(\n",
    "    lambda _eta: tdnll_scaled(\n",
    "        x,\n",
    "        logv,\n",
    "        delta,\n",
    "        alpha,\n",
    "        _eta,\n",
    "        ts,\n",
    "        fix_logv=True,\n",
    "        fix_delta=True,\n",
    "        fix_alpha=True,\n",
    "        fix_eta=True,\n",
    "        scale_logv=np.ones(3),\n",
    "        scale_delta=scale_delta,\n",
    "        scale_alpha=np.ones(m - 1),\n",
    "        scale_eta=np.ones(m - 1),\n",
    "        scale_v=scale_v,\n",
    "    )[0]\n",
    ")(eta)\n",
    "\n",
    "np.stack((grad_eta_tdnll, grad_eta_nd)).T"
   ],
   "metadata": {
    "collapsed": false
   },
   "id": "340e8a4843e9d0a5"
  },
  {
   "cell_type": "markdown",
   "source": [
    "## Estimate noise parameters with revised NLL"
   ],
   "metadata": {
    "collapsed": false
   },
   "id": "d905c0f3e7dedba"
  },
  {
   "cell_type": "code",
   "execution_count": null,
   "outputs": [],
   "source": [
    "result = thz.tdnoisefit(x.T, v0=sigma**2, ts=ts, fix_a=False, fix_eta=False)"
   ],
   "metadata": {
    "collapsed": false
   },
   "id": "dc0d1efd00bb35d7"
  },
  {
   "cell_type": "code",
   "execution_count": null,
   "outputs": [],
   "source": [
    "print(result[2][\"message\"])"
   ],
   "metadata": {
    "collapsed": false
   },
   "id": "445f8f0c1a609ac3"
  },
  {
   "cell_type": "code",
   "execution_count": null,
   "outputs": [],
   "source": [
    "var_out = result[0][\"var\"] * m / (m - 1)\n",
    "var_err = result[2][\"err\"][\"var\"] * m / (m - 1)\n",
    "for val_in, val_out, err in zip(sigma**2, var_out, var_err):\n",
    "    print(f\"Input: {val_in:6.4g}\\t Output: {val_out:6.4g} ± {err:6.4g}\")"
   ],
   "metadata": {
    "collapsed": false
   },
   "id": "24c887e71ac696f6"
  },
  {
   "cell_type": "code",
   "execution_count": null,
   "outputs": [],
   "source": [
    "plt.plot(result[2][\"grad_scaled\"])\n",
    "plt.show()"
   ],
   "metadata": {
    "collapsed": false
   },
   "id": "2461337648eae5fa"
  },
  {
   "cell_type": "code",
   "execution_count": null,
   "outputs": [],
   "source": [
    "plt.semilogy(np.diag(result[2][\"hess_inv_scaled\"]))\n",
    "plt.show()"
   ],
   "metadata": {
    "collapsed": false
   },
   "id": "9fbe795d084c20db"
  },
  {
   "cell_type": "code",
   "execution_count": null,
   "outputs": [],
   "source": [
    "np.diag(result[2][\"hess_inv_scaled\"][:3, :3])"
   ],
   "metadata": {
    "collapsed": false
   },
   "id": "d69c3719ad1e9a4a"
  },
  {
   "cell_type": "code",
   "execution_count": null,
   "outputs": [],
   "source": [
    "plt.plot(t, np.log10(np.diag(result[2][\"hess_inv_scaled\"])[3 : 3 + n]))\n",
    "plt.plot(t, mu)\n",
    "plt.show()"
   ],
   "metadata": {
    "collapsed": false
   },
   "id": "f75beb5c4868ea14"
  },
  {
   "cell_type": "code",
   "execution_count": null,
   "outputs": [],
   "source": [
    "plt.plot(t, result[2][\"err\"][\"delta\"] * np.sqrt(m))\n",
    "plt.plot(t, thz.noiseamp(np.sqrt(result[0][\"var\"]), result[0][\"mu\"], ts))\n",
    "plt.show()"
   ],
   "metadata": {
    "collapsed": false
   },
   "id": "f8565beffa655791"
  },
  {
   "cell_type": "markdown",
   "source": [
    "## Repeat fit with amplitudes and delays fixed"
   ],
   "metadata": {
    "collapsed": false
   },
   "id": "7ca6053d2aa96157"
  },
  {
   "cell_type": "code",
   "execution_count": null,
   "outputs": [],
   "source": [
    "result = thz.tdnoisefit(x.T, v0=sigma**2, ts=ts, fix_a=True, fix_eta=True)\n",
    "print(result[2][\"message\"])"
   ],
   "metadata": {
    "collapsed": false
   },
   "id": "460ada6a325cdef8"
  },
  {
   "cell_type": "code",
   "execution_count": null,
   "outputs": [],
   "source": [
    "var_out = result[0][\"var\"] * m / (m - 1)\n",
    "var_err = result[2][\"err\"][\"var\"] * m / (m - 1)\n",
    "for val_in, val_out, err in zip(sigma**2, var_out, var_err):\n",
    "    print(f\"Input: {val_in:6.4g}\\t Output: {val_out:6.4g} ± {err:6.4g}\")"
   ],
   "metadata": {
    "collapsed": false
   },
   "id": "b209ca09ceff8cd2"
  },
  {
   "cell_type": "code",
   "execution_count": null,
   "outputs": [],
   "source": [
    "plt.plot(t, result[2][\"err\"][\"delta\"] * np.sqrt(m))\n",
    "plt.plot(t, thz.noiseamp(np.sqrt(result[0][\"var\"]), result[0][\"mu\"], ts))\n",
    "plt.plot(t, np.std(x, axis=0))\n",
    "plt.show()"
   ],
   "metadata": {
    "collapsed": false
   },
   "id": "e8e7a5403d19035b"
  }
 ],
 "metadata": {
  "kernelspec": {
   "display_name": "Python 3",
   "language": "python",
   "name": "python3"
  },
  "language_info": {
   "codemirror_mode": {
    "name": "ipython",
    "version": 2
   },
   "file_extension": ".py",
   "mimetype": "text/x-python",
   "name": "python",
   "nbconvert_exporter": "python",
   "pygments_lexer": "ipython2",
   "version": "2.7.6"
  }
 },
 "nbformat": 4,
 "nbformat_minor": 5
}
