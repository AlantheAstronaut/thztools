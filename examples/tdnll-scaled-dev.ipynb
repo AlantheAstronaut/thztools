{
 "cells": [
  {
   "cell_type": "markdown",
   "id": "1b68c9725c753a51",
   "metadata": {
    "collapsed": false
   },
   "source": [
    "# Develop negative log-likelihood with scaled inputs"
   ]
  },
  {
   "cell_type": "code",
   "execution_count": null,
   "id": "416f6fcfaf869f9d",
   "metadata": {
    "ExecuteTime": {
     "end_time": "2024-06-09T06:58:06.176350Z",
     "start_time": "2024-06-09T06:58:05.407417Z"
    }
   },
   "outputs": [],
   "source": [
    "from __future__ import annotations\n",
    "\n",
    "import numdifftools as nd\n",
    "import numpy as np\n",
    "\n",
    "from numpy.typing import ArrayLike\n",
    "from scipy.fft import rfft, irfft, rfftfreq\n",
    "from scipy.optimize import minimize\n",
    "from matplotlib import pyplot as plt\n",
    "from matplotlib.figure import figaspect\n",
    "from scipy.optimize import approx_fprime\n",
    "from numpy.random import default_rng\n",
    "\n",
    "import thztools as thz\n",
    "from thztools.thztools import _costfun_noisefit as costfun"
   ]
  },
  {
   "cell_type": "markdown",
   "id": "6faafd5a43453c9c",
   "metadata": {
    "collapsed": false
   },
   "source": [
    "## Simulate measurements"
   ]
  },
  {
   "cell_type": "code",
   "execution_count": null,
   "id": "6bc9be6f87caaf9f",
   "metadata": {
    "ExecuteTime": {
     "end_time": "2024-06-09T06:58:06.182437Z",
     "start_time": "2024-06-09T06:58:06.178274Z"
    }
   },
   "outputs": [],
   "source": [
    "rng = np.random.default_rng(0)\n",
    "n = 256\n",
    "m = 64\n",
    "dt = 0.05\n",
    "thz.set_option(\"sampling_time\", dt)\n",
    "t = thz.timebase(n)\n",
    "mu = thz.wave(n)\n",
    "sigma_alpha, sigma_beta, sigma_tau = 1e-5, 1e-2, 1e-3\n",
    "noise_model = thz.NoiseModel(\n",
    "    sigma_alpha=sigma_alpha, sigma_beta=sigma_beta, sigma_tau=sigma_tau\n",
    ")\n",
    "noise = noise_model.noise_sim((np.ones((m, 1)) * mu), seed=0)\n",
    "x = np.array(mu + noise)\n",
    "delta_mu = np.zeros(n)\n",
    "delta_a = np.zeros(m - 1)\n",
    "eta = np.zeros(m - 1)\n",
    "\n",
    "scale_sigma_alpha = noise_model.sigma_alpha\n",
    "scale_sigma_beta = noise_model.sigma_beta\n",
    "scale_sigma_tau = noise_model.sigma_tau\n",
    "scale_delta_mu = 1e-0 * noise_model.noise_amp(mu)\n",
    "scale_delta_a = 1e-4 * np.ones(m - 1)\n",
    "scale_eta = 1e-3 * np.ones(m - 1)\n",
    "\n",
    "logv_scaled = np.array(\n",
    "    [\n",
    "        np.log((sigma_alpha / scale_sigma_alpha)**2), \n",
    "        np.log((sigma_beta / scale_sigma_beta)**2),\n",
    "        np.log((sigma_tau / scale_sigma_tau)**2),\n",
    "    ]\n",
    ")"
   ]
  },
  {
   "cell_type": "markdown",
   "id": "39d28b3fdac152cf",
   "metadata": {},
   "source": [
    "## Check gradient"
   ]
  },
  {
   "cell_type": "code",
   "execution_count": null,
   "id": "e626769313b54ca5",
   "metadata": {
    "ExecuteTime": {
     "end_time": "2024-06-09T06:58:08.406117Z",
     "start_time": "2024-06-09T06:58:06.183043Z"
    }
   },
   "outputs": [],
   "source": [
    "_, grad_delta_mu_tdnll = costfun(\n",
    "    x,\n",
    "    logv_scaled[0],\n",
    "    logv_scaled[1],\n",
    "    logv_scaled[2],\n",
    "    delta_mu / scale_delta_mu,\n",
    "    delta_a / scale_delta_a,\n",
    "    eta / scale_eta,\n",
    "    fix_logv_alpha=True,\n",
    "    fix_logv_beta=True,\n",
    "    fix_logv_tau=True,\n",
    "    fix_delta_mu=False,\n",
    "    fix_delta_a=True,\n",
    "    fix_eta=True,\n",
    "    scale_sigma_alpha=scale_sigma_alpha,\n",
    "    scale_sigma_beta=scale_sigma_beta,\n",
    "    scale_sigma_tau=scale_sigma_tau / dt,\n",
    "    scale_delta_mu=scale_delta_mu,\n",
    "    scale_delta_a=scale_delta_a,\n",
    "    scale_eta=scale_eta / dt,\n",
    ")\n",
    "\n",
    "grad_delta_mu_nd = nd.Gradient(\n",
    "    lambda _delta_mu: costfun(\n",
    "        x,\n",
    "        logv_scaled[0],\n",
    "        logv_scaled[1],\n",
    "        logv_scaled[2],\n",
    "        _delta_mu,\n",
    "        delta_a / scale_delta_a,\n",
    "        eta / scale_eta,\n",
    "        fix_logv_alpha=True,\n",
    "        fix_logv_beta=True,\n",
    "        fix_logv_tau=True,\n",
    "        fix_delta_mu=True,\n",
    "        fix_delta_a=True,\n",
    "        fix_eta=True,\n",
    "        scale_sigma_alpha=scale_sigma_alpha,\n",
    "        scale_sigma_beta=scale_sigma_beta,\n",
    "        scale_sigma_tau=scale_sigma_tau / dt,\n",
    "        scale_delta_mu=scale_delta_mu,\n",
    "        scale_delta_a=scale_delta_a,\n",
    "        scale_eta=scale_eta / dt,\n",
    "    )[0],\n",
    ")(delta_mu / scale_delta_mu)\n",
    "\n",
    "np.stack(\n",
    "    (\n",
    "        grad_delta_mu_tdnll,\n",
    "        grad_delta_mu_nd,\n",
    "    )\n",
    ").T"
   ]
  },
  {
   "cell_type": "code",
   "execution_count": null,
   "id": "b4550f1fd812049",
   "metadata": {
    "ExecuteTime": {
     "end_time": "2024-06-09T06:58:08.526705Z",
     "start_time": "2024-06-09T06:58:08.407460Z"
    }
   },
   "outputs": [],
   "source": [
    "plt.plot(t, grad_delta_mu_tdnll)\n",
    "plt.plot(t, grad_delta_mu_nd)\n",
    "plt.show()\n",
    "plt.plot(t, grad_delta_mu_tdnll - grad_delta_mu_nd)\n",
    "plt.show()"
   ]
  },
  {
   "cell_type": "code",
   "execution_count": null,
   "id": "26b4830fe79ebc8",
   "metadata": {
    "ExecuteTime": {
     "end_time": "2024-06-09T06:58:08.562795Z",
     "start_time": "2024-06-09T06:58:08.528141Z"
    }
   },
   "outputs": [],
   "source": [
    "_, grad_logv_tdnll = costfun(\n",
    "    x,\n",
    "    logv_scaled[0],\n",
    "    logv_scaled[1],\n",
    "    logv_scaled[2],\n",
    "    delta_mu / scale_delta_mu,\n",
    "    delta_a / scale_delta_a,\n",
    "    eta / scale_eta,\n",
    "    fix_logv_alpha=False,\n",
    "    fix_logv_beta=False,\n",
    "    fix_logv_tau=False,\n",
    "    fix_delta_mu=True,\n",
    "    fix_delta_a=True,\n",
    "    fix_eta=True,\n",
    "    scale_sigma_alpha=scale_sigma_alpha,\n",
    "    scale_sigma_beta=scale_sigma_beta,\n",
    "    scale_sigma_tau=scale_sigma_tau / dt,\n",
    "    scale_delta_mu=scale_delta_mu,\n",
    "    scale_delta_a=scale_delta_a,\n",
    "    scale_eta=scale_eta / dt,\n",
    ")\n",
    "\n",
    "grad_logv_nd = nd.Gradient(\n",
    "    lambda _logv: costfun(\n",
    "        x,\n",
    "        _logv[0],\n",
    "        _logv[1],\n",
    "        _logv[2],\n",
    "        delta_mu / scale_delta_mu,\n",
    "        delta_a / scale_delta_a,\n",
    "        eta / scale_eta,\n",
    "        fix_logv_alpha=True,\n",
    "        fix_logv_beta=True,\n",
    "        fix_logv_tau=True,\n",
    "        fix_delta_mu=True,\n",
    "        fix_delta_a=True,\n",
    "        fix_eta=True,\n",
    "        scale_sigma_alpha=scale_sigma_alpha,\n",
    "        scale_sigma_beta=scale_sigma_beta,\n",
    "        scale_sigma_tau=scale_sigma_tau / dt,\n",
    "        scale_delta_mu=scale_delta_mu,\n",
    "        scale_delta_a=scale_delta_a,\n",
    "        scale_eta=scale_eta / dt,\n",
    "    )[0]\n",
    ")(logv_scaled)\n",
    "\n",
    "np.stack(\n",
    "    (\n",
    "        grad_logv_tdnll,\n",
    "        grad_logv_nd,\n",
    "    )\n",
    ").T"
   ]
  },
  {
   "cell_type": "code",
   "execution_count": null,
   "id": "5136dc2abb3fcd50",
   "metadata": {
    "ExecuteTime": {
     "end_time": "2024-06-09T06:58:09.107417Z",
     "start_time": "2024-06-09T06:58:08.563416Z"
    }
   },
   "outputs": [],
   "source": [
    "_, grad_delta_a_tdnll = costfun(\n",
    "    x,\n",
    "    logv_scaled[0],\n",
    "    logv_scaled[1],\n",
    "    logv_scaled[2],\n",
    "    delta_mu / scale_delta_mu,\n",
    "    delta_a / scale_delta_a,\n",
    "    eta / scale_eta,\n",
    "    fix_logv_alpha=True,\n",
    "    fix_logv_beta=True,\n",
    "    fix_logv_tau=True,\n",
    "    fix_delta_mu=True,\n",
    "    fix_delta_a=False,\n",
    "    fix_eta=True,\n",
    "    scale_sigma_alpha=scale_sigma_alpha,\n",
    "    scale_sigma_beta=scale_sigma_beta,\n",
    "    scale_sigma_tau=scale_sigma_tau / dt,\n",
    "    scale_delta_mu=scale_delta_mu,\n",
    "    scale_delta_a=scale_delta_a,\n",
    "    scale_eta=scale_eta / dt,\n",
    ")\n",
    "\n",
    "grad_delta_a_nd = nd.Gradient(\n",
    "    lambda _delta_a: costfun(\n",
    "        x,\n",
    "        logv_scaled[0],\n",
    "        logv_scaled[1],\n",
    "        logv_scaled[2],\n",
    "        delta_mu / scale_delta_mu,\n",
    "        _delta_a,\n",
    "        eta / scale_eta,\n",
    "        fix_logv_alpha=True,\n",
    "        fix_logv_beta=True,\n",
    "        fix_logv_tau=True,\n",
    "        fix_delta_mu=True,\n",
    "        fix_delta_a=True,\n",
    "        fix_eta=True,\n",
    "        scale_sigma_alpha=scale_sigma_alpha,\n",
    "        scale_sigma_beta=scale_sigma_beta,\n",
    "        scale_sigma_tau=scale_sigma_tau / dt,\n",
    "        scale_delta_mu=scale_delta_mu,\n",
    "        scale_delta_a=scale_delta_a,\n",
    "        scale_eta=scale_eta / dt,\n",
    "    )[0]\n",
    ")(delta_a)\n",
    "\n",
    "np.stack((grad_delta_a_tdnll, grad_delta_a_nd)).T"
   ]
  },
  {
   "cell_type": "code",
   "execution_count": null,
   "id": "ac9ba18cec5bed7c",
   "metadata": {
    "ExecuteTime": {
     "end_time": "2024-06-09T06:58:09.210549Z",
     "start_time": "2024-06-09T06:58:09.108109Z"
    }
   },
   "outputs": [],
   "source": [
    "plt.plot(grad_delta_a_tdnll)\n",
    "plt.plot(grad_delta_a_nd)\n",
    "plt.show()\n",
    "plt.plot(grad_delta_a_tdnll - grad_delta_a_nd)\n",
    "plt.show()"
   ]
  },
  {
   "cell_type": "code",
   "execution_count": null,
   "id": "340e8a4843e9d0a5",
   "metadata": {
    "ExecuteTime": {
     "end_time": "2024-06-09T06:58:09.813754Z",
     "start_time": "2024-06-09T06:58:09.211371Z"
    }
   },
   "outputs": [],
   "source": [
    "_, grad_eta_tdnll = costfun(\n",
    "    x,\n",
    "    logv_scaled[0],\n",
    "    logv_scaled[1],\n",
    "    logv_scaled[2],\n",
    "    delta_mu / scale_delta_mu,\n",
    "    delta_a / scale_delta_a,\n",
    "    eta / scale_eta,\n",
    "    fix_logv_alpha=True,\n",
    "    fix_logv_beta=True,\n",
    "    fix_logv_tau=True,\n",
    "    fix_delta_mu=True,\n",
    "    fix_delta_a=True,\n",
    "    fix_eta=False,\n",
    "    scale_sigma_alpha=scale_sigma_alpha,\n",
    "    scale_sigma_beta=scale_sigma_beta,\n",
    "    scale_sigma_tau=scale_sigma_tau / dt,\n",
    "    scale_delta_mu=scale_delta_mu,\n",
    "    scale_delta_a=scale_delta_a,\n",
    "    scale_eta=scale_eta / dt,\n",
    ")\n",
    "\n",
    "grad_eta_nd = nd.Gradient(\n",
    "    lambda _eta_scaled: costfun(\n",
    "        x,\n",
    "        logv_scaled[0],\n",
    "        logv_scaled[1],\n",
    "        logv_scaled[2],\n",
    "        delta_mu / scale_delta_mu,\n",
    "        delta_a / scale_delta_a,\n",
    "        _eta_scaled,\n",
    "        fix_logv_alpha=True,\n",
    "        fix_logv_beta=True,\n",
    "        fix_logv_tau=True,\n",
    "        fix_delta_mu=True,\n",
    "        fix_delta_a=True,\n",
    "        fix_eta=True,\n",
    "        scale_sigma_alpha=scale_sigma_alpha,\n",
    "        scale_sigma_beta=scale_sigma_beta,\n",
    "        scale_sigma_tau=scale_sigma_tau / dt,\n",
    "        scale_delta_mu=scale_delta_mu,\n",
    "        scale_delta_a=scale_delta_a,\n",
    "        scale_eta=scale_eta / dt,\n",
    "    )[0]\n",
    ")(eta)\n",
    "\n",
    "np.stack((grad_eta_tdnll, grad_eta_nd)).T"
   ]
  },
  {
   "cell_type": "code",
   "execution_count": null,
   "id": "5ff7d2682663ccff",
   "metadata": {
    "ExecuteTime": {
     "end_time": "2024-06-09T06:58:09.907318Z",
     "start_time": "2024-06-09T06:58:09.814453Z"
    }
   },
   "outputs": [],
   "source": [
    "plt.plot(grad_eta_tdnll)\n",
    "plt.plot(grad_eta_nd)\n",
    "plt.show()\n",
    "plt.plot(grad_eta_tdnll - grad_eta_nd)\n",
    "plt.show()"
   ]
  },
  {
   "cell_type": "markdown",
   "id": "d905c0f3e7dedba",
   "metadata": {
    "collapsed": false
   },
   "source": [
    "## Estimate noise parameters with revised NLL"
   ]
  },
  {
   "cell_type": "code",
   "execution_count": null,
   "id": "dc0d1efd00bb35d7",
   "metadata": {
    "ExecuteTime": {
     "end_time": "2024-06-09T06:58:11.650821Z",
     "start_time": "2024-06-09T06:58:09.910179Z"
    }
   },
   "outputs": [],
   "source": [
    "result = thz.noisefit(\n",
    "    x.T,\n",
    "    sigma_alpha0=sigma_alpha,\n",
    "    sigma_beta0=sigma_beta,\n",
    "    sigma_tau0=sigma_tau,\n",
    "    dt=dt,\n",
    "    fix_a=False,\n",
    "    fix_eta=False,\n",
    ")"
   ]
  },
  {
   "cell_type": "code",
   "execution_count": null,
   "id": "445f8f0c1a609ac3",
   "metadata": {
    "ExecuteTime": {
     "end_time": "2024-06-09T06:58:11.682364Z",
     "start_time": "2024-06-09T06:58:11.652772Z"
    }
   },
   "outputs": [],
   "source": [
    "print(result.diagnostic[\"message\"])"
   ]
  },
  {
   "cell_type": "code",
   "execution_count": null,
   "id": "24c887e71ac696f6",
   "metadata": {
    "ExecuteTime": {
     "end_time": "2024-06-09T06:58:11.720351Z",
     "start_time": "2024-06-09T06:58:11.687410Z"
    }
   },
   "outputs": [],
   "source": [
    "sigma = np.array([sigma_alpha, sigma_beta, sigma_tau])\n",
    "\n",
    "sigma_out = np.array(\n",
    "    [\n",
    "        result.noise_model.sigma_alpha,\n",
    "        result.noise_model.sigma_beta,\n",
    "        result.noise_model.sigma_tau,\n",
    "    ]\n",
    ") * np.sqrt(m / (m - 1))\n",
    "sigma_err = np.sqrt(\n",
    "    np.array(\n",
    "        [result.err_sigma_alpha, result.err_sigma_beta, result.err_sigma_tau]\n",
    "    )\n",
    "    * m\n",
    "    / (m - 1)\n",
    ")\n",
    "for sigma_in, sigma_out, err in zip(sigma, sigma_out, sigma_err):\n",
    "    print(f\"Input: {sigma_in:6.4g}\\t Output: {sigma_out:6.4g} ± {err:6.4g}\")"
   ]
  },
  {
   "cell_type": "code",
   "execution_count": null,
   "id": "2461337648eae5fa",
   "metadata": {
    "ExecuteTime": {
     "end_time": "2024-06-09T06:58:11.836198Z",
     "start_time": "2024-06-09T06:58:11.723970Z"
    }
   },
   "outputs": [],
   "source": [
    "plt.plot(result.diagnostic[\"jac\"])\n",
    "plt.show()"
   ]
  },
  {
   "cell_type": "code",
   "execution_count": null,
   "id": "9fbe795d084c20db",
   "metadata": {
    "ExecuteTime": {
     "end_time": "2024-06-09T06:58:12.029720Z",
     "start_time": "2024-06-09T06:58:11.839186Z"
    }
   },
   "outputs": [],
   "source": [
    "plt.semilogy(np.diag(result.diagnostic[\"hess_inv\"]))\n",
    "plt.show()"
   ]
  },
  {
   "cell_type": "code",
   "execution_count": null,
   "id": "d69c3719ad1e9a4a",
   "metadata": {
    "ExecuteTime": {
     "end_time": "2024-06-09T06:58:12.033985Z",
     "start_time": "2024-06-09T06:58:12.030531Z"
    }
   },
   "outputs": [],
   "source": [
    "np.diag(result.diagnostic[\"hess_inv\"][:3, :3])"
   ]
  },
  {
   "cell_type": "code",
   "execution_count": null,
   "id": "f75beb5c4868ea14",
   "metadata": {
    "ExecuteTime": {
     "end_time": "2024-06-09T06:58:12.084092Z",
     "start_time": "2024-06-09T06:58:12.035129Z"
    }
   },
   "outputs": [],
   "source": [
    "plt.plot(t, np.log10(np.diag(result.diagnostic[\"hess_inv\"])[3 : 3 + n]))\n",
    "plt.plot(t, mu)\n",
    "plt.show()"
   ]
  }
 ],
 "metadata": {
  "kernelspec": {
   "display_name": "Python 3",
   "language": "python",
   "name": "python3"
  },
  "language_info": {
   "codemirror_mode": {
    "name": "ipython",
    "version": 2
   },
   "file_extension": ".py",
   "mimetype": "text/x-python",
   "name": "python",
   "nbconvert_exporter": "python",
   "pygments_lexer": "ipython2",
   "version": "2.7.6"
  }
 },
 "nbformat": 4,
 "nbformat_minor": 5
}
