{
 "cells": [
  {
   "cell_type": "code",
   "execution_count": null,
   "id": "initial_id",
   "metadata": {
    "ExecuteTime": {
     "end_time": "2024-07-02T18:13:53.926582Z",
     "start_time": "2024-07-02T18:13:53.094297Z"
    }
   },
   "outputs": [],
   "source": [
    "import thztools as thz\n",
    "import numpy as np\n",
    "import matplotlib\n",
    "import matplotlib.pyplot as plt\n",
    "import scipy\n",
    "import time"
   ]
  },
  {
   "cell_type": "code",
   "execution_count": null,
   "id": "5a2f600beaba84d0",
   "metadata": {
    "ExecuteTime": {
     "end_time": "2024-07-02T18:13:53.929802Z",
     "start_time": "2024-07-02T18:13:53.927435Z"
    }
   },
   "outputs": [],
   "source": [
    "N, m,dt = 300, 20, 0.05\n",
    "\n",
    "#Create x-axis\n",
    "t = thz.timebase(N, dt = dt)\n",
    "#Generate simulated Thz wave\n",
    "x = thz.wave(N, dt = dt)"
   ]
  },
  {
   "cell_type": "code",
   "execution_count": null,
   "id": "be4e49ab44661057",
   "metadata": {
    "ExecuteTime": {
     "end_time": "2024-07-02T18:13:53.932328Z",
     "start_time": "2024-07-02T18:13:53.930313Z"
    }
   },
   "outputs": [],
   "source": [
    "#Initial parameters\n",
    "a, b= 1.5, 1.4\n",
    "print(\"Initial parameters:\", \"a = \", a, \" b = \", b)"
   ]
  },
  {
   "cell_type": "code",
   "execution_count": null,
   "id": "58875797838d14d9",
   "metadata": {
    "ExecuteTime": {
     "end_time": "2024-07-02T18:13:53.936076Z",
     "start_time": "2024-07-02T18:13:53.933607Z"
    }
   },
   "outputs": [],
   "source": [
    "def transfer_model(_w):\n",
    "    return a * np.exp(-1j * b * _w)\n",
    "\n",
    "def transfer_fit(p0, _w):\n",
    "    return p0[0] * np.exp(-1j * p0[1] * _w)\n",
    "\n",
    "model = thz.transfer(transfer_model, x, dt = dt)"
   ]
  },
  {
   "cell_type": "code",
   "execution_count": null,
   "id": "a100ac0bb8cf715c",
   "metadata": {
    "ExecuteTime": {
     "end_time": "2024-07-02T18:13:53.938443Z",
     "start_time": "2024-07-02T18:13:53.936855Z"
    }
   },
   "outputs": [],
   "source": [
    "#Initial estimates p0\n",
    "initial_guess = [1.4, 0.9]"
   ]
  },
  {
   "cell_type": "code",
   "execution_count": null,
   "id": "704f7a7445e5f8cc",
   "metadata": {
    "ExecuteTime": {
     "end_time": "2024-07-02T18:13:55.905790Z",
     "start_time": "2024-07-02T18:13:53.939196Z"
    }
   },
   "outputs": [],
   "source": [
    "print(\"Initial guess:\", \"a = \", initial_guess[0], \" b = \", initial_guess[1])\n",
    "fit = thz.fit(transfer_fit, x, model, initial_guess, dt = dt)\n",
    "print(\"Final guess:\", \"a = \", fit.p_opt[0], \" b = \", fit.p_opt[1])"
   ]
  },
  {
   "cell_type": "code",
   "execution_count": null,
   "id": "cb67fc8a4966c7c8",
   "metadata": {
    "ExecuteTime": {
     "end_time": "2024-07-02T18:13:56.146659Z",
     "start_time": "2024-07-02T18:13:55.914511Z"
    }
   },
   "outputs": [],
   "source": [
    "plt.plot(t, x, label=r\"$x$\")\n",
    "plt.plot(t, model, label=r\"$y$\")\n",
    "plt.plot(t, thz.transfer(lambda _w: transfer_fit(initial_guess, _w), x, dt=dt), \n",
    "         label=r\"$\\mathbf{h}(p_0)\\mathbf{x}$\")\n",
    "# plt.plot(t, thz.transfer(transfer_model, fit.mu_opt, dt=dt), label=r\"$\\mathbf{h}(\\hat{p})\\boldsymbol{\\mu}$\")\n",
    "plt.plot(t, thz.transfer(transfer_model, fit.mu_opt, dt=dt), label=r\"$\\mathbf{h}(\\hat{p})\\mathbf{\\hat{\\mu}}$\")\n",
    "plt.legend()\n",
    "plt.show()"
   ]
  },
  {
   "cell_type": "code",
   "execution_count": null,
   "id": "f0d7f76d558ac6f0",
   "metadata": {
    "ExecuteTime": {
     "end_time": "2024-07-02T18:13:56.283150Z",
     "start_time": "2024-07-02T18:13:56.163044Z"
    }
   },
   "outputs": [],
   "source": [
    "plt.plot(t, x, label=r\"$x$\")\n",
    "plt.plot(t, model, label=r\"$y$\")\n",
    "plt.plot(t, fit.mu_opt, label = r\"$\\hat{\\mu}$\")\n",
    "plt.plot(t, thz.transfer(transfer_model, fit.mu_opt, dt=dt), \n",
    "         label=r\"$\\mathbf{h}(\\hat{p})\\mathbf{\\hat{\\mu}}$\")\n",
    "plt.legend()\n",
    "plt.show()"
   ]
  },
  {
   "cell_type": "code",
   "execution_count": null,
   "id": "22d1a4f7",
   "metadata": {},
   "outputs": [],
   "source": []
  }
 ],
 "metadata": {
  "kernelspec": {
   "display_name": "Python 3",
   "language": "python",
   "name": "python3"
  },
  "language_info": {
   "codemirror_mode": {
    "name": "ipython",
    "version": 3
   },
   "file_extension": ".py",
   "mimetype": "text/x-python",
   "name": "python",
   "nbconvert_exporter": "python",
   "pygments_lexer": "ipython3",
   "version": "3.11.3"
  }
 },
 "nbformat": 4,
 "nbformat_minor": 5
}
