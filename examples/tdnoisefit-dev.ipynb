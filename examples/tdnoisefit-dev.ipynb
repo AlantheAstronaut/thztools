{
 "cells": [
  {
   "cell_type": "markdown",
   "source": [
    "# Procedure for estimating noise parameters"
   ],
   "metadata": {
    "collapsed": false
   }
  },
  {
   "cell_type": "code",
   "execution_count": 1,
   "outputs": [],
   "source": [
    "from __future__ import annotations\n",
    "\n",
    "import numdifftools as nd\n",
    "import numpy as np\n",
    "\n",
    "from numpy.typing import ArrayLike\n",
    "from scipy.optimize import minimize\n",
    "from matplotlib import pyplot as plt\n",
    "from matplotlib.figure import figaspect\n",
    "from scipy.optimize import approx_fprime\n",
    "from numpy.random import default_rng\n",
    "\n",
    "import thztools as thz\n",
    "from thztools import tdnll"
   ],
   "metadata": {
    "collapsed": false,
    "ExecuteTime": {
     "end_time": "2023-09-29T18:32:54.812405Z",
     "start_time": "2023-09-29T18:32:52.329714Z"
    }
   }
  },
  {
   "cell_type": "markdown",
   "source": [
    "## Simulate measurements\n",
    "Simulate a set of `m` waveforms, each sampled at `n` time points, with noise parameters\n",
    "`sigma_alpha`, `sigma_beta`, and `sigma_tau`, and store them in an array `x`. Note that\n",
    "`x` stores the waveforms in row orientation, with shape `(m, n)`, because NumPy\n",
    "broadcasting rules and FFT functions are simpler for arrays that are row-oriented.\n",
    "Measurement waveforms are typically loaded from data files in column orientation,\n",
    "however, so the `tdnoisefit` function assumes that the data array is column-oriented—this\n",
    "may be worth changing in a future version."
   ],
   "metadata": {
    "collapsed": false
   }
  },
  {
   "cell_type": "code",
   "execution_count": 2,
   "outputs": [],
   "source": [
    "rng = np.random.default_rng(0)\n",
    "n = 256\n",
    "m = 64\n",
    "ts = 0.05\n",
    "t = np.arange(n) * ts\n",
    "mu, _ = thz.thzgen(n, ts=ts, t0=n * ts / 3)\n",
    "sigma = np.array([1e-5, 1e-2, 1e-3])\n",
    "noise = thz.noiseamp(sigma, mu, ts) * rng.standard_normal((m, n))\n",
    "x = np.array(mu + noise)\n",
    "a = np.ones(m)\n",
    "eta = np.zeros(m)"
   ],
   "metadata": {
    "collapsed": false,
    "ExecuteTime": {
     "end_time": "2023-09-29T18:32:56.419777Z",
     "start_time": "2023-09-29T18:32:56.412128Z"
    }
   }
  },
  {
   "cell_type": "markdown",
   "source": [
    "## Fit for the noise parameters\n",
    "\n",
    "Set the initial guesses `a0` and `eta0` for the amplitudes and delays, respectively, and\n",
    "estimate the noise parameters from the simulated measurements. Note that we must take the\n",
    "transpose of `x`, to convert it from row-orientation to column-orientation."
   ],
   "metadata": {
    "collapsed": false
   }
  },
  {
   "cell_type": "code",
   "execution_count": 3,
   "outputs": [
    {
     "ename": "KeyboardInterrupt",
     "evalue": "",
     "output_type": "error",
     "traceback": [
      "\u001B[0;31m---------------------------------------------------------------------------\u001B[0m",
      "\u001B[0;31mKeyboardInterrupt\u001B[0m                         Traceback (most recent call last)",
      "Cell \u001B[0;32mIn[3], line 1\u001B[0m\n\u001B[0;32m----> 1\u001B[0m result \u001B[38;5;241m=\u001B[39m \u001B[43mthz\u001B[49m\u001B[38;5;241;43m.\u001B[39;49m\u001B[43mtdnoisefit\u001B[49m\u001B[43m(\u001B[49m\n\u001B[1;32m      2\u001B[0m \u001B[43m    \u001B[49m\u001B[43mx\u001B[49m\u001B[38;5;241;43m.\u001B[39;49m\u001B[43mT\u001B[49m\u001B[43m,\u001B[49m\u001B[43m \u001B[49m\u001B[43mmu0\u001B[49m\u001B[38;5;241;43m=\u001B[39;49m\u001B[43mmu\u001B[49m\u001B[43m,\u001B[49m\u001B[43m \u001B[49m\u001B[43ma0\u001B[49m\u001B[38;5;241;43m=\u001B[39;49m\u001B[43ma\u001B[49m\u001B[43m,\u001B[49m\u001B[43m \u001B[49m\u001B[43meta0\u001B[49m\u001B[38;5;241;43m=\u001B[39;49m\u001B[43meta\u001B[49m\u001B[43m,\u001B[49m\u001B[43m \u001B[49m\u001B[43mts\u001B[49m\u001B[38;5;241;43m=\u001B[39;49m\u001B[43mts\u001B[49m\u001B[43m,\u001B[49m\u001B[43m \u001B[49m\u001B[43mfix_v\u001B[49m\u001B[38;5;241;43m=\u001B[39;49m\u001B[38;5;28;43;01mFalse\u001B[39;49;00m\u001B[43m,\u001B[49m\u001B[43m \u001B[49m\u001B[43mfix_mu\u001B[49m\u001B[38;5;241;43m=\u001B[39;49m\u001B[38;5;28;43;01mFalse\u001B[39;49;00m\u001B[43m,\u001B[49m\u001B[43m \u001B[49m\u001B[43mfix_a\u001B[49m\u001B[38;5;241;43m=\u001B[39;49m\u001B[38;5;28;43;01mFalse\u001B[39;49;00m\u001B[43m,\u001B[49m\u001B[43m \u001B[49m\u001B[43mfix_eta\u001B[49m\u001B[38;5;241;43m=\u001B[39;49m\u001B[38;5;28;43;01mFalse\u001B[39;49;00m\n\u001B[1;32m      3\u001B[0m \u001B[43m)\u001B[49m\n",
      "File \u001B[0;32m~/Library/CloudStorage/OneDrive-SimonFraserUniversity(1sfu)/projects/thztools/src/thztools/thztools.py:653\u001B[0m, in \u001B[0;36mtdnoisefit\u001B[0;34m(x, v0, mu0, a0, eta0, ts, fix_v, fix_mu, fix_a, fix_eta)\u001B[0m\n\u001B[1;32m    648\u001B[0m nll_hess \u001B[38;5;241m=\u001B[39m nd\u001B[38;5;241m.\u001B[39mHessian(obj_val, step\u001B[38;5;241m=\u001B[39m\u001B[38;5;241m1e-6\u001B[39m)\n\u001B[1;32m    650\u001B[0m \u001B[38;5;66;03m# Minimize cost function with respect to free parameters\u001B[39;00m\n\u001B[1;32m    651\u001B[0m \u001B[38;5;66;03m# out = minimize(objective, x0, method=\"BFGS\", jac=True, tol=1e-0,\u001B[39;00m\n\u001B[1;32m    652\u001B[0m \u001B[38;5;66;03m#                options={\"gtol\": 1e-0, \"disp\": True, \"return_all\": True})\u001B[39;00m\n\u001B[0;32m--> 653\u001B[0m out \u001B[38;5;241m=\u001B[39m \u001B[43mminimize\u001B[49m\u001B[43m(\u001B[49m\u001B[43mobjective\u001B[49m\u001B[43m,\u001B[49m\u001B[43m \u001B[49m\u001B[43mx0\u001B[49m\u001B[43m,\u001B[49m\u001B[43m \u001B[49m\u001B[43mmethod\u001B[49m\u001B[38;5;241;43m=\u001B[39;49m\u001B[38;5;124;43m\"\u001B[39;49m\u001B[38;5;124;43mtrust-exact\u001B[39;49m\u001B[38;5;124;43m\"\u001B[39;49m\u001B[43m,\u001B[49m\u001B[43m \u001B[49m\u001B[43mjac\u001B[49m\u001B[38;5;241;43m=\u001B[39;49m\u001B[38;5;28;43;01mTrue\u001B[39;49;00m\u001B[43m,\u001B[49m\n\u001B[1;32m    654\u001B[0m \u001B[43m               \u001B[49m\u001B[43mhess\u001B[49m\u001B[38;5;241;43m=\u001B[39;49m\u001B[43mnll_hess\u001B[49m\u001B[43m)\u001B[49m\n\u001B[1;32m    656\u001B[0m \u001B[38;5;66;03m# Parse output\u001B[39;00m\n\u001B[1;32m    657\u001B[0m p \u001B[38;5;241m=\u001B[39m {}\n",
      "File \u001B[0;32m~/mambaforge/envs/thztools/lib/python3.11/site-packages/scipy/optimize/_minimize.py:735\u001B[0m, in \u001B[0;36mminimize\u001B[0;34m(fun, x0, args, method, jac, hess, hessp, bounds, constraints, tol, callback, options)\u001B[0m\n\u001B[1;32m    732\u001B[0m     res \u001B[38;5;241m=\u001B[39m _minimize_trust_krylov(fun, x0, args, jac, hess, hessp,\n\u001B[1;32m    733\u001B[0m                                  callback\u001B[38;5;241m=\u001B[39mcallback, \u001B[38;5;241m*\u001B[39m\u001B[38;5;241m*\u001B[39moptions)\n\u001B[1;32m    734\u001B[0m \u001B[38;5;28;01melif\u001B[39;00m meth \u001B[38;5;241m==\u001B[39m \u001B[38;5;124m'\u001B[39m\u001B[38;5;124mtrust-exact\u001B[39m\u001B[38;5;124m'\u001B[39m:\n\u001B[0;32m--> 735\u001B[0m     res \u001B[38;5;241m=\u001B[39m \u001B[43m_minimize_trustregion_exact\u001B[49m\u001B[43m(\u001B[49m\u001B[43mfun\u001B[49m\u001B[43m,\u001B[49m\u001B[43m \u001B[49m\u001B[43mx0\u001B[49m\u001B[43m,\u001B[49m\u001B[43m \u001B[49m\u001B[43margs\u001B[49m\u001B[43m,\u001B[49m\u001B[43m \u001B[49m\u001B[43mjac\u001B[49m\u001B[43m,\u001B[49m\u001B[43m \u001B[49m\u001B[43mhess\u001B[49m\u001B[43m,\u001B[49m\n\u001B[1;32m    736\u001B[0m \u001B[43m                                      \u001B[49m\u001B[43mcallback\u001B[49m\u001B[38;5;241;43m=\u001B[39;49m\u001B[43mcallback\u001B[49m\u001B[43m,\u001B[49m\u001B[43m \u001B[49m\u001B[38;5;241;43m*\u001B[39;49m\u001B[38;5;241;43m*\u001B[39;49m\u001B[43moptions\u001B[49m\u001B[43m)\u001B[49m\n\u001B[1;32m    737\u001B[0m \u001B[38;5;28;01melse\u001B[39;00m:\n\u001B[1;32m    738\u001B[0m     \u001B[38;5;28;01mraise\u001B[39;00m \u001B[38;5;167;01mValueError\u001B[39;00m(\u001B[38;5;124m'\u001B[39m\u001B[38;5;124mUnknown solver \u001B[39m\u001B[38;5;132;01m%s\u001B[39;00m\u001B[38;5;124m'\u001B[39m \u001B[38;5;241m%\u001B[39m method)\n",
      "File \u001B[0;32m~/mambaforge/envs/thztools/lib/python3.11/site-packages/scipy/optimize/_trustregion_exact.py:39\u001B[0m, in \u001B[0;36m_minimize_trustregion_exact\u001B[0;34m(fun, x0, args, jac, hess, **trust_region_options)\u001B[0m\n\u001B[1;32m     36\u001B[0m \u001B[38;5;28;01mif\u001B[39;00m \u001B[38;5;129;01mnot\u001B[39;00m \u001B[38;5;28mcallable\u001B[39m(hess):\n\u001B[1;32m     37\u001B[0m     \u001B[38;5;28;01mraise\u001B[39;00m \u001B[38;5;167;01mValueError\u001B[39;00m(\u001B[38;5;124m'\u001B[39m\u001B[38;5;124mHessian matrix is required for trust region \u001B[39m\u001B[38;5;124m'\u001B[39m\n\u001B[1;32m     38\u001B[0m                      \u001B[38;5;124m'\u001B[39m\u001B[38;5;124mexact minimization.\u001B[39m\u001B[38;5;124m'\u001B[39m)\n\u001B[0;32m---> 39\u001B[0m \u001B[38;5;28;01mreturn\u001B[39;00m \u001B[43m_minimize_trust_region\u001B[49m\u001B[43m(\u001B[49m\u001B[43mfun\u001B[49m\u001B[43m,\u001B[49m\u001B[43m \u001B[49m\u001B[43mx0\u001B[49m\u001B[43m,\u001B[49m\u001B[43m \u001B[49m\u001B[43margs\u001B[49m\u001B[38;5;241;43m=\u001B[39;49m\u001B[43margs\u001B[49m\u001B[43m,\u001B[49m\u001B[43m \u001B[49m\u001B[43mjac\u001B[49m\u001B[38;5;241;43m=\u001B[39;49m\u001B[43mjac\u001B[49m\u001B[43m,\u001B[49m\u001B[43m \u001B[49m\u001B[43mhess\u001B[49m\u001B[38;5;241;43m=\u001B[39;49m\u001B[43mhess\u001B[49m\u001B[43m,\u001B[49m\n\u001B[1;32m     40\u001B[0m \u001B[43m                              \u001B[49m\u001B[43msubproblem\u001B[49m\u001B[38;5;241;43m=\u001B[39;49m\u001B[43mIterativeSubproblem\u001B[49m\u001B[43m,\u001B[49m\n\u001B[1;32m     41\u001B[0m \u001B[43m                              \u001B[49m\u001B[38;5;241;43m*\u001B[39;49m\u001B[38;5;241;43m*\u001B[39;49m\u001B[43mtrust_region_options\u001B[49m\u001B[43m)\u001B[49m\n",
      "File \u001B[0;32m~/mambaforge/envs/thztools/lib/python3.11/site-packages/scipy/optimize/_trustregion.py:235\u001B[0m, in \u001B[0;36m_minimize_trust_region\u001B[0;34m(fun, x0, args, jac, hess, hessp, subproblem, initial_trust_radius, max_trust_radius, eta, gtol, maxiter, disp, return_all, callback, inexact, **unknown_options)\u001B[0m\n\u001B[1;32m    233\u001B[0m \u001B[38;5;66;03m# define the local approximation at the proposed point\u001B[39;00m\n\u001B[1;32m    234\u001B[0m x_proposed \u001B[38;5;241m=\u001B[39m x \u001B[38;5;241m+\u001B[39m p\n\u001B[0;32m--> 235\u001B[0m m_proposed \u001B[38;5;241m=\u001B[39m \u001B[43msubproblem\u001B[49m\u001B[43m(\u001B[49m\u001B[43mx_proposed\u001B[49m\u001B[43m,\u001B[49m\u001B[43m \u001B[49m\u001B[43mfun\u001B[49m\u001B[43m,\u001B[49m\u001B[43m \u001B[49m\u001B[43mjac\u001B[49m\u001B[43m,\u001B[49m\u001B[43m \u001B[49m\u001B[43mhess\u001B[49m\u001B[43m,\u001B[49m\u001B[43m \u001B[49m\u001B[43mhessp\u001B[49m\u001B[43m)\u001B[49m\n\u001B[1;32m    237\u001B[0m \u001B[38;5;66;03m# evaluate the ratio defined in equation (4.4)\u001B[39;00m\n\u001B[1;32m    238\u001B[0m actual_reduction \u001B[38;5;241m=\u001B[39m m\u001B[38;5;241m.\u001B[39mfun \u001B[38;5;241m-\u001B[39m m_proposed\u001B[38;5;241m.\u001B[39mfun\n",
      "File \u001B[0;32m~/mambaforge/envs/thztools/lib/python3.11/site-packages/scipy/optimize/_trustregion_exact.py:239\u001B[0m, in \u001B[0;36mIterativeSubproblem.__init__\u001B[0;34m(self, x, fun, jac, hess, hessp, k_easy, k_hard)\u001B[0m\n\u001B[1;32m    234\u001B[0m \u001B[38;5;28mself\u001B[39m\u001B[38;5;241m.\u001B[39mk_hard \u001B[38;5;241m=\u001B[39m k_hard\n\u001B[1;32m    236\u001B[0m \u001B[38;5;66;03m# Get Lapack function for cholesky decomposition.\u001B[39;00m\n\u001B[1;32m    237\u001B[0m \u001B[38;5;66;03m# The implemented SciPy wrapper does not return\u001B[39;00m\n\u001B[1;32m    238\u001B[0m \u001B[38;5;66;03m# the incomplete factorization needed by the method.\u001B[39;00m\n\u001B[0;32m--> 239\u001B[0m \u001B[38;5;28mself\u001B[39m\u001B[38;5;241m.\u001B[39mcholesky, \u001B[38;5;241m=\u001B[39m get_lapack_funcs((\u001B[38;5;124m'\u001B[39m\u001B[38;5;124mpotrf\u001B[39m\u001B[38;5;124m'\u001B[39m,), (\u001B[38;5;28;43mself\u001B[39;49m\u001B[38;5;241;43m.\u001B[39;49m\u001B[43mhess\u001B[49m,))\n\u001B[1;32m    241\u001B[0m \u001B[38;5;66;03m# Get info about Hessian\u001B[39;00m\n\u001B[1;32m    242\u001B[0m \u001B[38;5;28mself\u001B[39m\u001B[38;5;241m.\u001B[39mdimension \u001B[38;5;241m=\u001B[39m \u001B[38;5;28mlen\u001B[39m(\u001B[38;5;28mself\u001B[39m\u001B[38;5;241m.\u001B[39mhess)\n",
      "File \u001B[0;32m~/mambaforge/envs/thztools/lib/python3.11/site-packages/scipy/optimize/_trustregion.py:74\u001B[0m, in \u001B[0;36mBaseQuadraticSubproblem.hess\u001B[0;34m(self)\u001B[0m\n\u001B[1;32m     72\u001B[0m \u001B[38;5;250m\u001B[39m\u001B[38;5;124;03m\"\"\"Value of Hessian of objective function at current iteration.\"\"\"\u001B[39;00m\n\u001B[1;32m     73\u001B[0m \u001B[38;5;28;01mif\u001B[39;00m \u001B[38;5;28mself\u001B[39m\u001B[38;5;241m.\u001B[39m_h \u001B[38;5;129;01mis\u001B[39;00m \u001B[38;5;28;01mNone\u001B[39;00m:\n\u001B[0;32m---> 74\u001B[0m     \u001B[38;5;28mself\u001B[39m\u001B[38;5;241m.\u001B[39m_h \u001B[38;5;241m=\u001B[39m \u001B[38;5;28;43mself\u001B[39;49m\u001B[38;5;241;43m.\u001B[39;49m\u001B[43m_hess\u001B[49m\u001B[43m(\u001B[49m\u001B[38;5;28;43mself\u001B[39;49m\u001B[38;5;241;43m.\u001B[39;49m\u001B[43m_x\u001B[49m\u001B[43m)\u001B[49m\n\u001B[1;32m     75\u001B[0m \u001B[38;5;28;01mreturn\u001B[39;00m \u001B[38;5;28mself\u001B[39m\u001B[38;5;241m.\u001B[39m_h\n",
      "File \u001B[0;32m~/mambaforge/envs/thztools/lib/python3.11/site-packages/scipy/optimize/_differentiable_functions.py:279\u001B[0m, in \u001B[0;36mScalarFunction.hess\u001B[0;34m(self, x)\u001B[0m\n\u001B[1;32m    277\u001B[0m \u001B[38;5;28;01mif\u001B[39;00m \u001B[38;5;129;01mnot\u001B[39;00m np\u001B[38;5;241m.\u001B[39marray_equal(x, \u001B[38;5;28mself\u001B[39m\u001B[38;5;241m.\u001B[39mx):\n\u001B[1;32m    278\u001B[0m     \u001B[38;5;28mself\u001B[39m\u001B[38;5;241m.\u001B[39m_update_x_impl(x)\n\u001B[0;32m--> 279\u001B[0m \u001B[38;5;28;43mself\u001B[39;49m\u001B[38;5;241;43m.\u001B[39;49m\u001B[43m_update_hess\u001B[49m\u001B[43m(\u001B[49m\u001B[43m)\u001B[49m\n\u001B[1;32m    280\u001B[0m \u001B[38;5;28;01mreturn\u001B[39;00m \u001B[38;5;28mself\u001B[39m\u001B[38;5;241m.\u001B[39mH\n",
      "File \u001B[0;32m~/mambaforge/envs/thztools/lib/python3.11/site-packages/scipy/optimize/_differentiable_functions.py:261\u001B[0m, in \u001B[0;36mScalarFunction._update_hess\u001B[0;34m(self)\u001B[0m\n\u001B[1;32m    259\u001B[0m \u001B[38;5;28;01mdef\u001B[39;00m \u001B[38;5;21m_update_hess\u001B[39m(\u001B[38;5;28mself\u001B[39m):\n\u001B[1;32m    260\u001B[0m     \u001B[38;5;28;01mif\u001B[39;00m \u001B[38;5;129;01mnot\u001B[39;00m \u001B[38;5;28mself\u001B[39m\u001B[38;5;241m.\u001B[39mH_updated:\n\u001B[0;32m--> 261\u001B[0m         \u001B[38;5;28;43mself\u001B[39;49m\u001B[38;5;241;43m.\u001B[39;49m\u001B[43m_update_hess_impl\u001B[49m\u001B[43m(\u001B[49m\u001B[43m)\u001B[49m\n\u001B[1;32m    262\u001B[0m         \u001B[38;5;28mself\u001B[39m\u001B[38;5;241m.\u001B[39mH_updated \u001B[38;5;241m=\u001B[39m \u001B[38;5;28;01mTrue\u001B[39;00m\n",
      "File \u001B[0;32m~/mambaforge/envs/thztools/lib/python3.11/site-packages/scipy/optimize/_differentiable_functions.py:203\u001B[0m, in \u001B[0;36mScalarFunction.__init__.<locals>.update_hess\u001B[0;34m()\u001B[0m\n\u001B[1;32m    202\u001B[0m \u001B[38;5;28;01mdef\u001B[39;00m \u001B[38;5;21mupdate_hess\u001B[39m():\n\u001B[0;32m--> 203\u001B[0m     \u001B[38;5;28mself\u001B[39m\u001B[38;5;241m.\u001B[39mH \u001B[38;5;241m=\u001B[39m \u001B[43mhess_wrapped\u001B[49m\u001B[43m(\u001B[49m\u001B[38;5;28;43mself\u001B[39;49m\u001B[38;5;241;43m.\u001B[39;49m\u001B[43mx\u001B[49m\u001B[43m)\u001B[49m\n",
      "File \u001B[0;32m~/mambaforge/envs/thztools/lib/python3.11/site-packages/scipy/optimize/_differentiable_functions.py:199\u001B[0m, in \u001B[0;36mScalarFunction.__init__.<locals>.hess_wrapped\u001B[0;34m(x)\u001B[0m\n\u001B[1;32m    197\u001B[0m \u001B[38;5;28;01mdef\u001B[39;00m \u001B[38;5;21mhess_wrapped\u001B[39m(x):\n\u001B[1;32m    198\u001B[0m     \u001B[38;5;28mself\u001B[39m\u001B[38;5;241m.\u001B[39mnhev \u001B[38;5;241m+\u001B[39m\u001B[38;5;241m=\u001B[39m \u001B[38;5;241m1\u001B[39m\n\u001B[0;32m--> 199\u001B[0m     \u001B[38;5;28;01mreturn\u001B[39;00m np\u001B[38;5;241m.\u001B[39matleast_2d(np\u001B[38;5;241m.\u001B[39masarray(\u001B[43mhess\u001B[49m\u001B[43m(\u001B[49m\u001B[43mnp\u001B[49m\u001B[38;5;241;43m.\u001B[39;49m\u001B[43mcopy\u001B[49m\u001B[43m(\u001B[49m\u001B[43mx\u001B[49m\u001B[43m)\u001B[49m\u001B[43m,\u001B[49m\u001B[43m \u001B[49m\u001B[38;5;241;43m*\u001B[39;49m\u001B[43margs\u001B[49m\u001B[43m)\u001B[49m))\n",
      "File \u001B[0;32m~/mambaforge/envs/thztools/lib/python3.11/site-packages/numdifftools/core.py:538\u001B[0m, in \u001B[0;36mHessdiag.__call__\u001B[0;34m(self, x, *args, **kwds)\u001B[0m\n\u001B[1;32m    537\u001B[0m \u001B[38;5;28;01mdef\u001B[39;00m \u001B[38;5;21m__call__\u001B[39m(\u001B[38;5;28mself\u001B[39m, x, \u001B[38;5;241m*\u001B[39margs, \u001B[38;5;241m*\u001B[39m\u001B[38;5;241m*\u001B[39mkwds):\n\u001B[0;32m--> 538\u001B[0m     \u001B[38;5;28;01mreturn\u001B[39;00m \u001B[38;5;28;43msuper\u001B[39;49m\u001B[43m(\u001B[49m\u001B[43mHessdiag\u001B[49m\u001B[43m,\u001B[49m\u001B[43m \u001B[49m\u001B[38;5;28;43mself\u001B[39;49m\u001B[43m)\u001B[49m\u001B[38;5;241;43m.\u001B[39;49m\u001B[38;5;21;43m__call__\u001B[39;49m\u001B[43m(\u001B[49m\u001B[43mnp\u001B[49m\u001B[38;5;241;43m.\u001B[39;49m\u001B[43matleast_1d\u001B[49m\u001B[43m(\u001B[49m\u001B[43mx\u001B[49m\u001B[43m)\u001B[49m\u001B[43m,\u001B[49m\u001B[43m \u001B[49m\u001B[38;5;241;43m*\u001B[39;49m\u001B[43margs\u001B[49m\u001B[43m,\u001B[49m\u001B[43m \u001B[49m\u001B[38;5;241;43m*\u001B[39;49m\u001B[38;5;241;43m*\u001B[39;49m\u001B[43mkwds\u001B[49m\u001B[43m)\u001B[49m\n",
      "File \u001B[0;32m~/mambaforge/envs/thztools/lib/python3.11/site-packages/numdifftools/core.py:288\u001B[0m, in \u001B[0;36mDerivative.__call__\u001B[0;34m(self, x, *args, **kwds)\u001B[0m\n\u001B[1;32m    286\u001B[0m x_i \u001B[38;5;241m=\u001B[39m np\u001B[38;5;241m.\u001B[39masarray(x)\n\u001B[1;32m    287\u001B[0m \u001B[38;5;28;01mwith\u001B[39;00m np\u001B[38;5;241m.\u001B[39merrstate(divide\u001B[38;5;241m=\u001B[39m\u001B[38;5;124m'\u001B[39m\u001B[38;5;124mignore\u001B[39m\u001B[38;5;124m'\u001B[39m, invalid\u001B[38;5;241m=\u001B[39m\u001B[38;5;124m'\u001B[39m\u001B[38;5;124mignore\u001B[39m\u001B[38;5;124m'\u001B[39m):\n\u001B[0;32m--> 288\u001B[0m     results, f_xi \u001B[38;5;241m=\u001B[39m \u001B[38;5;28;43mself\u001B[39;49m\u001B[38;5;241;43m.\u001B[39;49m\u001B[43m_derivative\u001B[49m\u001B[43m(\u001B[49m\u001B[43mx_i\u001B[49m\u001B[43m,\u001B[49m\u001B[43m \u001B[49m\u001B[43margs\u001B[49m\u001B[43m,\u001B[49m\u001B[43m \u001B[49m\u001B[43mkwds\u001B[49m\u001B[43m)\u001B[49m\n\u001B[1;32m    289\u001B[0m     derivative, info \u001B[38;5;241m=\u001B[39m \u001B[38;5;28mself\u001B[39m\u001B[38;5;241m.\u001B[39m_extrapolate(\u001B[38;5;241m*\u001B[39mresults)\n\u001B[1;32m    290\u001B[0m \u001B[38;5;28;01mif\u001B[39;00m \u001B[38;5;28mself\u001B[39m\u001B[38;5;241m.\u001B[39mfull_output:\n",
      "File \u001B[0;32m~/mambaforge/envs/thztools/lib/python3.11/site-packages/numdifftools/core.py:238\u001B[0m, in \u001B[0;36mDerivative._derivative_nonzero_order\u001B[0;34m(self, x_i, args, kwds)\u001B[0m\n\u001B[1;32m    236\u001B[0m steps, step_ratio \u001B[38;5;241m=\u001B[39m \u001B[38;5;28mself\u001B[39m\u001B[38;5;241m.\u001B[39m_get_steps(x_i)\n\u001B[1;32m    237\u001B[0m fxi \u001B[38;5;241m=\u001B[39m \u001B[38;5;28mself\u001B[39m\u001B[38;5;241m.\u001B[39m_eval_first(f, x_i)\n\u001B[0;32m--> 238\u001B[0m results \u001B[38;5;241m=\u001B[39m \u001B[43m[\u001B[49m\u001B[43mdiff\u001B[49m\u001B[43m(\u001B[49m\u001B[43mf\u001B[49m\u001B[43m,\u001B[49m\u001B[43m \u001B[49m\u001B[43mfxi\u001B[49m\u001B[43m,\u001B[49m\u001B[43m \u001B[49m\u001B[43mx_i\u001B[49m\u001B[43m,\u001B[49m\u001B[43m \u001B[49m\u001B[43mh\u001B[49m\u001B[43m)\u001B[49m\u001B[43m \u001B[49m\u001B[38;5;28;43;01mfor\u001B[39;49;00m\u001B[43m \u001B[49m\u001B[43mh\u001B[49m\u001B[43m \u001B[49m\u001B[38;5;129;43;01min\u001B[39;49;00m\u001B[43m \u001B[49m\u001B[43msteps\u001B[49m\u001B[43m]\u001B[49m\n\u001B[1;32m    240\u001B[0m \u001B[38;5;28mself\u001B[39m\u001B[38;5;241m.\u001B[39mset_richardson_rule(step_ratio, \u001B[38;5;28mself\u001B[39m\u001B[38;5;241m.\u001B[39mrichardson_terms)\n\u001B[1;32m    242\u001B[0m \u001B[38;5;28;01mreturn\u001B[39;00m \u001B[38;5;28mself\u001B[39m\u001B[38;5;241m.\u001B[39mfd_rule\u001B[38;5;241m.\u001B[39mapply(results, steps, step_ratio), fxi\n",
      "File \u001B[0;32m~/mambaforge/envs/thztools/lib/python3.11/site-packages/numdifftools/core.py:238\u001B[0m, in \u001B[0;36m<listcomp>\u001B[0;34m(.0)\u001B[0m\n\u001B[1;32m    236\u001B[0m steps, step_ratio \u001B[38;5;241m=\u001B[39m \u001B[38;5;28mself\u001B[39m\u001B[38;5;241m.\u001B[39m_get_steps(x_i)\n\u001B[1;32m    237\u001B[0m fxi \u001B[38;5;241m=\u001B[39m \u001B[38;5;28mself\u001B[39m\u001B[38;5;241m.\u001B[39m_eval_first(f, x_i)\n\u001B[0;32m--> 238\u001B[0m results \u001B[38;5;241m=\u001B[39m [\u001B[43mdiff\u001B[49m\u001B[43m(\u001B[49m\u001B[43mf\u001B[49m\u001B[43m,\u001B[49m\u001B[43m \u001B[49m\u001B[43mfxi\u001B[49m\u001B[43m,\u001B[49m\u001B[43m \u001B[49m\u001B[43mx_i\u001B[49m\u001B[43m,\u001B[49m\u001B[43m \u001B[49m\u001B[43mh\u001B[49m\u001B[43m)\u001B[49m \u001B[38;5;28;01mfor\u001B[39;00m h \u001B[38;5;129;01min\u001B[39;00m steps]\n\u001B[1;32m    240\u001B[0m \u001B[38;5;28mself\u001B[39m\u001B[38;5;241m.\u001B[39mset_richardson_rule(step_ratio, \u001B[38;5;28mself\u001B[39m\u001B[38;5;241m.\u001B[39mrichardson_terms)\n\u001B[1;32m    242\u001B[0m \u001B[38;5;28;01mreturn\u001B[39;00m \u001B[38;5;28mself\u001B[39m\u001B[38;5;241m.\u001B[39mfd_rule\u001B[38;5;241m.\u001B[39mapply(results, steps, step_ratio), fxi\n",
      "File \u001B[0;32m~/mambaforge/envs/thztools/lib/python3.11/site-packages/numdifftools/finite_difference.py:286\u001B[0m, in \u001B[0;36mHessianDifferenceFunctions._central_even\u001B[0;34m(f, f_x, x, h)\u001B[0m\n\u001B[1;32m    283\u001B[0m     \u001B[38;5;28;01mfor\u001B[39;00m j \u001B[38;5;129;01min\u001B[39;00m \u001B[38;5;28mrange\u001B[39m(i \u001B[38;5;241m+\u001B[39m \u001B[38;5;241m1\u001B[39m, n):\n\u001B[1;32m    284\u001B[0m         e_j \u001B[38;5;241m=\u001B[39m eee[j, :]\n\u001B[1;32m    285\u001B[0m         hess[i, j] \u001B[38;5;241m=\u001B[39m (f(x \u001B[38;5;241m+\u001B[39m e_i \u001B[38;5;241m+\u001B[39m e_j) \u001B[38;5;241m-\u001B[39m f(x \u001B[38;5;241m+\u001B[39m e_i \u001B[38;5;241m-\u001B[39m e_j)\n\u001B[0;32m--> 286\u001B[0m                       \u001B[38;5;241m-\u001B[39m \u001B[43mf\u001B[49m\u001B[43m(\u001B[49m\u001B[43mx\u001B[49m\u001B[43m \u001B[49m\u001B[38;5;241;43m-\u001B[39;49m\u001B[43m \u001B[49m\u001B[43me_i\u001B[49m\u001B[43m \u001B[49m\u001B[38;5;241;43m+\u001B[39;49m\u001B[43m \u001B[49m\u001B[43me_j\u001B[49m\u001B[43m)\u001B[49m \u001B[38;5;241m+\u001B[39m f(x \u001B[38;5;241m-\u001B[39m e_i \u001B[38;5;241m-\u001B[39m e_j)) \u001B[38;5;241m/\u001B[39m (\u001B[38;5;241m4.\u001B[39m \u001B[38;5;241m*\u001B[39m hess[j, i])\n\u001B[1;32m    287\u001B[0m         hess[j, i] \u001B[38;5;241m=\u001B[39m hess[i, j]\n\u001B[1;32m    288\u001B[0m \u001B[38;5;28;01mreturn\u001B[39;00m hess\n",
      "File \u001B[0;32m~/mambaforge/envs/thztools/lib/python3.11/site-packages/numdifftools/core.py:257\u001B[0m, in \u001B[0;36mDerivative._get_functions.<locals>.export_fun\u001B[0;34m(x)\u001B[0m\n\u001B[1;32m    256\u001B[0m \u001B[38;5;28;01mdef\u001B[39;00m \u001B[38;5;21mexport_fun\u001B[39m(x):\n\u001B[0;32m--> 257\u001B[0m     \u001B[38;5;28;01mreturn\u001B[39;00m \u001B[43mfun\u001B[49m\u001B[43m(\u001B[49m\u001B[43mx\u001B[49m\u001B[43m,\u001B[49m\u001B[43m \u001B[49m\u001B[38;5;241;43m*\u001B[39;49m\u001B[43margs\u001B[49m\u001B[43m,\u001B[49m\u001B[43m \u001B[49m\u001B[38;5;241;43m*\u001B[39;49m\u001B[38;5;241;43m*\u001B[39;49m\u001B[43mkwds\u001B[49m\u001B[43m)\u001B[49m\n",
      "File \u001B[0;32m~/Library/CloudStorage/OneDrive-SimonFraserUniversity(1sfu)/projects/thztools/src/thztools/thztools.py:646\u001B[0m, in \u001B[0;36mtdnoisefit.<locals>.obj_val\u001B[0;34m(_p)\u001B[0m\n\u001B[1;32m    645\u001B[0m \u001B[38;5;28;01mdef\u001B[39;00m \u001B[38;5;21mobj_val\u001B[39m(_p):\n\u001B[0;32m--> 646\u001B[0m     \u001B[38;5;28;01mreturn\u001B[39;00m \u001B[43mobjective\u001B[49m\u001B[43m(\u001B[49m\u001B[43m_p\u001B[49m\u001B[43m)\u001B[49m[\u001B[38;5;241m0\u001B[39m]\n",
      "File \u001B[0;32m~/Library/CloudStorage/OneDrive-SimonFraserUniversity(1sfu)/projects/thztools/src/thztools/thztools.py:632\u001B[0m, in \u001B[0;36mtdnoisefit.<locals>.objective\u001B[0;34m(_p)\u001B[0m\n\u001B[1;32m    630\u001B[0m \u001B[38;5;28;01melse\u001B[39;00m:\n\u001B[1;32m    631\u001B[0m     _eta \u001B[38;5;241m=\u001B[39m np\u001B[38;5;241m.\u001B[39mconcatenate((np\u001B[38;5;241m.\u001B[39marray([\u001B[38;5;241m0.0\u001B[39m]), _p[: m \u001B[38;5;241m-\u001B[39m \u001B[38;5;241m1\u001B[39m]))\n\u001B[0;32m--> 632\u001B[0m \u001B[38;5;28;01mreturn\u001B[39;00m \u001B[43mtdnll\u001B[49m\u001B[43m(\u001B[49m\n\u001B[1;32m    633\u001B[0m \u001B[43m    \u001B[49m\u001B[43mx\u001B[49m\u001B[38;5;241;43m.\u001B[39;49m\u001B[43mT\u001B[49m\u001B[43m,\u001B[49m\n\u001B[1;32m    634\u001B[0m \u001B[43m    \u001B[49m\u001B[43m_mu\u001B[49m\u001B[43m,\u001B[49m\n\u001B[1;32m    635\u001B[0m \u001B[43m    \u001B[49m\u001B[43m_logv\u001B[49m\u001B[43m,\u001B[49m\n\u001B[1;32m    636\u001B[0m \u001B[43m    \u001B[49m\u001B[43m_a\u001B[49m\u001B[43m,\u001B[49m\n\u001B[1;32m    637\u001B[0m \u001B[43m    \u001B[49m\u001B[43m_eta\u001B[49m\u001B[43m,\u001B[49m\n\u001B[1;32m    638\u001B[0m \u001B[43m    \u001B[49m\u001B[43mts\u001B[49m\u001B[43m,\u001B[49m\n\u001B[1;32m    639\u001B[0m \u001B[43m    \u001B[49m\u001B[43mfix_logv\u001B[49m\u001B[38;5;241;43m=\u001B[39;49m\u001B[43mfix_v\u001B[49m\u001B[43m,\u001B[49m\n\u001B[1;32m    640\u001B[0m \u001B[43m    \u001B[49m\u001B[43mfix_mu\u001B[49m\u001B[38;5;241;43m=\u001B[39;49m\u001B[43mfix_mu\u001B[49m\u001B[43m,\u001B[49m\n\u001B[1;32m    641\u001B[0m \u001B[43m    \u001B[49m\u001B[43mfix_a\u001B[49m\u001B[38;5;241;43m=\u001B[39;49m\u001B[43mfix_a\u001B[49m\u001B[43m,\u001B[49m\n\u001B[1;32m    642\u001B[0m \u001B[43m    \u001B[49m\u001B[43mfix_eta\u001B[49m\u001B[38;5;241;43m=\u001B[39;49m\u001B[43mfix_eta\u001B[49m\u001B[43m,\u001B[49m\n\u001B[1;32m    643\u001B[0m \u001B[43m\u001B[49m\u001B[43m)\u001B[49m\n",
      "File \u001B[0;32m~/Library/CloudStorage/OneDrive-SimonFraserUniversity(1sfu)/projects/thztools/src/thztools/thztools.py:418\u001B[0m, in \u001B[0;36mtdnll\u001B[0;34m(x, mu, logv, a, eta, ts, fix_logv, fix_mu, fix_a, fix_eta)\u001B[0m\n\u001B[1;32m    415\u001B[0m w \u001B[38;5;241m=\u001B[39m \u001B[38;5;241m2\u001B[39m \u001B[38;5;241m*\u001B[39m np\u001B[38;5;241m.\u001B[39mpi \u001B[38;5;241m*\u001B[39m f\n\u001B[1;32m    416\u001B[0m mu_f \u001B[38;5;241m=\u001B[39m rfft(mu)\n\u001B[0;32m--> 418\u001B[0m exp_iweta \u001B[38;5;241m=\u001B[39m \u001B[43mnp\u001B[49m\u001B[38;5;241;43m.\u001B[39;49m\u001B[43mexp\u001B[49m\u001B[43m(\u001B[49m\u001B[38;5;241;43m1\u001B[39;49m\u001B[43mj\u001B[49m\u001B[43m \u001B[49m\u001B[38;5;241;43m*\u001B[39;49m\u001B[43m \u001B[49m\u001B[43mnp\u001B[49m\u001B[38;5;241;43m.\u001B[39;49m\u001B[43mouter\u001B[49m\u001B[43m(\u001B[49m\u001B[43meta\u001B[49m\u001B[43m,\u001B[49m\u001B[43m \u001B[49m\u001B[43mw\u001B[49m\u001B[43m)\u001B[49m\u001B[43m)\u001B[49m\n\u001B[1;32m    419\u001B[0m zeta_f \u001B[38;5;241m=\u001B[39m ((np\u001B[38;5;241m.\u001B[39mconj(exp_iweta) \u001B[38;5;241m*\u001B[39m mu_f)\u001B[38;5;241m.\u001B[39mT \u001B[38;5;241m*\u001B[39m a)\u001B[38;5;241m.\u001B[39mT\n\u001B[1;32m    420\u001B[0m zeta \u001B[38;5;241m=\u001B[39m irfft(zeta_f, n\u001B[38;5;241m=\u001B[39mn)\n",
      "\u001B[0;31mKeyboardInterrupt\u001B[0m: "
     ]
    }
   ],
   "source": [
    "result = thz.tdnoisefit(\n",
    "    x.T, mu0=mu, a0=a, eta0=eta, ts=ts, fix_v=False, fix_mu=False, fix_a=False, fix_eta=False\n",
    ")"
   ],
   "metadata": {
    "collapsed": false,
    "ExecuteTime": {
     "end_time": "2023-09-29T19:31:06.461240Z",
     "start_time": "2023-09-29T18:32:59.643431Z"
    }
   }
  },
  {
   "cell_type": "markdown",
   "source": [
    "### Check the variance amplitude estimates\n",
    "\n",
    "The `tdnoisefit` function returns a tuple with three elements: a dictionary `p` of output\n",
    "parameters; the value `fval` of the cost function at those parameters; and a dictionary\n",
    "`diagnostic` that includes additional diagnostic information about the result, including\n",
    "the parameter uncertainty. Note that noise parameter uncertainty is expressed as a\n",
    "standard deviation, so the uncertainty in the noise parameters refers to the standard\n",
    "deviation of the variance amplitude. We apply the Poisson correction to each variance\n",
    "parameter and its associated uncertainty—that is we multiply each by `m / (m - 1)`."
   ],
   "metadata": {
    "collapsed": false
   }
  },
  {
   "cell_type": "code",
   "execution_count": 4,
   "outputs": [
    {
     "name": "stdout",
     "output_type": "stream",
     "text": [
      "Estimated var_alpha: 9.328e-11 ± 1.597e-12\n",
      "Estimated var_beta: 7.837e-05 ± 3.294e-06\n",
      "Estimated var_tau: 4.997e-06 ± 2.835e-07\n"
     ]
    }
   ],
   "source": [
    "p_names = [\"var_alpha\", \"var_beta\", \"var_tau\"]\n",
    "for i in range(3):\n",
    "    val = result[0]['var'][i] * (m / (m - 1))\n",
    "    err = result[2]['err']['var'][i] * (m / (m - 1))\n",
    "    print(f\"Estimated {p_names[i]}: {val:.4g} ± {err:.4g}\")"
   ],
   "metadata": {
    "collapsed": false,
    "ExecuteTime": {
     "end_time": "2023-09-29T07:30:50.065842Z",
     "start_time": "2023-09-29T07:30:50.063651Z"
    }
   }
  },
  {
   "cell_type": "code",
   "execution_count": 5,
   "outputs": [],
   "source": [
    "cv = result[2][\"cov\"]"
   ],
   "metadata": {
    "collapsed": false,
    "ExecuteTime": {
     "end_time": "2023-09-29T07:30:50.070071Z",
     "start_time": "2023-09-29T07:30:50.066637Z"
    }
   }
  },
  {
   "cell_type": "code",
   "execution_count": 6,
   "outputs": [
    {
     "data": {
      "text/plain": "array([[ 2.93189032e-04, -4.16903477e-05,  8.70268944e-05],\n       [-4.16904535e-05,  1.76632258e-03, -1.12169376e-03],\n       [ 8.70269397e-05, -1.12169362e-03,  3.21744961e-03]])"
     },
     "execution_count": 6,
     "metadata": {},
     "output_type": "execute_result"
    }
   ],
   "source": [
    "cv[:3, :3]"
   ],
   "metadata": {
    "collapsed": false,
    "ExecuteTime": {
     "end_time": "2023-09-29T07:30:50.074951Z",
     "start_time": "2023-09-29T07:30:50.071416Z"
    }
   }
  },
  {
   "cell_type": "code",
   "execution_count": 7,
   "outputs": [
    {
     "data": {
      "text/plain": "'Desired error not necessarily achieved due to precision loss.'"
     },
     "execution_count": 7,
     "metadata": {},
     "output_type": "execute_result"
    }
   ],
   "source": [
    "result[2][\"message\"]"
   ],
   "metadata": {
    "collapsed": false,
    "ExecuteTime": {
     "end_time": "2023-09-29T07:30:50.076890Z",
     "start_time": "2023-09-29T07:30:50.073275Z"
    }
   }
  },
  {
   "cell_type": "markdown",
   "source": [
    "### Check the noise amplitude estimates\n",
    "\n",
    "Compare the noise amplitude estimates with their true values, specified in the\n",
    "simulation. The noise amplitudes are just the square root of the variance amplitudes,\n",
    "and propagating the error for the noise amplitude uncertainty yields\n",
    "\n",
    "$$\n",
    "\\sigma^2_{\\sigma_k} = \\left(\\frac{dV_k}{d\\sigma_k}\\right)^{-2} \\sigma^2_{V_k}\n",
    "= \\frac{1}{2\\sigma_k} \\sigma^2_{V_k}.\n",
    "$$"
   ],
   "metadata": {
    "collapsed": false
   }
  },
  {
   "cell_type": "code",
   "execution_count": 8,
   "outputs": [
    {
     "name": "stdout",
     "output_type": "stream",
     "text": [
      "Estimated sigma_alpha: 9.658e-06 ± 8.269e-08\n",
      "Estimated sigma_beta: 0.008853 ± 0.000186\n",
      "Estimated sigma_tau: 0.002235 ± 6.34e-05\n",
      "Estimated sigma_alpha, relative to true value: 0.966 ± 0.008\n",
      "Estimated sigma_beta, relative to true value: 0.885 ± 0.016\n",
      "Estimated sigma_tau, relative to true value: 2.235 ± 0.142\n"
     ]
    }
   ],
   "source": [
    "p_names = [\"sigma_alpha\", \"sigma_beta\", \"sigma_tau\"]\n",
    "for i in range(3):\n",
    "    val = np.sqrt(result[0]['var'][i] * (m / (m - 1)))\n",
    "    err = 0.5 * result[2]['err']['var'][i] * (m / (m - 1)) / val\n",
    "    print(f\"Estimated {p_names[i]}: {val:.4g} ± {err:.4g}\")\n",
    "for i in range(3):\n",
    "    val = np.sqrt(result[0]['var'][i] * (m / (m - 1))) / sigma[i]\n",
    "    err = (\n",
    "        0.5\n",
    "        * result[2]['err']['var'][i]\n",
    "        * (m / (m - 1))\n",
    "        / (sigma[i] ** 2)\n",
    "    )\n",
    "    print(\n",
    "        f\"Estimated {p_names[i]}, relative to true value: {val:.3f} ± {err:.3f}\"\n",
    "    )"
   ],
   "metadata": {
    "collapsed": false,
    "ExecuteTime": {
     "end_time": "2023-09-29T07:30:50.081097Z",
     "start_time": "2023-09-29T07:30:50.076477Z"
    }
   }
  },
  {
   "cell_type": "markdown",
   "source": [
    "Plot the data"
   ],
   "metadata": {
    "collapsed": false
   }
  },
  {
   "cell_type": "code",
   "execution_count": 9,
   "outputs": [
    {
     "data": {
      "text/plain": "<Figure size 640x480 with 1 Axes>",
      "image/png": "[encoded data removed]"
     },
     "metadata": {},
     "output_type": "display_data"
    }
   ],
   "source": [
    "_, ax = plt.subplots()\n",
    "ax.plot(t, x.T)\n",
    "ax.set_xlabel('Time (ps)')\n",
    "ax.set_ylabel('Field (arb. units)')\n",
    "plt.show()"
   ],
   "metadata": {
    "collapsed": false,
    "ExecuteTime": {
     "end_time": "2023-09-29T07:30:50.192408Z",
     "start_time": "2023-09-29T07:30:50.081615Z"
    }
   }
  },
  {
   "cell_type": "code",
   "execution_count": 10,
   "outputs": [
    {
     "data": {
      "text/plain": "<Figure size 640x480 with 1 Axes>",
      "image/png": "[encoded data removed]"
     },
     "metadata": {},
     "output_type": "display_data"
    }
   ],
   "source": [
    "_, ax = plt.subplots()\n",
    "ax.plot(t, np.std(x, axis=0).T)\n",
    "ax.set_xlabel('Time (ps)')\n",
    "ax.set_ylabel('Field (arb. units)')\n",
    "plt.show()"
   ],
   "metadata": {
    "collapsed": false,
    "ExecuteTime": {
     "end_time": "2023-09-29T07:30:50.307312Z",
     "start_time": "2023-09-29T07:30:50.198083Z"
    }
   }
  },
  {
   "cell_type": "markdown",
   "source": [
    "## Consider alternative method\n",
    "Try alternating between minimizing the least-squares portion of the cost function for fixed $\\sigma$ and minimizing the log-likelihood as a function of $\\sigma$ while holding all other parameters fixed."
   ],
   "metadata": {
    "collapsed": false
   }
  },
  {
   "cell_type": "markdown",
   "source": [
    "## Check gradient calculation in tdnll"
   ],
   "metadata": {
    "collapsed": false
   }
  },
  {
   "cell_type": "code",
   "execution_count": 11,
   "outputs": [],
   "source": [
    "logv = np.log(sigma**2)\n",
    "val, grad = tdnll(x, mu, logv, a, eta, ts, fix_logv=False, fix_mu=False, fix_a=False, fix_eta=False)"
   ],
   "metadata": {
    "collapsed": false,
    "ExecuteTime": {
     "end_time": "2023-09-29T07:30:50.307468Z",
     "start_time": "2023-09-29T07:30:50.260451Z"
    }
   }
  },
  {
   "cell_type": "code",
   "execution_count": 12,
   "outputs": [],
   "source": [
    "grad_logv = approx_fprime(logv, lambda _logv: tdnll(x, mu, _logv, a, eta, ts, fix_logv=True, fix_mu=True, fix_a=True, fix_eta=True)[0])\n",
    "grad_mu = approx_fprime(mu, lambda _mu: tdnll(x, _mu, logv, a, eta, ts, fix_logv=True, fix_mu=True, fix_a=True, fix_eta=True)[0], epsilon=1e-10)\n",
    "grad_a = approx_fprime(a, lambda _a: tdnll(x, mu, logv, _a, eta, ts, fix_logv=True, fix_mu=True, fix_a=True, fix_eta=True)[0])\n",
    "grad_eta = approx_fprime(eta, lambda _eta: tdnll(x, mu, logv, a, _eta, ts, fix_logv=True, fix_mu=True, fix_a=True, fix_eta=True)[0])"
   ],
   "metadata": {
    "collapsed": false,
    "ExecuteTime": {
     "end_time": "2023-09-29T07:30:50.465418Z",
     "start_time": "2023-09-29T07:30:50.270177Z"
    }
   }
  },
  {
   "cell_type": "code",
   "execution_count": 13,
   "outputs": [
    {
     "data": {
      "text/plain": "array([ 3.82421875, 44.25585938, 15.07226562])"
     },
     "execution_count": 13,
     "metadata": {},
     "output_type": "execute_result"
    }
   ],
   "source": [
    "grad_logv"
   ],
   "metadata": {
    "collapsed": false,
    "ExecuteTime": {
     "end_time": "2023-09-29T07:30:50.473274Z",
     "start_time": "2023-09-29T07:30:50.466605Z"
    }
   }
  },
  {
   "cell_type": "code",
   "execution_count": 14,
   "outputs": [
    {
     "data": {
      "text/plain": "array([ 3.82216259, 44.25424365, 15.07136749])"
     },
     "execution_count": 14,
     "metadata": {},
     "output_type": "execute_result"
    }
   ],
   "source": [
    "grad[:3]"
   ],
   "metadata": {
    "collapsed": false,
    "ExecuteTime": {
     "end_time": "2023-09-29T07:30:50.478939Z",
     "start_time": "2023-09-29T07:30:50.475054Z"
    }
   }
  },
  {
   "cell_type": "code",
   "execution_count": 15,
   "outputs": [
    {
     "data": {
      "text/plain": "array([ 1.55712129e+06,  4.88694641e+05,  5.87318500e+05, -5.63966169e+05,\n       -9.48453962e+05, -1.11420726e+06, -1.54134672e+06, -1.14151539e+06,\n        2.91314791e+05, -3.42817220e+05,  8.32749065e+05, -5.84102818e+05,\n       -1.09402579e+06, -5.36123698e+05, -1.79395574e+06, -1.65425881e+05,\n        5.28019445e+05, -3.44309956e+04, -8.89845833e+05,  5.08642697e+05,\n        5.56017621e+05, -8.85063200e+05, -1.38642587e+06,  2.99195235e+05,\n       -1.41673052e+06,  2.08968937e+06,  1.40568591e+05,  1.05687650e+04,\n       -6.32086594e+05, -3.35586374e+05,  6.09035487e+04, -7.67966849e+05,\n        4.39799333e+05,  1.00700650e+06, -2.52009777e+05,  1.03100610e+05,\n       -8.02603900e+05, -1.05232350e+06, -6.84169936e+05,  1.21251156e+06,\n       -1.62818178e+05,  1.70740532e+05,  1.28511630e+06, -7.83592986e+05,\n       -1.53946370e+06,  3.09998286e+05,  4.61778836e+04,  3.34702490e+05,\n       -2.25414697e+05, -1.26242405e+06,  7.42840348e+04,  2.94009806e+04,\n       -6.34020253e+05,  1.06915541e+05,  3.68408218e+05, -8.86982889e+05,\n       -1.73871231e+06,  5.99875639e+05, -8.32156802e+05, -8.77911225e+04,\n        9.01883177e+05,  9.89372784e+05, -5.63558424e+05, -8.23785376e+05,\n       -8.80789594e+04, -1.34619157e+06,  1.18854019e+06,  1.21999125e+06,\n        5.30987745e+04,  6.02029613e+05,  3.69503687e+05, -1.02010381e+05,\n        3.25054571e+05,  4.73373802e+05, -7.81993440e+05,  1.04374776e+05,\n       -1.21748046e+06, -1.43852085e+06,  2.55294726e+05, -1.27104169e+06,\n       -8.32933874e+05,  6.76898926e+05,  4.31846420e+05,  1.06623047e+05,\n        2.14786266e+02,  1.82306404e+03, -9.98843379e+02,  5.92844977e+02,\n        7.20901821e+02,  3.19268994e+02, -4.80504201e+02,  2.21189093e+01,\n       -2.36555914e+03,  1.70548432e+02,  2.38505871e+03, -3.42202834e+03,\n        1.74826719e+03, -3.57977085e+01, -1.40105828e+03, -7.15372093e+02,\n       -3.79804956e+03,  2.96189658e+03,  3.05473779e+03, -1.80036280e+03,\n        3.60305391e+02,  4.14700446e+03, -8.78062492e+02, -3.29338918e+03,\n       -5.71017106e+02, -1.64029175e+03, -3.38623039e+03, -6.52595136e+03,\n       -4.04834248e+02,  3.20549562e+03,  8.99744844e+03,  5.74538749e+03,\n        3.30648636e+03, -6.54050419e+03,  4.93106227e+03, -4.35655263e+03,\n       -1.09028776e+04,  2.02294902e+04, -2.78436342e+03,  1.94122547e+04,\n       -2.13141900e+04, -1.38743779e+04,  2.31360897e+04,  1.66313837e+04,\n       -1.73924488e+04,  2.42891835e+04,  4.30818176e+04, -4.12427473e+04,\n        5.44328943e+04,  2.05184916e+04, -8.13324008e+04,  9.81453926e+04,\n        2.90665777e+04, -8.07494510e+04,  5.83706426e+04, -1.65847014e+05,\n       -6.73707112e+04, -2.62850081e+05,  1.53775909e+04, -4.58367867e+04,\n        3.67143075e+05,  1.69433188e+05,  4.39603755e+05,  1.99898204e+05,\n       -8.04706360e+04,  3.74107330e+05,  4.37671842e+05,  9.73435526e+05,\n       -3.18322854e+05,  3.62023711e+05, -3.84699670e+05,  3.30700132e+05,\n        6.49711001e+05,  2.41998350e+04, -3.12372285e+05,  2.61410605e+04,\n       -7.46257137e+04,  7.55759538e+05,  5.27410884e+04, -8.16296379e+05,\n       -6.30616269e+05, -2.18168163e+06,  8.96505662e+04,  1.28613872e+06,\n       -4.31017252e+05,  1.50144711e+06,  3.71486822e+05, -1.07290805e+06,\n        3.25080473e+05, -6.84490951e+05,  5.65658847e+05,  1.41595956e+06,\n        4.46037157e+05, -5.34380670e+05, -1.98713969e+05,  4.06173058e+04,\n        2.17999332e+05,  2.20696966e+05, -6.18924678e+05,  2.34400795e+05,\n        2.46131094e+03, -6.29017595e+05, -5.30884718e+05,  1.93663582e+05,\n        3.85394669e+05,  3.88189801e+05,  7.21554388e+05, -1.22092606e+05,\n       -2.73804180e+05, -9.27169458e+04,  9.05502238e+05, -7.35002686e+05,\n        4.43393074e+05,  5.50313562e+05, -5.20020549e+05,  1.58004026e+06,\n       -1.66083657e+06,  7.07098516e+05, -8.50774522e+05,  5.38909808e+05,\n       -4.41909651e+04, -1.30059489e+05,  8.90975934e+04, -9.22410982e+04,\n       -4.09440545e+05,  7.89541809e+05, -7.78760586e+05, -3.10840842e+05,\n       -5.51553967e+05,  7.84962031e+05,  4.15673130e+05,  1.38083968e+06,\n        1.10264518e+05,  3.71398346e+05, -5.43634815e+05,  7.38147646e+05,\n       -2.73369660e+05, -3.79090488e+05,  7.86661985e+05,  1.95212779e+05,\n        4.96431312e+05, -1.99684582e+05,  1.06275838e+05, -8.00091948e+05,\n        1.62624056e+05,  3.64295556e+04,  1.16857060e+06,  6.00850617e+05,\n        1.85880926e+05, -8.38189444e+05,  1.31047243e+06, -6.67692511e+05,\n        6.40124781e+05, -1.03089289e+06,  6.44361717e+04, -7.42290576e+05,\n        2.31844606e+05, -4.34525427e+05, -9.76622396e+05, -1.02101068e+06,\n       -3.43137945e+05, -1.04234117e+06, -2.71838508e+05, -8.23209411e+05,\n        5.01630711e+04, -5.17091539e+05, -6.24740496e+05, -8.18040571e+05,\n        6.46754052e+04,  1.52971770e+05, -8.08205223e+05,  5.17889566e+05])"
     },
     "execution_count": 15,
     "metadata": {},
     "output_type": "execute_result"
    }
   ],
   "source": [
    "grad_mu"
   ],
   "metadata": {
    "collapsed": false,
    "ExecuteTime": {
     "end_time": "2023-09-29T07:30:50.485310Z",
     "start_time": "2023-09-29T07:30:50.481764Z"
    }
   }
  },
  {
   "cell_type": "code",
   "execution_count": 16,
   "outputs": [
    {
     "data": {
      "text/plain": "array([ 1.55708929e+06,  4.88661781e+05,  5.87287566e+05, -5.63994582e+05,\n       -9.48484397e+05, -1.11423785e+06, -1.54137805e+06, -1.14154956e+06,\n        2.91283579e+05, -3.42848351e+05,  8.32715288e+05, -5.84136730e+05,\n       -1.09405807e+06, -5.36153270e+05, -1.79398811e+06, -1.65456739e+05,\n        5.27988257e+05, -3.44634231e+04, -8.89878954e+05,  5.08611553e+05,\n        5.55984833e+05, -8.85097218e+05, -1.38645450e+06,  2.99163478e+05,\n       -1.41676123e+06,  2.08965975e+06,  1.40533874e+05,  1.05374326e+04,\n       -6.32116569e+05, -3.35616675e+05,  6.08722390e+04, -7.67999494e+05,\n        4.39766211e+05,  1.00697518e+06, -2.52042934e+05,  1.03071190e+05,\n       -8.02639104e+05, -1.05235645e+06, -6.84200619e+05,  1.21247978e+06,\n       -1.62849938e+05,  1.70708903e+05,  1.28508579e+06, -7.83626421e+05,\n       -1.53949515e+06,  3.09969803e+05,  4.61465713e+04,  3.34672875e+05,\n       -2.25447519e+05, -1.26245213e+06,  7.42530653e+04,  2.93740196e+04,\n       -6.34052581e+05,  1.06884261e+05,  3.68375026e+05, -8.87014472e+05,\n       -1.73874922e+06,  5.99839378e+05, -8.32186873e+05, -8.78232827e+04,\n        9.01853451e+05,  9.89346227e+05, -5.63591009e+05, -8.23819222e+05,\n       -8.81112114e+04, -1.34622319e+06,  1.18850803e+06,  1.21996200e+06,\n        5.30670067e+04,  6.01991359e+05,  3.69469183e+05, -1.02042437e+05,\n        3.25022001e+05,  4.73340555e+05, -7.82025360e+05,  1.04338755e+05,\n       -1.21751299e+06, -1.43854819e+06,  2.55262464e+05, -1.27107444e+06,\n       -8.32967509e+05,  6.76865448e+05,  4.31838636e+05,  1.06624105e+05,\n        2.13274601e+02,  1.81975311e+03, -9.96333841e+02,  5.93864244e+02,\n        7.23259624e+02,  3.21264529e+02, -4.80769064e+02,  2.16074134e+01,\n       -2.36278003e+03,  1.73610240e+02,  2.38294990e+03, -3.42384885e+03,\n        1.74888590e+03, -3.92867250e+01, -1.40119075e+03, -7.13749712e+02,\n       -3.79902613e+03,  2.96121670e+03,  3.05432865e+03, -1.80097501e+03,\n        3.61401581e+02,  4.14682732e+03, -8.79601168e+02, -3.29326189e+03,\n       -5.69320806e+02, -1.63487727e+03, -3.38803141e+03, -6.52649368e+03,\n       -4.03136413e+02,  3.20650841e+03,  8.99480248e+03,  5.75000756e+03,\n        3.30555227e+03, -6.54196922e+03,  4.92970628e+03, -4.35419991e+03,\n       -1.09069914e+04,  2.02261599e+04, -2.78394434e+03,  1.94106207e+04,\n       -2.13133010e+04, -1.38720159e+04,  2.31372147e+04,  1.66288402e+04,\n       -1.73919629e+04,  2.42851350e+04,  4.30842593e+04, -4.12400308e+04,\n        5.44340448e+04,  2.05148688e+04, -8.13350533e+04,  9.81424143e+04,\n        2.90655644e+04, -8.07497518e+04,  5.83693820e+04, -1.65851786e+05,\n       -6.73740151e+04, -2.62847309e+05,  1.53728599e+04, -4.58403168e+04,\n        3.67141642e+05,  1.69430054e+05,  4.39595709e+05,  1.99892252e+05,\n       -8.04791851e+04,  3.74095458e+05,  4.37659549e+05,  9.73418794e+05,\n       -3.18343507e+05,  3.62005272e+05, -3.84728144e+05,  3.30676231e+05,\n        6.49686022e+05,  2.41728370e+04, -3.12400613e+05,  2.61103960e+04,\n       -7.46563772e+04,  7.55728385e+05,  5.27084261e+04, -8.16326475e+05,\n       -6.30650455e+05, -2.18171406e+06,  8.96189707e+04,  1.28610937e+06,\n       -4.31049351e+05,  1.50141320e+06,  3.71456126e+05, -1.07294330e+06,\n        3.25049188e+05, -6.84524371e+05,  5.65626535e+05,  1.41592851e+06,\n        4.46004841e+05, -5.34410699e+05, -1.98745950e+05,  4.05884451e+04,\n        2.17967596e+05,  2.20664837e+05, -6.18958734e+05,  2.34369384e+05,\n        2.42716729e+03, -6.29051676e+05, -5.30916922e+05,  1.93628490e+05,\n        3.85362631e+05,  3.88160796e+05,  7.21523033e+05, -1.22127433e+05,\n       -2.73836398e+05, -9.27476185e+04,  9.05469428e+05, -7.35030283e+05,\n        4.43360908e+05,  5.50279121e+05, -5.20054763e+05,  1.58000877e+06,\n       -1.66087063e+06,  7.07063193e+05, -8.50807421e+05,  5.38875490e+05,\n       -4.42249272e+04, -1.30089945e+05,  8.90640260e+04, -9.22745403e+04,\n       -4.09474200e+05,  7.89504753e+05, -7.78792174e+05, -3.10868564e+05,\n       -5.51586951e+05,  7.84928207e+05,  4.15645975e+05,  1.38080978e+06,\n        1.10229761e+05,  3.71364240e+05, -5.43668475e+05,  7.38116565e+05,\n       -2.73400748e+05, -3.79116542e+05,  7.86628274e+05,  1.95180691e+05,\n        4.96398787e+05, -1.99717142e+05,  1.06243915e+05, -8.00121806e+05,\n        1.62593066e+05,  3.63981433e+04,  1.16853954e+06,  6.00815350e+05,\n        1.85847252e+05, -8.38221513e+05,  1.31044003e+06, -6.67726627e+05,\n        6.40092103e+05, -1.03091993e+06,  6.44010249e+04, -7.42322325e+05,\n        2.31811274e+05, -4.34556921e+05, -9.76655437e+05, -1.02104164e+06,\n       -3.43170945e+05, -1.04237097e+06, -2.71871430e+05, -8.23238924e+05,\n        5.01278119e+04, -5.17125952e+05, -6.24771056e+05, -8.18075363e+05,\n        6.46441783e+04,  1.52943270e+05, -8.08236165e+05,  5.17856172e+05])"
     },
     "execution_count": 16,
     "metadata": {},
     "output_type": "execute_result"
    }
   ],
   "source": [
    "grad[3: 3 + n]"
   ],
   "metadata": {
    "collapsed": false,
    "ExecuteTime": {
     "end_time": "2023-09-29T07:30:50.507021Z",
     "start_time": "2023-09-29T07:30:50.487375Z"
    }
   }
  },
  {
   "cell_type": "code",
   "execution_count": 17,
   "outputs": [
    {
     "data": {
      "text/plain": "array([-9.42343750e+01, -2.42988281e+01, -6.98003906e+02,  2.58910156e+02,\n        3.39089844e+02, -6.72480469e+02, -5.10503906e+02,  1.00585938e+00,\n       -4.93619141e+02, -1.64681641e+02, -2.00644531e+01,  7.97955078e+02,\n        8.13257812e+02, -8.73494141e+02, -7.79478516e+02, -1.12865234e+02,\n       -8.17982422e+02,  1.22718555e+03,  3.01375000e+02,  3.50937500e+01,\n        8.07666016e+02, -7.82187500e+01,  4.63335938e+02,  6.05261719e+02,\n       -1.93724609e+02, -3.28476562e+02, -6.92470703e+02, -1.47776953e+03,\n        5.78228516e+02, -5.74980469e+02, -4.25761719e+01, -5.21212891e+02,\n       -2.71466797e+02, -5.57587891e+02, -2.73962891e+02,  5.20103516e+02,\n       -1.11443945e+03,  3.31089844e+02,  1.68931641e+02, -1.11230273e+03,\n        4.03548828e+02, -1.01784570e+03,  6.20865234e+02, -5.40480469e+02,\n        3.88572266e+02,  1.04422852e+03, -6.47187500e+01,  6.68408203e+02,\n       -1.99818750e+03,  1.00313867e+03, -4.11144531e+02, -2.16044922e+02,\n        2.02929688e+00,  8.56806641e+02,  8.73779297e+02, -9.62441406e+01,\n        1.08006055e+03, -6.54373047e+02,  9.49160156e+01, -1.60173828e+02,\n        4.49083984e+02, -2.76746094e+02,  3.32371094e+02])"
     },
     "execution_count": 17,
     "metadata": {},
     "output_type": "execute_result"
    }
   ],
   "source": [
    "grad_a[1:]"
   ],
   "metadata": {
    "collapsed": false,
    "ExecuteTime": {
     "end_time": "2023-09-29T07:30:50.507377Z",
     "start_time": "2023-09-29T07:30:50.489666Z"
    }
   }
  },
  {
   "cell_type": "code",
   "execution_count": 18,
   "outputs": [
    {
     "data": {
      "text/plain": "array([-9.42411625e+01, -2.42987324e+01, -6.98007268e+02,  2.58910884e+02,\n        3.39084810e+02, -6.72484902e+02, -5.10512312e+02,  9.99283462e-01,\n       -4.93632534e+02, -1.64694653e+02, -2.00682269e+01,  7.97951610e+02,\n        8.13252644e+02, -8.73508921e+02, -7.79486708e+02, -1.12864082e+02,\n       -8.17987326e+02,  1.22717685e+03,  3.01367422e+02,  3.50870932e+01,\n        8.07665685e+02, -7.82232781e+01,  4.63333641e+02,  6.05252738e+02,\n       -1.93734303e+02, -3.28478219e+02, -6.92479899e+02, -1.47777449e+03,\n        5.78221240e+02, -5.74991921e+02, -4.25800971e+01, -5.21217776e+02,\n       -2.71469463e+02, -5.57595312e+02, -2.73966078e+02,  5.20100123e+02,\n       -1.11444918e+03,  3.31083723e+02,  1.68926104e+02, -1.11231077e+03,\n        4.03544331e+02, -1.01785313e+03,  6.20862705e+02, -5.40485049e+02,\n        3.88564957e+02,  1.04423015e+03, -6.47193232e+01,  6.68408692e+02,\n       -1.99819973e+03,  1.00313307e+03, -4.11144583e+02, -2.16049643e+02,\n        2.02294732e+00,  8.56802866e+02,  8.73770893e+02, -9.62452159e+01,\n        1.08005513e+03, -6.54377866e+02,  9.49100350e+01, -1.60181352e+02,\n        4.49084482e+02, -2.76750149e+02,  3.32366513e+02])"
     },
     "execution_count": 18,
     "metadata": {},
     "output_type": "execute_result"
    }
   ],
   "source": [
    "grad[3 + n : 3 + n + m - 1]"
   ],
   "metadata": {
    "collapsed": false,
    "ExecuteTime": {
     "end_time": "2023-09-29T07:30:50.507511Z",
     "start_time": "2023-09-29T07:30:50.496540Z"
    }
   }
  },
  {
   "cell_type": "code",
   "execution_count": 19,
   "outputs": [
    {
     "data": {
      "text/plain": "array([ -2600.8203125 ,  -4574.46289062,    819.54882812,   4198.61914062,\n         3028.13671875,  -2870.78125   ,  -2447.49023438,   1359.64648438,\n         -988.640625  ,  -4397.82421875,   2401.26953125,   2409.60351562,\n        -4369.82226562,    933.27929688,  -8203.72265625,  -5164.45703125,\n         -568.98046875,    664.58007812,   5960.75195312,    -53.1328125 ,\n        -2697.72851562,   3346.609375  ,   1029.71484375,  -1367.77539062,\n          435.88476562,  -4920.046875  ,  -4538.79492188,   3846.45703125,\n         -887.88867188,   2875.1875    ,  -3431.0390625 , -11381.09765625,\n        -2465.27929688,  -4392.08398438,  -1001.6953125 ,   6866.16992188,\n        -7469.53125   ,  -7577.296875  ,  -2523.13476562,   -203.94335938,\n        -3297.75976562,  -5050.44335938,  -2064.25195312,  -5564.69335938,\n          -56.34375   ,   2182.98046875,   2019.43554688,   3484.14453125,\n        -4904.15429688,    995.57617188,  -1928.515625  ,   2078.42578125,\n        -1586.90234375,   -750.62890625,   1275.91210938,   9934.2265625 ,\n         6482.01367188,   -589.90625   ,    432.50390625,  -2007.21679688,\n         -166.20507812,    708.59960938,  -3211.34375   ])"
     },
     "execution_count": 19,
     "metadata": {},
     "output_type": "execute_result"
    }
   ],
   "source": [
    "grad_eta[1:]"
   ],
   "metadata": {
    "collapsed": false,
    "ExecuteTime": {
     "end_time": "2023-09-29T07:30:50.507653Z",
     "start_time": "2023-09-29T07:30:50.500847Z"
    }
   }
  },
  {
   "cell_type": "code",
   "execution_count": 20,
   "outputs": [
    {
     "data": {
      "text/plain": "array([ -2600.90881238,  -4574.5530577 ,    819.45728673,   4198.53240948,\n         3028.04862766,  -2870.86785803,  -2447.58072351,   1359.56011826,\n         -988.73406191,  -4397.91649023,   2401.17992395,   2409.51234808,\n        -4369.91161947,    933.18418585,  -8203.81276936,  -5164.54337372,\n         -569.06931224,    664.48911582,   5960.66157188,    -53.21556403,\n        -2697.81606301,   3346.52275734,   1029.62734405,  -1367.86774791,\n          435.79836324,  -4920.13161134,  -4538.88473875,   3846.36492086,\n         -887.97608662,   2875.0884863 ,  -3431.12656801, -11381.1836537 ,\n        -2465.36782999,  -4392.17445335,  -1001.78482203,   6866.08296055,\n        -7469.62143067,  -7577.3821292 ,  -2523.21786566,   -204.03476414,\n        -3297.84875234,  -5050.53242251,  -2064.33696268,  -5564.77824509,\n          -56.43074698,   2182.89461999,   2019.35056685,   3484.05692934,\n        -4904.24259592,    995.48606814,  -1928.60559554,   2078.33468326,\n        -1586.98753262,   -750.72139634,   1275.82323294,   9934.13538253,\n         6481.92510928,   -589.99399642,    432.41538468,  -2007.30835701,\n         -166.28711633,    708.51405624,  -3211.43165614])"
     },
     "execution_count": 20,
     "metadata": {},
     "output_type": "execute_result"
    }
   ],
   "source": [
    "grad[3 + n + m - 1 : 3 + n + 2 * (m - 1)]"
   ],
   "metadata": {
    "collapsed": false,
    "ExecuteTime": {
     "end_time": "2023-09-29T07:30:50.629347Z",
     "start_time": "2023-09-29T07:30:50.505575Z"
    }
   }
  },
  {
   "cell_type": "code",
   "execution_count": 31,
   "outputs": [],
   "source": [
    "def tdnll_logv(_logv): return tdnll(x, mu, _logv, a, eta, ts, fix_logv=True, fix_mu=True, fix_a=True, fix_eta=True)[0]"
   ],
   "metadata": {
    "collapsed": false,
    "ExecuteTime": {
     "end_time": "2023-09-29T07:35:00.814795Z",
     "start_time": "2023-09-29T07:35:00.807555Z"
    }
   }
  },
  {
   "cell_type": "code",
   "execution_count": 32,
   "outputs": [],
   "source": [
    "grad_logv_nd = nd.Gradient(tdnll_logv)(logv)"
   ],
   "metadata": {
    "collapsed": false,
    "ExecuteTime": {
     "end_time": "2023-09-29T07:35:01.473007Z",
     "start_time": "2023-09-29T07:35:01.417836Z"
    }
   }
  },
  {
   "cell_type": "code",
   "execution_count": 33,
   "outputs": [
    {
     "data": {
      "text/plain": "array([ 3.82216259, 44.25424365, 15.07136749])"
     },
     "execution_count": 33,
     "metadata": {},
     "output_type": "execute_result"
    }
   ],
   "source": [
    "grad_logv_nd"
   ],
   "metadata": {
    "collapsed": false,
    "ExecuteTime": {
     "end_time": "2023-09-29T07:35:02.351108Z",
     "start_time": "2023-09-29T07:35:02.348454Z"
    }
   }
  },
  {
   "cell_type": "code",
   "execution_count": 34,
   "outputs": [
    {
     "data": {
      "text/plain": "array([ 3.82216259, 44.25424365, 15.07136749])"
     },
     "execution_count": 34,
     "metadata": {},
     "output_type": "execute_result"
    }
   ],
   "source": [
    "grad[:3]"
   ],
   "metadata": {
    "collapsed": false,
    "ExecuteTime": {
     "end_time": "2023-09-29T07:35:03.330855Z",
     "start_time": "2023-09-29T07:35:03.323942Z"
    }
   }
  },
  {
   "cell_type": "code",
   "execution_count": 35,
   "outputs": [],
   "source": [
    "hess_logv_nd = nd.Hessian(tdnll_logv)(logv)"
   ],
   "metadata": {
    "collapsed": false,
    "ExecuteTime": {
     "end_time": "2023-09-29T07:35:07.265681Z",
     "start_time": "2023-09-29T07:35:07.166021Z"
    }
   }
  },
  {
   "cell_type": "code",
   "execution_count": 36,
   "outputs": [
    {
     "data": {
      "text/plain": "array([[5887.59985164,   93.94490484,   14.79375904],\n       [  93.94490484, 1526.81807146,  143.87422014],\n       [  14.79375904,  143.87422014,  209.20853514]])"
     },
     "execution_count": 36,
     "metadata": {},
     "output_type": "execute_result"
    }
   ],
   "source": [
    "hess_logv_nd"
   ],
   "metadata": {
    "collapsed": false,
    "ExecuteTime": {
     "end_time": "2023-09-29T07:35:13.346467Z",
     "start_time": "2023-09-29T07:35:13.340345Z"
    }
   }
  },
  {
   "cell_type": "code",
   "execution_count": 37,
   "outputs": [],
   "source": [
    "def tdnll_mu(_mu): return tdnll(x, _mu, logv, a, eta, ts, fix_logv=True, fix_mu=True, fix_a=True, fix_eta=True)[0]"
   ],
   "metadata": {
    "collapsed": false,
    "ExecuteTime": {
     "end_time": "2023-09-29T07:35:44.036939Z",
     "start_time": "2023-09-29T07:35:44.035083Z"
    }
   }
  },
  {
   "cell_type": "code",
   "execution_count": 95,
   "outputs": [],
   "source": [
    "grad_mu_nd = nd.Gradient(tdnll_mu, full_output=True)(mu)"
   ],
   "metadata": {
    "collapsed": false,
    "ExecuteTime": {
     "end_time": "2023-09-29T07:53:06.699567Z",
     "start_time": "2023-09-29T07:53:06.504869Z"
    }
   }
  },
  {
   "cell_type": "code",
   "execution_count": 96,
   "outputs": [
    {
     "data": {
      "text/plain": "(array([ 1.55708769e+06,  4.88661338e+05,  5.87286933e+05, -5.63993970e+05,\n        -9.48483497e+05, -1.11423668e+06, -1.54137656e+06, -1.14154836e+06,\n         2.91283233e+05, -3.42847953e+05,  8.32714399e+05, -5.84136087e+05,\n        -1.09405703e+06, -5.36152673e+05, -1.79398638e+06, -1.65456510e+05,\n         5.27987663e+05, -3.44633211e+04, -8.89878133e+05,  5.08611115e+05,\n         5.55984205e+05, -8.85096259e+05, -1.38645319e+06,  2.99163257e+05,\n        -1.41675990e+06,  2.08965775e+06,  1.40533649e+05,  1.05375079e+04,\n        -6.32116025e+05, -3.35616249e+05,  6.08720855e+04, -7.67998632e+05,\n         4.39765674e+05,  1.00697428e+06, -2.52042784e+05,  1.03071192e+05,\n        -8.02638409e+05, -1.05235529e+06, -6.84200048e+05,  1.21247869e+06,\n        -1.62849895e+05,  1.70708856e+05,  1.28508437e+06, -7.83625507e+05,\n        -1.53949374e+06,  3.09969631e+05,  4.61463820e+04,  3.34672688e+05,\n        -2.25447446e+05, -1.26245071e+06,  7.42528287e+04,  2.93741583e+04,\n        -6.34052121e+05,  1.06884334e+05,  3.68374472e+05, -8.87013392e+05,\n        -1.73874768e+06,  5.99838986e+05, -8.32186257e+05, -8.78229694e+04,\n         9.01852314e+05,  9.89345483e+05, -5.63590702e+05, -8.23818130e+05,\n        -8.81114055e+04, -1.34622155e+06,  1.18850652e+06,  1.21996111e+06,\n         5.30666044e+04,  6.01991127e+05,  3.69468420e+05, -1.02041915e+05,\n         3.25021227e+05,  4.73340563e+05, -7.82025096e+05,  1.04339210e+05,\n        -1.21751238e+06, -1.43854610e+06,  2.55261496e+05, -1.27107239e+06,\n        -8.32967704e+05,  6.76858777e+05,  4.31823880e+05,  1.06624015e+05,\n         2.13282896e+02,  1.81975022e+03, -9.96332601e+02,  5.93863762e+02,\n         7.23260077e+02,  3.21264277e+02, -4.80768897e+02,  2.16072949e+01,\n        -2.36277985e+03,  1.73610359e+02,  2.38294994e+03, -3.42384893e+03,\n         1.74888600e+03, -3.92867951e+01, -1.40119063e+03, -7.13749716e+02,\n        -3.79902603e+03,  2.96121664e+03,  3.05432885e+03, -1.80097522e+03,\n         3.61401690e+02,  4.14682731e+03, -8.79601052e+02, -3.29326189e+03,\n        -5.69320764e+02, -1.63487710e+03, -3.38803128e+03, -6.52649337e+03,\n        -4.03136437e+02,  3.20650863e+03,  8.99480273e+03,  5.75000787e+03,\n         3.30555269e+03, -6.54196847e+03,  4.92970718e+03, -4.35419861e+03,\n        -1.09069894e+04,  2.02261627e+04, -2.78394055e+03,  1.94106266e+04,\n        -2.13132923e+04, -1.38720031e+04,  2.31372340e+04,  1.66288686e+04,\n        -1.73919202e+04,  2.42851993e+04,  4.30843562e+04, -4.12398854e+04,\n         5.44342655e+04,  2.05152022e+04, -8.13345511e+04,  9.81431821e+04,\n         2.90667247e+04, -8.07480009e+04,  5.83720422e+04, -1.65847795e+05,\n        -6.73679986e+04, -2.62838355e+05,  1.53861913e+04, -4.58208108e+04,\n         3.67169954e+05,  1.69470042e+05,  4.39651225e+05,  1.99966711e+05,\n        -8.03823706e+04,  3.74216822e+05,  4.37805515e+05,  9.73586799e+05,\n        -3.18158609e+05,  3.62200725e+05, -3.84528873e+05,  3.30872112e+05,\n         6.49873525e+05,  2.43480273e+04, -3.12239668e+05,  2.62553251e+04,\n        -7.45268853e+04,  7.55842007e+05,  5.28087150e+04, -8.16238294e+05,\n        -6.30573805e+05, -2.18164619e+06,  8.96758435e+04,  1.28615716e+06,\n        -4.31006623e+05,  1.50144805e+06,  3.71487072e+05, -1.07291542e+06,\n         3.25071957e+05, -6.84503930e+05,  5.65642983e+05,  1.41594163e+06,\n         4.46016912e+05, -5.34399493e+05, -1.98736551e+05,  4.05962354e+04,\n         2.17974137e+05,  2.20670358e+05, -6.18953151e+05,  2.34373354e+05,\n         2.43080984e+03, -6.29047969e+05, -5.30913717e+05,  1.93630547e+05,\n         3.85364208e+05,  3.88162052e+05,  7.21523753e+05, -1.22126111e+05,\n        -2.73835068e+05, -9.27466504e+04,  9.05469298e+05, -7.35028910e+05,\n         4.43361034e+05,  5.50279035e+05, -5.20053825e+05,  1.58000753e+06,\n        -1.66086866e+06,  7.07062732e+05, -8.50806345e+05,  5.38875131e+05,\n        -4.42247193e+04, -1.30089684e+05,  8.90640563e+04, -9.22743524e+04,\n        -4.09473704e+05,  7.89504035e+05, -7.78791334e+05, -3.10868200e+05,\n        -5.51586356e+05,  7.84927463e+05,  4.15645589e+05,  1.38080843e+06,\n         1.10229669e+05,  3.71363895e+05, -5.43667921e+05,  7.38115849e+05,\n        -2.73400470e+05, -3.79116142e+05,  7.86627486e+05,  1.95180514e+05,\n         4.96398285e+05, -1.99716924e+05,  1.06243800e+05, -8.00120987e+05,\n         1.62592892e+05,  3.63981262e+04,  1.16853836e+06,  6.00814770e+05,\n         1.85847049e+05, -8.38220654e+05,  1.31043870e+06, -6.67725936e+05,\n         6.40091442e+05, -1.03091887e+06,  6.44009365e+04, -7.42321556e+05,\n         2.31811016e+05, -4.34556459e+05, -9.76654488e+05, -1.02104059e+06,\n        -3.43170633e+05, -1.04236990e+06, -2.71871191e+05, -8.23238067e+05,\n         5.01277272e+04, -5.17125398e+05, -6.24770468e+05, -8.18074507e+05,\n         6.46440750e+04,  1.52943157e+05, -8.08235398e+05,  5.17855696e+05]),\n info(f_value=-147612.11995440038, error_estimate=array([[1.27105978e-05, 1.27075834e-05, 1.27078617e-05, 1.27077960e-05,\n         1.27088807e-05, 1.27093484e-05, 1.27105535e-05, 1.27094254e-05,\n         1.27070265e-05, 1.27071720e-05, 1.27085541e-05, 1.27078528e-05,\n         1.27092914e-05, 1.27077174e-05, 1.27112662e-05, 1.27066715e-05,\n         1.27076944e-05, 1.27063020e-05, 1.27087154e-05, 1.27076397e-05,\n         1.27077734e-05, 1.27087019e-05, 1.27101164e-05, 1.27070488e-05,\n         1.27102019e-05, 1.27121004e-05, 1.27066012e-05, 1.27062345e-05,\n         1.27079882e-05, 1.27071516e-05, 1.27063765e-05, 1.27083715e-05,\n         1.27074455e-05, 1.27090458e-05, 1.27069158e-05, 1.27064955e-05,\n         1.27084693e-05, 1.27091738e-05, 1.27081351e-05, 1.27096256e-05,\n         1.27066642e-05, 1.27066864e-05, 1.27098304e-05, 1.27084156e-05,\n         1.27105482e-05, 1.27070793e-05, 1.27063349e-05, 1.27071490e-05,\n         1.27068408e-05, 1.27097665e-05, 1.27064142e-05, 1.27062876e-05,\n         1.27079936e-05, 1.27065063e-05, 1.27072440e-05, 1.27087073e-05,\n         1.27111103e-05, 1.27078971e-05, 1.27085526e-05, 1.27064525e-05,\n         1.27087492e-05, 1.27089960e-05, 1.27077948e-05, 1.27085290e-05,\n         1.27064533e-05, 1.27100029e-05, 1.27095579e-05, 1.27096467e-05,\n         1.27063545e-05, 1.27079032e-05, 1.27072471e-05, 1.27064926e-05,\n         1.27071217e-05, 1.27075402e-05, 1.27084111e-05, 1.27064991e-05,\n         1.27096398e-05, 1.27102634e-05, 1.27069249e-05, 1.27097909e-05,\n         1.27085548e-05, 1.27081144e-05, 1.27074231e-05, 1.27065056e-05,\n         1.27062053e-05, 1.27062099e-05, 1.27062075e-05, 1.27062064e-05,\n         1.27062068e-05, 1.27062056e-05, 1.27062061e-05, 1.27062048e-05,\n         1.27062114e-05, 1.27062052e-05, 1.27062115e-05, 1.27062144e-05,\n         1.27062097e-05, 1.27062048e-05, 1.27062087e-05, 1.27062067e-05,\n         1.27062155e-05, 1.27062131e-05, 1.27062134e-05, 1.27062098e-05,\n         1.27062058e-05, 1.27062164e-05, 1.27062072e-05, 1.27062140e-05,\n         1.27062063e-05, 1.27062093e-05, 1.27062143e-05, 1.27062231e-05,\n         1.27062059e-05, 1.27062138e-05, 1.27062301e-05, 1.27062210e-05,\n         1.27062141e-05, 1.27062232e-05, 1.27062186e-05, 1.27062170e-05,\n         1.27062355e-05, 1.27062618e-05, 1.27062126e-05, 1.27062595e-05,\n         1.27062649e-05, 1.27062439e-05, 1.27062700e-05, 1.27062517e-05,\n         1.27062538e-05, 1.27062733e-05, 1.27063263e-05, 1.27063211e-05,\n         1.27063583e-05, 1.27062626e-05, 1.27064342e-05, 1.27064816e-05,\n         1.27062867e-05, 1.27064326e-05, 1.27063694e-05, 1.27066726e-05,\n         1.27063948e-05, 1.27069463e-05, 1.27062481e-05, 1.27063340e-05,\n         1.27072406e-05, 1.27066829e-05, 1.27074451e-05, 1.27067689e-05,\n         1.27064315e-05, 1.27072605e-05, 1.27074399e-05, 1.27089516e-05,\n         1.27071024e-05, 1.27072266e-05, 1.27072896e-05, 1.27071382e-05,\n         1.27080383e-05, 1.27062734e-05, 1.27070857e-05, 1.27062788e-05,\n         1.27064150e-05, 1.27083372e-05, 1.27063537e-05, 1.27085076e-05,\n         1.27079838e-05, 1.27123599e-05, 1.27064577e-05, 1.27098334e-05,\n         1.27074208e-05, 1.27104408e-05, 1.27072528e-05, 1.27092318e-05,\n         1.27071219e-05, 1.27081360e-05, 1.27078006e-05, 1.27101996e-05,\n         1.27074631e-05, 1.27077125e-05, 1.27067654e-05, 1.27063193e-05,\n         1.27068197e-05, 1.27068273e-05, 1.27079510e-05, 1.27068660e-05,\n         1.27062116e-05, 1.27079795e-05, 1.27077026e-05, 1.27067510e-05,\n         1.27072920e-05, 1.27072999e-05, 1.27082404e-05, 1.27065493e-05,\n         1.27069773e-05, 1.27064664e-05, 1.27087594e-05, 1.27082785e-05,\n         1.27074556e-05, 1.27077573e-05, 1.27076720e-05, 1.27106625e-05,\n         1.27108906e-05, 1.27081996e-05, 1.27086052e-05, 1.27077251e-05,\n         1.27063295e-05, 1.27065718e-05, 1.27064560e-05, 1.27064651e-05,\n         1.27073600e-05, 1.27084322e-05, 1.27084020e-05, 1.27070818e-05,\n         1.27077610e-05, 1.27084193e-05, 1.27073774e-05, 1.27101005e-05,\n         1.27065157e-05, 1.27072525e-05, 1.27077386e-05, 1.27082872e-05,\n         1.27069761e-05, 1.27072744e-05, 1.27084241e-05, 1.27067554e-05,\n         1.27076052e-05, 1.27067682e-05, 1.27065045e-05, 1.27084622e-05,\n         1.27066635e-05, 1.27063074e-05, 1.27095016e-05, 1.27078998e-05,\n         1.27067291e-05, 1.27085696e-05, 1.27099019e-05, 1.27080886e-05,\n         1.27080107e-05, 1.27091133e-05, 1.27063864e-05, 1.27082991e-05,\n         1.27068588e-05, 1.27074308e-05, 1.27089602e-05, 1.27090854e-05,\n         1.27071729e-05, 1.27091456e-05, 1.27069718e-05, 1.27085274e-05,\n         1.27063462e-05, 1.27076637e-05, 1.27079674e-05, 1.27085128e-05,\n         1.27063871e-05, 1.27066362e-05, 1.27084850e-05, 1.27076658e-05]]), final_step=array([[1.e-06, 1.e-06, 1.e-06, 1.e-06, 1.e-06, 1.e-06, 1.e-06, 1.e-06,\n         1.e-06, 1.e-06, 1.e-06, 1.e-06, 1.e-06, 1.e-06, 1.e-06, 1.e-06,\n         1.e-06, 1.e-06, 1.e-06, 1.e-06, 1.e-06, 1.e-06, 1.e-06, 1.e-06,\n         1.e-06, 1.e-06, 1.e-06, 1.e-06, 1.e-06, 1.e-06, 1.e-06, 1.e-06,\n         1.e-06, 1.e-06, 1.e-06, 1.e-06, 1.e-06, 1.e-06, 1.e-06, 1.e-06,\n         1.e-06, 1.e-06, 1.e-06, 1.e-06, 1.e-06, 1.e-06, 1.e-06, 1.e-06,\n         1.e-06, 1.e-06, 1.e-06, 1.e-06, 1.e-06, 1.e-06, 1.e-06, 1.e-06,\n         1.e-06, 1.e-06, 1.e-06, 1.e-06, 1.e-06, 1.e-06, 1.e-06, 1.e-06,\n         1.e-06, 1.e-06, 1.e-06, 1.e-06, 1.e-06, 1.e-06, 1.e-06, 1.e-06,\n         1.e-06, 1.e-06, 1.e-06, 1.e-06, 1.e-06, 1.e-06, 1.e-06, 1.e-06,\n         1.e-06, 1.e-06, 1.e-06, 1.e-06, 1.e-06, 1.e-06, 1.e-06, 1.e-06,\n         1.e-06, 1.e-06, 1.e-06, 1.e-06, 1.e-06, 1.e-06, 1.e-06, 1.e-06,\n         1.e-06, 1.e-06, 1.e-06, 1.e-06, 1.e-06, 1.e-06, 1.e-06, 1.e-06,\n         1.e-06, 1.e-06, 1.e-06, 1.e-06, 1.e-06, 1.e-06, 1.e-06, 1.e-06,\n         1.e-06, 1.e-06, 1.e-06, 1.e-06, 1.e-06, 1.e-06, 1.e-06, 1.e-06,\n         1.e-06, 1.e-06, 1.e-06, 1.e-06, 1.e-06, 1.e-06, 1.e-06, 1.e-06,\n         1.e-06, 1.e-06, 1.e-06, 1.e-06, 1.e-06, 1.e-06, 1.e-06, 1.e-06,\n         1.e-06, 1.e-06, 1.e-06, 1.e-06, 1.e-06, 1.e-06, 1.e-06, 1.e-06,\n         1.e-06, 1.e-06, 1.e-06, 1.e-06, 1.e-06, 1.e-06, 1.e-06, 1.e-06,\n         1.e-06, 1.e-06, 1.e-06, 1.e-06, 1.e-06, 1.e-06, 1.e-06, 1.e-06,\n         1.e-06, 1.e-06, 1.e-06, 1.e-06, 1.e-06, 1.e-06, 1.e-06, 1.e-06,\n         1.e-06, 1.e-06, 1.e-06, 1.e-06, 1.e-06, 1.e-06, 1.e-06, 1.e-06,\n         1.e-06, 1.e-06, 1.e-06, 1.e-06, 1.e-06, 1.e-06, 1.e-06, 1.e-06,\n         1.e-06, 1.e-06, 1.e-06, 1.e-06, 1.e-06, 1.e-06, 1.e-06, 1.e-06,\n         1.e-06, 1.e-06, 1.e-06, 1.e-06, 1.e-06, 1.e-06, 1.e-06, 1.e-06,\n         1.e-06, 1.e-06, 1.e-06, 1.e-06, 1.e-06, 1.e-06, 1.e-06, 1.e-06,\n         1.e-06, 1.e-06, 1.e-06, 1.e-06, 1.e-06, 1.e-06, 1.e-06, 1.e-06,\n         1.e-06, 1.e-06, 1.e-06, 1.e-06, 1.e-06, 1.e-06, 1.e-06, 1.e-06,\n         1.e-06, 1.e-06, 1.e-06, 1.e-06, 1.e-06, 1.e-06, 1.e-06, 1.e-06,\n         1.e-06, 1.e-06, 1.e-06, 1.e-06, 1.e-06, 1.e-06, 1.e-06, 1.e-06,\n         1.e-06, 1.e-06, 1.e-06, 1.e-06, 1.e-06, 1.e-06, 1.e-06, 1.e-06,\n         1.e-06, 1.e-06, 1.e-06, 1.e-06, 1.e-06, 1.e-06, 1.e-06, 1.e-06]]), index=array([  0,   1,   2,   3,   4,   5,   6,   7,   8,   9,  10,  11,  12,\n         13,  14,  15,  16,  17,  18,  19,  20,  21,  22,  23,  24,  25,\n         26,  27,  28,  29,  30,  31,  32,  33,  34,  35,  36,  37,  38,\n         39,  40,  41,  42,  43,  44,  45,  46,  47,  48,  49,  50,  51,\n         52,  53,  54,  55,  56,  57,  58,  59,  60,  61,  62,  63,  64,\n         65,  66,  67,  68,  69,  70,  71,  72,  73,  74,  75,  76,  77,\n         78,  79,  80,  81,  82,  83,  84,  85,  86,  87,  88,  89,  90,\n         91,  92,  93,  94,  95,  96,  97,  98,  99, 100, 101, 102, 103,\n        104, 105, 106, 107, 108, 109, 110, 111, 112, 113, 114, 115, 116,\n        117, 118, 119, 120, 121, 122, 123, 124, 125, 126, 127, 128, 129,\n        130, 131, 132, 133, 134, 135, 136, 137, 138, 139, 140, 141, 142,\n        143, 144, 145, 146, 147, 148, 149, 150, 151, 152, 153, 154, 155,\n        156, 157, 158, 159, 160, 161, 162, 163, 164, 165, 166, 167, 168,\n        169, 170, 171, 172, 173, 174, 175, 176, 177, 178, 179, 180, 181,\n        182, 183, 184, 185, 186, 187, 188, 189, 190, 191, 192, 193, 194,\n        195, 196, 197, 198, 199, 200, 201, 202, 203, 204, 205, 206, 207,\n        208, 209, 210, 211, 212, 213, 214, 215, 216, 217, 218, 219, 220,\n        221, 222, 223, 224, 225, 226, 227, 228, 229, 230, 231, 232, 233,\n        234, 235, 236, 237, 238, 239, 240, 241, 242, 243, 244, 245, 246,\n        247, 248, 249, 250, 251, 252, 253, 254, 255])))"
     },
     "execution_count": 96,
     "metadata": {},
     "output_type": "execute_result"
    }
   ],
   "source": [
    "grad_mu_nd"
   ],
   "metadata": {
    "collapsed": false,
    "ExecuteTime": {
     "end_time": "2023-09-29T07:53:07.829195Z",
     "start_time": "2023-09-29T07:53:07.819362Z"
    }
   }
  },
  {
   "cell_type": "code",
   "execution_count": 60,
   "outputs": [
    {
     "data": {
      "text/plain": "array([ 1.55708929e+06,  4.88661781e+05,  5.87287566e+05, -5.63994582e+05,\n       -9.48484397e+05, -1.11423785e+06, -1.54137805e+06, -1.14154956e+06,\n        2.91283579e+05, -3.42848351e+05,  8.32715288e+05, -5.84136730e+05,\n       -1.09405807e+06, -5.36153270e+05, -1.79398811e+06, -1.65456739e+05,\n        5.27988257e+05, -3.44634231e+04, -8.89878954e+05,  5.08611553e+05,\n        5.55984833e+05, -8.85097218e+05, -1.38645450e+06,  2.99163478e+05,\n       -1.41676123e+06,  2.08965975e+06,  1.40533874e+05,  1.05374326e+04,\n       -6.32116569e+05, -3.35616675e+05,  6.08722390e+04, -7.67999494e+05,\n        4.39766211e+05,  1.00697518e+06, -2.52042934e+05,  1.03071190e+05,\n       -8.02639104e+05, -1.05235645e+06, -6.84200619e+05,  1.21247978e+06,\n       -1.62849938e+05,  1.70708903e+05,  1.28508579e+06, -7.83626421e+05,\n       -1.53949515e+06,  3.09969803e+05,  4.61465713e+04,  3.34672875e+05,\n       -2.25447519e+05, -1.26245213e+06,  7.42530653e+04,  2.93740196e+04,\n       -6.34052581e+05,  1.06884261e+05,  3.68375026e+05, -8.87014472e+05,\n       -1.73874922e+06,  5.99839378e+05, -8.32186873e+05, -8.78232827e+04,\n        9.01853451e+05,  9.89346227e+05, -5.63591009e+05, -8.23819222e+05,\n       -8.81112114e+04, -1.34622319e+06,  1.18850803e+06,  1.21996200e+06,\n        5.30670067e+04,  6.01991359e+05,  3.69469183e+05, -1.02042437e+05,\n        3.25022001e+05,  4.73340555e+05, -7.82025360e+05,  1.04338755e+05,\n       -1.21751299e+06, -1.43854819e+06,  2.55262464e+05, -1.27107444e+06,\n       -8.32967509e+05,  6.76865448e+05,  4.31838636e+05,  1.06624105e+05,\n        2.13274601e+02,  1.81975311e+03, -9.96333841e+02,  5.93864244e+02,\n        7.23259624e+02,  3.21264529e+02, -4.80769064e+02,  2.16074134e+01,\n       -2.36278003e+03,  1.73610240e+02,  2.38294990e+03, -3.42384885e+03,\n        1.74888590e+03, -3.92867250e+01, -1.40119075e+03, -7.13749712e+02,\n       -3.79902613e+03,  2.96121670e+03,  3.05432865e+03, -1.80097501e+03,\n        3.61401581e+02,  4.14682732e+03, -8.79601168e+02, -3.29326189e+03,\n       -5.69320806e+02, -1.63487727e+03, -3.38803141e+03, -6.52649368e+03,\n       -4.03136413e+02,  3.20650841e+03,  8.99480248e+03,  5.75000756e+03,\n        3.30555227e+03, -6.54196922e+03,  4.92970628e+03, -4.35419991e+03,\n       -1.09069914e+04,  2.02261599e+04, -2.78394434e+03,  1.94106207e+04,\n       -2.13133010e+04, -1.38720159e+04,  2.31372147e+04,  1.66288402e+04,\n       -1.73919629e+04,  2.42851350e+04,  4.30842593e+04, -4.12400308e+04,\n        5.44340448e+04,  2.05148688e+04, -8.13350533e+04,  9.81424143e+04,\n        2.90655644e+04, -8.07497518e+04,  5.83693820e+04, -1.65851786e+05,\n       -6.73740151e+04, -2.62847309e+05,  1.53728599e+04, -4.58403168e+04,\n        3.67141642e+05,  1.69430054e+05,  4.39595709e+05,  1.99892252e+05,\n       -8.04791851e+04,  3.74095458e+05,  4.37659549e+05,  9.73418794e+05,\n       -3.18343507e+05,  3.62005272e+05, -3.84728144e+05,  3.30676231e+05,\n        6.49686022e+05,  2.41728370e+04, -3.12400613e+05,  2.61103960e+04,\n       -7.46563772e+04,  7.55728385e+05,  5.27084261e+04, -8.16326475e+05,\n       -6.30650455e+05, -2.18171406e+06,  8.96189707e+04,  1.28610937e+06,\n       -4.31049351e+05,  1.50141320e+06,  3.71456126e+05, -1.07294330e+06,\n        3.25049188e+05, -6.84524371e+05,  5.65626535e+05,  1.41592851e+06,\n        4.46004841e+05, -5.34410699e+05, -1.98745950e+05,  4.05884451e+04,\n        2.17967596e+05,  2.20664837e+05, -6.18958734e+05,  2.34369384e+05,\n        2.42716729e+03, -6.29051676e+05, -5.30916922e+05,  1.93628490e+05,\n        3.85362631e+05,  3.88160796e+05,  7.21523033e+05, -1.22127433e+05,\n       -2.73836398e+05, -9.27476185e+04,  9.05469428e+05, -7.35030283e+05,\n        4.43360908e+05,  5.50279121e+05, -5.20054763e+05,  1.58000877e+06,\n       -1.66087063e+06,  7.07063193e+05, -8.50807421e+05,  5.38875490e+05,\n       -4.42249272e+04, -1.30089945e+05,  8.90640260e+04, -9.22745403e+04,\n       -4.09474200e+05,  7.89504753e+05, -7.78792174e+05, -3.10868564e+05,\n       -5.51586951e+05,  7.84928207e+05,  4.15645975e+05,  1.38080978e+06,\n        1.10229761e+05,  3.71364240e+05, -5.43668475e+05,  7.38116565e+05,\n       -2.73400748e+05, -3.79116542e+05,  7.86628274e+05,  1.95180691e+05,\n        4.96398787e+05, -1.99717142e+05,  1.06243915e+05, -8.00121806e+05,\n        1.62593066e+05,  3.63981433e+04,  1.16853954e+06,  6.00815350e+05,\n        1.85847252e+05, -8.38221513e+05,  1.31044003e+06, -6.67726627e+05,\n        6.40092103e+05, -1.03091993e+06,  6.44010249e+04, -7.42322325e+05,\n        2.31811274e+05, -4.34556921e+05, -9.76655437e+05, -1.02104164e+06,\n       -3.43170945e+05, -1.04237097e+06, -2.71871430e+05, -8.23238924e+05,\n        5.01278119e+04, -5.17125952e+05, -6.24771056e+05, -8.18075363e+05,\n        6.46441783e+04,  1.52943270e+05, -8.08236165e+05,  5.17856172e+05])"
     },
     "execution_count": 60,
     "metadata": {},
     "output_type": "execute_result"
    }
   ],
   "source": [
    "grad[3 : 3 + n]"
   ],
   "metadata": {
    "collapsed": false,
    "ExecuteTime": {
     "end_time": "2023-09-29T07:43:46.169697Z",
     "start_time": "2023-09-29T07:43:46.120640Z"
    }
   }
  },
  {
   "cell_type": "code",
   "execution_count": null,
   "outputs": [],
   "source": [],
   "metadata": {
    "collapsed": false
   }
  }
 ],
 "metadata": {
  "kernelspec": {
   "display_name": "Python 3",
   "language": "python",
   "name": "python3"
  },
  "language_info": {
   "codemirror_mode": {
    "name": "ipython",
    "version": 2
   },
   "file_extension": ".py",
   "mimetype": "text/x-python",
   "name": "python",
   "nbconvert_exporter": "python",
   "pygments_lexer": "ipython2",
   "version": "2.7.6"
  }
 },
 "nbformat": 4,
 "nbformat_minor": 0
}
