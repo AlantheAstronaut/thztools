{
 "cells": [
  {
   "cell_type": "code",
   "execution_count": 1,
   "metadata": {
    "collapsed": true,
    "ExecuteTime": {
     "end_time": "2023-07-09T20:21:10.775951Z",
     "start_time": "2023-07-09T20:21:10.254693Z"
    }
   },
   "outputs": [],
   "source": [
    "from matplotlib import pyplot as plt\n",
    "from matplotlib.figure import figaspect\n",
    "\n",
    "import numpy as np\n",
    "from numpy.random import default_rng\n",
    "\n",
    "import thztools as thz"
   ]
  },
  {
   "cell_type": "code",
   "execution_count": 2,
   "outputs": [],
   "source": [
    "n = 256  # Number of samples\n",
    "m = 50  # Number of traces\n",
    "ts = 0.05  # Sampling time [ps]\n",
    "t0 = 2.5  # Peak pulse time [ps]\n",
    "fs = 1 / ts  # Sampling frequency [THz]\n",
    "\n",
    "sigma_alpha = 1e-4  # Additive noise amplitude [signal units]\n",
    "sigma_beta = 1e-2  # Multiplicative noise amplitude [dimensionless]\n",
    "sigma_tau = 1e-3  # Time base noise amplitude [ps]\n",
    "sigma_parms = np.array([sigma_alpha, sigma_beta, sigma_tau])\n",
    "\n",
    "seed = 0  # RNG seed\n",
    "rng = default_rng(seed)"
   ],
   "metadata": {
    "collapsed": false,
    "ExecuteTime": {
     "end_time": "2023-07-09T20:21:10.778867Z",
     "start_time": "2023-07-09T20:21:10.777434Z"
    }
   }
  },
  {
   "cell_type": "code",
   "execution_count": 3,
   "outputs": [],
   "source": [
    "mu, t = thz.thzgen(n, ts, t0)\n",
    "sigma = thz.noiseamp(sigma_parms, mu, ts)\n",
    "\n",
    "# Use broadcasting to generate multiple simulated noisy measurements of y\n",
    "x = mu + sigma * rng.standard_normal((m, n))"
   ],
   "metadata": {
    "collapsed": false,
    "ExecuteTime": {
     "end_time": "2023-07-09T20:21:10.781694Z",
     "start_time": "2023-07-09T20:21:10.780024Z"
    }
   }
  },
  {
   "cell_type": "code",
   "execution_count": 7,
   "outputs": [],
   "source": [
    "# tdnoisefit expects a column-oriented data array\n",
    "a0 = np.ones(m)\n",
    "eta0 = np.zeros(m)\n",
    "result = thz.tdnoisefit(\n",
    "    x.T, a0=a0, eta0=eta0, ts=ts, fix_a=False, fix_eta=False\n",
    ")"
   ],
   "metadata": {
    "collapsed": false,
    "ExecuteTime": {
     "end_time": "2023-07-09T20:21:37.907669Z",
     "start_time": "2023-07-09T20:21:35.304674Z"
    }
   }
  },
  {
   "cell_type": "code",
   "execution_count": 8,
   "outputs": [
    {
     "name": "stdout",
     "output_type": "stream",
     "text": [
      "Estimated var_alpha: 9.961e-09 ± 1.505e-10\n",
      "Estimated var_beta: 9.437e-05 ± 3.555e-06\n",
      "Estimated var_tau: 8.819e-07 ± 7.455e-08\n"
     ]
    }
   ],
   "source": [
    "p_names = [\"var_alpha\", \"var_beta\", \"var_tau\"]\n",
    "for i in range(3):\n",
    "    val = result[0]['var'][i] * (m / (m - 1))\n",
    "    err = result[2]['err']['var'][i, i] * (m / (m - 1))\n",
    "    print(f\"Estimated {p_names[i]}: {val:.4g} ± {err:.4g}\")"
   ],
   "metadata": {
    "collapsed": false,
    "ExecuteTime": {
     "end_time": "2023-07-09T20:21:38.744365Z",
     "start_time": "2023-07-09T20:21:38.740536Z"
    }
   }
  },
  {
   "cell_type": "code",
   "execution_count": 9,
   "outputs": [
    {
     "name": "stdout",
     "output_type": "stream",
     "text": [
      "Estimated sigma_alpha: 9.981e-05 ± 7.541e-07\n",
      "Estimated sigma_beta: 0.009715 ± 0.000183\n",
      "Estimated sigma_tau: 0.0009391 ± 3.97e-05\n",
      "Estimated sigma_alpha, relative to true value: 0.998 ± 0.008\n",
      "Estimated sigma_beta, relative to true value: 0.971 ± 0.018\n",
      "Estimated sigma_tau, relative to true value: 0.939 ± 0.037\n"
     ]
    }
   ],
   "source": [
    "p_names = [\"sigma_alpha\", \"sigma_beta\", \"sigma_tau\"]\n",
    "for i in range(3):\n",
    "    val = np.sqrt(result[0]['var'][i] * (m / (m - 1)))\n",
    "    err = 0.5 * result[2]['err']['var'][i, i] * (m / (m - 1)) / val\n",
    "    print(f\"Estimated {p_names[i]}: {val:.4g} ± {err:.4g}\")\n",
    "for i in range(3):\n",
    "    val = np.sqrt(result[0]['var'][i] * (m / (m - 1))) / sigma_parms[i]\n",
    "    err = (\n",
    "        0.5\n",
    "        * result[2]['err']['var'][i, i]\n",
    "        * (m / (m - 1))\n",
    "        / (sigma_parms[i] ** 2)\n",
    "    )\n",
    "    print(\n",
    "        f\"Estimated {p_names[i]}, relative to true value: {val:.3f} ± {err:.3f}\"\n",
    "    )"
   ],
   "metadata": {
    "collapsed": false,
    "ExecuteTime": {
     "end_time": "2023-07-09T20:21:40.206892Z",
     "start_time": "2023-07-09T20:21:40.203555Z"
    }
   }
  },
  {
   "cell_type": "code",
   "execution_count": 6,
   "outputs": [],
   "source": [],
   "metadata": {
    "collapsed": false,
    "ExecuteTime": {
     "end_time": "2023-07-09T20:21:11.853171Z",
     "start_time": "2023-07-09T20:21:11.851708Z"
    }
   }
  }
 ],
 "metadata": {
  "kernelspec": {
   "display_name": "Python 3",
   "language": "python",
   "name": "python3"
  },
  "language_info": {
   "codemirror_mode": {
    "name": "ipython",
    "version": 2
   },
   "file_extension": ".py",
   "mimetype": "text/x-python",
   "name": "python",
   "nbconvert_exporter": "python",
   "pygments_lexer": "ipython2",
   "version": "2.7.6"
  }
 },
 "nbformat": 4,
 "nbformat_minor": 0
}
