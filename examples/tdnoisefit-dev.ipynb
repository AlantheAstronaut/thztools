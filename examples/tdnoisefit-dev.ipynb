{
 "cells": [
  {
   "cell_type": "markdown",
   "source": [
    "# Procedure for estimating noise parameters"
   ],
   "metadata": {
    "collapsed": false
   }
  },
  {
   "cell_type": "code",
   "execution_count": 1,
   "outputs": [],
   "source": [
    "from __future__ import annotations\n",
    "\n",
    "from numpy.typing import ArrayLike\n",
    "from scipy.optimize import minimize\n",
    "from matplotlib import pyplot as plt\n",
    "from matplotlib.figure import figaspect\n",
    "\n",
    "import numpy as np\n",
    "from numpy.random import default_rng\n",
    "\n",
    "import thztools as thz\n",
    "from thztools import tdnll"
   ],
   "metadata": {
    "collapsed": false,
    "ExecuteTime": {
     "end_time": "2023-09-28T07:30:09.585968Z",
     "start_time": "2023-09-28T07:30:08.653850Z"
    }
   }
  },
  {
   "cell_type": "markdown",
   "source": [
    "## Simulate measurements\n",
    "Simulate a set of `m` waveforms, each sampled at `n` time points, with noise parameters\n",
    "`sigma_alpha`, `sigma_beta`, and `sigma_tau`, and store them in an array `x`. Note that\n",
    "`x` stores the waveforms in row orientation, with shape `(m, n)`, because NumPy\n",
    "broadcasting rules and FFT functions are simpler for arrays that are row-oriented.\n",
    "Measurement waveforms are typically loaded from data files in column orientation,\n",
    "however, so the `tdnoisefit` function assumes that the data array is column-oriented—this\n",
    "may be worth changing in a future version."
   ],
   "metadata": {
    "collapsed": false
   }
  },
  {
   "cell_type": "code",
   "execution_count": 2,
   "outputs": [],
   "source": [
    "n = 256  # Number of samples\n",
    "m = 64  # Number of waveforms\n",
    "ts = 0.05  # Sampling time [ps]\n",
    "t0 = 2.5  # Peak pulse time [ps]\n",
    "fs = 1 / ts  # Sampling frequency [THz]\n",
    "\n",
    "sigma_alpha = 1e-4  # Additive noise amplitude [signal units]\n",
    "sigma_beta = 1e-2  # Multiplicative noise amplitude [dimensionless]\n",
    "sigma_tau = 1e-3  # Time base noise amplitude [ps]\n",
    "sigma_parms = np.array([sigma_alpha, sigma_beta, sigma_tau])\n",
    "\n",
    "seed = 0  # RNG seed\n",
    "rng = default_rng(seed)"
   ],
   "metadata": {
    "collapsed": false,
    "ExecuteTime": {
     "end_time": "2023-09-28T07:30:09.590898Z",
     "start_time": "2023-09-28T07:30:09.586540Z"
    }
   }
  },
  {
   "cell_type": "code",
   "execution_count": 3,
   "outputs": [],
   "source": [
    "mu, t = thz.thzgen(n, ts, t0)\n",
    "sigma_mu = thz.noiseamp(sigma_parms, mu, ts)\n",
    "\n",
    "# Use broadcasting to generate multiple simulated noisy measurements of y\n",
    "x = mu + sigma_mu * rng.standard_normal((m, n))"
   ],
   "metadata": {
    "collapsed": false,
    "ExecuteTime": {
     "end_time": "2023-09-28T07:30:09.592122Z",
     "start_time": "2023-09-28T07:30:09.588694Z"
    }
   }
  },
  {
   "cell_type": "markdown",
   "source": [
    "## Fit for the noise parameters\n",
    "\n",
    "Set the initial guesses `a0` and `eta0` for the amplitudes and delays, respectively, and\n",
    "estimate the noise parameters from the simulated measurements. Note that we must take the\n",
    "transpose of `x`, to convert it from row-orientation to column-orientation."
   ],
   "metadata": {
    "collapsed": false
   }
  },
  {
   "cell_type": "code",
   "execution_count": 4,
   "outputs": [
    {
     "name": "stdout",
     "output_type": "stream",
     "text": [
      "Optimization terminated successfully.\n",
      "         Current function value: -86448.398482\n",
      "         Iterations: 84\n",
      "         Function evaluations: 273\n",
      "         Gradient evaluations: 273\n"
     ]
    }
   ],
   "source": [
    "# tdnoisefit expects a column-oriented data array\n",
    "v0 = np.mean(np.var(x, axis=0)) * np.ones(3)\n",
    "a0 = np.ones(m)\n",
    "eta0 = np.zeros(m)\n",
    "mu0 = np.mean(x, axis=0)\n",
    "result = thz.tdnoisefit(\n",
    "    x.T, v0=v0, mu0=mu0, a0=a0, eta0=eta0, ts=ts, fix_v=True, fix_mu=True, fix_a=True, fix_eta=False\n",
    ")"
   ],
   "metadata": {
    "collapsed": false,
    "ExecuteTime": {
     "end_time": "2023-09-28T07:30:09.755764Z",
     "start_time": "2023-09-28T07:30:09.592987Z"
    }
   }
  },
  {
   "cell_type": "code",
   "execution_count": 5,
   "outputs": [
    {
     "name": "stdout",
     "output_type": "stream",
     "text": [
      "Optimization terminated successfully.\n",
      "         Current function value: -86594.695628\n",
      "         Iterations: 42\n",
      "         Function evaluations: 133\n",
      "         Gradient evaluations: 133\n"
     ]
    }
   ],
   "source": [
    "eta0 = result[0][\"eta\"]\n",
    "mu0 = np.mean(thz.scaleshift(x, eta=-eta0), axis=0)\n",
    "result = thz.tdnoisefit(\n",
    "    x.T, v0=v0, mu0=mu0, a0=a0, eta0=eta0, ts=ts, fix_v=True, fix_mu=True, fix_a=False, fix_eta=True\n",
    ")"
   ],
   "metadata": {
    "collapsed": false,
    "ExecuteTime": {
     "end_time": "2023-09-28T07:30:09.833840Z",
     "start_time": "2023-09-28T07:30:09.754576Z"
    }
   }
  },
  {
   "cell_type": "code",
   "execution_count": 6,
   "outputs": [
    {
     "name": "stdout",
     "output_type": "stream",
     "text": [
      "Optimization terminated successfully.\n",
      "         Current function value: -118934.551064\n",
      "         Iterations: 566\n",
      "         Function evaluations: 1028\n",
      "         Gradient evaluations: 1028\n"
     ]
    }
   ],
   "source": [
    "result = thz.tdnoisefit(\n",
    "    x.T, v0=v0, mu0=mu0, a0=a0, eta0=eta0, ts=ts, fix_v=False, fix_mu=False, fix_a=False, fix_eta=False\n",
    ")"
   ],
   "metadata": {
    "collapsed": false,
    "ExecuteTime": {
     "end_time": "2023-09-28T07:30:14.060694Z",
     "start_time": "2023-09-28T07:30:09.828076Z"
    }
   }
  },
  {
   "cell_type": "markdown",
   "source": [
    "### Check the variance amplitude estimates\n",
    "\n",
    "The `tdnoisefit` function returns a tuple with three elements: a dictionary `p` of output\n",
    "parameters; the value `fval` of the cost function at those parameters; and a dictionary\n",
    "`diagnostic` that includes additional diagnostic information about the result, including\n",
    "the parameter uncertainty. Note that noise parameter uncertainty is expressed as a\n",
    "standard deviation, so the uncertainty in the noise parameters refers to the standard\n",
    "deviation of the variance amplitude. We apply the Poisson correction to each variance\n",
    "parameter and its associated uncertainty—that is we multiply each by `m / (m - 1)`."
   ],
   "metadata": {
    "collapsed": false
   }
  },
  {
   "cell_type": "code",
   "execution_count": 7,
   "outputs": [
    {
     "name": "stdout",
     "output_type": "stream",
     "text": [
      "Estimated var_alpha: 9.941e-09 ± 1.361e-10\n",
      "Estimated var_beta: 9.631e-05 ± 3.512e-06\n",
      "Estimated var_tau: 8.47e-07 ± 6.925e-08\n"
     ]
    }
   ],
   "source": [
    "p_names = [\"var_alpha\", \"var_beta\", \"var_tau\"]\n",
    "for i in range(3):\n",
    "    val = result[0]['var'][i] * (m / (m - 1))\n",
    "    err = result[2]['err']['var'][i] * (m / (m - 1))\n",
    "    print(f\"Estimated {p_names[i]}: {val:.4g} ± {err:.4g}\")"
   ],
   "metadata": {
    "collapsed": false,
    "ExecuteTime": {
     "end_time": "2023-09-28T07:30:14.066714Z",
     "start_time": "2023-09-28T07:30:14.062940Z"
    }
   }
  },
  {
   "cell_type": "code",
   "execution_count": 8,
   "outputs": [],
   "source": [
    "cv = result[2][\"cov\"]"
   ],
   "metadata": {
    "collapsed": false,
    "ExecuteTime": {
     "end_time": "2023-09-28T07:30:14.068149Z",
     "start_time": "2023-09-28T07:30:14.065642Z"
    }
   }
  },
  {
   "cell_type": "code",
   "execution_count": 9,
   "outputs": [
    {
     "data": {
      "text/plain": "array([[ 1.87535330e-04, -2.01357449e-05, -6.17016758e-06],\n       [-2.01358442e-05,  1.32961151e-03, -7.24082100e-04],\n       [-6.17007206e-06, -7.24082155e-04,  6.68415536e-03]])"
     },
     "execution_count": 9,
     "metadata": {},
     "output_type": "execute_result"
    }
   ],
   "source": [
    "cv[:3, :3]"
   ],
   "metadata": {
    "collapsed": false,
    "ExecuteTime": {
     "end_time": "2023-09-28T07:30:14.073190Z",
     "start_time": "2023-09-28T07:30:14.070530Z"
    }
   }
  },
  {
   "cell_type": "code",
   "execution_count": 10,
   "outputs": [
    {
     "data": {
      "text/plain": "'Optimization terminated successfully.'"
     },
     "execution_count": 10,
     "metadata": {},
     "output_type": "execute_result"
    }
   ],
   "source": [
    "result[2][\"message\"]"
   ],
   "metadata": {
    "collapsed": false,
    "ExecuteTime": {
     "end_time": "2023-09-28T07:30:14.077539Z",
     "start_time": "2023-09-28T07:30:14.073754Z"
    }
   }
  },
  {
   "cell_type": "markdown",
   "source": [
    "### Check the noise amplitude estimates\n",
    "\n",
    "Compare the noise amplitude estimates with their true values, specified in the\n",
    "simulation. The noise amplitudes are just the square root of the variance amplitudes,\n",
    "and propagating the error for the noise amplitude uncertainty yields\n",
    "\n",
    "$$\n",
    "\\sigma^2_{\\sigma_k} = \\left(\\frac{dV_k}{d\\sigma_k}\\right)^{-2} \\sigma^2_{V_k}\n",
    "= \\frac{1}{2\\sigma_k} \\sigma^2_{V_k}.\n",
    "$$"
   ],
   "metadata": {
    "collapsed": false
   }
  },
  {
   "cell_type": "code",
   "execution_count": 11,
   "outputs": [
    {
     "name": "stdout",
     "output_type": "stream",
     "text": [
      "Estimated sigma_alpha: 9.97e-05 ± 6.827e-07\n",
      "Estimated sigma_beta: 0.009814 ± 0.0001789\n",
      "Estimated sigma_tau: 0.0009204 ± 3.762e-05\n",
      "Estimated sigma_alpha, relative to true value: 0.997 ± 0.007\n",
      "Estimated sigma_beta, relative to true value: 0.981 ± 0.018\n",
      "Estimated sigma_tau, relative to true value: 0.920 ± 0.035\n"
     ]
    }
   ],
   "source": [
    "p_names = [\"sigma_alpha\", \"sigma_beta\", \"sigma_tau\"]\n",
    "for i in range(3):\n",
    "    val = np.sqrt(result[0]['var'][i] * (m / (m - 1)))\n",
    "    err = 0.5 * result[2]['err']['var'][i] * (m / (m - 1)) / val\n",
    "    print(f\"Estimated {p_names[i]}: {val:.4g} ± {err:.4g}\")\n",
    "for i in range(3):\n",
    "    val = np.sqrt(result[0]['var'][i] * (m / (m - 1))) / sigma_parms[i]\n",
    "    err = (\n",
    "        0.5\n",
    "        * result[2]['err']['var'][i]\n",
    "        * (m / (m - 1))\n",
    "        / (sigma_parms[i] ** 2)\n",
    "    )\n",
    "    print(\n",
    "        f\"Estimated {p_names[i]}, relative to true value: {val:.3f} ± {err:.3f}\"\n",
    "    )"
   ],
   "metadata": {
    "collapsed": false,
    "ExecuteTime": {
     "end_time": "2023-09-28T07:30:14.080753Z",
     "start_time": "2023-09-28T07:30:14.078013Z"
    }
   }
  },
  {
   "cell_type": "markdown",
   "source": [
    "Plot the data"
   ],
   "metadata": {
    "collapsed": false
   }
  },
  {
   "cell_type": "code",
   "execution_count": 12,
   "outputs": [
    {
     "data": {
      "text/plain": "<Figure size 640x480 with 1 Axes>",
      "image/png": "[encoded data removed]"
     },
     "metadata": {},
     "output_type": "display_data"
    }
   ],
   "source": [
    "_, ax = plt.subplots()\n",
    "ax.plot(t, x.T)\n",
    "ax.set_xlabel('Time (ps)')\n",
    "ax.set_ylabel('Field (arb. units)')\n",
    "plt.show()"
   ],
   "metadata": {
    "collapsed": false,
    "ExecuteTime": {
     "end_time": "2023-09-28T07:30:14.226700Z",
     "start_time": "2023-09-28T07:30:14.080687Z"
    }
   }
  },
  {
   "cell_type": "code",
   "execution_count": 13,
   "outputs": [
    {
     "data": {
      "text/plain": "<Figure size 640x480 with 1 Axes>",
      "image/png": "[encoded data removed]"
     },
     "metadata": {},
     "output_type": "display_data"
    }
   ],
   "source": [
    "_, ax = plt.subplots()\n",
    "ax.plot(t, np.std(x, axis=0).T)\n",
    "ax.set_xlabel('Time (ps)')\n",
    "ax.set_ylabel('Field (arb. units)')\n",
    "plt.show()"
   ],
   "metadata": {
    "collapsed": false,
    "ExecuteTime": {
     "end_time": "2023-09-28T07:30:14.293859Z",
     "start_time": "2023-09-28T07:30:14.227758Z"
    }
   }
  },
  {
   "cell_type": "markdown",
   "source": [
    "## Consider alternative method\n",
    "Try alternating between minimizing the least-squares portion of the cost function for fixed $\\sigma$ and minimizing the log-likelihood as a function of $\\sigma$ while holding all other parameters fixed."
   ],
   "metadata": {
    "collapsed": false
   }
  },
  {
   "cell_type": "code",
   "execution_count": 14,
   "outputs": [],
   "source": [
    "from scipy.fft import rfft, irfft, rfftfreq\n",
    "\n",
    "def lsq_res(p: ArrayLike, x: ArrayLike, log_v: ArrayLike, ts: float) -> ArrayLike:\n",
    "    p = np.asarray(p)\n",
    "    x = np.asarray(x)\n",
    "    log_v = np.asarray(log_v)\n",
    "    \n",
    "    m, n = x.shape\n",
    "    mu = p[:n]\n",
    "    a = np.concatenate(([1.0], p[n : n + m - 1]))\n",
    "    eta = np.concatenate(([0.0], p[n + m - 1: n + 2 * (m - 1)]))\n",
    "    v = np.exp(log_v)\n",
    "\n",
    "    # Compute frequency vector and Fourier coefficients of mu\n",
    "    f = rfftfreq(n, ts)\n",
    "    w = 2 * np.pi * f\n",
    "    mu_f = rfft(mu)\n",
    "\n",
    "    exp_iweta = np.exp(1j * np.outer(eta, w))\n",
    "    zeta_f = ((np.conj(exp_iweta) * mu_f).T * a).T\n",
    "    zeta = irfft(zeta_f, n=n)\n",
    "\n",
    "    # Compute residuals and their squares for subsequent computations\n",
    "    res = x - zeta\n",
    "    ressq = res**2\n",
    "\n",
    "    # Alternative case: A, eta, or both are not set to defaults\n",
    "    dzeta = irfft(1j * w * zeta_f, n=n)\n",
    "\n",
    "    valpha = v[0]\n",
    "    vbeta = v[1] * zeta**2\n",
    "    vtau = v[2] * dzeta**2\n",
    "    vtot = valpha + vbeta + vtau\n",
    "\n",
    "    resnormsq = ressq / vtot\n",
    "    return resnormsq.flatten()"
   ],
   "metadata": {
    "collapsed": false,
    "ExecuteTime": {
     "end_time": "2023-09-28T07:30:14.294542Z",
     "start_time": "2023-09-28T07:30:14.287172Z"
    }
   }
  },
  {
   "cell_type": "code",
   "execution_count": 15,
   "outputs": [],
   "source": [
    "p0 = np.concatenate((mu0, a0[1:], eta0[1:]))\n",
    "res = lsq_res(p0, x, np.log(v0), ts)"
   ],
   "metadata": {
    "collapsed": false,
    "ExecuteTime": {
     "end_time": "2023-09-28T07:30:14.296612Z",
     "start_time": "2023-09-28T07:30:14.290718Z"
    }
   }
  },
  {
   "cell_type": "code",
   "execution_count": 16,
   "outputs": [],
   "source": [
    "from scipy.optimize import least_squares\n",
    "\n",
    "out = least_squares(lsq_res, p0, args=(x, np.log(v0), ts))"
   ],
   "metadata": {
    "collapsed": false,
    "ExecuteTime": {
     "end_time": "2023-09-28T07:30:27.124700Z",
     "start_time": "2023-09-28T07:30:14.296834Z"
    }
   }
  },
  {
   "cell_type": "code",
   "execution_count": 17,
   "outputs": [
    {
     "data": {
      "text/plain": "     message: `ftol` termination condition is satisfied.\n     success: True\n      status: 2\n         fun: [ 7.096e-02  6.408e-02 ...  1.791e-02  1.037e-01]\n           x: [-4.309e-04  4.082e-04 ...  1.130e-03 -2.433e-03]\n        cost: 15371.544971735677\n         jac: [[-3.202e+02 -3.357e-02 ...  0.000e+00 -0.000e+00]\n               [-2.925e-02  3.042e+02 ...  0.000e+00 -0.000e+00]\n               ...\n               [ 4.037e+00 -2.669e+00 ...  0.000e+00  2.575e+00]\n               [ 1.998e+01 -9.737e+00 ...  0.000e+00  6.382e+00]]\n        grad: [-3.011e-02  3.776e-03 ... -1.070e+00 -2.727e+00]\n  optimality: 31.62243319292611\n active_mask: [ 0.000e+00  0.000e+00 ...  0.000e+00  0.000e+00]\n        nfev: 18\n        njev: 17"
     },
     "execution_count": 17,
     "metadata": {},
     "output_type": "execute_result"
    }
   ],
   "source": [
    "out"
   ],
   "metadata": {
    "collapsed": false,
    "ExecuteTime": {
     "end_time": "2023-09-28T07:30:27.128012Z",
     "start_time": "2023-09-28T07:30:27.125843Z"
    }
   }
  },
  {
   "cell_type": "code",
   "execution_count": 18,
   "outputs": [],
   "source": [
    "def tdnoisefit_lsq(x: ArrayLike, *, v0: ArrayLike, mu0: ArrayLike, a0: ArrayLike, eta0: ArrayLike, ts: float) -> tuple[dict, float, dict]:\n",
    "    x = np.asarray(x)\n",
    "    n, m = x.shape\n",
    "    v0 = np.asarray(v0)\n",
    "    mu0 = np.asarray(mu0)\n",
    "    a0 = np.asarray(a0)\n",
    "    eta0 = np.asarray(eta0)\n",
    "    \n",
    "    logv0 = np.ma.log(v0).filled(-np.inf)\n",
    "\n",
    "    p0 = np.array([])\n",
    "    p0 = np.concatenate((p0, mu0))\n",
    "    p0 = np.concatenate((p0, a0[1:] / a0[0]))\n",
    "    p0 = np.concatenate((p0, eta0[1:] - eta0[0]))\n",
    "    \n",
    "    k = 0\n",
    "    maxiter = 1000\n",
    "    tdnll0, _ = tdnll(x.T, mu0, logv0, a0, eta0, ts, fix_logv=True, fix_mu=True, fix_a=True, fix_eta=True)\n",
    "    while k < maxiter:\n",
    "        out = least_squares(lsq_res, p0, args=(x.T, logv0, ts))\n",
    "        p0 = out.x\n",
    "        mu0 = p0[:n]\n",
    "        a0 = np.concatenate(([1.0], p0[n: n + m - 1]))\n",
    "        eta0 = np.concatenate(([0.0], p0[n + m - 1: n + 2 * (m - 1)]))\n",
    "        def objective(_logv):\n",
    "            return tdnll(x.T, mu0, _logv, a0, eta0, ts, fix_logv=False, fix_mu=True, fix_a=True, fix_eta=True)\n",
    "        out = minimize(objective, logv0, jac=True)\n",
    "        tdnll1 = out.fun\n",
    "        if tdnll1 < tdnll0:\n",
    "            logv0 = out.x\n",
    "            tdnll0 = tdnll1\n",
    "            k += 1\n",
    "        else:\n",
    "            break\n",
    "    \n",
    "    p = {}\n",
    "    p[\"var\"] = np.exp(logv0)\n",
    "    p[\"mu\"] = mu0\n",
    "    p[\"a\"] = a0\n",
    "    p[\"eta\"] = eta0\n",
    "    \n",
    "    diagnostic = {\n",
    "        \"grad\": out.jac,\n",
    "        \"cov\": out.hess_inv,\n",
    "        \"err\": {\n",
    "            \"var\": np.array([]),\n",
    "        },\n",
    "        \"success\": out.success,\n",
    "        \"status\": out.status,\n",
    "        \"message\": out.message,\n",
    "        \"nfev\": out.nfev,\n",
    "        \"njev\": out.njev,\n",
    "        \"nit\": out.nit,\n",
    "    }\n",
    "    # Propagate error from log(V) to V\n",
    "    diagnostic[\"err\"][\"var\"] = np.sqrt(\n",
    "        np.diag(np.diag(p[\"var\"]) @ diagnostic[\"cov\"][0:3, 0:3])\n",
    "        @ np.diag(p[\"var\"])\n",
    "    )\n",
    "\n",
    "    return p, out.fun, diagnostic"
   ],
   "metadata": {
    "collapsed": false,
    "ExecuteTime": {
     "end_time": "2023-09-28T07:30:27.135274Z",
     "start_time": "2023-09-28T07:30:27.130798Z"
    }
   }
  },
  {
   "cell_type": "code",
   "execution_count": 19,
   "outputs": [],
   "source": [
    "# p, f, d = tdnoisefit_lsq(x.T, v0=v0, mu0=mu0, a0=a0, eta0=eta0, ts=ts)"
   ],
   "metadata": {
    "collapsed": false,
    "ExecuteTime": {
     "end_time": "2023-09-28T07:30:27.139586Z",
     "start_time": "2023-09-28T07:30:27.135516Z"
    }
   }
  },
  {
   "cell_type": "code",
   "execution_count": 20,
   "outputs": [],
   "source": [
    "# p_names = [\"var_alpha\", \"var_beta\", \"var_tau\"]\n",
    "# for i in range(3):\n",
    "#     val = result[0]['var'][i] * (m / (m - 1))\n",
    "#     err = result[2]['err']['var'][i] * (m / (m - 1))\n",
    "#     print(f\"Estimated {p_names[i]}: {val:.4g} ± {err:.4g}\")"
   ],
   "metadata": {
    "collapsed": false,
    "ExecuteTime": {
     "end_time": "2023-09-28T07:30:27.140816Z",
     "start_time": "2023-09-28T07:30:27.138048Z"
    }
   }
  },
  {
   "cell_type": "markdown",
   "source": [
    "## Check gradient calculation in tdnll"
   ],
   "metadata": {
    "collapsed": false
   }
  },
  {
   "cell_type": "code",
   "execution_count": 21,
   "outputs": [],
   "source": [
    "logv0 = np.log(sigma_parms**2)\n",
    "val, grad = tdnll(x, mu0, logv0, a0, eta0, ts, fix_logv=False, fix_mu=False, fix_a=False, fix_eta=False)"
   ],
   "metadata": {
    "collapsed": false,
    "ExecuteTime": {
     "end_time": "2023-09-28T07:30:27.144607Z",
     "start_time": "2023-09-28T07:30:27.140607Z"
    }
   }
  },
  {
   "cell_type": "code",
   "execution_count": 22,
   "outputs": [],
   "source": [
    "from scipy.optimize import approx_fprime\n",
    "\n",
    "grad_logv = approx_fprime(logv0, lambda logv: tdnll(x, mu0, logv, a0, eta0, ts, fix_logv=True, fix_mu=True, fix_a=True, fix_eta=True)[0])\n",
    "grad_mu = approx_fprime(mu0, lambda mu: tdnll(x, mu, logv0, a0, eta0, ts, fix_logv=True, fix_mu=True, fix_a=True, fix_eta=True)[0], epsilon=1e-10)\n",
    "grad_a = approx_fprime(a0, lambda a: tdnll(x, mu0, logv0, a, eta0, ts, fix_logv=True, fix_mu=True, fix_a=True, fix_eta=True)[0])\n",
    "grad_eta = approx_fprime(eta0, lambda eta: tdnll(x, mu0, logv0, a0, eta, ts, fix_logv=True, fix_mu=True, fix_a=True, fix_eta=True)[0])"
   ],
   "metadata": {
    "collapsed": false,
    "ExecuteTime": {
     "end_time": "2023-09-28T07:30:27.284635Z",
     "start_time": "2023-09-28T07:30:27.146197Z"
    }
   }
  },
  {
   "cell_type": "code",
   "execution_count": 23,
   "outputs": [
    {
     "data": {
      "text/plain": "array([135.05957031,  41.13183594,   1.70800781])"
     },
     "execution_count": 23,
     "metadata": {},
     "output_type": "execute_result"
    }
   ],
   "source": [
    "grad_logv"
   ],
   "metadata": {
    "collapsed": false,
    "ExecuteTime": {
     "end_time": "2023-09-28T07:30:27.289339Z",
     "start_time": "2023-09-28T07:30:27.285626Z"
    }
   }
  },
  {
   "cell_type": "code",
   "execution_count": 24,
   "outputs": [
    {
     "data": {
      "text/plain": "array([135.05954989,  41.134872  ,   1.70915813])"
     },
     "execution_count": 24,
     "metadata": {},
     "output_type": "execute_result"
    }
   ],
   "source": [
    "grad[:3]"
   ],
   "metadata": {
    "collapsed": false,
    "ExecuteTime": {
     "end_time": "2023-09-28T07:30:27.291539Z",
     "start_time": "2023-09-28T07:30:27.288831Z"
    }
   }
  },
  {
   "cell_type": "code",
   "execution_count": 25,
   "outputs": [
    {
     "data": {
      "text/plain": "array([ 1.97193003e+03, -1.51543645e+03,  1.11860572e+03, -6.85395207e+01,\n       -1.17273885e+03,  1.84314558e+03, -2.99245585e+03,  2.14509782e+03,\n        1.84809323e+01, -8.90140655e+02, -3.00206011e+02,  2.22717063e+03,\n       -2.62822141e+03,  1.63636287e+03, -1.57553586e+03,  2.29571015e+03,\n       -2.11264705e+03,  9.00326995e+02,  1.06272637e+03, -2.02358933e+03,\n        1.29890395e+03,  3.67581379e+02,  6.30097929e+01, -3.32220225e+02,\n       -1.83936208e+02, -6.85395207e+02, -2.02271622e+02,  2.20461516e+02,\n       -5.84986992e+02,  8.75297701e+02, -7.28905434e+02,  1.22410711e+03,\n        2.12166924e+02, -2.79251253e+02,  1.82917574e+02, -8.90286174e+02,\n        3.02679837e+02,  4.05707397e+02, -2.39073415e+03,  2.15863110e+03,\n       -1.28333340e+03,  2.22207746e+03, -1.74535671e+03,  7.59901013e+02,\n       -9.87056410e+02,  1.00582838e+03, -1.19558536e+03,  6.77886419e+03,\n        2.12923624e+03,  4.84578771e+02,  4.72937206e+02,  2.91038280e-01,\n        1.79716138e+02, -1.42608757e+01,  4.04543210e+01, -7.47968381e+01,\n        3.66708233e+01, -2.56259206e+02,  1.68802203e+01, -5.43223026e+02,\n       -4.26516630e+02, -2.37341718e+02, -3.65689599e+02, -8.30914291e+01,\n       -1.96014282e+02,  6.94126299e+01, -3.55066702e+01,  3.62342659e+01,\n       -8.73114841e-01,  5.36965627e+01,  8.64383693e+01,  6.21366729e+01,\n        6.33008260e+01,  1.10885585e+02, -3.92901679e+00,  1.01717879e+02,\n        1.07247606e+02,  1.75496083e+02,  3.55648779e+02,  5.09316991e+00,\n        4.64642679e+02,  1.61671787e+02,  3.85480256e+02,  3.14175867e+02,\n        2.68919408e+02,  2.20024971e+02,  6.99219517e+02,  3.45462463e+02,\n        8.31932982e+02,  1.05254001e+03,  5.09462545e+02,  1.19296599e+03,\n        1.95650498e+03,  4.59112919e+02,  9.78470767e+02,  9.70176175e+02,\n        1.28362445e+03,  1.46945241e+03,  2.19937648e+03,  4.76866264e+02,\n        1.58455806e+03,  6.88305593e+01,  2.50860468e+03,  6.45086405e+02,\n        2.61657989e+03,  8.61909942e+02,  1.11409463e+03,  8.23201844e+02,\n        6.97036739e+02,  1.25859515e+03, -4.55474946e+02,  9.43691702e+02,\n        7.89877958e+02,  1.70315616e+03, -7.53934728e+02,  1.55327143e+03,\n       -2.38796929e+03,  1.96334440e+03, -7.53498170e+02,  2.59751687e+02,\n        1.23298378e+03, -1.75365130e+03,  1.62763172e+03, -1.73531589e+03,\n        1.55938324e+03,  9.19244485e+02, -2.13389285e+03,  8.24511517e+02,\n        3.77331162e+02, -3.20142135e+00,  2.98314262e+01,  7.36326911e+02,\n        3.19269020e+02, -9.07020876e+02, -1.23836799e+03,  3.83006409e+02,\n        1.51980203e+03, -1.36395101e+03,  1.73749868e+03, -2.07583071e+03,\n        2.06346158e+03, -2.09198333e+03,  1.90106221e+03, -1.51660061e+03,\n        1.78697519e+02,  6.69533620e+02,  1.05195795e+03, -1.91110303e+03,\n        1.24447979e+03, -6.17292244e+02, -4.16475814e+02,  1.00437319e+03,\n       -7.56699592e+02,  2.28756107e+02,  4.26080078e+02, -1.43481884e+02,\n        1.21857738e+03, -3.03669367e+03,  2.50394805e+03, -1.39843905e+03,\n       -6.19911589e+02,  1.23283826e+03,  4.00468707e+02, -1.13432179e+03,\n        1.21799530e+03, -7.47968443e+01, -1.06141670e+03,  7.66303856e+02,\n        7.10133463e+02, -1.61322532e+03,  8.06467142e+02, -6.15982572e+02,\n        2.36614142e+02,  9.36852302e+02, -1.55050657e+03,  1.16793672e+03,\n       -6.37519406e+02,  1.29133696e+03, -3.94647941e+02, -1.31214620e+03,\n        1.22949132e+03, -1.57306204e+02, -2.57568900e+02, -1.49011612e+02,\n       -2.61934474e+02,  3.62342689e+01,  1.22017809e+03,  1.58033799e+02,\n       -2.00147042e+03,  6.98491931e+00,  1.70010026e+03, -3.15776560e+02,\n        6.08124537e+02, -1.53755536e+03,  4.23460733e+02, -2.75467755e+02,\n       -4.99276211e+02,  9.47329681e+02,  1.13795977e+02, -1.48924300e+03,\n        2.16823537e+03, -5.45842340e+02, -4.35829861e+02, -5.58648026e+02,\n       -3.81260179e+02,  6.63858373e+02,  6.51634764e+02, -1.60071068e+01,\n       -5.91389835e+02, -2.32830644e+00,  1.03216735e+03, -9.34523996e+02,\n        9.44419298e+02, -1.39072654e+03,  2.74012564e+02,  8.08067853e+02,\n        4.39467840e+01, -3.62197170e+02, -7.56699592e+00,  5.89789124e+02,\n       -1.38912583e+03,  6.87869033e+02, -1.01863407e+02,  1.39465556e+03,\n       -6.77391654e+02, -7.92788342e+02,  9.60135367e+02, -9.90985427e+01,\n       -2.69050361e+03,  2.75584171e+03, -4.25789040e+02,  7.17409421e+02,\n       -1.64931407e+03,  1.13315764e+03,  2.59460649e+02,  4.14584065e+02,\n       -8.58271960e+02, -3.61615093e+02,  4.74101398e+02, -8.58562998e+01,\n       -8.86066118e+02,  2.28101271e+03, -1.94428139e+03,  8.02101567e+02,\n       -1.63665391e+03,  1.46974344e+03, -3.78349796e+00,  1.02721970e+03,\n       -6.07105903e+02, -1.22032361e+03, -1.07684173e+02,  6.85540726e+02,\n       -1.45359081e+03,  3.34039214e+03, -2.39000656e+03, -3.21742846e+02])"
     },
     "execution_count": 25,
     "metadata": {},
     "output_type": "execute_result"
    }
   ],
   "source": [
    "grad_mu"
   ],
   "metadata": {
    "collapsed": false,
    "ExecuteTime": {
     "end_time": "2023-09-28T07:30:27.300117Z",
     "start_time": "2023-09-28T07:30:27.291629Z"
    }
   }
  },
  {
   "cell_type": "code",
   "execution_count": 26,
   "outputs": [
    {
     "data": {
      "text/plain": "array([ 1.97191638e+03, -1.51561831e+03,  1.11826647e+03, -6.88051323e+01,\n       -1.17293733e+03,  1.84262909e+03, -2.99307852e+03,  2.14468485e+03,\n        1.78492141e+01, -8.91015323e+02, -3.00744802e+02,  2.22677879e+03,\n       -2.62838890e+03,  1.63626957e+03, -1.57612694e+03,  2.29532151e+03,\n       -2.11307452e+03,  8.99913192e+02,  1.06229543e+03, -2.02451117e+03,\n        1.29847774e+03,  3.67281020e+02,  6.22619203e+01, -3.32748455e+02,\n       -1.84069116e+02, -6.85940342e+02, -2.02922843e+02,  2.20092870e+02,\n       -5.85489871e+02,  8.75024364e+02, -7.29251086e+02,  1.22333300e+03,\n        2.12111243e+02, -2.79524349e+02,  1.82307315e+02, -8.91527056e+02,\n        3.02132639e+02,  4.05073610e+02, -2.39137939e+03,  2.15836455e+03,\n       -1.28399520e+03,  2.22189842e+03, -1.74586790e+03,  7.59311700e+02,\n       -9.87787773e+02,  1.00530623e+03, -1.19623007e+03,  6.77820283e+03,\n        2.12897200e+03,  4.84384572e+02,  4.72954072e+02,  1.88747067e-01,\n        1.79918424e+02, -1.42438984e+01,  4.01430606e+01, -7.51166434e+01,\n        3.67906957e+01, -2.56830027e+02,  1.66793703e+01, -5.43743388e+02,\n       -4.27151039e+02, -2.37236780e+02, -3.65851381e+02, -8.33223504e+01,\n       -1.96360000e+02,  6.95849538e+01, -3.58581736e+01,  3.61652590e+01,\n       -9.33854224e-01,  5.37163560e+01,  8.62306846e+01,  6.20890841e+01,\n        6.30858679e+01,  1.10678764e+02, -3.91491477e+00,  1.01867657e+02,\n        1.07553277e+02,  1.75556318e+02,  3.55416718e+02,  5.30595309e+00,\n        4.64829922e+02,  1.61198360e+02,  3.85823772e+02,  3.13954117e+02,\n        2.68399301e+02,  2.19706178e+02,  6.99192383e+02,  3.44879111e+02,\n        8.31827623e+02,  1.05234641e+03,  5.09636118e+02,  1.19235870e+03,\n        1.95616683e+03,  4.59187295e+02,  9.78067433e+02,  9.69064770e+02,\n        1.28350769e+03,  1.46921038e+03,  2.19957553e+03,  4.76477288e+02,\n        1.58426839e+03,  6.85726798e+01,  2.50782450e+03,  6.44590419e+02,\n        2.61599185e+03,  8.61506784e+02,  1.11383546e+03,  8.23112333e+02,\n        6.96626257e+02,  1.25801972e+03, -4.56160307e+02,  9.42647324e+02,\n        7.89300873e+02,  1.70275421e+03, -7.54249471e+02,  1.55226484e+03,\n       -2.38809946e+03,  1.96253397e+03, -7.54345784e+02,  2.58784278e+02,\n        1.23214201e+03, -1.75428850e+03,  1.62713002e+03, -1.73612962e+03,\n        1.55876951e+03,  9.19244621e+02, -2.13470850e+03,  8.24608436e+02,\n        3.77687907e+02, -3.23706273e+00,  2.93052658e+01,  7.36172686e+02,\n        3.18706082e+02, -9.07454624e+02, -1.23912586e+03,  3.82566028e+02,\n        1.51930063e+03, -1.36421065e+03,  1.73656833e+03, -2.07595344e+03,\n        2.06335640e+03, -2.09206760e+03,  1.90064903e+03, -1.51645265e+03,\n        1.78684650e+02,  6.69053274e+02,  1.05193824e+03, -1.91165360e+03,\n        1.24366955e+03, -6.17595511e+02, -4.17323000e+02,  1.00358627e+03,\n       -7.56777240e+02,  2.28439378e+02,  4.25830540e+02, -1.43642991e+02,\n        1.21829753e+03, -3.03716312e+03,  2.50349351e+03, -1.39898202e+03,\n       -6.20110115e+02,  1.23279433e+03,  3.99909297e+02, -1.13556088e+03,\n        1.21753779e+03, -7.52781129e+01, -1.06237543e+03,  7.65887919e+02,\n        7.09409196e+02, -1.61361078e+03,  8.06295338e+02, -6.16456492e+02,\n        2.36333372e+02,  9.36293989e+02, -1.55098876e+03,  1.16665760e+03,\n       -6.37730679e+02,  1.29053537e+03, -3.94906599e+02, -1.31272483e+03,\n        1.22861760e+03, -1.56807739e+02, -2.58375536e+02, -1.49721664e+02,\n       -2.62249228e+02,  3.55217254e+01,  1.21951969e+03,  1.57157728e+02,\n       -2.00183139e+03,  6.94802374e+00,  1.69971570e+03, -3.16636988e+02,\n        6.07576304e+02, -1.53744883e+03,  4.22597749e+02, -2.75602843e+02,\n       -5.00003547e+02,  9.46980277e+02,  1.13197758e+02, -1.48940255e+03,\n        2.16793511e+03, -5.46534777e+02, -4.35927917e+02, -5.58566389e+02,\n       -3.81458578e+02,  6.63373063e+02,  6.50443316e+02, -1.64530553e+01,\n       -5.91612385e+02, -2.60454411e+00,  1.03179588e+03, -9.35151315e+02,\n        9.43634883e+02, -1.39090940e+03,  2.73442609e+02,  8.07408893e+02,\n        4.33759325e+01, -3.63208472e+02, -7.64930665e+00,  5.89487345e+02,\n       -1.39039168e+03,  6.87177071e+02, -1.02338273e+02,  1.39371996e+03,\n       -6.77798812e+02, -7.93402530e+02,  9.59872386e+02, -9.92812638e+01,\n       -2.69108473e+03,  2.75568929e+03, -4.26769867e+02,  7.17492928e+02,\n       -1.64946951e+03,  1.13316307e+03,  2.59211257e+02,  4.14078886e+02,\n       -8.58782165e+02, -3.62530586e+02,  4.73866452e+02, -8.67370943e+01,\n       -8.86062623e+02,  2.28069912e+03, -1.94450622e+03,  8.01091253e+02,\n       -1.63703860e+03,  1.46889123e+03, -4.83113486e+00,  1.02593251e+03,\n       -6.07518091e+02, -1.22110082e+03, -1.07760777e+02,  6.84842126e+02,\n       -1.45383636e+03,  3.34036586e+03, -2.39060653e+03, -3.21763354e+02])"
     },
     "execution_count": 26,
     "metadata": {},
     "output_type": "execute_result"
    }
   ],
   "source": [
    "grad[3: 3 + n]"
   ],
   "metadata": {
    "collapsed": false,
    "ExecuteTime": {
     "end_time": "2023-09-28T07:30:27.301256Z",
     "start_time": "2023-09-28T07:30:27.298014Z"
    }
   }
  },
  {
   "cell_type": "code",
   "execution_count": 27,
   "outputs": [
    {
     "data": {
      "text/plain": "array([  -65.41601562, -1144.01953125,   489.81347656,  2632.90820312,\n         748.91601562,   -26.21582031, -1161.38574219,  -680.50390625,\n         -68.11816406,  -580.37988281,  -507.89355469,   345.68164062,\n        -494.09277344,  -391.53613281, -1155.75292969,   284.35351562,\n        -328.78613281,   390.17578125,   829.64453125,  -168.68945312,\n        -902.78515625,  -626.90039062,  1493.68261719,   763.45507812,\n       -1074.58886719,  -347.75488281,  -410.97070312,   459.44335938,\n       -1764.48730469,  -449.99316406,  -362.63867188,  -255.29003906,\n         859.87988281,   589.02734375,   815.42773438,   960.30761719,\n         451.16015625,   265.25      ,  -776.45214844,  -404.79785156,\n         854.98339844,  -712.55957031,  1418.63867188,  -199.02441406,\n         281.64160156,  -149.48828125,  1037.77441406,  -347.24804688,\n          29.68847656,   312.21191406,  -887.89550781,  -612.70605469,\n         682.02929688,  1292.85253906,   439.5625    ,  -695.36132812,\n         753.66015625, -1495.25976562,   -79.85253906,   259.59667969,\n         -42.52148438,  -737.63964844,  -680.59863281])"
     },
     "execution_count": 27,
     "metadata": {},
     "output_type": "execute_result"
    }
   ],
   "source": [
    "grad_a[1:]"
   ],
   "metadata": {
    "collapsed": false,
    "ExecuteTime": {
     "end_time": "2023-09-28T07:30:27.303654Z",
     "start_time": "2023-09-28T07:30:27.301102Z"
    }
   }
  },
  {
   "cell_type": "code",
   "execution_count": 28,
   "outputs": [
    {
     "data": {
      "text/plain": "array([  -65.41894563, -1144.02071759,   489.81277419,  2632.90618019,\n         748.91435294,   -26.21695026, -1161.38798946,  -680.50545336,\n         -68.11989964,  -580.38199778,  -507.89415733,   345.68079731,\n        -494.09431231,  -391.53774984, -1155.75482175,   284.35144783,\n        -328.78920437,   390.17383825,   829.64390828,  -168.69180432,\n        -902.78716675,  -626.90296675,  1493.68004385,   763.45354729,\n       -1074.59203604,  -347.75729683,  -410.97347249,   459.44120635,\n       -1764.49036924,  -449.9953213 ,  -362.64056989,  -255.29204881,\n         859.8787997 ,   589.02505341,   815.42689496,   960.30600729,\n         451.15802602,   265.24816972,  -776.45351331,  -404.79979442,\n         854.98076472,  -712.56314972,  1418.63705901,  -199.02673366,\n         281.63972787,  -149.49024569,  1037.77429346,  -347.25001284,\n          29.68668465,   312.2103932 ,  -887.89805618,  -612.7079155 ,\n         682.02806724,  1292.84943307,   439.56000407,  -695.36358219,\n         753.65901848, -1495.25980126,   -79.85453675,   259.59418092,\n         -42.52514773,  -737.6401025 ,  -680.60207021])"
     },
     "execution_count": 28,
     "metadata": {},
     "output_type": "execute_result"
    }
   ],
   "source": [
    "grad[3 + n : 3 + n + m - 1]"
   ],
   "metadata": {
    "collapsed": false,
    "ExecuteTime": {
     "end_time": "2023-09-28T07:30:27.328079Z",
     "start_time": "2023-09-28T07:30:27.304278Z"
    }
   }
  },
  {
   "cell_type": "code",
   "execution_count": 29,
   "outputs": [
    {
     "data": {
      "text/plain": "array([-2464.87792969,   599.57617188,  -702.46191406,  1360.484375  ,\n        -981.46386719,  6499.46484375, -3640.57324219,  -227.47949219,\n        2727.27050781, -1053.14257812, -1166.37109375,  2760.46777344,\n       -5298.58300781,  4757.67578125,  -776.1015625 , -2798.58691406,\n       -2818.65917969,  3184.68847656, -7679.95117188,   408.35253906,\n        1476.24023438,  -205.99609375, -4405.59960938,  5118.14453125,\n       -1826.10253906,  1527.38476562, -4405.15039062, -1860.296875  ,\n       -4203.97265625,  -633.2265625 , -1270.00390625,  5272.47558594,\n       -1255.25585938,   431.67089844,   508.90625   ,  3241.953125  ,\n        -203.63378906,  2622.5703125 ,  -229.37695312,  1241.81933594,\n        1363.99609375, -3176.52929688,  4424.67773438, -4184.95898438,\n        2553.9453125 , -8475.04101562,  3985.56054688, -5853.15527344,\n        2123.39257812,    96.50976562, -4328.81933594, -2330.05761719,\n          13.97167969,  2626.60546875,  3242.99707031, -7229.77246094,\n        3715.80859375, -1737.92285156,  4750.8359375 ,     8.53125   ,\n        -955.14941406,  1189.39453125, -2088.22949219])"
     },
     "execution_count": 29,
     "metadata": {},
     "output_type": "execute_result"
    }
   ],
   "source": [
    "grad_eta[1:]"
   ],
   "metadata": {
    "collapsed": false,
    "ExecuteTime": {
     "end_time": "2023-09-28T07:30:27.328537Z",
     "start_time": "2023-09-28T07:30:27.307546Z"
    }
   }
  },
  {
   "cell_type": "code",
   "execution_count": 30,
   "outputs": [
    {
     "data": {
      "text/plain": "array([-2.46495042e+03,  5.99504871e+02, -7.02532728e+02,  1.36041249e+03,\n       -9.81534678e+02,  6.49939131e+03, -3.64064489e+03, -2.27551517e+02,\n        2.72719754e+03, -1.05321424e+03, -1.16644214e+03,  2.76039631e+03,\n       -5.29865458e+03,  4.75760140e+03, -7.76175052e+02, -2.79865859e+03,\n       -2.81873052e+03,  3.18461664e+03, -7.68002185e+03,  4.08280893e+02,\n        1.47616658e+03, -2.06068526e+02, -4.40566965e+03,  5.11807296e+03,\n       -1.82617611e+03,  1.52731115e+03, -4.40522120e+03, -1.86036724e+03,\n       -4.20404256e+03, -6.33300000e+02, -1.27007711e+03,  5.27240300e+03,\n       -1.25532815e+03,  4.31600974e+02,  5.08836421e+02,  3.24188146e+03,\n       -2.03705473e+02,  2.62249844e+03, -2.29448312e+02,  1.24174814e+03,\n        1.36392616e+03, -3.17659878e+03,  4.42460562e+03, -4.18503241e+03,\n        2.55387174e+03, -8.47511198e+03,  3.98548832e+03, -5.85322357e+03,\n        2.12332192e+03,  9.64368791e+01, -4.32889071e+03, -2.33013044e+03,\n        1.39004845e+01,  2.62653366e+03,  3.24292485e+03, -7.22984293e+03,\n        3.71573783e+03, -1.73799315e+03,  4.75076447e+03,  8.46040288e+00,\n       -9.55220535e+02,  1.18932033e+03, -2.08830197e+03])"
     },
     "execution_count": 30,
     "metadata": {},
     "output_type": "execute_result"
    }
   ],
   "source": [
    "grad[3 + n + m - 1 : 3 + n + 2 * (m - 1)]"
   ],
   "metadata": {
    "collapsed": false,
    "ExecuteTime": {
     "end_time": "2023-09-28T07:30:27.328896Z",
     "start_time": "2023-09-28T07:30:27.311308Z"
    }
   }
  }
 ],
 "metadata": {
  "kernelspec": {
   "display_name": "Python 3",
   "language": "python",
   "name": "python3"
  },
  "language_info": {
   "codemirror_mode": {
    "name": "ipython",
    "version": 2
   },
   "file_extension": ".py",
   "mimetype": "text/x-python",
   "name": "python",
   "nbconvert_exporter": "python",
   "pygments_lexer": "ipython2",
   "version": "2.7.6"
  }
 },
 "nbformat": 4,
 "nbformat_minor": 0
}
