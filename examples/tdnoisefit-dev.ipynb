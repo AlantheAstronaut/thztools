{
 "cells": [
  {
   "cell_type": "markdown",
   "source": [
    "# Procedure for estimating noise parameters"
   ],
   "metadata": {
    "collapsed": false
   }
  },
  {
   "cell_type": "code",
   "execution_count": 1,
   "outputs": [],
   "source": [
    "from __future__ import annotations\n",
    "\n",
    "from numpy.typing import ArrayLike\n",
    "from scipy.optimize import minimize\n",
    "from matplotlib import pyplot as plt\n",
    "from matplotlib.figure import figaspect\n",
    "\n",
    "import numpy as np\n",
    "from numpy.random import default_rng\n",
    "\n",
    "import thztools as thz\n",
    "from thztools import tdnll"
   ],
   "metadata": {
    "collapsed": false,
    "ExecuteTime": {
     "end_time": "2023-09-27T23:06:44.247079Z",
     "start_time": "2023-09-27T23:06:43.654595Z"
    }
   }
  },
  {
   "cell_type": "markdown",
   "source": [
    "## Simulate measurements\n",
    "Simulate a set of `m` waveforms, each sampled at `n` time points, with noise parameters\n",
    "`sigma_alpha`, `sigma_beta`, and `sigma_tau`, and store them in an array `x`. Note that\n",
    "`x` stores the waveforms in row orientation, with shape `(m, n)`, because NumPy\n",
    "broadcasting rules and FFT functions are simpler for arrays that are row-oriented.\n",
    "Measurement waveforms are typically loaded from data files in column orientation,\n",
    "however, so the `tdnoisefit` function assumes that the data array is column-oriented—this\n",
    "may be worth changing in a future version."
   ],
   "metadata": {
    "collapsed": false
   }
  },
  {
   "cell_type": "code",
   "execution_count": 2,
   "outputs": [],
   "source": [
    "n = 256  # Number of samples\n",
    "m = 64  # Number of waveforms\n",
    "ts = 0.05  # Sampling time [ps]\n",
    "t0 = 2.5  # Peak pulse time [ps]\n",
    "fs = 1 / ts  # Sampling frequency [THz]\n",
    "\n",
    "sigma_alpha = 1e-4  # Additive noise amplitude [signal units]\n",
    "sigma_beta = 1e-2  # Multiplicative noise amplitude [dimensionless]\n",
    "sigma_tau = 1e-3  # Time base noise amplitude [ps]\n",
    "sigma_parms = np.array([sigma_alpha, sigma_beta, sigma_tau])\n",
    "\n",
    "seed = 0  # RNG seed\n",
    "rng = default_rng(seed)"
   ],
   "metadata": {
    "collapsed": false,
    "ExecuteTime": {
     "end_time": "2023-09-27T23:06:44.250603Z",
     "start_time": "2023-09-27T23:06:44.248368Z"
    }
   }
  },
  {
   "cell_type": "code",
   "execution_count": 3,
   "outputs": [],
   "source": [
    "mu, t = thz.thzgen(n, ts, t0)\n",
    "sigma_mu = thz.noiseamp(sigma_parms, mu, ts)\n",
    "\n",
    "# Use broadcasting to generate multiple simulated noisy measurements of y\n",
    "x = mu + sigma_mu * rng.standard_normal((m, n))"
   ],
   "metadata": {
    "collapsed": false,
    "ExecuteTime": {
     "end_time": "2023-09-27T23:06:44.254126Z",
     "start_time": "2023-09-27T23:06:44.252048Z"
    }
   }
  },
  {
   "cell_type": "markdown",
   "source": [
    "## Fit for the noise parameters\n",
    "\n",
    "Set the initial guesses `a0` and `eta0` for the amplitudes and delays, respectively, and\n",
    "estimate the noise parameters from the simulated measurements. Note that we must take the\n",
    "transpose of `x`, to convert it from row-orientation to column-orientation."
   ],
   "metadata": {
    "collapsed": false
   }
  },
  {
   "cell_type": "code",
   "execution_count": 4,
   "outputs": [
    {
     "name": "stdout",
     "output_type": "stream",
     "text": [
      "Optimization terminated successfully.\n",
      "         Current function value: -86448.398482\n",
      "         Iterations: 84\n",
      "         Function evaluations: 273\n",
      "         Gradient evaluations: 273\n"
     ]
    }
   ],
   "source": [
    "# tdnoisefit expects a column-oriented data array\n",
    "v0 = np.mean(np.var(x, axis=0)) * np.ones(3)\n",
    "a0 = np.ones(m)\n",
    "eta0 = np.zeros(m)\n",
    "mu0 = np.mean(x, axis=0)\n",
    "result = thz.tdnoisefit(\n",
    "    x.T, v0=v0, mu0=mu0, a0=a0, eta0=eta0, ts=ts, fix_v=True, fix_mu=True, fix_a=True, fix_eta=False\n",
    ")"
   ],
   "metadata": {
    "collapsed": false,
    "ExecuteTime": {
     "end_time": "2023-09-27T23:06:44.407927Z",
     "start_time": "2023-09-27T23:06:44.255097Z"
    }
   }
  },
  {
   "cell_type": "code",
   "execution_count": 5,
   "outputs": [
    {
     "name": "stdout",
     "output_type": "stream",
     "text": [
      "Optimization terminated successfully.\n",
      "         Current function value: -86594.695628\n",
      "         Iterations: 42\n",
      "         Function evaluations: 133\n",
      "         Gradient evaluations: 133\n"
     ]
    }
   ],
   "source": [
    "eta0 = result[0][\"eta\"]\n",
    "mu0 = np.mean(thz.scaleshift(x, eta=-eta0), axis=0)\n",
    "result = thz.tdnoisefit(\n",
    "    x.T, v0=v0, mu0=mu0, a0=a0, eta0=eta0, ts=ts, fix_v=True, fix_mu=True, fix_a=False, fix_eta=True\n",
    ")"
   ],
   "metadata": {
    "collapsed": false,
    "ExecuteTime": {
     "end_time": "2023-09-27T23:06:44.483162Z",
     "start_time": "2023-09-27T23:06:44.410539Z"
    }
   }
  },
  {
   "cell_type": "code",
   "execution_count": 6,
   "outputs": [
    {
     "name": "stdout",
     "output_type": "stream",
     "text": [
      "Optimization terminated successfully.\n",
      "         Current function value: -118934.551064\n",
      "         Iterations: 566\n",
      "         Function evaluations: 1028\n",
      "         Gradient evaluations: 1028\n"
     ]
    }
   ],
   "source": [
    "result = thz.tdnoisefit(\n",
    "    x.T, v0=v0, mu0=mu0, a0=a0, eta0=eta0, ts=ts, fix_v=False, fix_mu=False, fix_a=False, fix_eta=False\n",
    ")"
   ],
   "metadata": {
    "collapsed": false,
    "ExecuteTime": {
     "end_time": "2023-09-27T23:06:48.397515Z",
     "start_time": "2023-09-27T23:06:44.480007Z"
    }
   }
  },
  {
   "cell_type": "markdown",
   "source": [
    "### Check the variance amplitude estimates\n",
    "\n",
    "The `tdnoisefit` function returns a tuple with three elements: a dictionary `p` of output\n",
    "parameters; the value `fval` of the cost function at those parameters; and a dictionary\n",
    "`diagnostic` that includes additional diagnostic information about the result, including\n",
    "the parameter uncertainty. Note that noise parameter uncertainty is expressed as a\n",
    "standard deviation, so the uncertainty in the noise parameters refers to the standard\n",
    "deviation of the variance amplitude. We apply the Poisson correction to each variance\n",
    "parameter and its associated uncertainty—that is we multiply each by `m / (m - 1)`."
   ],
   "metadata": {
    "collapsed": false
   }
  },
  {
   "cell_type": "code",
   "execution_count": 7,
   "outputs": [
    {
     "name": "stdout",
     "output_type": "stream",
     "text": [
      "Estimated var_alpha: 9.941e-09 ± 1.361e-10\n",
      "Estimated var_beta: 9.631e-05 ± 3.512e-06\n",
      "Estimated var_tau: 8.47e-07 ± 6.925e-08\n"
     ]
    }
   ],
   "source": [
    "p_names = [\"var_alpha\", \"var_beta\", \"var_tau\"]\n",
    "for i in range(3):\n",
    "    val = result[0]['var'][i] * (m / (m - 1))\n",
    "    err = result[2]['err']['var'][i] * (m / (m - 1))\n",
    "    print(f\"Estimated {p_names[i]}: {val:.4g} ± {err:.4g}\")"
   ],
   "metadata": {
    "collapsed": false,
    "ExecuteTime": {
     "end_time": "2023-09-27T23:06:48.401786Z",
     "start_time": "2023-09-27T23:06:48.398472Z"
    }
   }
  },
  {
   "cell_type": "code",
   "execution_count": 8,
   "outputs": [],
   "source": [
    "cv = result[2][\"cov\"]"
   ],
   "metadata": {
    "collapsed": false,
    "ExecuteTime": {
     "end_time": "2023-09-27T23:06:48.406176Z",
     "start_time": "2023-09-27T23:06:48.401662Z"
    }
   }
  },
  {
   "cell_type": "code",
   "execution_count": 9,
   "outputs": [
    {
     "data": {
      "text/plain": "array([[ 1.87535330e-04, -2.01357449e-05, -6.17016758e-06],\n       [-2.01358442e-05,  1.32961151e-03, -7.24082100e-04],\n       [-6.17007206e-06, -7.24082155e-04,  6.68415536e-03]])"
     },
     "execution_count": 9,
     "metadata": {},
     "output_type": "execute_result"
    }
   ],
   "source": [
    "cv[:3, :3]"
   ],
   "metadata": {
    "collapsed": false,
    "ExecuteTime": {
     "end_time": "2023-09-27T23:06:48.413205Z",
     "start_time": "2023-09-27T23:06:48.405859Z"
    }
   }
  },
  {
   "cell_type": "code",
   "execution_count": 10,
   "outputs": [
    {
     "data": {
      "text/plain": "'Optimization terminated successfully.'"
     },
     "execution_count": 10,
     "metadata": {},
     "output_type": "execute_result"
    }
   ],
   "source": [
    "result[2][\"message\"]"
   ],
   "metadata": {
    "collapsed": false,
    "ExecuteTime": {
     "end_time": "2023-09-27T23:06:48.413576Z",
     "start_time": "2023-09-27T23:06:48.409015Z"
    }
   }
  },
  {
   "cell_type": "markdown",
   "source": [
    "### Check the noise amplitude estimates\n",
    "\n",
    "Compare the noise amplitude estimates with their true values, specified in the\n",
    "simulation. The noise amplitudes are just the square root of the variance amplitudes,\n",
    "and propagating the error for the noise amplitude uncertainty yields\n",
    "\n",
    "$$\n",
    "\\sigma^2_{\\sigma_k} = \\left(\\frac{dV_k}{d\\sigma_k}\\right)^{-2} \\sigma^2_{V_k}\n",
    "= \\frac{1}{2\\sigma_k} \\sigma^2_{V_k}.\n",
    "$$"
   ],
   "metadata": {
    "collapsed": false
   }
  },
  {
   "cell_type": "code",
   "execution_count": 11,
   "outputs": [
    {
     "name": "stdout",
     "output_type": "stream",
     "text": [
      "Estimated sigma_alpha: 9.97e-05 ± 6.827e-07\n",
      "Estimated sigma_beta: 0.009814 ± 0.0001789\n",
      "Estimated sigma_tau: 0.0009204 ± 3.762e-05\n",
      "Estimated sigma_alpha, relative to true value: 0.997 ± 0.007\n",
      "Estimated sigma_beta, relative to true value: 0.981 ± 0.018\n",
      "Estimated sigma_tau, relative to true value: 0.920 ± 0.035\n"
     ]
    }
   ],
   "source": [
    "p_names = [\"sigma_alpha\", \"sigma_beta\", \"sigma_tau\"]\n",
    "for i in range(3):\n",
    "    val = np.sqrt(result[0]['var'][i] * (m / (m - 1)))\n",
    "    err = 0.5 * result[2]['err']['var'][i] * (m / (m - 1)) / val\n",
    "    print(f\"Estimated {p_names[i]}: {val:.4g} ± {err:.4g}\")\n",
    "for i in range(3):\n",
    "    val = np.sqrt(result[0]['var'][i] * (m / (m - 1))) / sigma_parms[i]\n",
    "    err = (\n",
    "        0.5\n",
    "        * result[2]['err']['var'][i]\n",
    "        * (m / (m - 1))\n",
    "        / (sigma_parms[i] ** 2)\n",
    "    )\n",
    "    print(\n",
    "        f\"Estimated {p_names[i]}, relative to true value: {val:.3f} ± {err:.3f}\"\n",
    "    )"
   ],
   "metadata": {
    "collapsed": false,
    "ExecuteTime": {
     "end_time": "2023-09-27T23:06:48.414927Z",
     "start_time": "2023-09-27T23:06:48.412964Z"
    }
   }
  },
  {
   "cell_type": "markdown",
   "source": [
    "Plot the data"
   ],
   "metadata": {
    "collapsed": false
   }
  },
  {
   "cell_type": "code",
   "execution_count": 12,
   "outputs": [
    {
     "data": {
      "text/plain": "<Figure size 640x480 with 1 Axes>",
      "image/png": "[encoded data removed]"
     },
     "metadata": {},
     "output_type": "display_data"
    }
   ],
   "source": [
    "_, ax = plt.subplots()\n",
    "ax.plot(t, x.T)\n",
    "ax.set_xlabel('Time (ps)')\n",
    "ax.set_ylabel('Field (arb. units)')\n",
    "plt.show()"
   ],
   "metadata": {
    "collapsed": false,
    "ExecuteTime": {
     "end_time": "2023-09-27T23:06:48.524709Z",
     "start_time": "2023-09-27T23:06:48.415922Z"
    }
   }
  },
  {
   "cell_type": "code",
   "execution_count": 13,
   "outputs": [
    {
     "data": {
      "text/plain": "<Figure size 640x480 with 1 Axes>",
      "image/png": "[encoded data removed]"
     },
     "metadata": {},
     "output_type": "display_data"
    }
   ],
   "source": [
    "_, ax = plt.subplots()\n",
    "ax.plot(t, np.std(x, axis=0).T)\n",
    "ax.set_xlabel('Time (ps)')\n",
    "ax.set_ylabel('Field (arb. units)')\n",
    "plt.show()"
   ],
   "metadata": {
    "collapsed": false,
    "ExecuteTime": {
     "end_time": "2023-09-27T23:06:48.591468Z",
     "start_time": "2023-09-27T23:06:48.525744Z"
    }
   }
  },
  {
   "cell_type": "markdown",
   "source": [
    "## Review function\n",
    "Copy the function below and debug the tests individually."
   ],
   "metadata": {
    "collapsed": false
   }
  },
  {
   "cell_type": "code",
   "execution_count": 14,
   "outputs": [],
   "source": [
    "NUM_NOISE_PARAMETERS = 3\n",
    "NUM_NOISE_DATA_DIMENSIONS = 2\n",
    "\n",
    "\n",
    "def tdnoisefit(\n",
    "    x: ArrayLike,\n",
    "    *,\n",
    "    v0: ArrayLike | None = None,\n",
    "    mu0: ArrayLike | None = None,\n",
    "    a0: ArrayLike | None = None,\n",
    "    eta0: ArrayLike | None = None,\n",
    "    ts: float = 1.0,\n",
    "    fix_v: bool = False,\n",
    "    fix_mu: bool = False,\n",
    "    fix_a: bool = True,\n",
    "    fix_eta: bool = True,\n",
    ") -> tuple[dict, float, dict]:\n",
    "    r\"\"\"\n",
    "    Compute time-domain noise model parameters.\n",
    "\n",
    "    Computes the noise parameters sigma and the underlying signal vector ``mu``\n",
    "    for the data matrix ``x``, where the columns of ``x`` are each noisy\n",
    "    measurements of ``mu``.\n",
    "\n",
    "    Parameters\n",
    "    ----------\n",
    "    x : ndarray\n",
    "        Data array.\n",
    "    v0 : ndarray, optional\n",
    "        Initial guess, noise model parameters with size (3,), expressed as\n",
    "        variance amplitudes.\n",
    "    mu0 : ndarray, optional\n",
    "        Initial guess, signal vector with size (n,).\n",
    "    a0 : ndarray, optional\n",
    "        Initial guess, amplitude vector with size (m,).\n",
    "    eta0 : ndarray, optional\n",
    "        Initial guess, delay vector with size (m,).\n",
    "    ts : float, optional\n",
    "        Sampling time\n",
    "    fix_v : bool, optional\n",
    "        Noise variance parameters.\n",
    "    fix_mu : bool, optional\n",
    "        Signal vector.\n",
    "    fix_a : bool, optional\n",
    "        Amplitude vector.\n",
    "    fix_eta : bool, optional\n",
    "        Delay vector.\n",
    "\n",
    "    Returns\n",
    "    --------\n",
    "    p : dict\n",
    "        Output parameter dictionary containing:\n",
    "            var : ndarray\n",
    "                Noise parameters, expressed as variance amplitudes.\n",
    "            mu : ndarray\n",
    "                Signal vector.\n",
    "            a : ndarray\n",
    "                Amplitude vector.\n",
    "            eta : ndarray\n",
    "                Delay vector.\n",
    "    fval : float\n",
    "        Value of NLL cost function from FMINUNC\n",
    "    Diagnostic : dict\n",
    "        Dictionary containing diagnostic information\n",
    "            err : dic\n",
    "                Dictionary containing  error of the parameters.\n",
    "            grad : ndarray\n",
    "                Negative loglikelihood cost function gradient from\n",
    "                scipy.optimize.minimize BFGS method.\n",
    "            hessian : ndarray\n",
    "                Negative loglikelihood cost function hessian from\n",
    "                scipy.optimize.minimize BFGS method.\n",
    "    \"\"\"\n",
    "    if fix_v and fix_mu and fix_a and fix_eta:\n",
    "        msg = \"All variables are fixed\"\n",
    "        raise ValueError(msg)\n",
    "    # Parse and validate function inputs\n",
    "    x = np.asarray(x)\n",
    "    if x.ndim != NUM_NOISE_DATA_DIMENSIONS:\n",
    "        msg = \"Data array x must be 2D\"\n",
    "        raise ValueError(msg)\n",
    "    n, m = x.shape\n",
    "\n",
    "    if v0 is None:\n",
    "        v0 = np.mean(np.var(x, 1)) * np.ones(NUM_NOISE_PARAMETERS)\n",
    "    else:\n",
    "        v0 = np.asarray(v0)\n",
    "        if v0.size != NUM_NOISE_PARAMETERS:\n",
    "            msg = (\n",
    "                \"Noise parameter array logv must have \"\n",
    "                f\"{NUM_NOISE_PARAMETERS} elements.\"\n",
    "            )\n",
    "            raise ValueError(msg)\n",
    "\n",
    "    if mu0 is None:\n",
    "        mu0 = np.mean(x, 1)\n",
    "    else:\n",
    "        mu0 = np.asarray(mu0)\n",
    "        if mu0.size != n:\n",
    "            msg = \"Size of mu0 is incompatible with data array x.\"\n",
    "            raise ValueError(msg)\n",
    "\n",
    "    if a0 is None:\n",
    "        a0 = np.ones(m)\n",
    "    else:\n",
    "        a0 = np.asarray(a0)\n",
    "        if a0.size != m:\n",
    "            msg = \"Size of a0 is incompatible with data array x.\"\n",
    "            raise ValueError(msg)\n",
    "\n",
    "    if eta0 is None:\n",
    "        eta0 = np.zeros(m)\n",
    "    else:\n",
    "        eta0 = np.asarray(eta0)\n",
    "        if eta0.size != m:\n",
    "            msg = \"Size of eta0 is incompatible with data array x.\"\n",
    "            raise ValueError(msg)\n",
    "\n",
    "    # Set initial guesses for all free parameters\n",
    "    x0 = np.array([])\n",
    "    if not fix_v:\n",
    "        # Replace log(x) with -inf when x <= 0\n",
    "        logv0 = np.ma.log(v0).filled(-np.inf)\n",
    "        x0 = np.concatenate((x0, logv0))\n",
    "    if not fix_mu:\n",
    "        x0 = np.concatenate((x0, mu0))\n",
    "    if not fix_a:\n",
    "        x0 = np.concatenate((x0, a0[1:] / a0[0]))\n",
    "    if not fix_eta:\n",
    "        x0 = np.concatenate((x0, eta0[1:] - eta0[0]))\n",
    "\n",
    "    # Bundle free parameters together into objective function\n",
    "    def objective(_p):\n",
    "        if fix_v:\n",
    "            _logv = np.ma.log(v0).filled(-np.inf)\n",
    "        else:\n",
    "            _logv = _p[:3]\n",
    "            _p = _p[3:]\n",
    "        if fix_mu:\n",
    "            _mu = mu0\n",
    "        else:\n",
    "            _mu = _p[:n]\n",
    "            _p = _p[n:]\n",
    "        if fix_a:\n",
    "            _a = a0\n",
    "        else:\n",
    "            _a = np.concatenate((np.array([1.0]), _p[: m - 1]))\n",
    "            _p = _p[m - 1 :]\n",
    "        if fix_eta:\n",
    "            _eta = eta0\n",
    "        else:\n",
    "            _eta = np.concatenate((np.array([0.0]), _p[: m - 1]))\n",
    "        return tdnll(\n",
    "            x.T,\n",
    "            _mu,\n",
    "            _logv,\n",
    "            _a,\n",
    "            _eta,\n",
    "            ts,\n",
    "            fix_logv=fix_v,\n",
    "            fix_mu=fix_mu,\n",
    "            fix_a=fix_a,\n",
    "            fix_eta=fix_eta,\n",
    "        )\n",
    "\n",
    "    # Minimize cost function with respect to free parameters\n",
    "    out = minimize(objective, x0, method=\"BFGS\", jac=True)\n",
    "\n",
    "    # Parse output\n",
    "    p = {}\n",
    "    x_out = out.x\n",
    "    if fix_v:\n",
    "        p[\"var\"] = v0\n",
    "    else:\n",
    "        p[\"var\"] = np.exp(x_out[:3])\n",
    "        x_out = x_out[3:]\n",
    "\n",
    "    if fix_mu:\n",
    "        p[\"mu\"] = mu0\n",
    "    else:\n",
    "        p[\"mu\"] = x_out[:n]\n",
    "        x_out = x_out[n:]\n",
    "\n",
    "    if fix_a:\n",
    "        p[\"a\"] = a0\n",
    "    else:\n",
    "        p[\"a\"] = np.concatenate(([1], x_out[: m - 1]))\n",
    "        x_out = x_out[m - 1 :]\n",
    "\n",
    "    if fix_eta:\n",
    "        p[\"eta\"] = eta0\n",
    "    else:\n",
    "        p[\"eta\"] = np.concatenate(([0], x_out[: m - 1]))\n",
    "\n",
    "    p[\"ts\"] = ts\n",
    "\n",
    "    diagnostic = {\n",
    "        \"grad\": out.jac,\n",
    "        \"cov\": out.hess_inv,\n",
    "        \"err\": {\n",
    "            \"var\": np.array([]),\n",
    "            \"mu\": np.array([]),\n",
    "            \"a\": np.array([]),\n",
    "            \"eta\": np.array([]),\n",
    "        },\n",
    "        \"success\": out.success,\n",
    "        \"status\": out.status,\n",
    "        \"message\": out.message,\n",
    "        \"nfev\": out.nfev,\n",
    "        \"njev\": out.njev,\n",
    "        \"nit\": out.nit,\n",
    "    }\n",
    "    err = np.sqrt(np.diag(diagnostic[\"cov\"]))\n",
    "    if not fix_v:\n",
    "        # Propagate error from log(V) to V\n",
    "        diagnostic[\"err\"][\"var\"] = np.sqrt(\n",
    "            np.diag(np.diag(p[\"var\"]) @ diagnostic[\"cov\"][0:3, 0:3])\n",
    "            @ np.diag(p[\"var\"])\n",
    "        )\n",
    "        err = err[3:]\n",
    "\n",
    "    if not fix_mu:\n",
    "        diagnostic[\"err\"][\"mu\"] = err[:n]\n",
    "        err = err[n:]\n",
    "\n",
    "    if not fix_a:\n",
    "        diagnostic[\"err\"][\"a\"] = np.concatenate(([0], err[: m - 1]))\n",
    "        err = err[m - 1 :]\n",
    "\n",
    "    if not fix_eta:\n",
    "        diagnostic[\"err\"][\"eta\"] = np.concatenate(([0], err[: m - 1]))\n",
    "\n",
    "    return p, out.fun, diagnostic"
   ],
   "metadata": {
    "collapsed": false,
    "ExecuteTime": {
     "end_time": "2023-09-27T23:06:48.591975Z",
     "start_time": "2023-09-27T23:06:48.582341Z"
    }
   }
  },
  {
   "cell_type": "markdown",
   "source": [
    "When run with default values for everything, the fit converges but to inaccurate values."
   ],
   "metadata": {
    "collapsed": false
   }
  },
  {
   "cell_type": "code",
   "execution_count": 15,
   "outputs": [],
   "source": [
    "p, fval, diagnostic = tdnoisefit(x.T)"
   ],
   "metadata": {
    "collapsed": false,
    "ExecuteTime": {
     "end_time": "2023-09-27T23:06:50.062020Z",
     "start_time": "2023-09-27T23:06:48.583865Z"
    }
   }
  },
  {
   "cell_type": "markdown",
   "source": [],
   "metadata": {
    "collapsed": false
   }
  }
 ],
 "metadata": {
  "kernelspec": {
   "display_name": "Python 3",
   "language": "python",
   "name": "python3"
  },
  "language_info": {
   "codemirror_mode": {
    "name": "ipython",
    "version": 2
   },
   "file_extension": ".py",
   "mimetype": "text/x-python",
   "name": "python",
   "nbconvert_exporter": "python",
   "pygments_lexer": "ipython2",
   "version": "2.7.6"
  }
 },
 "nbformat": 4,
 "nbformat_minor": 0
}
