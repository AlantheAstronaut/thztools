{
 "cells": [
  {
   "cell_type": "markdown",
   "source": [
    "# Procedure for estimating noise parameters"
   ],
   "metadata": {
    "collapsed": false
   }
  },
  {
   "cell_type": "code",
   "execution_count": 1,
   "outputs": [],
   "source": [
    "from matplotlib import pyplot as plt\n",
    "from matplotlib.figure import figaspect\n",
    "\n",
    "import numpy as np\n",
    "from numpy.random import default_rng\n",
    "\n",
    "import thztools as thz"
   ],
   "metadata": {
    "collapsed": false,
    "ExecuteTime": {
     "end_time": "2023-09-22T17:53:14.411989Z",
     "start_time": "2023-09-22T17:53:13.216300Z"
    }
   }
  },
  {
   "cell_type": "markdown",
   "source": [
    "## Simulate measurements\n",
    "Simulate a set of `m` waveforms, each sampled at `n` time points, with noise parameters\n",
    "`sigma_alpha`, `sigma_beta`, and `sigma_tau`, and store them in an array `x`. Note that\n",
    "`x` stores the waveforms in row orientation, with shape `(m, n)`, because NumPy\n",
    "broadcasting rules and FFT functions are simpler for arrays that are row-oriented.\n",
    "Measurement waveforms are typically loaded from data files in column orientation,\n",
    "however, so the `tdnoisefit` function assumes that the data array is column-oriented—this\n",
    "may be worth changing in a future version."
   ],
   "metadata": {
    "collapsed": false
   }
  },
  {
   "cell_type": "code",
   "execution_count": 2,
   "outputs": [],
   "source": [
    "n = 256  # Number of samples\n",
    "m = 50  # Number of waveforms\n",
    "ts = 0.05  # Sampling time [ps]\n",
    "t0 = 2.5  # Peak pulse time [ps]\n",
    "fs = 1 / ts  # Sampling frequency [THz]\n",
    "\n",
    "sigma_alpha = 1e-4  # Additive noise amplitude [signal units]\n",
    "sigma_beta = 1e-2  # Multiplicative noise amplitude [dimensionless]\n",
    "sigma_tau = 1e-3  # Time base noise amplitude [ps]\n",
    "sigma_parms = np.array([sigma_alpha, sigma_beta, sigma_tau])\n",
    "\n",
    "seed = 0  # RNG seed\n",
    "rng = default_rng(seed)"
   ],
   "metadata": {
    "collapsed": false,
    "ExecuteTime": {
     "end_time": "2023-09-22T17:53:14.415553Z",
     "start_time": "2023-09-22T17:53:14.412331Z"
    }
   }
  },
  {
   "cell_type": "code",
   "execution_count": 3,
   "outputs": [],
   "source": [
    "mu, t = thz.thzgen(n, ts, t0)\n",
    "sigma = thz.noiseamp(sigma_parms, mu, ts)\n",
    "\n",
    "# Use broadcasting to generate multiple simulated noisy measurements of y\n",
    "x = mu + sigma * rng.standard_normal((m, n))"
   ],
   "metadata": {
    "collapsed": false,
    "ExecuteTime": {
     "end_time": "2023-09-22T17:53:14.418461Z",
     "start_time": "2023-09-22T17:53:14.415074Z"
    }
   }
  },
  {
   "cell_type": "markdown",
   "source": [
    "## Fit for the noise parameters\n",
    "\n",
    "Set the initial guesses `a0` and `eta0` for the amplitudes and delays, respectively, and\n",
    "estimate the noise parameters from the simulated measurements. Note that we must take the\n",
    "transpose of `x`, to convert it from row-orientation to column-orientation."
   ],
   "metadata": {
    "collapsed": false
   }
  },
  {
   "cell_type": "code",
   "execution_count": 4,
   "outputs": [],
   "source": [
    "# tdnoisefit expects a column-oriented data array\n",
    "a0 = np.ones(m)\n",
    "eta0 = np.zeros(m)\n",
    "result = thz.tdnoisefit(\n",
    "    x.T, a0=a0, eta0=eta0, ts=ts, fix_a=False, fix_eta=False\n",
    ")"
   ],
   "metadata": {
    "collapsed": false,
    "ExecuteTime": {
     "end_time": "2023-09-22T17:53:19.541872Z",
     "start_time": "2023-09-22T17:53:14.418757Z"
    }
   }
  },
  {
   "cell_type": "markdown",
   "source": [
    "### Check the variance amplitude estimates\n",
    "\n",
    "The `tdnoisefit` function returns a tuple with three elements: a dictionary `p` of output\n",
    "parameters; the value `fval` of the cost function at those parameters; and a dictionary\n",
    "`diagnostic` that includes additional diagnostic information about the result, including\n",
    "the parameter uncertainty. Note that noise parameter uncertainty is expressed as a\n",
    "standard deviation, so the uncertainty in the noise parameters refers to the standard\n",
    "deviation of the variance amplitude. We apply the Poisson correction to each variance\n",
    "parameter and its associated uncertainty—that is we multiply each by `m / (m - 1)`."
   ],
   "metadata": {
    "collapsed": false
   }
  },
  {
   "cell_type": "code",
   "execution_count": 5,
   "outputs": [
    {
     "name": "stdout",
     "output_type": "stream",
     "text": [
      "Estimated var_alpha: 9.92e-09 ± 3.362e-08\n",
      "Estimated var_beta: 7.976e-05 ± 0.0001039\n",
      "Estimated var_tau: 3.268e-06 ± 2.576e-05\n"
     ]
    }
   ],
   "source": [
    "p_names = [\"var_alpha\", \"var_beta\", \"var_tau\"]\n",
    "for i in range(3):\n",
    "    val = result[0]['var'][i] * (m / (m - 1))\n",
    "    err = result[2]['err']['var'][i] * (m / (m - 1))\n",
    "    print(f\"Estimated {p_names[i]}: {val:.4g} ± {err:.4g}\")"
   ],
   "metadata": {
    "collapsed": false,
    "ExecuteTime": {
     "end_time": "2023-09-22T17:53:19.546773Z",
     "start_time": "2023-09-22T17:53:19.542715Z"
    }
   }
  },
  {
   "cell_type": "markdown",
   "source": [
    "### Check the noise amplitude estimates\n",
    "\n",
    "Compare the noise amplitude estimates with their true values, specified in the\n",
    "simulation. The noise amplitudes are just the square root of the variance amplitudes,\n",
    "and propagating the error for the noise amplitude uncertainty yields\n",
    "\n",
    "$$\n",
    "\\sigma^2_{\\sigma_k} = \\left(\\frac{dV_k}{d\\sigma_k}\\right)^{-2} \\sigma^2_{V_k}\n",
    "= \\frac{1}{2\\sigma_k} \\sigma^2_{V_k}.\n",
    "$$"
   ],
   "metadata": {
    "collapsed": false
   }
  },
  {
   "cell_type": "code",
   "execution_count": 6,
   "outputs": [
    {
     "name": "stdout",
     "output_type": "stream",
     "text": [
      "Estimated sigma_alpha: 9.96e-05 ± 0.0001688\n",
      "Estimated sigma_beta: 0.008931 ± 0.00582\n",
      "Estimated sigma_tau: 0.001808 ± 0.007125\n",
      "Estimated sigma_alpha, relative to true value: 0.996 ± 1.681\n",
      "Estimated sigma_beta, relative to true value: 0.893 ± 0.520\n",
      "Estimated sigma_tau, relative to true value: 1.808 ± 12.879\n"
     ]
    }
   ],
   "source": [
    "p_names = [\"sigma_alpha\", \"sigma_beta\", \"sigma_tau\"]\n",
    "for i in range(3):\n",
    "    val = np.sqrt(result[0]['var'][i] * (m / (m - 1)))\n",
    "    err = 0.5 * result[2]['err']['var'][i] * (m / (m - 1)) / val\n",
    "    print(f\"Estimated {p_names[i]}: {val:.4g} ± {err:.4g}\")\n",
    "for i in range(3):\n",
    "    val = np.sqrt(result[0]['var'][i] * (m / (m - 1))) / sigma_parms[i]\n",
    "    err = (\n",
    "        0.5\n",
    "        * result[2]['err']['var'][i]\n",
    "        * (m / (m - 1))\n",
    "        / (sigma_parms[i] ** 2)\n",
    "    )\n",
    "    print(\n",
    "        f\"Estimated {p_names[i]}, relative to true value: {val:.3f} ± {err:.3f}\"\n",
    "    )"
   ],
   "metadata": {
    "collapsed": false,
    "ExecuteTime": {
     "end_time": "2023-09-22T17:53:19.549862Z",
     "start_time": "2023-09-22T17:53:19.547394Z"
    }
   }
  },
  {
   "cell_type": "markdown",
   "source": [
    "## Debug errors encountered in testing\n",
    "The `TestTDNoiseFit` class is currently unreliable. It returns errors when run in a Mamba environment but does not when run in a Hatch environment. It also exhibits sensitivity to the assumed noise parameters. The cell below reproduces the test data set."
   ],
   "metadata": {
    "collapsed": false
   }
  },
  {
   "cell_type": "code",
   "execution_count": 24,
   "outputs": [],
   "source": [
    "rng = np.random.default_rng(0)\n",
    "n = 64\n",
    "m = 8\n",
    "ts = 1.0 / n\n",
    "t = np.arange(n) * ts\n",
    "mu, _ = thz.thzgen(n, ts=ts, t0=n * ts / 2)\n",
    "sigma = np.array([1e-5, 1e-7, 1e-8])\n",
    "noise = thz.noiseamp(sigma, mu, ts) * rng.standard_normal((m, n))\n",
    "x = np.array(mu + noise)\n",
    "a = np.ones(m)\n",
    "eta = np.zeros(m)"
   ],
   "metadata": {
    "collapsed": false,
    "ExecuteTime": {
     "end_time": "2023-09-22T18:05:42.279500Z",
     "start_time": "2023-09-22T18:05:42.276594Z"
    }
   }
  },
  {
   "cell_type": "markdown",
   "source": [
    "Plot the data"
   ],
   "metadata": {
    "collapsed": false
   }
  },
  {
   "cell_type": "code",
   "execution_count": 25,
   "outputs": [
    {
     "data": {
      "text/plain": "<Figure size 640x480 with 1 Axes>",
      "image/png": "[encoded data removed]"
     },
     "metadata": {},
     "output_type": "display_data"
    }
   ],
   "source": [
    "_, ax = plt.subplots()\n",
    "ax.plot(t, x.T)\n",
    "ax.set_xlabel('Time (ps)')\n",
    "ax.set_ylabel('Field (arb. units)')\n",
    "plt.show()"
   ],
   "metadata": {
    "collapsed": false,
    "ExecuteTime": {
     "end_time": "2023-09-22T18:05:43.530590Z",
     "start_time": "2023-09-22T18:05:43.483074Z"
    }
   }
  },
  {
   "cell_type": "markdown",
   "source": [
    "So that appears to be the problem: the waveform is not compact. Adjust the parameters to fix this."
   ],
   "metadata": {
    "collapsed": false
   }
  },
  {
   "cell_type": "code",
   "execution_count": 38,
   "outputs": [],
   "source": [
    "rng = np.random.default_rng(0)\n",
    "n = 128\n",
    "m = 8\n",
    "ts = 0.05\n",
    "t = np.arange(n) * ts\n",
    "mu, _ = thz.thzgen(n, ts=ts, t0=n * ts / 3)\n",
    "sigma = np.array([1e-5, 1e-7, 1e-8])\n",
    "noise = thz.noiseamp(sigma, mu, ts) * rng.standard_normal((m, n))\n",
    "x = np.array(mu + noise)\n",
    "a = np.ones(m)\n",
    "eta = np.zeros(m)"
   ],
   "metadata": {
    "collapsed": false,
    "ExecuteTime": {
     "end_time": "2023-09-22T18:10:33.010185Z",
     "start_time": "2023-09-22T18:10:32.979024Z"
    }
   }
  },
  {
   "cell_type": "code",
   "execution_count": 39,
   "outputs": [
    {
     "data": {
      "text/plain": "<Figure size 640x480 with 1 Axes>",
      "image/png": "[encoded data removed]"
     },
     "metadata": {},
     "output_type": "display_data"
    }
   ],
   "source": [
    "_, ax = plt.subplots()\n",
    "ax.plot(t, x.T)\n",
    "ax.set_xlabel('Time (ps)')\n",
    "ax.set_ylabel('Field (arb. units)')\n",
    "plt.show()"
   ],
   "metadata": {
    "collapsed": false,
    "ExecuteTime": {
     "end_time": "2023-09-22T18:10:34.520653Z",
     "start_time": "2023-09-22T18:10:34.459785Z"
    }
   }
  },
  {
   "cell_type": "markdown",
   "source": [
    "Updated `TestTDNoiseFit` with these changes, leaving `sigma` unchanged. Now, all tests pass in the Mamba environment, but 8 of the tests fail in the Hatch environment! Try setting `sigma` to more realistic values, as indicated by the cells below."
   ],
   "metadata": {
    "collapsed": false
   }
  },
  {
   "cell_type": "code",
   "execution_count": 40,
   "outputs": [],
   "source": [
    "rng = np.random.default_rng(0)\n",
    "n = 128\n",
    "m = 8\n",
    "ts = 0.05\n",
    "t = np.arange(n) * ts\n",
    "mu, _ = thz.thzgen(n, ts=ts, t0=n * ts / 3)\n",
    "sigma = np.array([1e-5, 1e-2, 1e-3])\n",
    "noise = thz.noiseamp(sigma, mu, ts) * rng.standard_normal((m, n))\n",
    "x = np.array(mu + noise)\n",
    "a = np.ones(m)\n",
    "eta = np.zeros(m)"
   ],
   "metadata": {
    "collapsed": false,
    "ExecuteTime": {
     "end_time": "2023-09-22T18:18:01.782672Z",
     "start_time": "2023-09-22T18:18:01.764097Z"
    }
   }
  },
  {
   "cell_type": "code",
   "execution_count": 41,
   "outputs": [
    {
     "data": {
      "text/plain": "<Figure size 640x480 with 1 Axes>",
      "image/png": "[encoded data removed]"
     },
     "metadata": {},
     "output_type": "display_data"
    }
   ],
   "source": [
    "_, ax = plt.subplots()\n",
    "ax.plot(t, x.T)\n",
    "ax.set_xlabel('Time (ps)')\n",
    "ax.set_ylabel('Field (arb. units)')\n",
    "plt.show()"
   ],
   "metadata": {
    "collapsed": false,
    "ExecuteTime": {
     "end_time": "2023-09-22T18:18:10.061739Z",
     "start_time": "2023-09-22T18:18:09.994822Z"
    }
   }
  },
  {
   "cell_type": "code",
   "execution_count": 42,
   "outputs": [
    {
     "data": {
      "text/plain": "<Figure size 640x480 with 1 Axes>",
      "image/png": "[encoded data removed]"
     },
     "metadata": {},
     "output_type": "display_data"
    }
   ],
   "source": [
    "_, ax = plt.subplots()\n",
    "ax.plot(t, np.std(x, axis=0).T)\n",
    "ax.set_xlabel('Time (ps)')\n",
    "ax.set_ylabel('Field (arb. units)')\n",
    "plt.show()"
   ],
   "metadata": {
    "collapsed": false,
    "ExecuteTime": {
     "end_time": "2023-09-22T18:18:48.549222Z",
     "start_time": "2023-09-22T18:18:48.455632Z"
    }
   }
  },
  {
   "cell_type": "markdown",
   "source": [
    "Now all tests fail in both environments. Progress?"
   ],
   "metadata": {
    "collapsed": false
   }
  },
  {
   "cell_type": "markdown",
   "source": [
    "## Review function\n",
    "Copy the function below and debug the tests individually."
   ],
   "metadata": {
    "collapsed": false
   }
  },
  {
   "cell_type": "code",
   "execution_count": 48,
   "outputs": [],
   "source": [
    "from numpy.typing import ArrayLike\n",
    "from scipy.optimize import minimize\n",
    "from thztools import tdnll\n",
    "\n",
    "NUM_NOISE_PARAMETERS = 3\n",
    "NUM_NOISE_DATA_DIMENSIONS = 2\n",
    "\n",
    "\n",
    "def tdnoisefit(\n",
    "    x: ArrayLike,\n",
    "    *,\n",
    "    v0: ArrayLike | None = None,\n",
    "    mu0: ArrayLike | None = None,\n",
    "    a0: ArrayLike | None = None,\n",
    "    eta0: ArrayLike | None = None,\n",
    "    ts: float = 1.0,\n",
    "    fix_v: bool = False,\n",
    "    fix_mu: bool = False,\n",
    "    fix_a: bool = True,\n",
    "    fix_eta: bool = True,\n",
    ") -> tuple[dict, float, dict]:\n",
    "    r\"\"\"\n",
    "    Compute time-domain noise model parameters.\n",
    "\n",
    "    Computes the noise parameters sigma and the underlying signal vector ``mu``\n",
    "    for the data matrix ``x``, where the columns of ``x`` are each noisy\n",
    "    measurements of ``mu``.\n",
    "\n",
    "    Parameters\n",
    "    ----------\n",
    "    x : ndarray\n",
    "        Data array.\n",
    "    v0 : ndarray, optional\n",
    "        Initial guess, noise model parameters with size (3,), expressed as\n",
    "        variance amplitudes.\n",
    "    mu0 : ndarray, optional\n",
    "        Initial guess, signal vector with size (n,).\n",
    "    a0 : ndarray, optional\n",
    "        Initial guess, amplitude vector with size (m,).\n",
    "    eta0 : ndarray, optional\n",
    "        Initial guess, delay vector with size (m,).\n",
    "    ts : float, optional\n",
    "        Sampling time\n",
    "    fix_v : bool, optional\n",
    "        Noise variance parameters.\n",
    "    fix_mu : bool, optional\n",
    "        Signal vector.\n",
    "    fix_a : bool, optional\n",
    "        Amplitude vector.\n",
    "    fix_eta : bool, optional\n",
    "        Delay vector.\n",
    "\n",
    "    Returns\n",
    "    --------\n",
    "    p : dict\n",
    "        Output parameter dictionary containing:\n",
    "            var : ndarray\n",
    "                Noise parameters, expressed as variance amplitudes.\n",
    "            mu : ndarray\n",
    "                Signal vector.\n",
    "            a : ndarray\n",
    "                Amplitude vector.\n",
    "            eta : ndarray\n",
    "                Delay vector.\n",
    "    fval : float\n",
    "        Value of NLL cost function from FMINUNC\n",
    "    Diagnostic : dict\n",
    "        Dictionary containing diagnostic information\n",
    "            err : dic\n",
    "                Dictionary containing  error of the parameters.\n",
    "            grad : ndarray\n",
    "                Negative loglikelihood cost function gradient from\n",
    "                scipy.optimize.minimize BFGS method.\n",
    "            hessian : ndarray\n",
    "                Negative loglikelihood cost function hessian from\n",
    "                scipy.optimize.minimize BFGS method.\n",
    "    \"\"\"\n",
    "    if fix_v and fix_mu and fix_a and fix_eta:\n",
    "        msg = \"All variables are fixed\"\n",
    "        raise ValueError(msg)\n",
    "    # Parse and validate function inputs\n",
    "    x = np.asarray(x)\n",
    "    if x.ndim != NUM_NOISE_DATA_DIMENSIONS:\n",
    "        msg = \"Data array x must be 2D\"\n",
    "        raise ValueError(msg)\n",
    "    n, m = x.shape\n",
    "\n",
    "    if v0 is None:\n",
    "        v0 = np.mean(np.var(x, 1)) * np.ones(NUM_NOISE_PARAMETERS)\n",
    "    else:\n",
    "        v0 = np.asarray(v0)\n",
    "        if v0.size != NUM_NOISE_PARAMETERS:\n",
    "            msg = (\n",
    "                \"Noise parameter array logv must have \"\n",
    "                f\"{NUM_NOISE_PARAMETERS} elements.\"\n",
    "            )\n",
    "            raise ValueError(msg)\n",
    "\n",
    "    if mu0 is None:\n",
    "        mu0 = np.mean(x, 1)\n",
    "    else:\n",
    "        mu0 = np.asarray(mu0)\n",
    "        if mu0.size != n:\n",
    "            msg = \"Size of mu0 is incompatible with data array x.\"\n",
    "            raise ValueError(msg)\n",
    "\n",
    "    if a0 is None:\n",
    "        a0 = np.ones(m)\n",
    "    else:\n",
    "        a0 = np.asarray(a0)\n",
    "        if a0.size != m:\n",
    "            msg = \"Size of a0 is incompatible with data array x.\"\n",
    "            raise ValueError(msg)\n",
    "\n",
    "    if eta0 is None:\n",
    "        eta0 = np.zeros(m)\n",
    "    else:\n",
    "        eta0 = np.asarray(eta0)\n",
    "        if eta0.size != m:\n",
    "            msg = \"Size of eta0 is incompatible with data array x.\"\n",
    "            raise ValueError(msg)\n",
    "\n",
    "    # Set initial guesses for all free parameters\n",
    "    x0 = np.array([])\n",
    "    if not fix_v:\n",
    "        # Replace log(x) with -inf when x <= 0\n",
    "        logv0 = np.ma.log(v0).filled(-np.inf)\n",
    "        x0 = np.concatenate((x0, logv0))\n",
    "    if not fix_mu:\n",
    "        x0 = np.concatenate((x0, mu0))\n",
    "    if not fix_a:\n",
    "        x0 = np.concatenate((x0, a0[1:] / a0[0]))\n",
    "    if not fix_eta:\n",
    "        x0 = np.concatenate((x0, eta0[1:] - eta0[0]))\n",
    "\n",
    "    # Bundle free parameters together into objective function\n",
    "    def objective(_p):\n",
    "        if fix_v:\n",
    "            _logv = np.ma.log(v0).filled(-np.inf)\n",
    "        else:\n",
    "            _logv = _p[:3]\n",
    "            _p = _p[3:]\n",
    "        if fix_mu:\n",
    "            _mu = mu0\n",
    "        else:\n",
    "            _mu = _p[:n]\n",
    "            _p = _p[n:]\n",
    "        if fix_a:\n",
    "            _a = a0\n",
    "        else:\n",
    "            _a = np.concatenate((np.array([1.0]), _p[: m - 1]))\n",
    "            _p = _p[m - 1 :]\n",
    "        if fix_eta:\n",
    "            _eta = eta0\n",
    "        else:\n",
    "            _eta = np.concatenate((np.array([0.0]), _p[: m - 1]))\n",
    "        return tdnll(\n",
    "            x.T,\n",
    "            _mu,\n",
    "            _logv,\n",
    "            _a,\n",
    "            _eta,\n",
    "            ts,\n",
    "            fix_logv=fix_v,\n",
    "            fix_mu=fix_mu,\n",
    "            fix_a=fix_a,\n",
    "            fix_eta=fix_eta,\n",
    "        )\n",
    "\n",
    "    # Minimize cost function with respect to free parameters\n",
    "    out = minimize(objective, x0, method=\"L-BFGS-B\", jac=True)\n",
    "\n",
    "    # Parse output\n",
    "    p = {}\n",
    "    x_out = out.x\n",
    "    if fix_v:\n",
    "        p[\"var\"] = v0\n",
    "    else:\n",
    "        p[\"var\"] = np.exp(x_out[:3])\n",
    "        x_out = x_out[3:]\n",
    "\n",
    "    if fix_mu:\n",
    "        p[\"mu\"] = mu0\n",
    "    else:\n",
    "        p[\"mu\"] = x_out[:n]\n",
    "        x_out = x_out[n:]\n",
    "\n",
    "    if fix_a:\n",
    "        p[\"a\"] = a0\n",
    "    else:\n",
    "        p[\"a\"] = np.concatenate(([1], x_out[: m - 1]))\n",
    "        x_out = x_out[m - 1 :]\n",
    "\n",
    "    if fix_eta:\n",
    "        p[\"eta\"] = eta0\n",
    "    else:\n",
    "        p[\"eta\"] = np.concatenate(([0], x_out[: m - 1]))\n",
    "\n",
    "    p[\"ts\"] = ts\n",
    "\n",
    "    diagnostic = {\n",
    "        \"grad\": out.jac,\n",
    "        \"cov\": out.hess_inv.matmat(np.eye(out.hess_inv.shape[0])),\n",
    "        \"err\": {\n",
    "            \"var\": np.array([]),\n",
    "            \"mu\": np.array([]),\n",
    "            \"a\": np.array([]),\n",
    "            \"eta\": np.array([]),\n",
    "        },\n",
    "        \"success\": out.success,\n",
    "        \"status\": out.status,\n",
    "        \"message\": out.message,\n",
    "        \"nfev\": out.nfev,\n",
    "        \"njev\": out.njev,\n",
    "        \"nit\": out.nit,\n",
    "    }\n",
    "    err = np.sqrt(np.diag(diagnostic[\"cov\"]))\n",
    "    if not fix_v:\n",
    "        # Propagate error from log(V) to V\n",
    "        diagnostic[\"err\"][\"var\"] = np.sqrt(\n",
    "            np.diag(np.diag(p[\"var\"]) @ diagnostic[\"cov\"][0:3, 0:3])\n",
    "            @ np.diag(p[\"var\"])\n",
    "        )\n",
    "        err = err[3:]\n",
    "\n",
    "    if not fix_mu:\n",
    "        diagnostic[\"err\"][\"mu\"] = err[:n]\n",
    "        err = err[n:]\n",
    "\n",
    "    if not fix_a:\n",
    "        diagnostic[\"err\"][\"a\"] = np.concatenate(([0], err[: m - 1]))\n",
    "        err = err[m - 1 :]\n",
    "\n",
    "    if not fix_eta:\n",
    "        diagnostic[\"err\"][\"eta\"] = np.concatenate(([0], err[: m - 1]))\n",
    "\n",
    "    return p, out.fun, diagnostic"
   ],
   "metadata": {
    "collapsed": false,
    "ExecuteTime": {
     "end_time": "2023-09-22T18:35:15.592892Z",
     "start_time": "2023-09-22T18:35:15.581624Z"
    }
   }
  },
  {
   "cell_type": "markdown",
   "source": [
    "When run with default values for everything, the fit converges but to inaccurate values."
   ],
   "metadata": {
    "collapsed": false
   }
  },
  {
   "cell_type": "code",
   "execution_count": 51,
   "outputs": [],
   "source": [
    "p, fval, diagnostic = tdnoisefit(x.T)"
   ],
   "metadata": {
    "collapsed": false,
    "ExecuteTime": {
     "end_time": "2023-09-22T18:36:55.214265Z",
     "start_time": "2023-09-22T18:36:55.202189Z"
    }
   }
  },
  {
   "cell_type": "code",
   "execution_count": 52,
   "outputs": [
    {
     "data": {
      "text/plain": "array([5.70721119e-09, 5.14966456e-05, 6.72986802e-06])"
     },
     "execution_count": 52,
     "metadata": {},
     "output_type": "execute_result"
    }
   ],
   "source": [
    "p[\"var\"] * m / (m - 1)"
   ],
   "metadata": {
    "collapsed": false,
    "ExecuteTime": {
     "end_time": "2023-09-22T18:36:56.500787Z",
     "start_time": "2023-09-22T18:36:56.492018Z"
    }
   }
  },
  {
   "cell_type": "code",
   "execution_count": 53,
   "outputs": [
    {
     "data": {
      "text/plain": "array([1.e-10, 1.e-04, 1.e-06])"
     },
     "execution_count": 53,
     "metadata": {},
     "output_type": "execute_result"
    }
   ],
   "source": [
    "sigma**2"
   ],
   "metadata": {
    "collapsed": false,
    "ExecuteTime": {
     "end_time": "2023-09-22T18:37:14.460852Z",
     "start_time": "2023-09-22T18:37:14.435631Z"
    }
   }
  },
  {
   "cell_type": "markdown",
   "source": [
    "Try varyiung `n` and `m`."
   ],
   "metadata": {
    "collapsed": false
   }
  },
  {
   "cell_type": "code",
   "execution_count": 54,
   "outputs": [],
   "source": [
    "rng = np.random.default_rng(0)\n",
    "n = 256\n",
    "m = 64\n",
    "ts = 0.05\n",
    "t = np.arange(n) * ts\n",
    "mu, _ = thz.thzgen(n, ts=ts, t0=n * ts / 3)\n",
    "sigma = np.array([1e-5, 1e-2, 1e-3])\n",
    "noise = thz.noiseamp(sigma, mu, ts) * rng.standard_normal((m, n))\n",
    "x = np.array(mu + noise)\n",
    "a = np.ones(m)\n",
    "eta = np.zeros(m)"
   ],
   "metadata": {
    "collapsed": false,
    "ExecuteTime": {
     "end_time": "2023-09-22T18:41:46.376180Z",
     "start_time": "2023-09-22T18:41:46.360275Z"
    }
   }
  },
  {
   "cell_type": "code",
   "execution_count": 55,
   "outputs": [],
   "source": [
    "p, fval, diagnostic = tdnoisefit(x.T)"
   ],
   "metadata": {
    "collapsed": false,
    "ExecuteTime": {
     "end_time": "2023-09-22T18:41:57.878619Z",
     "start_time": "2023-09-22T18:41:48.545614Z"
    }
   }
  },
  {
   "cell_type": "code",
   "execution_count": 56,
   "outputs": [
    {
     "data": {
      "text/plain": "array([9.56491352e-11, 1.19753065e-04, 4.98771399e-06])"
     },
     "execution_count": 56,
     "metadata": {},
     "output_type": "execute_result"
    }
   ],
   "source": [
    "p[\"var\"] * m / (m - 1)"
   ],
   "metadata": {
    "collapsed": false,
    "ExecuteTime": {
     "end_time": "2023-09-22T18:42:09.383280Z",
     "start_time": "2023-09-22T18:42:09.343153Z"
    }
   }
  },
  {
   "cell_type": "code",
   "execution_count": 60,
   "outputs": [
    {
     "data": {
      "text/plain": "'STOP: TOTAL NO. of f AND g EVALUATIONS EXCEEDS LIMIT'"
     },
     "execution_count": 60,
     "metadata": {},
     "output_type": "execute_result"
    }
   ],
   "source": [
    "diagnostic[\"message\"]"
   ],
   "metadata": {
    "collapsed": false,
    "ExecuteTime": {
     "end_time": "2023-09-22T23:25:33.668618Z",
     "start_time": "2023-09-22T23:25:33.660338Z"
    }
   }
  },
  {
   "cell_type": "markdown",
   "source": [
    "Commented out the `assert_allclose` lines in `test_thztools` and encountered 52 errors with the Hatch environment and 48 with the Mamba environment. When I reviewed them, it looks like some tests are failing in Hatch but not in Mamba, and vice versa.\n",
    "\n",
    "After reviewing the errors returned in the Mamba environment, they all result from exceeding the evaluation limit. Reducing `ftol` is enough to solve that problem.\n",
    "\n",
    "Tried to reduce `atol` and `rtol` in the `assert_allclose` statement, but all of these occur when `fix_v = False`."
   ],
   "metadata": {
    "collapsed": false
   }
  },
  {
   "cell_type": "code",
   "execution_count": null,
   "outputs": [],
   "source": [],
   "metadata": {
    "collapsed": false
   }
  }
 ],
 "metadata": {
  "kernelspec": {
   "display_name": "Python 3",
   "language": "python",
   "name": "python3"
  },
  "language_info": {
   "codemirror_mode": {
    "name": "ipython",
    "version": 2
   },
   "file_extension": ".py",
   "mimetype": "text/x-python",
   "name": "python",
   "nbconvert_exporter": "python",
   "pygments_lexer": "ipython2",
   "version": "2.7.6"
  }
 },
 "nbformat": 4,
 "nbformat_minor": 0
}
