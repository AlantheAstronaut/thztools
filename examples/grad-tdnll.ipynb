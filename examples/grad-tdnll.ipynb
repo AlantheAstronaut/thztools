{
 "cells": [
  {
   "cell_type": "code",
   "execution_count": 3,
   "id": "initial_id",
   "metadata": {
    "collapsed": true,
    "ExecuteTime": {
     "end_time": "2023-09-07T00:39:56.266269Z",
     "start_time": "2023-09-07T00:39:56.265267Z"
    }
   },
   "outputs": [],
   "source": [
    "import numpy as np\n",
    "import matplotlib.pyplot as plt\n",
    "import thztools as thz\n",
    "\n",
    "from numpy import pi\n",
    "from scipy.optimize import approx_fprime"
   ]
  },
  {
   "cell_type": "code",
   "execution_count": 4,
   "outputs": [],
   "source": [
    "m = 2\n",
    "n = 16\n",
    "dt = 1.0 / n\n",
    "t = np.arange(n) * dt\n",
    "mu = np.cos(2 * pi * t)\n",
    "x = np.tile(mu, [m, 1])\n",
    "logv = [0, -np.inf, -np.inf]\n",
    "a = np.ones(m)\n",
    "eta = np.zeros(m)\n",
    "ts = dt"
   ],
   "metadata": {
    "collapsed": false,
    "ExecuteTime": {
     "end_time": "2023-09-07T00:39:57.967912Z",
     "start_time": "2023-09-07T00:39:57.961285Z"
    }
   },
   "id": "4629500ce5c85d07"
  },
  {
   "cell_type": "code",
   "execution_count": 63,
   "outputs": [],
   "source": [
    "def grad_nll_approx(x_, mu_, logv_, a_, eta_, ts_):\n",
    "    kwargs = {'fix_logv': True, 'fix_mu': True, 'fix_a': True, 'fix_eta': True}\n",
    "    grad_logv = approx_fprime(\n",
    "        logv_,\n",
    "        lambda logv_var: thz.tdnll(x_, mu_, logv_var, a_, eta_, ts_, **kwargs)[\n",
    "            0\n",
    "        ],\n",
    "    )\n",
    "    grad_mu = approx_fprime(\n",
    "        mu_,\n",
    "        lambda mu_var: thz.tdnll(x_, mu_var, logv_, a_, eta_, ts_, **kwargs)[\n",
    "            0\n",
    "        ],\n",
    "    )\n",
    "    grad_a = approx_fprime(\n",
    "        a_[1:],\n",
    "        lambda a_var: thz.tdnll(x_, mu_, logv_, \n",
    "                                np.insert(a_var, 0, a_[0]), \n",
    "                                eta_, ts_, **kwargs)[0],\n",
    "    )\n",
    "    grad_eta = approx_fprime(\n",
    "        eta_[1:],\n",
    "        lambda eta_var: thz.tdnll(x_, mu_, logv_, a_, \n",
    "                                  np.insert(eta_var, 0, eta_[0]), \n",
    "                                  ts_, **kwargs)[\n",
    "            0\n",
    "        ],\n",
    "        epsilon=3e-9 # Derivative is inaccurate at default epsilon\n",
    "    )\n",
    "    return np.concatenate((grad_logv, grad_mu, grad_a, grad_eta))"
   ],
   "metadata": {
    "collapsed": false,
    "ExecuteTime": {
     "end_time": "2023-09-07T02:07:31.827236Z",
     "start_time": "2023-09-07T02:07:31.823840Z"
    }
   },
   "id": "9a99c6e20c79ee2"
  },
  {
   "cell_type": "code",
   "execution_count": 64,
   "outputs": [
    {
     "name": "stderr",
     "output_type": "stream",
     "text": [
      "/Users/jsd/mambaforge/envs/thztools/lib/python3.11/site-packages/scipy/optimize/_numdiff.py:489: RuntimeWarning: invalid value encountered in subtract\n",
      "  dx = ((x0 + h) - x0)\n",
      "/Users/jsd/mambaforge/envs/thztools/lib/python3.11/site-packages/scipy/optimize/_numdiff.py:575: RuntimeWarning: invalid value encountered in scalar subtract\n",
      "  dx = x[i] - x0[i]  # Recompute dx as exactly representable number.\n"
     ]
    }
   ],
   "source": [
    "grad_nll_approx_val = grad_nll_approx(x, mu, logv, a, eta, ts)"
   ],
   "metadata": {
    "collapsed": false,
    "ExecuteTime": {
     "end_time": "2023-09-07T02:07:32.353125Z",
     "start_time": "2023-09-07T02:07:32.348077Z"
    }
   },
   "id": "c5b3bd3895692203"
  },
  {
   "cell_type": "code",
   "execution_count": 65,
   "outputs": [
    {
     "data": {
      "text/plain": "array([ 1.60000000e+01,  0.00000000e+00,  0.00000000e+00, -2.22044605e-16,\n       -2.22044605e-16,  2.22044605e-16,  1.23259516e-32, -3.08148791e-32,\n        2.22044605e-16,  0.00000000e+00, -1.18479872e-32,  2.22044605e-16,\n       -1.23259516e-32,  0.00000000e+00,  1.11022302e-16,  5.54667824e-32,\n       -1.11022302e-16,  2.22044605e-16, -4.77964436e-34, -2.52579384e-16,\n        3.77524166e-16])"
     },
     "execution_count": 65,
     "metadata": {},
     "output_type": "execute_result"
    }
   ],
   "source": [
    "_, grad_nll = thz.tdnll(\n",
    "    x,\n",
    "    mu,\n",
    "    logv,\n",
    "    a,\n",
    "    eta,\n",
    "    ts,\n",
    "    fix_logv=False,\n",
    "    fix_mu=False,\n",
    "    fix_a=False,\n",
    "    fix_eta=False,\n",
    ")\n",
    "grad_nll"
   ],
   "metadata": {
    "collapsed": false,
    "ExecuteTime": {
     "end_time": "2023-09-07T02:07:32.846478Z",
     "start_time": "2023-09-07T02:07:32.830166Z"
    }
   },
   "id": "1f89a1549b305817"
  },
  {
   "cell_type": "code",
   "execution_count": 66,
   "outputs": [
    {
     "data": {
      "text/plain": "3.7752416578900986e-16"
     },
     "execution_count": 66,
     "metadata": {},
     "output_type": "execute_result"
    }
   ],
   "source": [
    "grad_nll[-1]"
   ],
   "metadata": {
    "collapsed": false,
    "ExecuteTime": {
     "end_time": "2023-09-07T02:07:33.588351Z",
     "start_time": "2023-09-07T02:07:33.583858Z"
    }
   },
   "id": "31eddf43b3f2a02f"
  },
  {
   "cell_type": "code",
   "execution_count": 67,
   "outputs": [
    {
     "data": {
      "text/plain": "0.0"
     },
     "execution_count": 67,
     "metadata": {},
     "output_type": "execute_result"
    }
   ],
   "source": [
    "grad_nll_approx_val[-1]"
   ],
   "metadata": {
    "collapsed": false,
    "ExecuteTime": {
     "end_time": "2023-09-07T02:07:34.129096Z",
     "start_time": "2023-09-07T02:07:34.126849Z"
    }
   },
   "id": "46f4cd9803584c64"
  },
  {
   "cell_type": "code",
   "execution_count": null,
   "outputs": [],
   "source": [],
   "metadata": {
    "collapsed": false
   },
   "id": "644496d0c9e72b5a"
  }
 ],
 "metadata": {
  "kernelspec": {
   "display_name": "Python 3",
   "language": "python",
   "name": "python3"
  },
  "language_info": {
   "codemirror_mode": {
    "name": "ipython",
    "version": 2
   },
   "file_extension": ".py",
   "mimetype": "text/x-python",
   "name": "python",
   "nbconvert_exporter": "python",
   "pygments_lexer": "ipython2",
   "version": "2.7.6"
  }
 },
 "nbformat": 4,
 "nbformat_minor": 5
}
