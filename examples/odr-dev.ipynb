{
 "cells": [
  {
   "cell_type": "code",
   "execution_count": 1,
   "metadata": {
    "collapsed": true,
    "ExecuteTime": {
     "end_time": "2023-07-02T16:54:22.250244Z",
     "start_time": "2023-07-02T16:54:21.611996Z"
    }
   },
   "outputs": [],
   "source": [
    "import numpy as np\n",
    "from numpy import pi\n",
    "from numpy.fft import rfftfreq, rfft, irfft\n",
    "from numpy.random import default_rng\n",
    "\n",
    "from scipy import odr\n",
    "import scipy.linalg as la\n",
    "from scipy.optimize import least_squares\n",
    "from scipy.stats import cumfreq, chi2, norm, probplot\n",
    "\n",
    "from matplotlib import pyplot as plt\n",
    "from matplotlib.figure import figaspect\n",
    "\n",
    "from thztools import thzgen, noiseamp, costfunlsq, ODR"
   ]
  },
  {
   "cell_type": "markdown",
   "source": [
    "The transfer function model function `tf_model` returns\n",
    " $$ H(\\mathbf{\\theta}; \\omega) = \\theta_0\\exp(-i\\omega\\theta_1),$$\n",
    " which rescales the input by $\\theta_0$ and shifts it by $\\theta_1$ (using the $+i\\omega t$ sign convention). In the simulations, $\\theta_0 = 1$ and $\\theta_1 = 0$. The time-domain response function `td_model` applies this transfer function to a signal vector $x(t)$ for a given $\\mathbf{\\theta}$ and returns the resulting $y(t)$, as shown in the second cell for $\\theta_0 = 0.5, \\theta_1 = 1.0$."
   ],
   "metadata": {
    "collapsed": false
   }
  },
  {
   "cell_type": "code",
   "execution_count": 2,
   "outputs": [],
   "source": [
    "def tf_model(_p, _w):\n",
    "    return _p[0] * np.exp(-1j * _w * _p[1])"
   ],
   "metadata": {
    "collapsed": false,
    "ExecuteTime": {
     "end_time": "2023-07-02T16:54:22.252492Z",
     "start_time": "2023-07-02T16:54:22.251010Z"
    }
   }
  },
  {
   "cell_type": "code",
   "execution_count": 3,
   "outputs": [],
   "source": [
    "n = 256  # Number of samples\n",
    "ts = 0.05  # Sampling time [ps]\n",
    "t0 = 2.5  # Peak pulse time [ps]\n",
    "fs = 1 / ts  # Sampling frequency [THz]\n",
    "\n",
    "sigma_alpha = 1e-4  # Additive noise amplitude [signal units]\n",
    "sigma_beta = 1e-2  # Multiplicative noise amplitude [dimensionless]\n",
    "sigma_tau = 1e-3  # Time base noise amplitude [ps]\n",
    "sigma_parms = np.array([sigma_alpha, sigma_beta, sigma_tau])\n",
    "\n",
    "seed = 0  # RNG seed\n",
    "rng = default_rng(seed)"
   ],
   "metadata": {
    "collapsed": false,
    "ExecuteTime": {
     "end_time": "2023-07-02T16:54:22.255803Z",
     "start_time": "2023-07-02T16:54:22.254144Z"
    }
   }
  },
  {
   "cell_type": "markdown",
   "source": [
    "The ODRPACK documentation defines $X = X^* - \\Delta^*$ and $Y = Y^* - E^*$, where the starred quantities indicate the true values."
   ],
   "metadata": {
    "collapsed": false
   }
  },
  {
   "cell_type": "code",
   "execution_count": 4,
   "outputs": [],
   "source": [
    "n_sim = 250\n",
    "p_opt = (0.5, 1)\n",
    "f = rfftfreq(n, ts)\n",
    "\n",
    "\n",
    "def td_model(_p, _x):\n",
    "    _y = irfft(rfft(_x) * tf_model(_p, 2 * pi * f), n=n)\n",
    "    return _y\n",
    "\n",
    "\n",
    "mu, t = thzgen(n, ts, t0)\n",
    "psi = td_model(p_opt, mu)\n",
    "sigma_mu = noiseamp(sigma_parms, mu, ts)\n",
    "sigma_psi = noiseamp(sigma_parms, psi, ts)\n",
    "x_noise = sigma_mu * rng.standard_normal((n_sim, n))\n",
    "y_noise = sigma_psi * rng.standard_normal((n_sim, n))\n",
    "\n",
    "x = mu - x_noise\n",
    "y = psi - y_noise"
   ],
   "metadata": {
    "collapsed": false,
    "ExecuteTime": {
     "end_time": "2023-07-02T16:54:22.261397Z",
     "start_time": "2023-07-02T16:54:22.258084Z"
    }
   }
  },
  {
   "cell_type": "code",
   "execution_count": 5,
   "outputs": [
    {
     "data": {
      "text/plain": "<Figure size 640x480 with 1 Axes>",
      "image/png": "[encoded data removed]"
     },
     "metadata": {},
     "output_type": "display_data"
    }
   ],
   "source": [
    "plt.plot(t, mu)\n",
    "plt.plot(t, psi)\n",
    "plt.show()"
   ],
   "metadata": {
    "collapsed": false,
    "ExecuteTime": {
     "end_time": "2023-07-02T16:54:22.362192Z",
     "start_time": "2023-07-02T16:54:22.262146Z"
    }
   }
  },
  {
   "cell_type": "markdown",
   "source": [],
   "metadata": {
    "collapsed": false
   }
  },
  {
   "cell_type": "markdown",
   "source": [
    "For multivariate data, `ODRPACK` solves the orthogonal distance regression problem for\n",
    "$$f_i: \\mathbb{R}^{m+p}\\rightarrow \\mathbb{R}^{q},\\quad i = 0, 1, \\ldots, n_\\text{vec} -1, $$\n",
    "where $n_\\text{vec}$ is the number of data vectors, and in our case $m = q = n$, where $n$ is the number of data points in each vector. The error vectors $\\mathbf{\\delta}_i$ and $\\mathbf{\\epsilon}_i$, associated with $\\mathbf{x}_i$ and $\\mathbf{y}_i$, respectively, may also be weighted by the arrays $\\mathbf{w}_{\\mathbf{\\delta}_i} \\in \\mathbb{R}^{m\\times m}$ and $\\mathbf{w}_{\\mathbf{\\epsilon}_i} \\in \\mathbb{R}^{q\\times q}$, respectively.\n",
    "\n",
    "The documentation for `scipy.odr` does not completely specify how this data should be organized for passing to `ODRPACK`, but it appears that the `Data` class expects `x` to have shape $(m, n_\\text{vec})$, `y` to have shape $(q, n_\\text{vec})$, `we` to have shape $(q, q, n_\\text{vec})$, and `wd` to have shape $(m, m, n_\\text{vec})$."
   ],
   "metadata": {
    "collapsed": false
   }
  },
  {
   "cell_type": "code",
   "execution_count": 6,
   "outputs": [
    {
     "name": "stdout",
     "output_type": "stream",
     "text": [
      "(256, 2)\n",
      "(256, 2)\n",
      "(256, 256, 2)\n",
      "(256, 256, 2)\n",
      "1\n",
      "['Sum of squares convergence']\n",
      "[0.50007947 0.99970994]\n"
     ]
    }
   ],
   "source": [
    "n_vec = 2\n",
    "sigma_x = noiseamp(sigma_parms, mu, ts)\n",
    "sigma_y = noiseamp(sigma_parms, psi, ts)\n",
    "\n",
    "def td_model_2(_p, _x):\n",
    "    _y = irfft(rfft(_x.T) * tf_model(_p, 2 * pi * f), n=n)\n",
    "    return _y.T\n",
    "\n",
    "\n",
    "model = odr.Model(td_model_2)\n",
    "x_test = np.atleast_2d(x[:n_vec, :]).T\n",
    "y_test = np.atleast_2d(y[:n_vec, :]).T\n",
    "delta_0 = np.atleast_2d(x_noise[:n_vec, :]).T\n",
    "we = np.transpose(np.tile(np.diag(1 / sigma_y ** 2), (n_vec, 1, 1)), (1, 2, 0))\n",
    "wd = np.transpose(np.tile(np.diag(1 / sigma_x ** 2), (n_vec, 1, 1)), (1, 2, 0))\n",
    "data = odr.Data(x_test,\n",
    "                y=y_test,\n",
    "                we=we,\n",
    "                wd=wd)\n",
    "print(x_test.shape)\n",
    "print(y_test.shape)\n",
    "print(we.shape)\n",
    "print(wd.shape)\n",
    "fit = ODR(data, model, beta0=p_opt, delta0=delta_0)\n",
    "fit.set_job(del_init=1)\n",
    "result = fit.run()\n",
    "print(result.info)\n",
    "print(result.stopreason)\n",
    "print(result.beta)"
   ],
   "metadata": {
    "collapsed": false,
    "ExecuteTime": {
     "end_time": "2023-07-02T16:54:24.518923Z",
     "start_time": "2023-07-02T16:54:22.364797Z"
    }
   }
  },
  {
   "cell_type": "markdown",
   "source": [
    "Our fit fails when $n_\\text{vec} = 1$, since `ODRPACK` expects $n_\\text{vec} \\geq p$."
   ],
   "metadata": {
    "collapsed": false
   }
  },
  {
   "cell_type": "code",
   "execution_count": 7,
   "outputs": [
    {
     "name": "stdout",
     "output_type": "stream",
     "text": [
      "(256, 1)\n",
      "(256, 1)\n",
      "(256, 256, 1)\n",
      "(256, 256, 1)\n",
      "10010\n",
      "['NP < 1 or NP > N']\n",
      "[0.5 1. ]\n"
     ]
    }
   ],
   "source": [
    "n_vec = 1\n",
    "sigma_x = noiseamp(sigma_parms, mu, ts)\n",
    "sigma_y = noiseamp(sigma_parms, psi, ts)\n",
    "\n",
    "def td_model_2(_p, _x):\n",
    "    _y = irfft(rfft(_x.T) * tf_model(_p, 2 * pi * f), n=n)\n",
    "    return _y.T\n",
    "\n",
    "\n",
    "model = odr.Model(td_model_2)\n",
    "x_test = np.atleast_2d(x[:n_vec, :]).T\n",
    "y_test = np.atleast_2d(y[:n_vec, :]).T\n",
    "delta_0 = np.atleast_2d(x_noise[:n_vec, :]).T\n",
    "we = np.transpose(np.tile(np.diag(1 / sigma_y ** 2), (n_vec, 1, 1)), (1, 2, 0))\n",
    "wd = np.transpose(np.tile(np.diag(1 / sigma_x ** 2), (n_vec, 1, 1)), (1, 2, 0))\n",
    "data = odr.Data(x_test,\n",
    "                y=y_test,\n",
    "                we=we,\n",
    "                wd=wd)\n",
    "print(x_test.shape)\n",
    "print(y_test.shape)\n",
    "print(we.shape)\n",
    "print(wd.shape)\n",
    "fit = ODR(data, model, beta0=p_opt, delta0=delta_0)\n",
    "fit.set_job(del_init=1)\n",
    "result = fit.run()\n",
    "print(result.info)\n",
    "print(result.stopreason)\n",
    "print(result.beta)"
   ],
   "metadata": {
    "collapsed": false,
    "ExecuteTime": {
     "end_time": "2023-07-02T16:54:24.526393Z",
     "start_time": "2023-07-02T16:54:24.521841Z"
    }
   }
  }
 ],
 "metadata": {
  "kernelspec": {
   "display_name": "Python 3",
   "language": "python",
   "name": "python3"
  },
  "language_info": {
   "codemirror_mode": {
    "name": "ipython",
    "version": 2
   },
   "file_extension": ".py",
   "mimetype": "text/x-python",
   "name": "python",
   "nbconvert_exporter": "python",
   "pygments_lexer": "ipython2",
   "version": "2.7.6"
  }
 },
 "nbformat": 4,
 "nbformat_minor": 0
}
