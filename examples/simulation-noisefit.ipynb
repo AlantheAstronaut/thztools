{
 "cells": [
  {
   "cell_type": "code",
   "execution_count": null,
   "metadata": {},
   "outputs": [],
   "source": [
    "import numpy as np\n",
    "import matplotlib.pyplot as plt\n",
    "from matplotlib.figure import figaspect\n",
    "from scipy import signal\n",
    "from numpy.random import default_rng\n",
    "from scipy import stats\n",
    "\n",
    "import importlib\n",
    "import sys\n",
    "import os\n",
    "sys.path.append(os.path.abspath(\n",
    "    \"/Users/roboboy/Documents/GitHub/thztools/src/thztools\"))\n",
    "import thztools as thz\n",
    "importlib.reload(thz)\n",
    "%matplotlib inline"
   ]
  },
  {
   "cell_type": "code",
   "execution_count": null,
   "metadata": {},
   "outputs": [],
   "source": [
    "n_sim = 16\n",
    "n = 256\n",
    "\n",
    "dt = 0.05\n",
    "t0 = 2.5 \n",
    "fs = 1/dt\n",
    "\n",
    "sigma_alpha = 1e-4  # Additive noise amplitude [signal units]\n",
    "sigma_beta = 1e-2  # Multiplicative noise amplitude [dimensionless]\n",
    "sigma_tau = 1e-3  # Time base noise amplitude [ps]\n",
    "sigma_parms = np.array([sigma_alpha, sigma_beta, sigma_tau])\n",
    "\n",
    "\n",
    "seed = 0  # RNG seed\n",
    "rng = default_rng(seed)"
   ]
  },
  {
   "cell_type": "code",
   "execution_count": null,
   "metadata": {},
   "outputs": [],
   "source": [
    "mu = thz.wave(n=n, dt=dt, t0=t0)\n",
    "t = np.arange(0,n*dt,dt)\n",
    "noise_mod = thz.NoiseModel(sigma_alpha, sigma_beta, sigma_tau, dt)\n",
    "sigma = noise_mod.noise_amp(mu)\n",
    "\n",
    "# Use broadcasting to generate multiple simulated noisy measurements of y\n",
    "x = mu + sigma * rng.standard_normal((n_sim, n))\n",
    "\n",
    "# Compute power spectral density\n",
    "f, psd = signal.periodogram(x, fs=fs, detrend=False)\n",
    "n_f = f.size"
   ]
  },
  {
   "cell_type": "code",
   "execution_count": null,
   "metadata": {},
   "outputs": [],
   "source": [
    "w, h = figaspect(0.45)\n",
    "_, axs = plt.subplots(1, 2, figsize=(w, h))\n",
    "\n",
    "axs[0].plot(t, mu, c='k', label=r'Signal ($\\mu$)')\n",
    "axs[0].plot(t, sigma * 30, ls='--', c='grey', label=r'noise $(30 \\sigma$)')\n",
    "\n",
    "axs[0].legend(frameon=False)\n",
    "axs[0].text(0.025, 0.95, '(a)', transform=axs[0].transAxes)\n",
    "\n",
    "axs[0].set_xlabel('Time (ps)')\n",
    "axs[0].set_ylabel(r'Amplitude (units of $\\mu_{p})$')\n",
    "\n",
    "axs[1].plot(f, 10 * np.log10(psd[1:, :].T / max(psd.flatten())), c='grey')\n",
    "axs[1].plot(f, 10 * np.log10(psd[0, :].T / max(psd.flatten())), c='red')\n",
    "\n",
    "axs[1].text(0.025, 0.95, '(b)', transform=axs[1].transAxes)\n",
    "\n",
    "axs[1].set_xlabel('Frequency (THz)')\n",
    "axs[1].set_ylabel('Relative Power (dB)')\n",
    "\n",
    "axs[1].set_xticks(np.arange(0, 11, 5))\n",
    "axs[1].set_xlim(0, 10)\n",
    "axs[1].set_yticks(np.arange(-60, 10, 20))\n",
    "axs[1].set_ylim(-70, 10)\n",
    "\n",
    "plt.show()\n",
    "del x"
   ]
  },
  {
   "cell_type": "code",
   "execution_count": null,
   "metadata": {},
   "outputs": [],
   "source": [
    "n_sim = 1024\n",
    "m = 16\n",
    "n_p = 3"
   ]
  },
  {
   "cell_type": "code",
   "execution_count": null,
   "metadata": {},
   "outputs": [],
   "source": [
    "rng = default_rng(seed)\n",
    "\n",
    "amp = np.empty((n, m, n_sim))\n",
    "amp_noise = np.empty((n, m, n_sim))\n",
    "\n",
    "sigma_mu = noise_mod.noise_amp(mu)\n",
    "\n",
    "for i in range(n_sim):\n",
    "    seed = i  # RNG seed\n",
    "    rng = default_rng(seed)\n",
    "    amp_noise[:,:, i] = (sigma_mu * rng.standard_normal((n, m)).T).T\n",
    "    amp[:,:,i] = (mu + amp_noise[:,:,i].T).T\n",
    "\n"
   ]
  },
  {
   "cell_type": "code",
   "execution_count": null,
   "metadata": {},
   "outputs": [],
   "source": [
    "plt.figure(figsize=(10, 6))\n",
    "plt.plot(t, mu)\n",
    "plt.show()"
   ]
  },
  {
   "cell_type": "code",
   "execution_count": null,
   "metadata": {},
   "outputs": [],
   "source": [
    "plt.figure(figsize=(10, 6))\n",
    "for i in range(n_sim):\n",
    "    for j in range (m):\n",
    "        plt.plot(t, amp[:, j, i])\n",
    "plt.show()"
   ]
  },
  {
   "cell_type": "code",
   "execution_count": null,
   "metadata": {},
   "outputs": [],
   "source": [
    "plt.figure(figsize=(10, 6))\n",
    "for i in range(n_sim):\n",
    "    for j in range(m):\n",
    "        plt.plot(t, amp_noise[:, j,i])\n",
    "plt.show()"
   ]
  },
  {
   "cell_type": "code",
   "execution_count": null,
   "metadata": {},
   "outputs": [],
   "source": [
    "# Creating empty arrays to store the fit results\n",
    "sigma_fit = np.empty((n_p, n_sim))\n",
    "mu_fit = np.empty((n, n_sim))\n",
    "sigma_sigma_fit = np.empty((n_p, n_sim))\n",
    "sigma_mu_fit = np.empty((n, n_sim))\n",
    "resnorm_tls = np.empty(n_sim)"
   ]
  },
  {
   "cell_type": "code",
   "execution_count": null,
   "metadata": {},
   "outputs": [],
   "source": [
    "for i in range(n_sim):\n",
    "    # print(i)\n",
    "    noise_fit = thz.noisefit(amp[:,:,i], sigma_alpha0=sigma_alpha, sigma_beta0=sigma_beta, sigma_tau0=sigma_tau,\n",
    "                             fix_sigma_alpha=False, fix_sigma_beta=False, fix_sigma_tau=False, fix_a=True, fix_eta=True, dt=dt)\n",
    "    sigma_fit[:,i] = [noise_fit.noise_model.sigma_alpha, noise_fit.noise_model.sigma_beta, noise_fit.noise_model.sigma_tau]\n",
    "    sigma_sigma_fit[:,i] = [noise_fit.err_sigma_alpha, noise_fit.err_sigma_beta, noise_fit.err_sigma_tau]\n",
    "    mu_fit [:, i] = noise_fit.mu\n",
    "    sigma_mu_fit[:,i] = noise_fit.err_mu\n",
    "    resnorm_tls[i] = noise_fit.fval"
   ]
  },
  {
   "cell_type": "code",
   "execution_count": null,
   "metadata": {},
   "outputs": [],
   "source": [
    "plt.figure(figsize=(10,  6))\n",
    "for i in range(n_sim):\n",
    "    plt.plot(t, mu_fit[:,  i])\n",
    "\n",
    "plt.ylabel('$\\mu_{fit}$', fontsize=14)\n",
    "plt.xlabel(\"$t$ (ps)\", fontsize=14)\n",
    "plt.xticks(fontsize=12)\n",
    "plt.yticks(fontsize=12)\n",
    "\n",
    "plt.show()"
   ]
  },
  {
   "cell_type": "code",
   "execution_count": null,
   "metadata": {},
   "outputs": [],
   "source": [
    "plt.figure(figsize=(10,  6))\n",
    "for i in range(2):\n",
    "    for j in range(m):\n",
    "        res_temp = (amp[:,j,i] - mu_fit[:,i])/noise_mod.noise_amp(amp[:,j,i])\n",
    "        plt.plot(t, res_temp)\n",
    "plt.ylabel('$\\delta_{TLS}$', fontsize=14)\n",
    "plt.xlabel(\"$t$ (ps)\", fontsize=14)\n",
    "plt.xticks(fontsize=12)\n",
    "plt.yticks(fontsize=12)\n",
    "\n",
    "plt.show()"
   ]
  },
  {
   "cell_type": "code",
   "execution_count": null,
   "metadata": {},
   "outputs": [],
   "source": [
    "n_sim_arr = np.arange(1,  n_sim+1 , 1)\n",
    "plt.figure(figsize=(9,  6))\n",
    "plt.plot(n_sim_arr, sigma_fit[0,:]*np.sqrt(m/(m-1)), 'o', markersize=4)\n",
    "plt.hlines(sigma_alpha, 0, n_sim+1, colors='C3')\n",
    "plt.title(\"Sample Data\", fontsize=16)\n",
    "plt.ylabel('$\\sigma_{\\\\alpha}$', fontsize=14)\n",
    "plt.xlabel(\"N_sim\", fontsize=14)\n",
    "plt.ticklabel_format(style='sci', axis='y', scilimits=(0,0))\n",
    "plt.xticks(fontsize=12)\n",
    "plt.yticks(fontsize=12)\n",
    "plt.xlim(0,  n_sim+1)\n",
    "# plt.ylim(0.9e-4,1.1e-4)\n",
    "plt.show()"
   ]
  },
  {
   "cell_type": "code",
   "execution_count": null,
   "metadata": {},
   "outputs": [],
   "source": [
    "n_sim_arr = np.arange(1,  n_sim+1 , 1)\n",
    "plt.figure(figsize=(9,  6))\n",
    "plt.plot(n_sim_arr, sigma_fit[1,:]*np.sqrt(m/(m-1)), 'o', markersize=4)\n",
    "plt.hlines(sigma_beta, 0, n_sim+1, colors='C3')\n",
    "plt.title(\"Sample Data\", fontsize=16)\n",
    "plt.ylabel('$\\sigma_{\\\\beta}$', fontsize=14)\n",
    "plt.xlabel(\"N_sim\", fontsize=14)\n",
    "plt.ticklabel_format(style='sci', axis='y', scilimits=(0,0))\n",
    "plt.xticks(fontsize=12)\n",
    "plt.yticks(fontsize=12)\n",
    "plt.xlim(0,  n_sim+1)\n",
    "# plt.ylim(0.9e-2,1.1e-2)\n",
    "plt.show()"
   ]
  },
  {
   "cell_type": "code",
   "execution_count": null,
   "metadata": {},
   "outputs": [],
   "source": [
    "n_sim_arr = np.arange(1,  n_sim+1 , 1)\n",
    "plt.figure(figsize=(9,  6))\n",
    "plt.plot(n_sim_arr, sigma_fit[2,:]*np.sqrt(m/(m-1)), 'o', markersize=4)\n",
    "plt.hlines(sigma_tau, 0, n_sim+1, colors='C3')\n",
    "plt.title(\"Sample Data\", fontsize=16)\n",
    "plt.ylabel('$\\sigma_{\\\\tau}$', fontsize=14)\n",
    "plt.xlabel(\"N_sim\", fontsize=14)\n",
    "plt.ticklabel_format(style='sci', axis='y', scilimits=(0,0))\n",
    "plt.xticks(fontsize=12)\n",
    "plt.yticks(fontsize=12)\n",
    "plt.xlim(0,  n_sim+1)\n",
    "# plt.ylim(0e-2,3e-2)\n",
    "plt.show()"
   ]
  },
  {
   "cell_type": "code",
   "execution_count": null,
   "metadata": {},
   "outputs": [],
   "source": [
    "print('Actual value of $sigma_alpha$ = {0:.2E}'.format(sigma_alpha))\n",
    "print('Mean of $sigma_alpha$ = {0:.2E}'.format(np.mean(sigma_fit[0, :]*np.sqrt(m/(m-1)))))\n",
    "print('Stdev of $sigma_alpha$ = {0:.2E}'.format(np.std(sigma_fit[0, :]*np.sqrt(m/(m-1)))))\n",
    "print('Mean uncertainty estimate of $sigma_alpha$ = {0:.2E}'.format(\n",
    "    np.mean(sigma_sigma_fit[0,:]*np.sqrt(m/(m-1)))))\n",
    "print()\n",
    "print('Actual value of $sigma_beta$ = {0:.2E}'.format(sigma_beta))\n",
    "print('Mean of $sigma_beta$ = {0:.2E}'.format(np.mean(sigma_fit[1, :]*np.sqrt(m/(m-1)))))\n",
    "print('Stdev of $sigma_beta$ = {0:.2E}'.format(np.std(sigma_fit[1, :]*np.sqrt(m/(m-1)))))\n",
    "print('Mean uncertainty estimate of $sigma_beta$ = {0:.2E}'.format(\n",
    "    np.mean(sigma_sigma_fit[1,:]*np.sqrt(m/(m-1)))))\n",
    "print()\n",
    "print('Actual value of $sigma_tau$ = {0:.2E}'.format(sigma_tau))\n",
    "print('Mean of $sigma_tau$ = {0:.2E}'.format(np.mean(sigma_fit[2, :]*np.sqrt(m/(m-1)))))\n",
    "print('Stdev of $sigma_tau$ = {0:.2E}'.format(np.std(sigma_fit[2, :]*np.sqrt(m/(m-1)))))\n",
    "print('Mean uncertainty estimate of $sigma_tau$ = {0:.2E}'.format(\n",
    "    np.mean(sigma_sigma_fit[2,:]*np.sqrt(m/(m-1)))))"
   ]
  },
  {
   "cell_type": "code",
   "execution_count": null,
   "metadata": {},
   "outputs": [],
   "source": [
    "# Find the index of the median value\n",
    "i_show = np.argsort(resnorm_tls)[len(resnorm_tls) // 2]\n",
    "j_show = np.random.randint(1, m)\n",
    "norm_res_delta = np.sqrt((m*n) / ((m-1)*n-n_p))*(amp[:,j_show,i_show] - mu_fit[:,i_show])/noise_mod.noise_amp(amp[:,j_show,i_show])\n",
    "osm, osr = stats.probplot(\n",
    "    norm_res_delta, fit=False\n",
    ")\n",
    "\n",
    "w, h = figaspect(0.45)\n",
    "_, axd = plt.subplot_mosaic(\n",
    "    [[\"Prob\", \"x-res\"]], figsize=(w, h)\n",
    ")\n",
    "\n",
    "# Panel (a)\n",
    "axd[\"Prob\"].plot(osr, osm, 'k.', ms=2)\n",
    "axd[\"Prob\"].plot([-3, 3], [-3, 3], '--', c='gray')\n",
    "\n",
    "axd[\"Prob\"].grid()\n",
    "\n",
    "\n",
    "axd[\"Prob\"].text(0.025, 0.95, '(a)', transform=axd[\"Prob\"].transAxes)\n",
    "\n",
    "axd[\"Prob\"].set_xlim(-5, 5)\n",
    "axd[\"Prob\"].set_ylim(stats.norm.ppf([0.0005, 0.9995]))\n",
    "\n",
    "axd[\"Prob\"].set_xticks(np.arange(-4, 4.5, 2))\n",
    "axd[\"Prob\"].set_yticks(stats.norm.ppf([0.005, 0.1, 0.5, 0.9, 0.995]))\n",
    "\n",
    "axd[\"Prob\"].set_yticklabels(['0.005', '0.1', '0.5', '0.9', '0.995'])\n",
    "\n",
    "axd[\"Prob\"].set_xlabel('Normed residuals')\n",
    "axd[\"Prob\"].set_ylabel('Probability')\n",
    "\n",
    "\n",
    "# Panel (b)\n",
    "markerline, stemlines, baseline = axd[\"x-res\"].stem(\n",
    "    t, norm_res_delta, linefmt='k-', markerfmt='.'\n",
    ")\n",
    "markerline.set_markersize(2)\n",
    "stemlines.set_linewidth(0.5)\n",
    "baseline.set_linewidth(1)\n",
    "\n",
    "axd[\"x-res\"].text(0.025, 0.95, '(b)', transform=axd[\"x-res\"].transAxes)\n",
    "\n",
    "axd[\"x-res\"].set_xlim(0, 10)\n",
    "axd[\"x-res\"].set_ylim(-3.5, 3.5)\n",
    "\n",
    "axd[\"x-res\"].set_xticklabels([])\n",
    "axd[\"x-res\"].set_xlabel('Time (ps)')\n",
    "axd[\"x-res\"].set_ylabel('Normed x-residual')\n",
    "\n",
    "plt.show()"
   ]
  }
 ],
 "metadata": {
  "kernelspec": {
   "display_name": "titanium-nitride",
   "language": "python",
   "name": "python3"
  },
  "language_info": {
   "codemirror_mode": {
    "name": "ipython",
    "version": 3
   },
   "file_extension": ".py",
   "mimetype": "text/x-python",
   "name": "python",
   "nbconvert_exporter": "python",
   "pygments_lexer": "ipython3",
   "version": "3.10.5"
  }
 },
 "nbformat": 4,
 "nbformat_minor": 2
}
