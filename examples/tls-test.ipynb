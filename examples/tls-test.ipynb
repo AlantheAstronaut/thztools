{
 "cells": [
  {
   "cell_type": "markdown",
   "source": [
    "# Algorithm comparison\n",
    "\n",
    "The computations below compares fits to the same simulated data using two different methods to compute the fit residuals. The function `costfunlsq` computes $\\mathbf{r}_\\text{TLS}(\\mathbf{\\theta})$, defined in Eq. (29) of [Mohtashemi et al. (2021)](https://doi.org/10.1364/OE.417724). The function `costfuntls` computes the residual vector\n",
    "$$\\mathbf{r}(\\mathbf{\\theta}, \\mathbf{\\mu}) = [\\mathbf{\\delta}(\\mathbf{\\mu}), \\mathbf{\\epsilon}(\\mathbf{\\theta}, \\mathbf{\\mu})], $$\n",
    "where\n",
    "$$[\\mathbf{\\delta}(\\mathbf{\\mu})]_k = \\frac{x_k - \\mu_k}{\\sigma_{xk}$$\n",
    "and\n",
    "$$[\\mathbf{\\epsilon}(\\mathbf{\\theta}, \\mathbf{\\mu})]_k = {\\frac{y_k - f_k(\\mathbf{\\theta}, \\mathbf{\\mu})}{\\sigma_{yk}}.$$"
   ],
   "metadata": {
    "collapsed": false
   }
  },
  {
   "cell_type": "code",
   "execution_count": null,
   "source": [
    "import numpy as np\n",
    "from numpy import pi\n",
    "from numpy.fft import rfftfreq, rfft, irfft\n",
    "from numpy.random import default_rng\n",
    "\n",
    "import scipy.linalg as la\n",
    "from scipy.optimize import least_squares\n",
    "from scipy import signal\n",
    "from scipy.stats import cumfreq, chi2, norm, probplot\n",
    "\n",
    "from matplotlib import pyplot as plt\n",
    "from matplotlib.figure import figaspect\n",
    "\n",
    "from thztools import thzgen, noiseamp\n",
    "from thztools.thztools import _costfuntls"
   ],
   "metadata": {
    "collapsed": false
   },
   "outputs": []
  },
  {
   "cell_type": "markdown",
   "source": [
    "## Simulate set of noisy waveforms"
   ],
   "metadata": {
    "collapsed": false
   }
  },
  {
   "cell_type": "code",
   "execution_count": null,
   "source": [
    "n = 256  # Number of samples\n",
    "ts = 0.05  # Sampling time [ps]\n",
    "t0 = 2.5  # Peak pulse time [ps]\n",
    "fs = 1 / ts  # Sampling frequency [THz]\n",
    "\n",
    "sigma_alpha = 1e-4  # Additive noise amplitude [signal units]\n",
    "sigma_beta = 1e-2  # Multiplicative noise amplitude [dimensionless]\n",
    "sigma_tau = 1e-3  # Time base noise amplitude [ps]\n",
    "sigma_parms = np.array([sigma_alpha, sigma_beta, sigma_tau])\n",
    "\n",
    "seed = 0  # RNG seed\n",
    "rng = default_rng(seed)"
   ],
   "metadata": {
    "collapsed": false
   },
   "outputs": []
  },
  {
   "cell_type": "markdown",
   "source": [
    "The transfer function model function `tf_model` returns\n",
    " $$ H(\\mathbf{\\theta}; \\omega) = \\theta_0\\exp(-i\\omega\\theta_1),$$\n",
    " which rescales the input by $\\theta_0$ and shifts it by $\\theta_1$ (using the $+i\\omega t$ sign convention). In the simulations, $\\theta_0 = 1$ and $\\theta_1 = 0$. The time-domain response function `td_model` applies this transfer function to a signal vector $x(t)$ for a given $\\mathbf{\\theta}$ and returns the resulting $y(t)$, as shown in the second cell for $\\theta_0 = 0.5, \\theta_1 = 1.0$."
   ],
   "metadata": {
    "collapsed": false
   }
  },
  {
   "cell_type": "code",
   "execution_count": null,
   "source": [
    "def tf_model(_p, _w):\n",
    "    return _p[0] * np.exp(-1j * _w * _p[1])\n",
    "\n",
    "\n",
    "f = rfftfreq(n, ts)\n",
    "\n",
    "\n",
    "def td_model(_p, _x):\n",
    "    _y = irfft(rfft(_x) * tf_model(_p, 2 * pi * f), n=n)\n",
    "    return _y"
   ],
   "metadata": {
    "collapsed": false
   },
   "outputs": []
  },
  {
   "cell_type": "code",
   "execution_count": null,
   "source": [
    "n_sim = 250\n",
    "p_opt = np.array([0.5, 1])\n",
    "n_p = p_opt.size\n",
    "\n",
    "mu, t = thzgen(n, ts, t0)\n",
    "psi = td_model(p_opt, mu)\n",
    "sigma_mu = noiseamp(sigma_parms, mu, ts)\n",
    "sigma_psi = noiseamp(sigma_parms, psi, ts)\n",
    "\n",
    "x_noise = sigma_mu * rng.standard_normal((n_sim, n))\n",
    "y_noise = sigma_psi * rng.standard_normal((n_sim, n))\n",
    "\n",
    "x = mu - x_noise\n",
    "y = psi - y_noise"
   ],
   "metadata": {
    "collapsed": false
   },
   "outputs": []
  },
  {
   "cell_type": "code",
   "execution_count": null,
   "source": [
    "plt.plot(t, mu)\n",
    "plt.plot(t, td_model(p_opt, mu))\n",
    "plt.show()"
   ],
   "metadata": {
    "collapsed": false
   },
   "outputs": []
  },
  {
   "cell_type": "markdown",
   "source": [
    "## Fits with `costfuntls`"
   ],
   "metadata": {
    "collapsed": false
   }
  },
  {
   "cell_type": "code",
   "execution_count": null,
   "source": [
    "%%time\n",
    "\n",
    "p_tls = np.empty((n_p, n_sim))\n",
    "mu_tls = np.empty((n, n_sim))\n",
    "resnorm_tls = np.empty((n_sim,))\n",
    "delta_tls = np.empty((n, n_sim))\n",
    "epsilon_tls = np.empty((n, n_sim))\n",
    "cv_tls = np.empty((n_p, n_p, n_sim))\n",
    "sigma_tls = np.empty((n_p, n_sim))\n",
    "for i in range(n_sim):\n",
    "    sigma_x = noiseamp(sigma_parms, x[i, :], ts)\n",
    "    sigma_y = noiseamp(sigma_parms, y[i, :], ts)\n",
    "\n",
    "    def jac_fun(_x):\n",
    "        p_est = _x[:n_p]\n",
    "        mu_est = x[i, :] + _x[n_p:]\n",
    "        jac_tl = np.zeros((n, n_p))\n",
    "        jac_tr = np.diag(-1 / sigma_x)\n",
    "        jac_bl = -(\n",
    "            np.stack(\n",
    "                [\n",
    "                    td_model([1, p_est[1]], mu_est),\n",
    "                    irfft(\n",
    "                        rfft(mu_est)\n",
    "                        * (-1j * 2 * pi * f * tf_model(p_est, 2 * pi * f)),\n",
    "                        n=n,\n",
    "                    ),\n",
    "                ],\n",
    "                axis=0,\n",
    "            )\n",
    "            / sigma_y\n",
    "        ).T\n",
    "        jac_br = -(\n",
    "            la.circulant(td_model(p_est, signal.unit_impulse(n))).T / sigma_y\n",
    "        ).T\n",
    "        jac_tot = np.block([[jac_tl, jac_tr], [jac_bl, jac_br]])\n",
    "        return jac_tot\n",
    "\n",
    "    result = least_squares(\n",
    "        lambda _p: _costfuntls(\n",
    "            tf_model,\n",
    "            _p[:2],\n",
    "            x[i, :] + _p[2:],\n",
    "            x[i, :],\n",
    "            y[i, :],\n",
    "            sigma_x,\n",
    "            sigma_y,\n",
    "            ts,\n",
    "        ),\n",
    "        np.concatenate((p_opt, np.zeros(n))),\n",
    "        jac=jac_fun,\n",
    "        method='lm',\n",
    "        x_scale=np.concatenate((np.array([1, 1]), sigma_x)),\n",
    "    )\n",
    "    p_tls[:, i] = result.x[:n_p]\n",
    "    mu_tls[:, i] = x[i, :] + result.x[n_p:]\n",
    "    delta_tls[:, i] = result.fun[:n]\n",
    "    epsilon_tls[:, i] = result.fun[n:]\n",
    "    resnorm_tls[i] = 2 * result.cost\n",
    "    r = np.linalg.qr(result.jac, mode='r')\n",
    "    r_inv = np.linalg.inv(r)\n",
    "    cv_tls[:, :, i] = (r_inv @ r_inv.T)[:n_p, :n_p]\n",
    "    sigma_tls[:, i] = np.sqrt(np.diag(cv_tls[:, :, i]))\n",
    "    if not result.success:\n",
    "        print(f\"Fit did not converge at i = {i}\")\n",
    "\n",
    "cf_tls = cumfreq(resnorm_tls, 1000, defaultreallimits=(0, 1000))\n",
    "gof_tls = cf_tls.lowerlimit + np.linspace(\n",
    "    0, cf_tls.binsize * cf_tls.cumcount.size, cf_tls.cumcount.size\n",
    ")\n",
    "ecdf_tls = cf_tls.cumcount / n_sim"
   ],
   "metadata": {
    "collapsed": false
   },
   "outputs": []
  },
  {
   "cell_type": "code",
   "execution_count": null,
   "source": [
    "# Find the index of the median value\n",
    "i_show = np.argsort(resnorm_tls)[len(resnorm_tls) // 2]\n",
    "norm_res_eps = np.sqrt(512 / 254) * epsilon_tls[:, i_show]\n",
    "norm_res_delta = np.sqrt(512 / 254) * delta_tls[:, i_show]\n",
    "osm, osr = probplot(np.concatenate((norm_res_eps, norm_res_delta)), fit=False)\n",
    "\n",
    "w, h = figaspect(0.45)\n",
    "_, axd = plt.subplot_mosaic(\n",
    "    [[\"CDF\", \"x-res\"], [\"CDF\", \"y-res\"]], figsize=(w, h)\n",
    ")\n",
    "\n",
    "# Panel (a)\n",
    "axd[\"CDF\"].plot(\n",
    "    gof_tls, ecdf_tls, 'k-', label=r'$S_\\mathrm{TLS}$', clip_on=False\n",
    ")\n",
    "axd[\"CDF\"].plot(\n",
    "    gof_tls,\n",
    "    chi2.cdf(gof_tls, n - n_p),\n",
    "    '--',\n",
    "    c='gray',\n",
    "    label=r'$\\chi^2$',\n",
    "    clip_on=False,\n",
    ")\n",
    "axd[\"CDF\"].plot(np.median(resnorm_tls), 0.5, 'rx')\n",
    "\n",
    "axd[\"CDF\"].legend(loc='upper right', frameon=False)\n",
    "axd[\"CDF\"].text(0.025, 0.95, '(a)', transform=axd[\"CDF\"].transAxes)\n",
    "\n",
    "axd[\"CDF\"].set_xlim(0, 1000)\n",
    "axd[\"CDF\"].set_ylim(0, 1)\n",
    "\n",
    "axd[\"CDF\"].set_xticks([0, 500, 1000])\n",
    "axd[\"CDF\"].set_yticks(np.linspace(0, 1, 6, endpoint=True))\n",
    "\n",
    "axd[\"CDF\"].set_xlabel('GOF statistic')\n",
    "axd[\"CDF\"].set_ylabel('Cumulative probabilty')\n",
    "\n",
    "# Inset to (a)\n",
    "ins = axd[\"CDF\"].inset_axes([0.5, 0.2, 0.45, 0.45])\n",
    "ins.plot(osr, osm, 'k.', ms=2)\n",
    "ins.plot([-3, 3], [-3, 3], '--', c='gray')\n",
    "ins.grid()\n",
    "\n",
    "ins.set_xlim(-5, 5)\n",
    "ins.set_ylim(norm.ppf([0.0005, 0.9995]))\n",
    "\n",
    "ins.set_xticks(np.arange(-4, 4.5, 2))\n",
    "ins.set_yticks(norm.ppf([0.005, 0.1, 0.5, 0.9, 0.995]))\n",
    "\n",
    "ins.set_yticklabels(['0.005', '0.1', '0.5', '0.9', '0.995'])\n",
    "\n",
    "ins.set_xlabel('Normed residuals\\n(x and y)')\n",
    "ins.set_ylabel('Probability')\n",
    "\n",
    "# Panel (b)\n",
    "markerline, stemlines, baseline = axd[\"x-res\"].stem(\n",
    "    t, norm_res_delta, linefmt='k-', markerfmt='.'\n",
    ")\n",
    "markerline.set_markersize(2)\n",
    "stemlines.set_linewidth(0.5)\n",
    "baseline.set_linewidth(1)\n",
    "\n",
    "axd[\"x-res\"].text(0.025, 0.9, '(b)', transform=axd[\"x-res\"].transAxes)\n",
    "\n",
    "axd[\"x-res\"].set_xlim(0, 10)\n",
    "axd[\"x-res\"].set_ylim(-3.5, 3.5)\n",
    "\n",
    "axd[\"x-res\"].set_xticklabels([])\n",
    "axd[\"x-res\"].set_ylabel('Normed x-residual')\n",
    "\n",
    "# Panel (c)\n",
    "markerline, stemlines, baseline = axd[\"y-res\"].stem(\n",
    "    t, norm_res_eps, linefmt='k-', markerfmt='.'\n",
    ")\n",
    "markerline.set_markersize(2)\n",
    "stemlines.set_linewidth(0.5)\n",
    "baseline.set_linewidth(1)\n",
    "\n",
    "axd[\"y-res\"].text(0.025, 0.9, '(c)', transform=axd[\"y-res\"].transAxes)\n",
    "\n",
    "axd[\"y-res\"].set_xlim(0, 10)\n",
    "axd[\"y-res\"].set_ylim(-3.5, 3.5)\n",
    "\n",
    "axd[\"y-res\"].set_xlabel('Time (ps)')\n",
    "axd[\"y-res\"].set_ylabel('Normed y-residual')\n",
    "\n",
    "plt.show()"
   ],
   "metadata": {
    "collapsed": false
   },
   "outputs": []
  },
  {
   "cell_type": "code",
   "execution_count": null,
   "source": [
    "print(\n",
    "    f\"Amplitude parameter estimates: \"\n",
    "    f\"{np.mean(p_tls[0, :]):.5f} ± {np.std(p_tls[0, :]):.5f}\"\n",
    ")\n",
    "print(\n",
    "    f\"Delay parameter estimates:     \"\n",
    "    f\"({np.mean(1e3 * p_tls[1, :]):.2f} ± {1e3 * np.std(p_tls[1, :]):.2f}) fs\"\n",
    ")\n",
    "print(\n",
    "    f\"Mean uncertainty estimate for amplitude parameter: \"\n",
    "    f\"{np.mean(np.sqrt(cv_tls[0, 0, :])):.5f}\"\n",
    ")\n",
    "print(\n",
    "    f\"Mean uncertainty estimate for delay parameter:     \"\n",
    "    f\"{1e3 * np.mean(np.sqrt(cv_tls[1, 1, :])):.2f} fs\"\n",
    ")\n",
    "print(\n",
    "    f\"Standard deviation of the amplitude parameter uncertainty estimate: \"\n",
    "    f\"{np.std(np.sqrt(cv_tls[0, 0, :])):.2g}\"\n",
    ")\n",
    "print(\n",
    "    f\"Standard deviation of the delay parameter uncertainty estimate:     \"\n",
    "    f\"{1e3 * np.std(np.sqrt(cv_tls[1, 1, :])):.2g} fs\"\n",
    ")"
   ],
   "metadata": {
    "collapsed": false
   },
   "outputs": []
  },
  {
   "cell_type": "markdown",
   "source": [
    "### Parameter estimate distributions\n",
    "\n",
    "The cells below produce probability plots that show the parameter distributions in more detail."
   ],
   "metadata": {
    "collapsed": false
   }
  },
  {
   "cell_type": "code",
   "execution_count": null,
   "source": [
    "osm_a_tls, osr_a_tls = probplot(p_tls[0, :], fit=False)\n",
    "osm_eta_tls, osr_eta_tls = probplot(p_tls[1, :], fit=False)"
   ],
   "metadata": {
    "collapsed": false
   },
   "outputs": []
  },
  {
   "cell_type": "code",
   "execution_count": null,
   "source": [
    "w, h = figaspect(0.45)\n",
    "\n",
    "_, axs = plt.subplots(1, 2, figsize=(w, h))\n",
    "\n",
    "axs[0].plot((-4.5, 4.5), (-4.5, 4.5), c=\"gray\")\n",
    "axs[0].plot(\n",
    "    (osr_a_tls - p_opt[0]) / np.std(osr_a_tls),\n",
    "    osm_a_tls,\n",
    "    'o',\n",
    "    ms=3,\n",
    "    label=r\"TLS\",\n",
    ")\n",
    "\n",
    "axs[0].set_xlim(-3, 3)\n",
    "axs[0].set_ylim(-3, 3)\n",
    "\n",
    "axs[0].set_xlabel(r\"Expected quantiles of $\\hat{A}$\")\n",
    "axs[0].set_ylabel(r\"Observed values of $\\hat{A}$\")\n",
    "\n",
    "axs[1].plot((-4.5, 4.5), (-4.5, 4.5), c=\"gray\")\n",
    "axs[1].plot(\n",
    "    (osr_eta_tls - p_opt[1]) / np.std(osr_eta_tls),\n",
    "    osm_eta_tls,\n",
    "    'o',\n",
    "    ms=3,\n",
    "    label=r\"TLS\",\n",
    ")\n",
    "\n",
    "axs[1].set_xlim(-3, 3)\n",
    "axs[1].set_ylim(-3, 3)\n",
    "\n",
    "axs[1].set_xlabel(r\"Expected quantiles of $\\hat{\\eta}$\")\n",
    "axs[1].set_ylabel(r\"Observed values of $\\hat{\\eta}$\")\n",
    "\n",
    "plt.show()"
   ],
   "metadata": {
    "collapsed": false
   },
   "outputs": []
  }
 ],
 "metadata": {
  "kernelspec": {
   "display_name": "Python 3",
   "language": "python",
   "name": "python3"
  },
  "language_info": {
   "codemirror_mode": {
    "name": "ipython",
    "version": 2
   },
   "file_extension": ".py",
   "mimetype": "text/x-python",
   "name": "python",
   "nbconvert_exporter": "python",
   "pygments_lexer": "ipython2",
   "version": "2.7.6"
  }
 },
 "nbformat": 4,
 "nbformat_minor": 0
}
