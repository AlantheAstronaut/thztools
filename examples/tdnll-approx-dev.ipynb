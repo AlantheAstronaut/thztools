{
 "cells": [
  {
   "cell_type": "markdown",
   "source": [
    "# Develop approximate negative log-likelihood for preliminary optimization"
   ],
   "metadata": {
    "collapsed": false
   },
   "id": "1b68c9725c753a51"
  },
  {
   "cell_type": "code",
   "execution_count": 1,
   "outputs": [],
   "source": [
    "from __future__ import annotations\n",
    "\n",
    "import numdifftools as nd\n",
    "import numpy as np\n",
    "\n",
    "from numpy.typing import ArrayLike\n",
    "from scipy.fft import rfft, irfft, rfftfreq\n",
    "from scipy.optimize import minimize\n",
    "from matplotlib import pyplot as plt\n",
    "from matplotlib.figure import figaspect\n",
    "from scipy.optimize import approx_fprime\n",
    "from numpy.random import default_rng\n",
    "\n",
    "import thztools as thz"
   ],
   "metadata": {
    "collapsed": false,
    "ExecuteTime": {
     "end_time": "2023-10-03T21:50:38.156700Z",
     "start_time": "2023-10-03T21:50:37.325401Z"
    }
   },
   "id": "416f6fcfaf869f9d"
  },
  {
   "cell_type": "markdown",
   "source": [
    "## Define function"
   ],
   "metadata": {
    "collapsed": false
   },
   "id": "d5f483b53a352d7f"
  },
  {
   "cell_type": "code",
   "execution_count": 2,
   "outputs": [],
   "source": [
    "def tdnll_appx(\n",
    "    x: ArrayLike,\n",
    "    mu: ArrayLike,\n",
    "    logv: ArrayLike,\n",
    "    a: ArrayLike,\n",
    "    eta: ArrayLike,\n",
    "    ts: float,\n",
    "    *,\n",
    "    fix_logv: bool,\n",
    "    fix_mu: bool,\n",
    "    fix_a: bool,\n",
    "    fix_eta: bool,\n",
    ") -> tuple[float, np.ndarray]:\n",
    "    r\"\"\"\n",
    "    Compute approximate negative log-likelihood for the time-domain noise model.\n",
    "\n",
    "    Computes the negative log-likelihood function for obtaining the\n",
    "    data matrix `x` given `mu`, `logv`, `a`, and `eta`.\n",
    "\n",
    "    Parameters\n",
    "    ----------\n",
    "    x : array_like\n",
    "        Data matrix.\n",
    "    mu : array_like\n",
    "        Signal vector with shape (n,).\n",
    "    logv : array_like\n",
    "        Array of three noise parameters.\n",
    "    a: array_like\n",
    "        Amplitude vector with shape (m,).\n",
    "    eta : array_like\n",
    "        Delay vector with shape (m,).\n",
    "    ts : float\n",
    "        Sampling time.\n",
    "    fix_logv : bool\n",
    "        Exclude noise parameters from gradiate calculation when ``True``.\n",
    "    fix_mu : bool\n",
    "        Exclude signal vector from gradiate calculation when ``True``.\n",
    "    fix_a : bool\n",
    "        Exclude amplitude vector from gradiate calculation when ``True``.\n",
    "    fix_eta : bool\n",
    "        Exclude delay vector from gradiate calculation when ``True``.\n",
    "\n",
    "    Returns\n",
    "    -------\n",
    "    nll : float\n",
    "        Negative log-likelihood.\n",
    "    gradnll : array_like\n",
    "        Gradient of the negative log-likelihood function with respect to free\n",
    "        parameters.\n",
    "    \"\"\"\n",
    "    x = np.asarray(x)\n",
    "    logv = np.asarray(logv)\n",
    "    mu = np.asarray(mu)\n",
    "    a = np.asarray(a)\n",
    "    eta = np.asarray(eta)\n",
    "\n",
    "    m, n = x.shape\n",
    "\n",
    "    # Compute variance\n",
    "    v = np.exp(logv)\n",
    "\n",
    "    # Compute frequency vector and Fourier coefficients of mu\n",
    "    f = rfftfreq(n, ts)\n",
    "    w = 2 * np.pi * f\n",
    "    mu_f = rfft(mu)\n",
    "    x_f = rfft(x)\n",
    "\n",
    "    exp_iweta = np.exp(1j * np.outer(eta, w))\n",
    "    zeta_f = ((np.conj(exp_iweta) * mu_f).T * a).T\n",
    "    zeta = irfft(zeta_f, n=n)\n",
    "\n",
    "    # Compute negative - log likelihood and gradient\n",
    "\n",
    "    # Compute residuals and their squares for subsequent computations\n",
    "    res = x - zeta\n",
    "    ressq = res**2\n",
    "\n",
    "    # Alternative case: A, eta, or both are not set to defaults\n",
    "    dzeta = irfft(1j * w * zeta_f, n=n)\n",
    "    dx = irfft(1j * w * x_f, n=n)\n",
    "\n",
    "    valpha = v[0]\n",
    "    vbeta = v[1] * x**2\n",
    "    vtau = v[2] * dx**2\n",
    "    vtot = valpha + vbeta + vtau\n",
    "\n",
    "    resnormsq = ressq / vtot\n",
    "    nll = (\n",
    "        m * n * np.log(2 * np.pi) / 2\n",
    "        + np.sum(np.log(vtot)) / 2\n",
    "        + np.sum(resnormsq) / 2\n",
    "    )\n",
    "\n",
    "    # Compute gradient\n",
    "    gradnll = np.array([])\n",
    "    if not (fix_logv & fix_mu & fix_a & fix_eta):\n",
    "        reswt = res / vtot\n",
    "        dvar = (vtot - ressq) / vtot**2\n",
    "        if not fix_logv:\n",
    "            # Gradient wrt logv\n",
    "            gradnll = np.append(gradnll, 0.5 * np.sum(dvar) * v[0])\n",
    "            gradnll = np.append(gradnll, 0.5 * np.sum(x**2 * dvar) * v[1])\n",
    "            gradnll = np.append(\n",
    "                gradnll, 0.5 * np.sum(dx**2 * dvar) * v[2]\n",
    "            )\n",
    "        if not fix_mu:\n",
    "            # Gradient wrt mu\n",
    "            gradnll = np.append(\n",
    "                gradnll, -np.sum((irfft(exp_iweta * rfft(reswt), n=n).T * a).T, axis=0)\n",
    "            )\n",
    "        if not fix_a:\n",
    "            # Gradient wrt A\n",
    "            dnllda = -np.sum(reswt * zeta, axis=1).T / a\n",
    "            # Exclude first term for consistency with MATLAB version\n",
    "            gradnll = np.append(gradnll, dnllda[1:])\n",
    "        if not fix_eta:\n",
    "            # Gradient wrt eta\n",
    "            dnlldeta = np.sum(reswt * dzeta, axis=1)\n",
    "            # Exclude first term for consistency with MATLAB version\n",
    "            gradnll = np.append(gradnll, dnlldeta[1:])\n",
    "\n",
    "    return nll, gradnll"
   ],
   "metadata": {
    "collapsed": false,
    "ExecuteTime": {
     "end_time": "2023-10-03T21:50:38.162683Z",
     "start_time": "2023-10-03T21:50:38.155372Z"
    }
   },
   "id": "79b0e7636bacb4f2"
  },
  {
   "cell_type": "markdown",
   "source": [
    "## Simulate measurements"
   ],
   "metadata": {
    "collapsed": false
   },
   "id": "6faafd5a43453c9c"
  },
  {
   "cell_type": "code",
   "execution_count": 3,
   "outputs": [],
   "source": [
    "rng = np.random.default_rng(0)\n",
    "n = 256\n",
    "m = 64\n",
    "ts = 0.05\n",
    "t = np.arange(n) * ts\n",
    "mu, _ = thz.thzgen(n, ts=ts, t0=n * ts / 3)\n",
    "sigma = np.array([1e-5, 1e-2, 1e-3])\n",
    "noise = thz.noiseamp(sigma, mu, ts) * rng.standard_normal((m, n))\n",
    "x = np.array(mu + noise)\n",
    "a = np.ones(m)\n",
    "eta = np.zeros(m)"
   ],
   "metadata": {
    "collapsed": false,
    "ExecuteTime": {
     "end_time": "2023-10-03T21:50:38.167900Z",
     "start_time": "2023-10-03T21:50:38.163242Z"
    }
   },
   "id": "6bc9be6f87caaf9f"
  },
  {
   "cell_type": "markdown",
   "source": [
    "## Check gradient"
   ],
   "metadata": {
    "collapsed": false
   },
   "id": "39d28b3fdac152cf"
  },
  {
   "cell_type": "code",
   "execution_count": 4,
   "outputs": [
    {
     "data": {
      "text/plain": "array([[ 1.24684138e+06,  1.24684132e+06],\n       [ 4.58570335e+05,  4.58571702e+05],\n       [ 5.12502951e+05,  5.12503860e+05],\n       [-3.89115247e+05, -3.89115416e+05],\n       [-7.82813419e+05, -7.82814394e+05],\n       [-7.36184734e+05, -7.36183950e+05],\n       [-1.20080762e+06, -1.20080605e+06],\n       [-9.95649423e+05, -9.95649816e+05],\n       [ 2.76566974e+05,  2.76566839e+05],\n       [-5.02336737e+05, -5.02335565e+05],\n       [ 6.44218757e+05,  6.44218327e+05],\n       [-7.61697054e+05, -7.61696366e+05],\n       [-1.08437880e+06, -1.08437895e+06],\n       [-4.55455917e+05, -4.55453809e+05],\n       [-1.48190991e+06, -1.48191163e+06],\n       [-2.87165156e+05, -2.87165871e+05],\n       [ 3.03222055e+05,  3.03222016e+05],\n       [-7.30513710e+04, -7.30504629e+04],\n       [-6.52809978e+05, -6.52808904e+05],\n       [ 4.17361655e+05,  4.17361554e+05],\n       [ 3.29764949e+05,  3.29764853e+05],\n       [-5.54184905e+05, -5.54182725e+05],\n       [-1.13838011e+06, -1.13838023e+06],\n       [ 8.97654847e+04,  8.97659555e+04],\n       [-1.01703370e+06, -1.01703444e+06],\n       [ 1.75045511e+06,  1.75045367e+06],\n       [ 7.77254755e+04,  7.77245377e+04],\n       [-6.33089079e+04, -6.33086840e+04],\n       [-5.84478725e+05, -5.84479810e+05],\n       [-2.62074186e+05, -2.62073278e+05],\n       [ 1.94506675e+05,  1.94505685e+05],\n       [-7.18344593e+05, -7.18344613e+05],\n       [ 4.04519651e+05,  4.04519927e+05],\n       [ 7.08429978e+05,  7.08430685e+05],\n       [ 3.34476307e+04,  3.34467013e+04],\n       [ 4.10847762e+05,  4.10849282e+05],\n       [-5.49464101e+05, -5.49464849e+05],\n       [-1.01762197e+06, -1.01762350e+06],\n       [-1.29954372e+05, -1.29953394e+05],\n       [ 1.06552365e+06,  1.06552229e+06],\n       [-4.71782377e+05, -4.71783093e+05],\n       [ 3.43212365e+05,  3.43213004e+05],\n       [ 9.80387320e+05,  9.80386895e+05],\n       [-6.11363559e+05, -6.11363743e+05],\n       [-1.15846588e+06, -1.15846449e+06],\n       [ 5.20591064e+05,  5.20591232e+05],\n       [ 3.10085571e+04,  3.10061998e+04],\n       [ 4.34939445e+05,  4.34938229e+05],\n       [-5.85390699e+05, -5.85391050e+05],\n       [-8.90988354e+05, -8.90988957e+05],\n       [-1.62830693e+03, -1.62937781e+03],\n       [-5.04414159e+04, -5.04418817e+04],\n       [-2.70991029e+05, -2.70990254e+05],\n       [-2.07539709e+05, -2.07540562e+05],\n       [-5.88244956e+04, -5.88236386e+04],\n       [-8.03725821e+05, -8.03726368e+05],\n       [-9.26229520e+05, -9.26229037e+05],\n       [ 6.70414851e+05,  6.70414537e+05],\n       [-3.72183477e+05, -3.72183100e+05],\n       [-3.27470006e+05, -3.27469288e+05],\n       [ 7.27038128e+05,  7.27039527e+05],\n       [ 1.71189046e+05,  1.71187989e+05],\n       [-4.13562225e+05, -4.13561759e+05],\n       [-5.54145786e+05, -5.54145035e+05],\n       [-1.27380428e+05, -1.27380325e+05],\n       [-5.98619088e+05, -5.98621505e+05],\n       [ 5.34636511e+05,  5.34637176e+05],\n       [ 6.88346855e+05,  6.88343805e+05],\n       [ 1.75287780e+05,  1.75288718e+05],\n       [ 3.64738466e+05,  3.64738486e+05],\n       [-4.01215215e+05, -4.01216933e+05],\n       [-3.80487995e+05, -3.80487295e+05],\n       [ 4.29788432e+05,  4.29788452e+05],\n       [ 1.12026973e+05,  1.12026455e+05],\n       [-5.56896173e+04, -5.56872646e+04],\n       [ 2.49553842e+04,  2.49547863e+04],\n       [-3.58811674e+05, -3.58812510e+05],\n       [-5.25445279e+05, -5.25447205e+05],\n       [ 1.09869805e+05,  1.09871171e+05],\n       [-2.28689033e+05, -2.28688131e+05],\n       [-5.19305000e+05, -5.19303969e+05],\n       [ 7.01594591e+04,  7.01600162e+04],\n       [-3.14495493e+04, -3.14495966e+04],\n       [ 6.10950945e+04,  6.10953379e+04],\n       [ 3.73649861e+03,  3.73503977e+03],\n       [ 1.13909021e+03,  1.13956039e+03],\n       [-4.48136291e+02, -4.47325837e+02],\n       [ 2.36765864e+02,  2.36759641e+02],\n       [ 1.20074229e+03,  1.20155154e+03],\n       [ 2.44669985e+02,  2.45054232e+02],\n       [-1.95675918e+02, -1.94995648e+02],\n       [ 5.57565764e+01,  5.55883116e+01],\n       [-2.12561301e+03, -2.12647120e+03],\n       [ 1.94657597e+02,  1.93540457e+02],\n       [ 2.43049531e+03,  2.43133380e+03],\n       [-3.20356693e+03, -3.20316732e+03],\n       [ 1.96646992e+03,  1.96625462e+03],\n       [-4.07101979e+02, -4.06871516e+02],\n       [-1.76239083e+03, -1.76136367e+03],\n       [-9.90766187e+02, -9.91276383e+02],\n       [-4.09092905e+03, -4.09112511e+03],\n       [ 2.73330879e+03,  2.73430465e+03],\n       [ 2.58524242e+03,  2.58325578e+03],\n       [-2.02965593e+03, -2.02970097e+03],\n       [-2.09376845e+02, -2.09402043e+02],\n       [ 3.74587947e+03,  3.74624475e+03],\n       [-1.23367026e+03, -1.23211056e+03],\n       [-3.63791815e+03, -3.63754195e+03],\n       [-1.39631701e+03, -1.39669271e+03],\n       [-1.73148198e+03, -1.73196881e+03],\n       [-4.01616811e+03, -4.01429100e+03],\n       [-7.22690049e+03, -7.22764466e+03],\n       [-1.13458057e+03, -1.13592241e+03],\n       [ 2.95810996e+03,  2.95913172e+03],\n       [ 7.70519487e+03,  7.70480192e+03],\n       [ 5.40636007e+03,  5.40574502e+03],\n       [ 1.78685876e+03,  1.78712056e+03],\n       [-7.52161281e+03, -7.52188436e+03],\n       [ 3.34120065e+03,  3.34053738e+03],\n       [-5.51739282e+03, -5.51692164e+03],\n       [-1.22439202e+04, -1.22426708e+04],\n       [ 1.82912047e+04,  1.82919014e+04],\n       [-5.86165220e+03, -5.86194753e+03],\n       [ 1.83730547e+04,  1.83752839e+04],\n       [-2.50741247e+04, -2.50748396e+04],\n       [-1.61741699e+04, -1.61763442e+04],\n       [ 1.76686677e+04,  1.76673333e+04],\n       [ 9.93428431e+03,  9.93604690e+03],\n       [-2.29114642e+04, -2.29114066e+04],\n       [ 1.92627514e+04,  1.92616410e+04],\n       [ 3.78474251e+04,  3.78450173e+04],\n       [-4.27883137e+04, -4.27887390e+04],\n       [ 3.89864737e+04,  3.89874881e+04],\n       [ 9.80585809e+03,  9.80609830e+03],\n       [-8.44446816e+04, -8.44437384e+04],\n       [ 8.30415948e+04,  8.30415160e+04],\n       [ 2.60626554e+04,  2.60643698e+04],\n       [-1.02778178e+05, -1.02775803e+05],\n       [ 5.43301330e+04,  5.43292800e+04],\n       [-1.93303112e+05, -1.93300204e+05],\n       [-8.44565576e+04, -8.44547979e+04],\n       [-2.80927933e+05, -2.80926738e+05],\n       [-3.29413658e+04, -3.29442237e+04],\n       [-5.74811031e+04, -5.74802059e+04],\n       [ 2.52800345e+05,  2.52801380e+05],\n       [ 2.02488889e+05,  2.02489738e+05],\n       [ 4.12662560e+05,  4.12660704e+05],\n       [ 3.54328327e+04,  3.54299816e+04],\n       [ 5.99108103e+04,  5.99105211e+04],\n       [ 4.33941122e+05,  4.33939822e+05],\n       [ 3.24273961e+05,  3.24274561e+05],\n       [ 6.13707589e+05,  6.13707911e+05],\n       [-4.49723291e+05, -4.49723556e+05],\n       [ 6.46038394e+05,  6.46038480e+05],\n       [-1.74105511e+05, -1.74104484e+05],\n       [ 3.00036987e+05,  3.00036748e+05],\n       [ 6.20904057e+05,  6.20903832e+05],\n       [-5.08594383e+04, -5.08589395e+04],\n       [-2.85399133e+05, -2.85399559e+05],\n       [-2.41146759e+05, -2.41146316e+05],\n       [-1.29199522e+05, -1.29199751e+05],\n       [ 6.27261036e+05,  6.27258944e+05],\n       [ 1.46435554e+05,  1.46434601e+05],\n       [-5.74067871e+05, -5.74067915e+05],\n       [-5.30676314e+05, -5.30677163e+05],\n       [-1.64698125e+06, -1.64698141e+06],\n       [ 4.10302324e+04,  4.10311589e+04],\n       [ 8.60668723e+05,  8.60668880e+05],\n       [-5.23957847e+05, -5.23956362e+05],\n       [ 1.22591358e+06,  1.22591305e+06],\n       [ 4.09023008e+05,  4.09023308e+05],\n       [-9.91513567e+05, -9.91514453e+05],\n       [ 4.24360993e+05,  4.24361025e+05],\n       [-5.01921527e+05, -5.01921126e+05],\n       [ 6.02708421e+05,  6.02706518e+05],\n       [ 1.26387684e+06,  1.26387521e+06],\n       [ 3.71340146e+05,  3.71339962e+05],\n       [-4.80277799e+05, -4.80276609e+05],\n       [-3.60836800e+05, -3.60837118e+05],\n       [-5.48378950e+04, -5.48388880e+04],\n       [ 1.57940551e+05,  1.57941818e+05],\n       [ 8.39260357e+04,  8.39245262e+04],\n       [-6.15460358e+05, -6.15459088e+05],\n       [ 1.34823303e+05,  1.34823483e+05],\n       [-8.19862985e+02, -8.21455547e+02],\n       [-5.79439699e+05, -5.79439463e+05],\n       [-5.79824956e+05, -5.79825816e+05],\n       [ 1.57891718e+05,  1.57890450e+05],\n       [ 3.82707513e+05,  3.82707481e+05],\n       [ 3.65916616e+05,  3.65916900e+05],\n       [ 7.41677058e+05,  7.41679480e+05],\n       [-5.11482900e+04, -5.11470674e+04],\n       [-2.15300868e+05, -2.15300807e+05],\n       [-1.69607615e+05, -1.69605614e+05],\n       [ 8.35572988e+05,  8.35572067e+05],\n       [-6.78677961e+05, -6.78677842e+05],\n       [ 4.32795832e+05,  4.32796624e+05],\n       [ 5.38364237e+05,  5.38364503e+05],\n       [-5.11088418e+05, -5.11087813e+05],\n       [ 1.55499137e+06,  1.55499221e+06],\n       [-1.62172838e+06, -1.62172947e+06],\n       [ 6.85079241e+05,  6.85078646e+05],\n       [-8.70151645e+05, -8.70150617e+05],\n       [ 5.93269440e+05,  5.93268001e+05],\n       [-3.32442154e+04, -3.32438476e+04],\n       [-1.21088286e+05, -1.21086768e+05],\n       [ 8.81788424e+04,  8.81797969e+04],\n       [-9.58466009e+04, -9.58464728e+04],\n       [-4.11579035e+05, -4.11580952e+05],\n       [ 7.78709870e+05,  7.78710463e+05],\n       [-7.80192492e+05, -7.80192721e+05],\n       [-3.05328052e+05, -3.05328551e+05],\n       [-5.46544241e+05, -5.46544279e+05],\n       [ 7.81990956e+05,  7.81992066e+05],\n       [ 4.21167256e+05,  4.21167462e+05],\n       [ 1.36365316e+06,  1.36365477e+06],\n       [ 1.02983401e+05,  1.02982586e+05],\n       [ 3.70461613e+05,  3.70460735e+05],\n       [-5.44923226e+05, -5.44922760e+05],\n       [ 7.40799848e+05,  7.40798362e+05],\n       [-2.73246593e+05, -2.73245946e+05],\n       [-3.74698298e+05, -3.74700581e+05],\n       [ 7.85674892e+05,  7.85676465e+05],\n       [ 1.98832126e+05,  1.98830514e+05],\n       [ 4.86862956e+05,  4.86863096e+05],\n       [-1.90620337e+05, -1.90618432e+05],\n       [ 1.14236192e+05,  1.14236018e+05],\n       [-7.82867401e+05, -7.82864889e+05],\n       [ 1.58501542e+05,  1.58501921e+05],\n       [ 2.70485174e+04,  2.70495343e+04],\n       [ 1.16251545e+06,  1.16251429e+06],\n       [ 5.86497107e+05,  5.86497578e+05],\n       [ 1.88399889e+05,  1.88398683e+05],\n       [-8.12827977e+05, -8.12827135e+05],\n       [ 1.28347867e+06,  1.28347823e+06],\n       [-6.55352416e+05, -6.55350541e+05],\n       [ 6.05314746e+05,  6.05314221e+05],\n       [-1.02250838e+06, -1.02250814e+06],\n       [ 1.15549324e+04,  1.15539287e+04],\n       [-6.96137433e+05, -6.96136646e+05],\n       [ 2.56609789e+05,  2.56611653e+05],\n       [-3.68442848e+05, -3.68443258e+05],\n       [-9.55720370e+05, -9.55720528e+05],\n       [-1.01007855e+06, -1.01007964e+06],\n       [-2.78527419e+05, -2.78527418e+05],\n       [-9.46601276e+05, -9.46601134e+05],\n       [-2.95022877e+05, -2.95024486e+05],\n       [-7.12579120e+05, -7.12580454e+05],\n       [ 9.49481925e+04,  9.49487652e+04],\n       [-6.20796601e+05, -6.20798768e+05],\n       [-5.40830724e+05, -5.40832362e+05],\n       [-8.48899521e+05, -8.48899147e+05],\n       [ 3.08749369e+03,  3.08587889e+03],\n       [ 5.37704108e+04,  5.37684492e+04],\n       [-7.12342923e+05, -7.12342967e+05],\n       [ 5.07470596e+05,  5.07471954e+05]])"
     },
     "execution_count": 4,
     "metadata": {},
     "output_type": "execute_result"
    }
   ],
   "source": [
    "logv = np.log(sigma**2)\n",
    "_, grad_mu_tdnll = tdnll_appx(\n",
    "    x,\n",
    "    mu,\n",
    "    logv,\n",
    "    a,\n",
    "    eta,\n",
    "    ts,\n",
    "    fix_logv=True,\n",
    "    fix_mu=False,\n",
    "    fix_a=True,\n",
    "    fix_eta=True,\n",
    ")\n",
    "\n",
    "grad_mu_nd = nd.Gradient(lambda _mu: tdnll_appx(\n",
    "    x,\n",
    "    _mu,\n",
    "    logv,\n",
    "    a,\n",
    "    eta,\n",
    "    ts,\n",
    "    fix_logv=True,\n",
    "    fix_mu=True,\n",
    "    fix_a=True,\n",
    "    fix_eta=True,\n",
    ")[0], step=1e-10)(mu)\n",
    "\n",
    "np.stack((grad_mu_tdnll, grad_mu_nd)).T"
   ],
   "metadata": {
    "collapsed": false,
    "ExecuteTime": {
     "end_time": "2023-10-03T21:50:38.452633Z",
     "start_time": "2023-10-03T21:50:38.168302Z"
    }
   },
   "id": "e626769313b54ca5"
  },
  {
   "cell_type": "code",
   "execution_count": 5,
   "outputs": [
    {
     "data": {
      "text/plain": "<Figure size 640x480 with 1 Axes>",
      "image/png": "[encoded data removed]"
     },
     "metadata": {},
     "output_type": "display_data"
    }
   ],
   "source": [
    "plt.plot(t, grad_mu_tdnll)\n",
    "plt.show()"
   ],
   "metadata": {
    "collapsed": false,
    "ExecuteTime": {
     "end_time": "2023-10-03T21:50:38.534830Z",
     "start_time": "2023-10-03T21:50:38.454222Z"
    }
   },
   "id": "b4550f1fd812049"
  },
  {
   "cell_type": "code",
   "execution_count": 6,
   "outputs": [
    {
     "data": {
      "text/plain": "array([[438.01807192, 438.01807191],\n       [ 32.43019653,  32.43019653],\n       [753.46810498, 753.46810498]])"
     },
     "execution_count": 6,
     "metadata": {},
     "output_type": "execute_result"
    }
   ],
   "source": [
    "_, grad_logv_tdnll = tdnll_appx(\n",
    "    x,\n",
    "    mu,\n",
    "    logv,\n",
    "    a,\n",
    "    eta,\n",
    "    ts,\n",
    "    fix_logv=False,\n",
    "    fix_mu=True,\n",
    "    fix_a=True,\n",
    "    fix_eta=True,\n",
    ")\n",
    "\n",
    "grad_logv_nd = nd.Gradient(lambda _logv: tdnll_appx(\n",
    "    x,\n",
    "    mu,\n",
    "    _logv,\n",
    "    a,\n",
    "    eta,\n",
    "    ts,\n",
    "    fix_logv=True,\n",
    "    fix_mu=True,\n",
    "    fix_a=True,\n",
    "    fix_eta=True,\n",
    ")[0])(logv)\n",
    "\n",
    "np.stack((grad_logv_tdnll, grad_logv_nd)).T"
   ],
   "metadata": {
    "collapsed": false,
    "ExecuteTime": {
     "end_time": "2023-10-03T21:50:38.624524Z",
     "start_time": "2023-10-03T21:50:38.535609Z"
    }
   },
   "id": "26b4830fe79ebc8"
  },
  {
   "cell_type": "code",
   "execution_count": 7,
   "outputs": [
    {
     "data": {
      "text/plain": "array([[   14.50575997,    14.50575997],\n       [  118.51248187,   118.51248187],\n       [ -625.79851734,  -625.79851734],\n       [  334.03836426,   334.03836425],\n       [  456.55738398,   456.55738398],\n       [ -538.83057704,  -538.83057704],\n       [ -736.58912514,  -736.58912514],\n       [  141.02649212,   141.02649212],\n       [ -409.20147814,  -409.20147814],\n       [ -103.01611845,  -103.01611845],\n       [    8.30117068,     8.30117068],\n       [  844.92468699,   844.92468699],\n       [  991.62817433,   991.62817433],\n       [ -804.85688115,  -804.85688115],\n       [ -596.64943716,  -596.64943716],\n       [  -64.68615685,   -64.68615685],\n       [ -699.75102187,  -699.75102187],\n       [ 1237.8020538 ,  1237.8020538 ],\n       [  291.78754077,   291.78754077],\n       [  192.19930977,   192.19930977],\n       [  984.79259385,   984.79259385],\n       [  -26.91094684,   -26.91094684],\n       [  566.68089882,   566.68089882],\n       [  716.01880084,   716.01880084],\n       [ -100.90408727,  -100.90408727],\n       [ -195.30708867,  -195.30708867],\n       [ -652.29871125,  -652.29871125],\n       [-1364.2622538 , -1364.2622538 ],\n       [  703.50462631,   703.50462631],\n       [ -433.67500016,  -433.67500016],\n       [   44.4688596 ,    44.4688596 ],\n       [ -334.3883553 ,  -334.3883553 ],\n       [ -146.66578541,  -146.66578541],\n       [ -489.22982329,  -489.22982329],\n       [ -102.1130357 ,  -102.1130357 ],\n       [  655.58797481,   655.58797481],\n       [ -951.52440008,  -951.52440008],\n       [  343.06033156,   343.06033156],\n       [  287.751058  ,   287.751058  ],\n       [ -937.38896334,  -937.38896334],\n       [  489.75268246,   489.75268246],\n       [ -866.45825826,  -866.45825826],\n       [  729.36493471,   729.36493471],\n       [ -506.91186601,  -506.91186601],\n       [  452.05364026,   452.05364026],\n       [ 1100.29892602,  1100.29892602],\n       [ -125.88761374,  -125.88761374],\n       [  696.73506358,   696.73506358],\n       [-1859.78388261, -1859.78388261],\n       [ 1146.45040864,  1146.45040864],\n       [ -204.24419632,  -204.24419632],\n       [  -60.49683746,   -60.49683746],\n       [  218.61131527,   218.61131527],\n       [  823.41614419,   823.41614419],\n       [  957.71102072,   957.71102072],\n       [  -52.60067107,   -52.60067107],\n       [ 1178.95535871,  1178.95535871],\n       [ -523.86249871,  -523.86249871],\n       [    2.14147967,     2.14147967],\n       [   21.91067709,    21.91067709],\n       [  473.3862945 ,   473.3862945 ],\n       [ -217.32374146,  -217.32374146],\n       [  450.8330127 ,   450.8330127 ]])"
     },
     "execution_count": 7,
     "metadata": {},
     "output_type": "execute_result"
    }
   ],
   "source": [
    "_, grad_a_tdnll = tdnll_appx(\n",
    "    x,\n",
    "    mu,\n",
    "    logv,\n",
    "    a,\n",
    "    eta,\n",
    "    ts,\n",
    "    fix_logv=True,\n",
    "    fix_mu=True,\n",
    "    fix_a=False,\n",
    "    fix_eta=True,\n",
    ")\n",
    "\n",
    "grad_a_nd = nd.Gradient(lambda _a: tdnll_appx(\n",
    "    x,\n",
    "    mu,\n",
    "    logv,\n",
    "    _a,\n",
    "    eta,\n",
    "    ts,\n",
    "    fix_logv=True,\n",
    "    fix_mu=True,\n",
    "    fix_a=True,\n",
    "    fix_eta=True,\n",
    ")[0])(a)[1:]\n",
    "\n",
    "np.stack((grad_a_tdnll, grad_a_nd)).T"
   ],
   "metadata": {
    "collapsed": false,
    "ExecuteTime": {
     "end_time": "2023-10-03T21:50:39.707746Z",
     "start_time": "2023-10-03T21:50:38.591339Z"
    }
   },
   "id": "5136dc2abb3fcd50"
  },
  {
   "cell_type": "code",
   "execution_count": 8,
   "outputs": [
    {
     "data": {
      "text/plain": "array([[ -2607.06521706,  -2607.06521716],\n       [ -5047.86342277,  -5047.86342307],\n       [    88.5222626 ,     88.52226263],\n       [  4351.39501289,   4351.39501294],\n       [  2459.25220323,   2459.25220349],\n       [ -1966.58378144,  -1966.58378142],\n       [ 22880.87201977,  22880.87201963],\n       [  1930.78814659,   1930.78814663],\n       [  -533.69969596,   -533.69969591],\n       [ -3925.30811598,  -3925.30811619],\n       [ -5688.94005366,  -5688.94005348],\n       [  4201.84567263,   4201.84567259],\n       [-12830.04739962, -12830.04739922],\n       [   811.98454537,    811.98454532],\n       [-10139.31568248, -10139.31568296],\n       [ -4718.54987945,  -4718.54987946],\n       [   354.01566685,    354.01566637],\n       [   775.59145588,    775.59145578],\n       [ 10451.47283206,  10451.47283161],\n       [  1429.05024743,   1429.05024738],\n       [ -4398.59682613,  -4398.59682267],\n       [  5393.36590349,   5393.36590351],\n       [  1349.36465194,   1349.36465221],\n       [  -158.61970753,   -158.61970883],\n       [  1458.3650966 ,   1458.36509654],\n       [ -5995.9153209 ,  -5995.91532062],\n       [ -2569.538633  ,  -2569.53863282],\n       [  3560.83903531,   3560.83903552],\n       [  -430.60563902,   -430.60563897],\n       [  3812.49009037,   3812.49009014],\n       [ -3926.43269855,  -3926.43269844],\n       [-12746.45947458, -12746.45947338],\n       [ -2041.3072678 ,  -2041.3072677 ],\n       [ -5527.44775873,  -5527.44775861],\n       [ -1129.10030965,  -1129.10030952],\n       [  7027.56488833,   7027.56488747],\n       [ -8031.26571398,  -8031.26571371],\n       [ -6346.30787079,  -6346.30786972],\n       [ -1267.32005163,  -1267.32005026],\n       [ -4100.89166824,  -4100.89166821],\n       [ -3262.62606337,  -3262.62606371],\n       [ -4933.98715346,  -4933.98715174],\n       [ -2387.12478673,  -2387.124787  ],\n       [ -5574.71942125,  -5574.71942143],\n       [   295.35426996,    295.35427081],\n       [  4362.79806516,   4362.79806509],\n       [  2202.00904898,   2202.0090488 ],\n       [  7185.34335147,   7185.34335162],\n       [ -6118.56348725,  -6118.56348689],\n       [   766.637425  ,    766.6374247 ],\n       [  -241.56607728,   -241.56607731],\n       [  1960.25509813,   1960.25509774],\n       [ -1507.47358428,  -1507.47358402],\n       [  6238.51637247,   6238.51637223],\n       [  1601.05633995,   1601.05633988],\n       [ 10957.24189935,  10957.24189938],\n       [  3508.43305552,   3508.43305549],\n       [ -1718.14991813,  -1718.14991801],\n       [   910.99766502,    910.99766501],\n       [ -2141.90734478,  -2141.90734475],\n       [  4749.50687516,   4749.50687527],\n       [   695.68426779,    695.68426818],\n       [ -2872.50929403,  -2872.50929327]])"
     },
     "execution_count": 8,
     "metadata": {},
     "output_type": "execute_result"
    }
   ],
   "source": [
    "_, grad_eta_tdnll = tdnll_appx(\n",
    "    x,\n",
    "    mu,\n",
    "    logv,\n",
    "    a,\n",
    "    eta,\n",
    "    ts,\n",
    "    fix_logv=True,\n",
    "    fix_mu=True,\n",
    "    fix_a=True,\n",
    "    fix_eta=False,\n",
    ")\n",
    "\n",
    "grad_eta_nd = nd.Gradient(lambda _eta: tdnll_appx(\n",
    "    x,\n",
    "    mu,\n",
    "    logv,\n",
    "    a,\n",
    "    _eta,\n",
    "    ts,\n",
    "    fix_logv=True,\n",
    "    fix_mu=True,\n",
    "    fix_a=True,\n",
    "    fix_eta=True,\n",
    ")[0])(eta)[1:]\n",
    "\n",
    "np.stack((grad_eta_tdnll, grad_eta_nd)).T"
   ],
   "metadata": {
    "collapsed": false,
    "ExecuteTime": {
     "end_time": "2023-10-03T21:50:40.652196Z",
     "start_time": "2023-10-03T21:50:39.708565Z"
    }
   },
   "id": "340e8a4843e9d0a5"
  },
  {
   "cell_type": "markdown",
   "source": [
    "## Estimate noise parameters with approximate NLL"
   ],
   "metadata": {
    "collapsed": false
   },
   "id": "d905c0f3e7dedba"
  },
  {
   "cell_type": "code",
   "execution_count": 9,
   "outputs": [],
   "source": [
    "NUM_NOISE_PARAMETERS = 3\n",
    "NUM_NOISE_DATA_DIMENSIONS = 2\n",
    "\n",
    "def tdnoisefit(\n",
    "    x: ArrayLike,\n",
    "    *,\n",
    "    v0: ArrayLike | None = None,\n",
    "    mu0: ArrayLike | None = None,\n",
    "    a0: ArrayLike | None = None,\n",
    "    eta0: ArrayLike | None = None,\n",
    "    ts: float = 1.0,\n",
    "    fix_v: bool = False,\n",
    "    fix_mu: bool = False,\n",
    "    fix_a: bool = True,\n",
    "    fix_eta: bool = True,\n",
    ") -> tuple[dict, float, dict]:\n",
    "    r\"\"\"\n",
    "    Compute time-domain noise model parameters.\n",
    "\n",
    "    Computes the noise parameters sigma and the underlying signal vector ``mu``\n",
    "    for the data matrix ``x``, where the columns of ``x`` are each noisy\n",
    "    measurements of ``mu``.\n",
    "\n",
    "    Parameters\n",
    "    ----------\n",
    "    x : ndarray\n",
    "        Data array.\n",
    "    v0 : ndarray, optional\n",
    "        Initial guess, noise model parameters with size (3,), expressed as\n",
    "        variance amplitudes.\n",
    "    mu0 : ndarray, optional\n",
    "        Initial guess, signal vector with size (n,).\n",
    "    a0 : ndarray, optional\n",
    "        Initial guess, amplitude vector with size (m,).\n",
    "    eta0 : ndarray, optional\n",
    "        Initial guess, delay vector with size (m,).\n",
    "    ts : float, optional\n",
    "        Sampling time\n",
    "    fix_v : bool, optional\n",
    "        Noise variance parameters.\n",
    "    fix_mu : bool, optional\n",
    "        Signal vector.\n",
    "    fix_a : bool, optional\n",
    "        Amplitude vector.\n",
    "    fix_eta : bool, optional\n",
    "        Delay vector.\n",
    "\n",
    "    Returns\n",
    "    -------\n",
    "    p : dict\n",
    "        Output parameter dictionary containing:\n",
    "            var : ndarray\n",
    "                Noise parameters, expressed as variance amplitudes.\n",
    "            mu : ndarray\n",
    "                Signal vector.\n",
    "            a : ndarray\n",
    "                Amplitude vector.\n",
    "            eta : ndarray\n",
    "                Delay vector.\n",
    "    fval : float\n",
    "        Value of NLL cost function from FMINUNC\n",
    "    Diagnostic : dict\n",
    "        Dictionary containing diagnostic information\n",
    "            err : dic\n",
    "                Dictionary containing  error of the parameters.\n",
    "            grad : ndarray\n",
    "                Negative loglikelihood cost function gradient from\n",
    "                scipy.optimize.minimize BFGS method.\n",
    "            hessian : ndarray\n",
    "                Negative loglikelihood cost function hessian from\n",
    "                scipy.optimize.minimize BFGS method.\n",
    "    \"\"\"\n",
    "    if fix_v and fix_mu and fix_a and fix_eta:\n",
    "        msg = \"All variables are fixed\"\n",
    "        raise ValueError(msg)\n",
    "    # Parse and validate function inputs\n",
    "    x = np.asarray(x)\n",
    "    if x.ndim != NUM_NOISE_DATA_DIMENSIONS:\n",
    "        msg = \"Data array x must be 2D\"\n",
    "        raise ValueError(msg)\n",
    "    n, m = x.shape\n",
    "\n",
    "    if v0 is None:\n",
    "        v0 = np.mean(np.var(x, 1)) * np.ones(NUM_NOISE_PARAMETERS)\n",
    "    else:\n",
    "        v0 = np.asarray(v0)\n",
    "        if v0.size != NUM_NOISE_PARAMETERS:\n",
    "            msg = (\n",
    "                \"Noise parameter array logv must have \"\n",
    "                f\"{NUM_NOISE_PARAMETERS} elements.\"\n",
    "            )\n",
    "            raise ValueError(msg)\n",
    "\n",
    "    if mu0 is None:\n",
    "        mu0 = np.mean(x, 1)\n",
    "    else:\n",
    "        mu0 = np.asarray(mu0)\n",
    "        if mu0.size != n:\n",
    "            msg = \"Size of mu0 is incompatible with data array x.\"\n",
    "            raise ValueError(msg)\n",
    "\n",
    "    if a0 is None:\n",
    "        a0 = np.ones(m)\n",
    "    else:\n",
    "        a0 = np.asarray(a0)\n",
    "        if a0.size != m:\n",
    "            msg = \"Size of a0 is incompatible with data array x.\"\n",
    "            raise ValueError(msg)\n",
    "\n",
    "    if eta0 is None:\n",
    "        eta0 = np.zeros(m)\n",
    "    else:\n",
    "        eta0 = np.asarray(eta0)\n",
    "        if eta0.size != m:\n",
    "            msg = \"Size of eta0 is incompatible with data array x.\"\n",
    "            raise ValueError(msg)\n",
    "\n",
    "    # Set initial guesses for all free parameters\n",
    "    x0 = np.array([])\n",
    "    if not fix_v:\n",
    "        # Replace log(x) with -inf when x <= 0\n",
    "        logv0 = np.ma.log(v0).filled(-np.inf)\n",
    "        x0 = np.concatenate((x0, logv0))\n",
    "    if not fix_mu:\n",
    "        x0 = np.concatenate((x0, mu0))\n",
    "    if not fix_a:\n",
    "        x0 = np.concatenate((x0, a0[1:] / a0[0]))\n",
    "    if not fix_eta:\n",
    "        x0 = np.concatenate((x0, eta0[1:] - eta0[0]))\n",
    "\n",
    "    # Bundle free parameters together into objective function\n",
    "    def objective(_p):\n",
    "        if fix_v:\n",
    "            _logv = np.ma.log(v0).filled(-np.inf)\n",
    "        else:\n",
    "            _logv = _p[:3]\n",
    "            _p = _p[3:]\n",
    "        if fix_mu:\n",
    "            _mu = mu0\n",
    "        else:\n",
    "            _mu = _p[:n]\n",
    "            _p = _p[n:]\n",
    "        if fix_a:\n",
    "            _a = a0\n",
    "        else:\n",
    "            _a = np.concatenate((np.array([1.0]), _p[: m - 1]))\n",
    "            _p = _p[m - 1 :]\n",
    "        if fix_eta:\n",
    "            _eta = eta0\n",
    "        else:\n",
    "            _eta = np.concatenate((np.array([0.0]), _p[: m - 1]))\n",
    "        return tdnll_appx(\n",
    "            x.T,\n",
    "            _mu,\n",
    "            _logv,\n",
    "            _a,\n",
    "            _eta,\n",
    "            ts,\n",
    "            fix_logv=fix_v,\n",
    "            fix_mu=fix_mu,\n",
    "            fix_a=fix_a,\n",
    "            fix_eta=fix_eta,\n",
    "        )\n",
    "\n",
    "    # Minimize cost function with respect to free parameters\n",
    "    out = minimize(\n",
    "        objective,\n",
    "        x0,\n",
    "        method=\"BFGS\",\n",
    "        jac=True,\n",
    "    )\n",
    "\n",
    "    # Parse output\n",
    "    p = {}\n",
    "    x_out = out.x\n",
    "    if fix_v:\n",
    "        p[\"var\"] = v0\n",
    "    else:\n",
    "        p[\"var\"] = np.exp(x_out[:3])\n",
    "        x_out = x_out[3:]\n",
    "\n",
    "    if fix_mu:\n",
    "        p[\"mu\"] = mu0\n",
    "    else:\n",
    "        p[\"mu\"] = x_out[:n]\n",
    "        x_out = x_out[n:]\n",
    "\n",
    "    if fix_a:\n",
    "        p[\"a\"] = a0\n",
    "    else:\n",
    "        p[\"a\"] = np.concatenate(([1], x_out[: m - 1]))\n",
    "        x_out = x_out[m - 1 :]\n",
    "\n",
    "    if fix_eta:\n",
    "        p[\"eta\"] = eta0\n",
    "    else:\n",
    "        p[\"eta\"] = np.concatenate(([0], x_out[: m - 1]))\n",
    "\n",
    "    p[\"ts\"] = ts\n",
    "\n",
    "    diagnostic = {\n",
    "        \"grad\": out.jac,\n",
    "        \"cov\": out.hess_inv,\n",
    "        \"err\": {\n",
    "            \"var\": np.array([]),\n",
    "            \"mu\": np.array([]),\n",
    "            \"a\": np.array([]),\n",
    "            \"eta\": np.array([]),\n",
    "        },\n",
    "        \"success\": out.success,\n",
    "        \"status\": out.status,\n",
    "        \"message\": out.message,\n",
    "        \"nfev\": out.nfev,\n",
    "        \"njev\": out.njev,\n",
    "        \"nit\": out.nit,\n",
    "    }\n",
    "    err = np.sqrt(np.diag(diagnostic[\"cov\"]))\n",
    "    if not fix_v:\n",
    "        # Propagate error from log(V) to V\n",
    "        diagnostic[\"err\"][\"var\"] = np.sqrt(\n",
    "            np.diag(np.diag(p[\"var\"]) @ diagnostic[\"cov\"][0:3, 0:3])\n",
    "            @ np.diag(p[\"var\"])\n",
    "        )\n",
    "        err = err[3:]\n",
    "\n",
    "    if not fix_mu:\n",
    "        diagnostic[\"err\"][\"mu\"] = err[:n]\n",
    "        err = err[n:]\n",
    "\n",
    "    if not fix_a:\n",
    "        diagnostic[\"err\"][\"a\"] = np.concatenate(([0], err[: m - 1]))\n",
    "        err = err[m - 1 :]\n",
    "\n",
    "    if not fix_eta:\n",
    "        diagnostic[\"err\"][\"eta\"] = np.concatenate(([0], err[: m - 1]))\n",
    "\n",
    "    return p, out.fun, diagnostic"
   ],
   "metadata": {
    "collapsed": false,
    "ExecuteTime": {
     "end_time": "2023-10-03T21:50:40.664351Z",
     "start_time": "2023-10-03T21:50:40.651936Z"
    }
   },
   "id": "2644749779b93982"
  },
  {
   "cell_type": "code",
   "execution_count": 10,
   "outputs": [],
   "source": [
    "result = tdnoisefit(x.T, ts=ts)"
   ],
   "metadata": {
    "collapsed": false,
    "ExecuteTime": {
     "end_time": "2023-10-03T21:50:43.181359Z",
     "start_time": "2023-10-03T21:50:40.664835Z"
    }
   },
   "id": "dc0d1efd00bb35d7"
  },
  {
   "cell_type": "code",
   "execution_count": 11,
   "outputs": [
    {
     "name": "stdout",
     "output_type": "stream",
     "text": [
      "Input:  1e-10\t Output: 9.485e-11 ± 1.893e-12\n",
      "Input: 0.0001\t Output: 0.0001205 ± 3.562e-06\n",
      "Input:  1e-06\t Output: 1.989e-07 ± 9.538e-09\n"
     ]
    }
   ],
   "source": [
    "var_out = result[0][\"var\"] * m / (m - 1)\n",
    "var_err = result[2][\"err\"][\"var\"] * m / (m - 1)\n",
    "for val_in, val_out, err in zip(sigma**2, var_out, var_err):\n",
    "    print(f\"Input: {val_in:6.4g}\\t Output: {val_out:6.4g} ± {err:6.4g}\")"
   ],
   "metadata": {
    "collapsed": false,
    "ExecuteTime": {
     "end_time": "2023-10-03T21:50:43.183886Z",
     "start_time": "2023-10-03T21:50:43.182041Z"
    }
   },
   "id": "24c887e71ac696f6"
  },
  {
   "cell_type": "code",
   "execution_count": 12,
   "outputs": [],
   "source": [
    "result_exact = thz.tdnoisefit(x.T,\n",
    "                              v0=result[0][\"var\"],\n",
    "                              mu0=result[0][\"mu\"],\n",
    "                              a0=result[0][\"a\"],\n",
    "                              eta0=result[0][\"eta\"],\n",
    "                              ts=ts)"
   ],
   "metadata": {
    "collapsed": false,
    "ExecuteTime": {
     "end_time": "2023-10-03T21:50:44.912945Z",
     "start_time": "2023-10-03T21:50:43.185333Z"
    }
   },
   "id": "d91ce7a3e4680dbe"
  },
  {
   "cell_type": "code",
   "execution_count": 13,
   "outputs": [
    {
     "name": "stdout",
     "output_type": "stream",
     "text": [
      "Input:  1e-10\t Output: 9.992e-11 ± 1.332e-12\n",
      "Input: 0.0001\t Output: 9.855e-05 ± 2.584e-06\n",
      "Input:  1e-06\t Output: 8.976e-07 ± 8.098e-08\n"
     ]
    }
   ],
   "source": [
    "var_out = result_exact[0][\"var\"] * m / (m - 1)\n",
    "var_err = result_exact[2][\"err\"][\"var\"] * m / (m - 1)\n",
    "for val_in, val_out, err in zip(sigma**2, var_out, var_err):\n",
    "    print(f\"Input: {val_in:6.4g}\\t Output: {val_out:6.4g} ± {err:6.4g}\")"
   ],
   "metadata": {
    "collapsed": false,
    "ExecuteTime": {
     "end_time": "2023-10-03T21:50:44.917020Z",
     "start_time": "2023-10-03T21:50:44.913732Z"
    }
   },
   "id": "452bb503b5f68ea4"
  },
  {
   "cell_type": "code",
   "execution_count": 13,
   "outputs": [],
   "source": [],
   "metadata": {
    "collapsed": false,
    "ExecuteTime": {
     "end_time": "2023-10-03T21:50:44.921030Z",
     "start_time": "2023-10-03T21:50:44.918075Z"
    }
   },
   "id": "5302ca83510b3a02"
  }
 ],
 "metadata": {
  "kernelspec": {
   "display_name": "Python 3",
   "language": "python",
   "name": "python3"
  },
  "language_info": {
   "codemirror_mode": {
    "name": "ipython",
    "version": 2
   },
   "file_extension": ".py",
   "mimetype": "text/x-python",
   "name": "python",
   "nbconvert_exporter": "python",
   "pygments_lexer": "ipython2",
   "version": "2.7.6"
  }
 },
 "nbformat": 4,
 "nbformat_minor": 5
}
