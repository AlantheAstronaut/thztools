{
 "cells": [
  {
   "cell_type": "markdown",
   "source": [
    "# Develop approximate negative log-likelihood for preliminary optimization"
   ],
   "metadata": {
    "collapsed": false
   },
   "id": "1b68c9725c753a51"
  },
  {
   "cell_type": "code",
   "execution_count": 1,
   "outputs": [],
   "source": [
    "from __future__ import annotations\n",
    "\n",
    "import numdifftools as nd\n",
    "import numpy as np\n",
    "\n",
    "from numpy.typing import ArrayLike\n",
    "from scipy.fft import rfft, irfft, rfftfreq\n",
    "from scipy.optimize import minimize\n",
    "from matplotlib import pyplot as plt\n",
    "from matplotlib.figure import figaspect\n",
    "from scipy.optimize import approx_fprime\n",
    "from numpy.random import default_rng\n",
    "\n",
    "import thztools as thz"
   ],
   "metadata": {
    "collapsed": false,
    "ExecuteTime": {
     "end_time": "2023-10-04T05:37:44.709587Z",
     "start_time": "2023-10-04T05:37:43.936424Z"
    }
   },
   "id": "416f6fcfaf869f9d"
  },
  {
   "cell_type": "markdown",
   "source": [
    "## Define function"
   ],
   "metadata": {
    "collapsed": false
   },
   "id": "d5f483b53a352d7f"
  },
  {
   "cell_type": "code",
   "execution_count": 2,
   "outputs": [],
   "source": [
    "def tdnll_appx(\n",
    "    x: ArrayLike,\n",
    "    delta: ArrayLike,\n",
    "    logv: ArrayLike,\n",
    "    a: ArrayLike,\n",
    "    eta: ArrayLike,\n",
    "    ts: float,\n",
    "    *,\n",
    "    fix_logv: bool,\n",
    "    fix_delta: bool,\n",
    "    fix_a: bool,\n",
    "    fix_eta: bool,\n",
    ") -> tuple[float, np.ndarray]:\n",
    "    r\"\"\"\n",
    "    Compute approximate negative log-likelihood for the time-domain noise model.\n",
    "\n",
    "    Computes the negative log-likelihood function for obtaining the\n",
    "    data matrix `x` given `delta`, `logv`, `a`, and `eta`.\n",
    "\n",
    "    Parameters\n",
    "    ----------\n",
    "    x : array_like\n",
    "        Data matrix.\n",
    "    delta : array_like\n",
    "        Deviation vector with shape (n,).\n",
    "    logv : array_like\n",
    "        Array of three noise parameters.\n",
    "    a: array_like\n",
    "        Amplitude vector with shape (m,).\n",
    "    eta : array_like\n",
    "        Delay vector with shape (m,).\n",
    "    ts : float\n",
    "        Sampling time.\n",
    "    fix_logv : bool\n",
    "        Exclude noise parameters from gradiate calculation when ``True``.\n",
    "    fix_delta : bool\n",
    "        Exclude signal vector from gradiate calculation when ``True``.\n",
    "    fix_a : bool\n",
    "        Exclude amplitude vector from gradiate calculation when ``True``.\n",
    "    fix_eta : bool\n",
    "        Exclude delay vector from gradiate calculation when ``True``.\n",
    "\n",
    "    Returns\n",
    "    -------\n",
    "    nll : float\n",
    "        Negative log-likelihood.\n",
    "    gradnll : array_like\n",
    "        Gradient of the negative log-likelihood function with respect to free\n",
    "        parameters.\n",
    "    \"\"\"\n",
    "    x = np.asarray(x)\n",
    "    logv = np.asarray(logv)\n",
    "    delta = np.asarray(delta)\n",
    "    a = np.asarray(a)\n",
    "    eta = np.asarray(eta)\n",
    "\n",
    "    m, n = x.shape\n",
    "\n",
    "    # Compute variance\n",
    "    v = np.exp(logv)\n",
    "\n",
    "    # Compute mu\n",
    "    scale = thz.noiseamp(np.sqrt(v), x[0, :], ts)\n",
    "    mu = x[0, :] - delta * scale\n",
    "\n",
    "    # Compute frequency vector and Fourier coefficients of mu\n",
    "    f = rfftfreq(n, ts)\n",
    "    w = 2 * np.pi * f\n",
    "    mu_f = rfft(mu)\n",
    "    x_f = rfft(x)\n",
    "\n",
    "    exp_iweta = np.exp(1j * np.outer(eta, w))\n",
    "    zeta_f = ((np.conj(exp_iweta) * mu_f).T * a).T\n",
    "    zeta = irfft(zeta_f, n=n)\n",
    "\n",
    "    # Compute negative - log likelihood and gradient\n",
    "\n",
    "    # Compute residuals and their squares for subsequent computations\n",
    "    res = x - zeta\n",
    "    ressq = res**2\n",
    "\n",
    "    # Alternative case: A, eta, or both are not set to defaults\n",
    "    dzeta = irfft(1j * w * zeta_f, n=n)\n",
    "    dx = irfft(1j * w * x_f, n=n)\n",
    "\n",
    "    valpha = v[0]\n",
    "    vbeta = v[1] * x**2\n",
    "    vtau = v[2] * dx**2\n",
    "    vtot = valpha + vbeta + vtau\n",
    "\n",
    "    resnormsq = ressq / vtot\n",
    "    nll = (\n",
    "        m * n * np.log(2 * np.pi) / 2\n",
    "        + np.sum(np.log(vtot)) / 2\n",
    "        + np.sum(resnormsq) / 2\n",
    "    )\n",
    "\n",
    "    # Compute gradient\n",
    "    gradnll = np.array([])\n",
    "    if not (fix_logv & fix_delta & fix_a & fix_eta):\n",
    "        reswt = res / vtot\n",
    "        dvar = (vtot - ressq) / vtot**2\n",
    "        if not fix_logv:\n",
    "            # Gradient wrt logv\n",
    "            gradnll = np.append(gradnll, 0.5 * np.sum(dvar) * v[0])\n",
    "            gradnll = np.append(gradnll, 0.5 * np.sum(x**2 * dvar) * v[1])\n",
    "            gradnll = np.append(gradnll, 0.5 * np.sum(dx**2 * dvar) * v[2])\n",
    "        if not fix_delta:\n",
    "            # Gradient wrt mu\n",
    "            gradnll = np.append(\n",
    "                gradnll,\n",
    "                np.sum((irfft(exp_iweta * rfft(reswt), n=n).T * a).T, axis=0)\n",
    "                * scale,\n",
    "            )\n",
    "        if not fix_a:\n",
    "            # Gradient wrt A\n",
    "            dnllda = -np.sum(reswt * zeta, axis=1).T / a\n",
    "            # Exclude first term for consistency with MATLAB version\n",
    "            gradnll = np.append(gradnll, dnllda[1:])\n",
    "        if not fix_eta:\n",
    "            # Gradient wrt eta\n",
    "            dnlldeta = np.sum(reswt * dzeta, axis=1)\n",
    "            # Exclude first term for consistency with MATLAB version\n",
    "            gradnll = np.append(gradnll, dnlldeta[1:])\n",
    "\n",
    "    return nll, gradnll"
   ],
   "metadata": {
    "collapsed": false,
    "ExecuteTime": {
     "end_time": "2023-10-04T05:37:45.897231Z",
     "start_time": "2023-10-04T05:37:45.891145Z"
    }
   },
   "id": "79b0e7636bacb4f2"
  },
  {
   "cell_type": "markdown",
   "source": [
    "## Simulate measurements"
   ],
   "metadata": {
    "collapsed": false
   },
   "id": "6faafd5a43453c9c"
  },
  {
   "cell_type": "code",
   "execution_count": 3,
   "outputs": [],
   "source": [
    "rng = np.random.default_rng(0)\n",
    "n = 256\n",
    "m = 64\n",
    "ts = 0.05\n",
    "t = np.arange(n) * ts\n",
    "mu, _ = thz.thzgen(n, ts=ts, t0=n * ts / 3)\n",
    "sigma = np.array([1e-5, 1e-2, 1e-3])\n",
    "noise = thz.noiseamp(sigma, mu, ts) * rng.standard_normal((m, n))\n",
    "x = np.array(mu + noise)\n",
    "delta = np.zeros(n)\n",
    "a = np.ones(m)\n",
    "eta = np.zeros(m)"
   ],
   "metadata": {
    "collapsed": false,
    "ExecuteTime": {
     "end_time": "2023-10-04T05:37:47.299582Z",
     "start_time": "2023-10-04T05:37:47.296995Z"
    }
   },
   "id": "6bc9be6f87caaf9f"
  },
  {
   "cell_type": "markdown",
   "source": [
    "## Check gradient"
   ],
   "metadata": {
    "collapsed": false
   },
   "id": "39d28b3fdac152cf"
  },
  {
   "cell_type": "code",
   "execution_count": 5,
   "outputs": [
    {
     "data": {
      "text/plain": "array([[ -23.58609923,  -23.58609924],\n       [   3.68749765,    3.68749765],\n       [ -51.45043913,  -51.45043913],\n       [  -2.59203261,   -2.5920326 ],\n       [  47.65539574,   47.65539575],\n       [ -16.35977341,  -16.3597734 ],\n       [ -78.91092792,  -78.91092793],\n       [ -56.25133981,  -56.25133981],\n       [  46.90433159,   46.9043316 ],\n       [  99.1829012 ,   99.18290121],\n       [  37.76961283,   37.76961283],\n       [   7.32879009,    7.32879009],\n       [ 185.8695802 ,  185.8695802 ],\n       [  22.1804066 ,   22.18040661],\n       [ 112.51512936,  112.51512938],\n       [  58.3390282 ,   58.3390282 ],\n       [  36.61884165,   36.61884165],\n       [  24.95575231,   24.95575235],\n       [ -22.18275426,  -22.18275426],\n       [ -87.05373268,  -87.05373268],\n       [   5.05805079,    5.05805079],\n       [ -98.27440789,  -98.27440783],\n       [  68.59329517,   68.59329517],\n       [ -28.5351426 ,  -28.5351426 ],\n       [ -55.11985631,  -55.11985631],\n       [ -35.85407439,  -35.85407439],\n       [  58.4715619 ,   58.4715619 ],\n       [  76.05422192,   76.05422193],\n       [  47.91559207,   47.91559207],\n       [ -13.89270573,  -13.89270576],\n       [  80.99035635,   80.99035634],\n       [  30.14362303,   30.14362304],\n       [   6.33526946,    6.33526946],\n       [ -59.1034805 ,  -59.1034805 ],\n       [ -19.10187029,  -19.10187029],\n       [ -38.78808252,  -38.78808252],\n       [  67.67033115,   67.67033115],\n       [  31.30822246,   31.30822246],\n       [ -68.57204432,  -68.5720443 ],\n       [-158.87524071, -158.8752407 ],\n       [ 123.84537824,  123.84537824],\n       [-142.52500833, -142.52500833],\n       [-143.56848784, -143.56848785],\n       [ -59.62072972,  -59.62072978],\n       [   1.06719147,    1.06719147],\n       [  17.76188666,   17.76188665],\n       [-142.4533725 , -142.45337249],\n       [-201.01493135, -201.01493135],\n       [-162.5501203 , -162.5501203 ],\n       [-108.76954843, -108.76954844],\n       [ -35.37747921,  -35.3774792 ],\n       [ 124.54586834,  124.54586834],\n       [   8.05809777,    8.05809777],\n       [ -63.20717896,  -63.20717897],\n       [ 137.20637864,  137.20637864],\n       [ -17.6859324 ,  -17.68593241],\n       [ -17.56897677,  -17.56897676],\n       [ -97.5106895 ,  -97.51068949],\n       [ 141.01148632,  141.01148632],\n       [  83.73055858,   83.73055859],\n       [  23.39155029,   23.39155029],\n       [ 125.49793708,  125.49793709],\n       [-185.0848373 , -185.0848373 ],\n       [  80.29973761,   80.29973761],\n       [ -33.86290138,  -33.86290138],\n       [  56.43862712,   56.43862711],\n       [-217.06119722, -217.06119721],\n       [-194.74353209, -194.74353208],\n       [ -86.24693881,  -86.24693881],\n       [ 256.59944106,  256.59944105],\n       [  15.36615668,   15.36615668],\n       [ -65.69489562,  -65.69489561],\n       [-154.99261907, -154.99261907],\n       [  72.72024487,   72.72024487],\n       [-235.92413948, -235.92413947],\n       [ 174.20425366,  174.20425363],\n       [ 117.55764906,  117.55764906],\n       [ -78.01994147,  -78.01994149],\n       [ -17.07833259,  -17.07833259],\n       [-241.11875134, -241.11875137],\n       [  36.54784059,   36.54784059],\n       [  75.57578786,   75.57578786],\n       [ 127.43916046,  127.43916046],\n       [  57.38052878,   57.38052878],\n       [ 102.54761326,  102.54761326],\n       [ -41.92529041,  -41.92529041],\n       [ -36.33669422,  -36.33669422],\n       [ -83.29653102,  -83.29653102],\n       [  36.90618081,   36.90618082],\n       [-112.38393996, -112.38393997],\n       [  20.29916695,   20.29916695],\n       [-101.51341216, -101.51341217],\n       [  44.94735925,   44.94735924],\n       [  43.04698537,   43.04698537],\n       [ -26.75847406,  -26.75847407],\n       [ -54.22268388,  -54.22268387],\n       [ -16.34726178,  -16.34726178],\n       [  38.03801408,   38.03801408],\n       [  94.35234229,   94.35234229],\n       [  93.38797872,   93.38797872],\n       [ -17.98291078,  -17.98291077],\n       [ -72.05487199,  -72.05487199],\n       [   1.26879122,    1.26879121],\n       [  76.94022784,   76.94022784],\n       [ -54.66568041,  -54.66568041],\n       [  70.22393406,   70.22393405],\n       [  50.00529569,   50.00529567],\n       [ -29.42365961,  -29.42365961],\n       [ 150.53889038,  150.53889039],\n       [ -20.84650452,  -20.84650452],\n       [  45.65850518,   45.65850516],\n       [   7.06650937,    7.06650937],\n       [   6.76663188,    6.76663187],\n       [ -17.83112755,  -17.83112756],\n       [ -53.98851671,  -53.98851671],\n       [  42.35881873,   42.35881873],\n       [ -91.09819143,  -91.09819143],\n       [ -38.80261363,  -38.80261361],\n       [ -56.16944371,  -56.16944371],\n       [ -69.74468061,  -69.74468061],\n       [ -41.38166922,  -41.38166921],\n       [ -65.18633957,  -65.18633957],\n       [  -1.65078515,   -1.65078514],\n       [  84.78223904,   84.78223904],\n       [  18.8728033 ,   18.8728033 ],\n       [  56.17063092,   56.17063092],\n       [  85.21192478,   85.21192478],\n       [ -19.75376143,  -19.75376142],\n       [  41.07159153,   41.07159154],\n       [  64.35635237,   64.35635237],\n       [  58.33197708,   58.33197708],\n       [ -10.70435677,  -10.70435677],\n       [ -27.35968698,  -27.35968698],\n       [ -88.78726132,  -88.78726132],\n       [   9.55428208,    9.55428208],\n       [ -79.59876797,  -79.59876796],\n       [ -85.27323827,  -85.27323829],\n       [ -70.02484279,  -70.0248428 ],\n       [ 141.79239954,  141.79239954],\n       [ -78.12627021,  -78.12627021],\n       [ -16.59673331,  -16.59673333],\n       [ -17.97555992,  -17.97555994],\n       [ -21.21787382,  -21.21787382],\n       [ -27.09426277,  -27.09426279],\n       [ -26.49939068,  -26.49939068],\n       [  21.46904039,   21.46904042],\n       [ 109.29028967,  109.29028968],\n       [   7.95362841,    7.95362841],\n       [  50.98243362,   50.98243363],\n       [-100.3900511 , -100.3900511 ],\n       [  13.70224786,   13.70224786],\n       [ -20.27059471,  -20.27059471],\n       [  68.90860652,   68.90860652],\n       [  31.15229133,   31.15229135],\n       [   3.71240382,    3.71240381],\n       [ 119.65991874,  119.65991875],\n       [ -31.28969413,  -31.28969413],\n       [   9.46277266,    9.46277264],\n       [  93.93559457,   93.93559457],\n       [ 198.64627124,  198.64627121],\n       [ -35.27922306,  -35.27922306],\n       [  13.4938617 ,   13.4938617 ],\n       [  36.99048208,   36.99048208],\n       [  27.12884937,   27.12884937],\n       [-125.41803271, -125.4180327 ],\n       [  26.80633709,   26.80633708],\n       [  -6.88040338,   -6.8804034 ],\n       [  98.71008618,   98.71008618],\n       [-108.31646778, -108.31646779],\n       [ -81.4439202 ,  -81.4439202 ],\n       [ -80.6170386 ,  -80.6170386 ],\n       [   9.33031038,    9.33031038],\n       [ -68.85706094,  -68.85706094],\n       [ -19.50507234,  -19.50507235],\n       [ -49.33003661,  -49.33003661],\n       [  -4.85961484,   -4.85961485],\n       [  94.86229756,   94.86229756],\n       [ -64.7665606 ,  -64.7665606 ],\n       [ 139.18315497,  139.18315498],\n       [  17.57836508,   17.57836507],\n       [  12.33636758,   12.33636758],\n       [  70.55837973,   70.55837974],\n       [ -33.98470688,  -33.98470688],\n       [  11.78868893,   11.78868894],\n       [  28.96112895,   28.96112895],\n       [ -28.1758518 ,  -28.1758518 ],\n       [  38.14626882,   38.14626881],\n       [ -94.9705431 ,  -94.97054312],\n       [ -27.93359002,  -27.93359002],\n       [  27.23004081,   27.23004082],\n       [ 121.28513251,  121.2851325 ],\n       [  88.10483374,   88.10483378],\n       [ -68.4590045 ,  -68.4590045 ],\n       [   5.04832665,    5.04832665],\n       [   9.37690053,    9.37690053],\n       [ -98.9748344 ,  -98.97483437],\n       [  79.49009797,   79.49009797],\n       [  32.47691912,   32.47691912],\n       [  35.84999328,   35.84999329],\n       [ -54.12628787,  -54.12628787],\n       [  59.95064152,   59.95064151],\n       [  32.43883249,   32.4388325 ],\n       [ 112.15940813,  112.15940811],\n       [ -53.64296418,  -53.64296422],\n       [ -51.83024536,  -51.83024536],\n       [  31.80640315,   31.80640314],\n       [ -11.35949478,  -11.35949475],\n       [  83.11905703,   83.11905703],\n       [  34.03986719,   34.0398672 ],\n       [ -95.66300399,  -95.66300401],\n       [  -0.81664056,   -0.81664055],\n       [-144.10769985, -144.10769985],\n       [  55.82492202,   55.82492202],\n       [ -44.89911801,  -44.89911801],\n       [   8.23694526,    8.23694526],\n       [ -49.724183  ,  -49.72418301],\n       [  -0.57134503,   -0.57134502],\n       [  32.06332405,   32.06332402],\n       [  60.85133075,   60.85133074],\n       [-202.92523889, -202.92523889],\n       [   7.67991084,    7.67991085],\n       [ 132.34499881,  132.34499878],\n       [  33.63087478,   33.63087478],\n       [ -45.28587277,  -45.28587275],\n       [  27.01221276,   27.01221276],\n       [ -84.71304396,  -84.71304395],\n       [ -64.96031763,  -64.96031763],\n       [  17.63748918,   17.63748918],\n       [  28.53396241,   28.53396241],\n       [  63.99103939,   63.99103938],\n       [  33.06607624,   33.06607624],\n       [  88.67904515,   88.67904516],\n       [ -80.72063563,  -80.72063562],\n       [ -95.52676433,  -95.52676434],\n       [  67.64638005,   67.64638005],\n       [  83.40281694,   83.40281694],\n       [ 108.7209508 ,  108.7209508 ],\n       [  73.60360317,   73.60360317],\n       [ 200.46466931,  200.4646693 ],\n       [  79.89205481,   79.89205481],\n       [ -86.95047328,  -86.95047329],\n       [  26.53014502,   26.53014509],\n       [ -45.87700398,  -45.87700397],\n       [  43.06778687,   43.06778688],\n       [-114.61545603, -114.61545603],\n       [  -2.92651106,   -2.92651105],\n       [  29.3648403 ,   29.36484031],\n       [-162.3276706 , -162.3276706 ],\n       [  20.12294845,   20.12294846],\n       [  87.7305413 ,   87.73054131],\n       [  -7.50013438,   -7.50013438],\n       [  12.20685312,   12.20685313],\n       [ -72.27694326,  -72.27694327],\n       [  62.90869371,   62.90869372],\n       [ -47.9147159 ,  -47.9147159 ],\n       [ -65.77087222,  -65.77087222]])"
     },
     "execution_count": 5,
     "metadata": {},
     "output_type": "execute_result"
    }
   ],
   "source": [
    "logv = np.log(sigma**2)\n",
    "_, grad_delta_tdnll = tdnll_appx(\n",
    "    x,\n",
    "    delta,\n",
    "    logv,\n",
    "    a,\n",
    "    eta,\n",
    "    ts,\n",
    "    fix_logv=True,\n",
    "    fix_delta=False,\n",
    "    fix_a=True,\n",
    "    fix_eta=True,\n",
    ")\n",
    "\n",
    "grad_delta_nd = nd.Gradient(\n",
    "    lambda _delta: tdnll_appx(\n",
    "        x,\n",
    "        _delta,\n",
    "        logv,\n",
    "        a,\n",
    "        eta,\n",
    "        ts,\n",
    "        fix_logv=True,\n",
    "        fix_delta=True,\n",
    "        fix_a=True,\n",
    "        fix_eta=True,\n",
    "    )[0]\n",
    ")(delta)\n",
    "\n",
    "np.stack((grad_delta_tdnll, grad_delta_nd)).T"
   ],
   "metadata": {
    "collapsed": false,
    "ExecuteTime": {
     "end_time": "2023-10-04T05:38:16.188920Z",
     "start_time": "2023-10-04T05:38:12.562318Z"
    }
   },
   "id": "e626769313b54ca5"
  },
  {
   "cell_type": "code",
   "execution_count": 6,
   "outputs": [
    {
     "data": {
      "text/plain": "<Figure size 640x480 with 1 Axes>",
      "image/png": "[encoded data removed]"
     },
     "metadata": {},
     "output_type": "display_data"
    }
   ],
   "source": [
    "plt.plot(t, grad_delta_tdnll)\n",
    "plt.show()"
   ],
   "metadata": {
    "collapsed": false,
    "ExecuteTime": {
     "end_time": "2023-10-04T05:38:19.681795Z",
     "start_time": "2023-10-04T05:38:19.541650Z"
    }
   },
   "id": "b4550f1fd812049"
  },
  {
   "cell_type": "code",
   "execution_count": 7,
   "outputs": [
    {
     "data": {
      "text/plain": "array([[-4299.43580976, -4299.43580975],\n       [-1635.00777513, -1635.00777513],\n       [   13.56815444,    13.56815444]])"
     },
     "execution_count": 7,
     "metadata": {},
     "output_type": "execute_result"
    }
   ],
   "source": [
    "_, grad_logv_tdnll = tdnll_appx(\n",
    "    x,\n",
    "    delta,\n",
    "    logv,\n",
    "    a,\n",
    "    eta,\n",
    "    ts,\n",
    "    fix_logv=False,\n",
    "    fix_delta=True,\n",
    "    fix_a=True,\n",
    "    fix_eta=True,\n",
    ")\n",
    "\n",
    "grad_logv_nd = nd.Gradient(\n",
    "    lambda _logv: tdnll_appx(\n",
    "        x,\n",
    "        delta,\n",
    "        _logv,\n",
    "        a,\n",
    "        eta,\n",
    "        ts,\n",
    "        fix_logv=True,\n",
    "        fix_delta=True,\n",
    "        fix_a=True,\n",
    "        fix_eta=True,\n",
    "    )[0]\n",
    ")(logv)\n",
    "\n",
    "np.stack((grad_logv_tdnll, grad_logv_nd)).T"
   ],
   "metadata": {
    "collapsed": false,
    "ExecuteTime": {
     "end_time": "2023-10-04T05:38:45.813206Z",
     "start_time": "2023-10-04T05:38:45.757773Z"
    }
   },
   "id": "26b4830fe79ebc8"
  },
  {
   "cell_type": "code",
   "execution_count": 8,
   "outputs": [
    {
     "data": {
      "text/plain": "array([[  875.36919429,   875.36919429],\n       [  905.17903284,   905.17903284],\n       [  178.52926698,   178.52926698],\n       [ 1245.56354926,  1245.56354926],\n       [ 1342.76463392,  1342.76463392],\n       [  247.78494334,   247.78494334],\n       [ -267.86268467,  -267.86268467],\n       [  804.6598191 ,   804.6598191 ],\n       [  454.54043781,   454.54043781],\n       [  647.70171483,   647.70171483],\n       [  402.23384875,   402.23384875],\n       [ 1616.41762976,  1616.41762976],\n       [ 1672.29146271,  1672.29146271],\n       [  -21.67135019,   -21.67135019],\n       [  240.38967193,   240.38967193],\n       [  564.08536283,   564.08536283],\n       [  207.12804183,   207.12804183],\n       [ 1990.02737736,  1990.02737736],\n       [ 1113.05300248,  1113.05300248],\n       [  841.73926591,   841.73926591],\n       [ 1876.70578179,  1876.70578179],\n       [  799.03510085,   799.03510085],\n       [ 1374.1635908 ,  1374.1635908 ],\n       [ 1252.77758507,  1252.77758507],\n       [  660.65357404,   660.65357405],\n       [  627.1585787 ,   627.1585787 ],\n       [  214.75738737,   214.75738737],\n       [ -504.08563007,  -504.08563007],\n       [ 1559.88603466,  1559.88603466],\n       [  279.62997315,   279.62997315],\n       [  898.71389811,   898.71389811],\n       [  457.50328013,   457.50328013],\n       [  689.61910764,   689.61910764],\n       [  340.84143227,   340.84143227],\n       [  457.66497859,   457.66497859],\n       [ 1539.31022043,  1539.31022043],\n       [  -67.94961865,   -67.94961865],\n       [ 1120.96242877,  1120.96242877],\n       [ 1124.49648228,  1124.49648228],\n       [  -57.98392107,   -57.98392107],\n       [ 1417.4347407 ,  1417.43474069],\n       [  -84.34425208,   -84.34425208],\n       [ 1558.13812958,  1558.13812958],\n       [  108.09827938,   108.09827938],\n       [ 1159.15704135,  1159.15704135],\n       [ 1915.54836214,  1915.54836214],\n       [  289.50799622,   289.50799622],\n       [ 1079.31227759,  1079.31227758],\n       [-1026.77886471, -1026.77886471],\n       [ 2021.47165837,  2021.47165837],\n       [  464.5554866 ,   464.5554866 ],\n       [  600.17316968,   600.17316968],\n       [  828.63137305,   828.63137305],\n       [ 1474.60216294,  1474.60216294],\n       [ 1856.28449626,  1856.28449626],\n       [  741.4107839 ,   741.4107839 ],\n       [ 1950.44773671,  1950.44773671],\n       [  324.09384852,   324.09384852],\n       [  505.17997212,   505.17997212],\n       [  779.59859395,   779.59859395],\n       [  973.5683642 ,   973.5683642 ],\n       [  691.58857848,   691.58857848],\n       [ 1315.54449242,  1315.54449242]])"
     },
     "execution_count": 8,
     "metadata": {},
     "output_type": "execute_result"
    }
   ],
   "source": [
    "_, grad_a_tdnll = tdnll_appx(\n",
    "    x,\n",
    "    delta,\n",
    "    logv,\n",
    "    a,\n",
    "    eta,\n",
    "    ts,\n",
    "    fix_logv=True,\n",
    "    fix_delta=True,\n",
    "    fix_a=False,\n",
    "    fix_eta=True,\n",
    ")\n",
    "\n",
    "grad_a_nd = nd.Gradient(\n",
    "    lambda _a: tdnll_appx(\n",
    "        x,\n",
    "        delta,\n",
    "        logv,\n",
    "        _a,\n",
    "        eta,\n",
    "        ts,\n",
    "        fix_logv=True,\n",
    "        fix_delta=True,\n",
    "        fix_a=True,\n",
    "        fix_eta=True,\n",
    "    )[0]\n",
    ")(a)[1:]\n",
    "\n",
    "np.stack((grad_a_tdnll, grad_a_nd)).T"
   ],
   "metadata": {
    "collapsed": false,
    "ExecuteTime": {
     "end_time": "2023-10-04T05:39:15.081259Z",
     "start_time": "2023-10-04T05:39:14.004260Z"
    }
   },
   "id": "5136dc2abb3fcd50"
  },
  {
   "cell_type": "code",
   "execution_count": 9,
   "outputs": [
    {
     "data": {
      "text/plain": "array([[ 10576.45428023,  10576.45428005],\n       [  1361.33310268,   1361.33310224],\n       [ -3247.42173624,  -3247.42173672],\n       [-12906.48521502, -12906.48521522],\n       [-19856.89798179, -19856.89798242],\n       [ 17882.01306616,  17882.01306568],\n       [  -268.08347939,   -268.08347967],\n       [  7077.50633164,   7077.50633121],\n       [-11218.73870063, -11218.73870098],\n       [   507.42616451,    507.42616408],\n       [ -9305.88683294,  -9305.88683356],\n       [  -398.07653241,   -398.07653296],\n       [ -1402.99140701,  -1402.99140758],\n       [  2421.6673315 ,   2421.6673314 ],\n       [-31650.85498034, -31650.85498081],\n       [ -1506.29824072,  -1506.2982414 ],\n       [ -4496.19172893,  -4496.19172948],\n       [-10413.67946864, -10413.67946911],\n       [ 15807.17784988,  15807.17784967],\n       [  -913.64256441,   -913.64256498],\n       [-10697.38755766, -10697.38755818],\n       [ 17225.11332697,  17225.11332649],\n       [ -9508.76604503,  -9508.76604517],\n       [ -3085.17758747,  -3085.17758752],\n       [-52516.43014523, -52516.43014566],\n       [-47909.96588933, -47909.96588966],\n       [  2893.56793424,   2893.5679339 ],\n       [-25524.36677256, -25524.3667731 ],\n       [   770.00980881,    770.00980828],\n       [ 45327.3824712 ,  45327.38247111],\n       [ 37420.23226463,  37420.23226392],\n       [-14958.87399825, -14958.87399845],\n       [ -8711.67219101,  -8711.67219149],\n       [-13913.23551274, -13913.23551344],\n       [  2258.03414569,   2258.03414523],\n       [ 27055.59175414,  27055.59175336],\n       [  -110.98044871,   -110.98044916],\n       [ -1388.48724906,  -1388.48724935],\n       [   340.92117153,    340.92117104],\n       [-28525.01436977, -28525.0143699 ],\n       [ 21125.1219499 ,  21125.12194947],\n       [ -2088.19769858,  -2088.19769897],\n       [-21551.34209795, -21551.34209861],\n       [ -9029.76200891,  -9029.76200874],\n       [  4510.0343144 ,   4510.03431405],\n       [ -5953.55204416,  -5953.55204466],\n       [  5556.55257377,   5556.55257362],\n       [ -7874.41183088,  -7874.41183154],\n       [-10955.44429184, -10955.44429195],\n       [  5655.44228734,   5655.44228681],\n       [  1592.70870303,   1592.70870274],\n       [ 17489.22573063,  17489.22573044],\n       [ 12747.72865299,  12747.72865293],\n       [ -6652.13688416,  -6652.13688464],\n       [-19114.30435947, -19114.3043594 ],\n       [ 16316.33698932,  16316.33698908],\n       [ 11315.249112  ,  11315.24911128],\n       [-89326.44258588, -89326.44258608],\n       [ -4854.56250099,  -4854.5625013 ],\n       [  8158.62321252,   8158.62321185],\n       [ -6362.90918875,  -6362.9091893 ],\n       [ 41658.4353055 ,  41658.43530479],\n       [ 14979.31274872,  14979.31274834]])"
     },
     "execution_count": 9,
     "metadata": {},
     "output_type": "execute_result"
    }
   ],
   "source": [
    "_, grad_eta_tdnll = tdnll_appx(\n",
    "    x,\n",
    "    delta,\n",
    "    logv,\n",
    "    a,\n",
    "    eta,\n",
    "    ts,\n",
    "    fix_logv=True,\n",
    "    fix_delta=True,\n",
    "    fix_a=True,\n",
    "    fix_eta=False,\n",
    ")\n",
    "\n",
    "grad_eta_nd = nd.Gradient(\n",
    "    lambda _eta: tdnll_appx(\n",
    "        x,\n",
    "        delta,\n",
    "        logv,\n",
    "        a,\n",
    "        _eta,\n",
    "        ts,\n",
    "        fix_logv=True,\n",
    "        fix_delta=True,\n",
    "        fix_a=True,\n",
    "        fix_eta=True,\n",
    "    )[0]\n",
    ")(eta)[1:]\n",
    "\n",
    "np.stack((grad_eta_tdnll, grad_eta_nd)).T"
   ],
   "metadata": {
    "collapsed": false,
    "ExecuteTime": {
     "end_time": "2023-10-04T05:39:37.894032Z",
     "start_time": "2023-10-04T05:39:36.839548Z"
    }
   },
   "id": "340e8a4843e9d0a5"
  },
  {
   "cell_type": "markdown",
   "source": [
    "## Estimate noise parameters with approximate NLL"
   ],
   "metadata": {
    "collapsed": false
   },
   "id": "d905c0f3e7dedba"
  },
  {
   "cell_type": "code",
   "execution_count": 25,
   "outputs": [],
   "source": [
    "NUM_NOISE_PARAMETERS = 3\n",
    "NUM_NOISE_DATA_DIMENSIONS = 2\n",
    "\n",
    "\n",
    "def tdnoisefit(\n",
    "    x: ArrayLike,\n",
    "    *,\n",
    "    v0: ArrayLike | None = None,\n",
    "    mu0: ArrayLike | None = None,\n",
    "    a0: ArrayLike | None = None,\n",
    "    eta0: ArrayLike | None = None,\n",
    "    ts: float = 1.0,\n",
    "    fix_v: bool = False,\n",
    "    fix_mu: bool = False,\n",
    "    fix_a: bool = True,\n",
    "    fix_eta: bool = True,\n",
    ") -> tuple[dict, float, dict]:\n",
    "    r\"\"\"\n",
    "    Compute time-domain noise model parameters.\n",
    "\n",
    "    Computes the noise parameters sigma and the underlying signal vector ``mu``\n",
    "    for the data matrix ``x``, where the columns of ``x`` are each noisy\n",
    "    measurements of ``mu``.\n",
    "\n",
    "    Parameters\n",
    "    ----------\n",
    "    x : ndarray\n",
    "        Data array.\n",
    "    v0 : ndarray, optional\n",
    "        Initial guess, noise model parameters with size (3,), expressed as\n",
    "        variance amplitudes.\n",
    "    mu0 : ndarray, optional\n",
    "        Initial guess, signal vector with size (n,).\n",
    "    a0 : ndarray, optional\n",
    "        Initial guess, amplitude vector with size (m,).\n",
    "    eta0 : ndarray, optional\n",
    "        Initial guess, delay vector with size (m,).\n",
    "    ts : float, optional\n",
    "        Sampling time\n",
    "    fix_v : bool, optional\n",
    "        Noise variance parameters.\n",
    "    fix_mu : bool, optional\n",
    "        Signal vector.\n",
    "    fix_a : bool, optional\n",
    "        Amplitude vector.\n",
    "    fix_eta : bool, optional\n",
    "        Delay vector.\n",
    "\n",
    "    Returns\n",
    "    -------\n",
    "    p : dict\n",
    "        Output parameter dictionary containing:\n",
    "            var : ndarray\n",
    "                Noise parameters, expressed as variance amplitudes.\n",
    "            mu : ndarray\n",
    "                Signal vector.\n",
    "            a : ndarray\n",
    "                Amplitude vector.\n",
    "            eta : ndarray\n",
    "                Delay vector.\n",
    "    fval : float\n",
    "        Value of NLL cost function from FMINUNC\n",
    "    Diagnostic : dict\n",
    "        Dictionary containing diagnostic information\n",
    "            err : dic\n",
    "                Dictionary containing  error of the parameters.\n",
    "            grad : ndarray\n",
    "                Negative loglikelihood cost function gradient from\n",
    "                scipy.optimize.minimize BFGS method.\n",
    "            hessian : ndarray\n",
    "                Negative loglikelihood cost function hessian from\n",
    "                scipy.optimize.minimize BFGS method.\n",
    "    \"\"\"\n",
    "    if fix_v and fix_mu and fix_a and fix_eta:\n",
    "        msg = \"All variables are fixed\"\n",
    "        raise ValueError(msg)\n",
    "    # Parse and validate function inputs\n",
    "    x = np.asarray(x)\n",
    "    if x.ndim != NUM_NOISE_DATA_DIMENSIONS:\n",
    "        msg = \"Data array x must be 2D\"\n",
    "        raise ValueError(msg)\n",
    "    n, m = x.shape\n",
    "\n",
    "    if v0 is None:\n",
    "        v0 = np.mean(np.var(x, 1)) * np.ones(NUM_NOISE_PARAMETERS)\n",
    "    else:\n",
    "        v0 = np.asarray(v0)\n",
    "        if v0.size != NUM_NOISE_PARAMETERS:\n",
    "            msg = (\n",
    "                \"Noise parameter array logv must have \"\n",
    "                f\"{NUM_NOISE_PARAMETERS} elements.\"\n",
    "            )\n",
    "            raise ValueError(msg)\n",
    "\n",
    "    if mu0 is None:\n",
    "        mu0 = np.mean(x, 1)\n",
    "    else:\n",
    "        mu0 = np.asarray(mu0)\n",
    "        if mu0.size != n:\n",
    "            msg = \"Size of mu0 is incompatible with data array x.\"\n",
    "            raise ValueError(msg)\n",
    "\n",
    "    scale = thz.noiseamp(np.sqrt(v0), x[:, 0], ts)\n",
    "    delta0 = (x[:, 0] - mu0) / scale\n",
    "\n",
    "    if a0 is None:\n",
    "        a0 = np.ones(m)\n",
    "    else:\n",
    "        a0 = np.asarray(a0)\n",
    "        if a0.size != m:\n",
    "            msg = \"Size of a0 is incompatible with data array x.\"\n",
    "            raise ValueError(msg)\n",
    "\n",
    "    if eta0 is None:\n",
    "        eta0 = np.zeros(m)\n",
    "    else:\n",
    "        eta0 = np.asarray(eta0)\n",
    "        if eta0.size != m:\n",
    "            msg = \"Size of eta0 is incompatible with data array x.\"\n",
    "            raise ValueError(msg)\n",
    "\n",
    "    # Set initial guesses for all free parameters\n",
    "    x0 = np.array([])\n",
    "    if not fix_v:\n",
    "        # Replace log(x) with -inf when x <= 0\n",
    "        logv0 = np.ma.log(v0).filled(-np.inf)\n",
    "        x0 = np.concatenate((x0, logv0))\n",
    "    if not fix_mu:\n",
    "        x0 = np.concatenate((x0, mu0))\n",
    "    if not fix_a:\n",
    "        x0 = np.concatenate((x0, a0[1:] / a0[0]))\n",
    "    if not fix_eta:\n",
    "        x0 = np.concatenate((x0, eta0[1:] - eta0[0]))\n",
    "\n",
    "    # Bundle free parameters together into objective function\n",
    "    def objective(_p):\n",
    "        if fix_v:\n",
    "            _logv = np.ma.log(v0).filled(-np.inf)\n",
    "        else:\n",
    "            _logv = _p[:3]\n",
    "            _p = _p[3:]\n",
    "        if fix_mu:\n",
    "            _delta = delta0\n",
    "        else:\n",
    "            _delta = _p[:n]\n",
    "            _p = _p[n:]\n",
    "        if fix_a:\n",
    "            _a = a0\n",
    "        else:\n",
    "            _a = np.concatenate((np.array([1.0]), _p[: m - 1]))\n",
    "            _p = _p[m - 1 :]\n",
    "        if fix_eta:\n",
    "            _eta = eta0\n",
    "        else:\n",
    "            _eta = np.concatenate((np.array([0.0]), _p[: m - 1]))\n",
    "        return tdnll_appx(\n",
    "            x.T,\n",
    "            _delta,\n",
    "            _logv,\n",
    "            _a,\n",
    "            _eta,\n",
    "            ts,\n",
    "            fix_logv=fix_v,\n",
    "            fix_delta=fix_mu,\n",
    "            fix_a=fix_a,\n",
    "            fix_eta=fix_eta,\n",
    "        )\n",
    "\n",
    "    # Minimize cost function with respect to free parameters\n",
    "    out = minimize(\n",
    "        objective,\n",
    "        x0,\n",
    "        method=\"BFGS\",\n",
    "        jac=True,\n",
    "        options={\n",
    "            \"gtol\": 1e-3,\n",
    "        },\n",
    "    )\n",
    "\n",
    "    # Parse output\n",
    "    p = {}\n",
    "    x_out = out.x\n",
    "    if fix_v:\n",
    "        p[\"var\"] = v0\n",
    "    else:\n",
    "        p[\"var\"] = np.exp(x_out[:3])\n",
    "        x_out = x_out[3:]\n",
    "\n",
    "    if fix_mu:\n",
    "        p[\"mu\"] = mu0\n",
    "    else:\n",
    "        p[\"mu\"] = x[:, 0] - x_out[:n] * scale\n",
    "        x_out = x_out[n:]\n",
    "\n",
    "    if fix_a:\n",
    "        p[\"a\"] = a0\n",
    "    else:\n",
    "        p[\"a\"] = np.concatenate(([1], x_out[: m - 1]))\n",
    "        x_out = x_out[m - 1 :]\n",
    "\n",
    "    if fix_eta:\n",
    "        p[\"eta\"] = eta0\n",
    "    else:\n",
    "        p[\"eta\"] = np.concatenate(([0], x_out[: m - 1]))\n",
    "\n",
    "    p[\"ts\"] = ts\n",
    "\n",
    "    diagnostic = {\n",
    "        \"grad\": out.jac,\n",
    "        \"cov\": out.hess_inv,\n",
    "        \"err\": {\n",
    "            \"var\": np.array([]),\n",
    "            \"mu\": np.array([]),\n",
    "            \"a\": np.array([]),\n",
    "            \"eta\": np.array([]),\n",
    "        },\n",
    "        \"success\": out.success,\n",
    "        \"status\": out.status,\n",
    "        \"message\": out.message,\n",
    "        \"nfev\": out.nfev,\n",
    "        \"njev\": out.njev,\n",
    "        \"nit\": out.nit,\n",
    "    }\n",
    "    err = np.sqrt(np.diag(diagnostic[\"cov\"]))\n",
    "    if not fix_v:\n",
    "        # Propagate error from log(V) to V\n",
    "        diagnostic[\"err\"][\"var\"] = np.sqrt(\n",
    "            np.diag(np.diag(p[\"var\"]) @ diagnostic[\"cov\"][0:3, 0:3])\n",
    "            @ np.diag(p[\"var\"])\n",
    "        )\n",
    "        err = err[3:]\n",
    "\n",
    "    if not fix_mu:\n",
    "        diagnostic[\"err\"][\"mu\"] = err[:n] * scale\n",
    "        err = err[n:]\n",
    "\n",
    "    if not fix_a:\n",
    "        diagnostic[\"err\"][\"a\"] = np.concatenate(([0], err[: m - 1]))\n",
    "        err = err[m - 1 :]\n",
    "\n",
    "    if not fix_eta:\n",
    "        diagnostic[\"err\"][\"eta\"] = np.concatenate(([0], err[: m - 1]))\n",
    "\n",
    "    return p, out.fun, diagnostic"
   ],
   "metadata": {
    "collapsed": false,
    "ExecuteTime": {
     "end_time": "2023-10-04T05:50:13.265894Z",
     "start_time": "2023-10-04T05:50:13.262284Z"
    }
   },
   "id": "2644749779b93982"
  },
  {
   "cell_type": "code",
   "execution_count": 26,
   "outputs": [],
   "source": [
    "result = tdnoisefit(x.T, ts=ts)"
   ],
   "metadata": {
    "collapsed": false,
    "ExecuteTime": {
     "end_time": "2023-10-04T05:50:15.277106Z",
     "start_time": "2023-10-04T05:50:14.178031Z"
    }
   },
   "id": "dc0d1efd00bb35d7"
  },
  {
   "cell_type": "code",
   "execution_count": 27,
   "outputs": [
    {
     "name": "stdout",
     "output_type": "stream",
     "text": [
      "Optimization terminated successfully.\n"
     ]
    }
   ],
   "source": [
    "print(result[2][\"message\"])"
   ],
   "metadata": {
    "collapsed": false,
    "ExecuteTime": {
     "end_time": "2023-10-04T05:50:15.866749Z",
     "start_time": "2023-10-04T05:50:15.858925Z"
    }
   },
   "id": "445f8f0c1a609ac3"
  },
  {
   "cell_type": "code",
   "execution_count": 28,
   "outputs": [
    {
     "name": "stdout",
     "output_type": "stream",
     "text": [
      "Input:  1e-10\t Output: 9.485e-11 ± 3.399e-12\n",
      "Input: 0.0001\t Output: 0.0001205 ± 5.585e-06\n",
      "Input:  1e-06\t Output: 1.989e-07 ± 1.16e-08\n"
     ]
    }
   ],
   "source": [
    "var_out = result[0][\"var\"] * m / (m - 1)\n",
    "var_err = result[2][\"err\"][\"var\"] * m / (m - 1)\n",
    "for val_in, val_out, err in zip(sigma**2, var_out, var_err):\n",
    "    print(f\"Input: {val_in:6.4g}\\t Output: {val_out:6.4g} ± {err:6.4g}\")"
   ],
   "metadata": {
    "collapsed": false,
    "ExecuteTime": {
     "end_time": "2023-10-04T05:50:20.140431Z",
     "start_time": "2023-10-04T05:50:20.134849Z"
    }
   },
   "id": "24c887e71ac696f6"
  },
  {
   "cell_type": "code",
   "execution_count": 13,
   "outputs": [],
   "source": [
    "result_exact = thz.tdnoisefit(\n",
    "    x.T,\n",
    "    v0=result[0][\"var\"],\n",
    "    mu0=result[0][\"mu\"],\n",
    "    a0=result[0][\"a\"],\n",
    "    eta0=result[0][\"eta\"],\n",
    "    ts=ts,\n",
    ")"
   ],
   "metadata": {
    "collapsed": false,
    "ExecuteTime": {
     "end_time": "2023-10-04T04:32:29.289585Z",
     "start_time": "2023-10-04T04:32:28.320474Z"
    }
   },
   "id": "d91ce7a3e4680dbe"
  },
  {
   "cell_type": "code",
   "execution_count": 14,
   "outputs": [
    {
     "name": "stdout",
     "output_type": "stream",
     "text": [
      "Desired error not necessarily achieved due to precision loss.\n"
     ]
    }
   ],
   "source": [
    "print(result_exact[2][\"message\"])"
   ],
   "metadata": {
    "collapsed": false,
    "ExecuteTime": {
     "end_time": "2023-10-04T04:32:29.294143Z",
     "start_time": "2023-10-04T04:32:29.291607Z"
    }
   },
   "id": "f3914fd40efc0ce"
  },
  {
   "cell_type": "code",
   "execution_count": 15,
   "outputs": [
    {
     "name": "stdout",
     "output_type": "stream",
     "text": [
      "Input:  1e-10\t Output: 9.992e-11 ± 1.332e-12\n",
      "Input: 0.0001\t Output: 9.855e-05 ± 2.584e-06\n",
      "Input:  1e-06\t Output: 8.976e-07 ± 8.098e-08\n"
     ]
    }
   ],
   "source": [
    "var_out = result_exact[0][\"var\"] * m / (m - 1)\n",
    "var_err = result_exact[2][\"err\"][\"var\"] * m / (m - 1)\n",
    "for val_in, val_out, err in zip(sigma**2, var_out, var_err):\n",
    "    print(f\"Input: {val_in:6.4g}\\t Output: {val_out:6.4g} ± {err:6.4g}\")"
   ],
   "metadata": {
    "collapsed": false,
    "ExecuteTime": {
     "end_time": "2023-10-04T04:32:29.299194Z",
     "start_time": "2023-10-04T04:32:29.294583Z"
    }
   },
   "id": "452bb503b5f68ea4"
  },
  {
   "cell_type": "code",
   "execution_count": 16,
   "outputs": [
    {
     "data": {
      "text/plain": "<Figure size 640x480 with 1 Axes>",
      "image/png": "[encoded data removed]"
     },
     "metadata": {},
     "output_type": "display_data"
    }
   ],
   "source": [
    "plt.plot(t, np.var(x, axis=0))\n",
    "plt.show()"
   ],
   "metadata": {
    "collapsed": false,
    "ExecuteTime": {
     "end_time": "2023-10-04T04:32:29.350394Z",
     "start_time": "2023-10-04T04:32:29.297365Z"
    }
   },
   "id": "c28918d9085cddeb"
  },
  {
   "cell_type": "code",
   "execution_count": 18,
   "outputs": [
    {
     "data": {
      "text/plain": "2105507.818113499"
     },
     "execution_count": 18,
     "metadata": {},
     "output_type": "execute_result"
    }
   ],
   "source": [
    "np.max(np.var(x, axis=0)) / np.min(np.var(x, axis=0))"
   ],
   "metadata": {
    "collapsed": false,
    "ExecuteTime": {
     "end_time": "2023-10-04T04:33:28.694910Z",
     "start_time": "2023-10-04T04:33:28.689525Z"
    }
   },
   "id": "697ecfc66afac3f7"
  },
  {
   "cell_type": "code",
   "execution_count": null,
   "outputs": [],
   "source": [],
   "metadata": {
    "collapsed": false
   },
   "id": "633222a55a7379c1"
  }
 ],
 "metadata": {
  "kernelspec": {
   "display_name": "Python 3",
   "language": "python",
   "name": "python3"
  },
  "language_info": {
   "codemirror_mode": {
    "name": "ipython",
    "version": 2
   },
   "file_extension": ".py",
   "mimetype": "text/x-python",
   "name": "python",
   "nbconvert_exporter": "python",
   "pygments_lexer": "ipython2",
   "version": "2.7.6"
  }
 },
 "nbformat": 4,
 "nbformat_minor": 5
}
