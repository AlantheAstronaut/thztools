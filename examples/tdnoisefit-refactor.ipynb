{
 "cells": [
  {
   "cell_type": "markdown",
   "source": [
    "# Refactor tdnoisefit\n",
    "\n",
    "Compute Hessian directly."
   ],
   "metadata": {
    "collapsed": false
   },
   "id": "e563aa0c68045297"
  },
  {
   "cell_type": "code",
   "execution_count": 1,
   "id": "initial_id",
   "metadata": {
    "collapsed": true,
    "ExecuteTime": {
     "end_time": "2023-10-01T18:09:00.270143Z",
     "start_time": "2023-10-01T18:08:59.623317Z"
    }
   },
   "outputs": [],
   "source": [
    "from __future__ import annotations\n",
    "\n",
    "import numdifftools as nd\n",
    "import numpy as np\n",
    "import scipy.optimize as opt\n",
    "\n",
    "from numpy.typing import ArrayLike\n",
    "from scipy.optimize import minimize\n",
    "from matplotlib import pyplot as plt\n",
    "from matplotlib.figure import figaspect\n",
    "from scipy.optimize import approx_fprime\n",
    "from numpy.random import default_rng\n",
    "\n",
    "import thztools as thz"
   ]
  },
  {
   "cell_type": "markdown",
   "source": [
    "## Simulate measurements\n",
    "Simulate a set of `m` waveforms, each sampled at `n` time points, with noise parameters\n",
    "`sigma_alpha`, `sigma_beta`, and `sigma_tau`, and store them in an array `x`. Note that\n",
    "`x` stores the waveforms in row orientation, with shape `(m, n)`, because NumPy\n",
    "broadcasting rules and FFT functions are simpler for arrays that are row-oriented."
   ],
   "metadata": {
    "collapsed": false
   },
   "id": "7d36ed16dd051115"
  },
  {
   "cell_type": "code",
   "execution_count": 2,
   "outputs": [],
   "source": [
    "rng = np.random.default_rng(0)\n",
    "n = 256\n",
    "m = 64\n",
    "ts = 0.05\n",
    "t = np.arange(n) * ts\n",
    "mu, _ = thz.thzgen(n, ts=ts, t0=n * ts / 3)\n",
    "sigma = np.array([1e-5, 1e-2, 1e-3])\n",
    "noise = thz.noiseamp(sigma, mu, ts) * rng.standard_normal((m, n))\n",
    "x = np.array(mu + noise)\n",
    "a = np.ones(m)\n",
    "eta = np.zeros(m)"
   ],
   "metadata": {
    "collapsed": false,
    "ExecuteTime": {
     "end_time": "2023-10-01T18:09:00.275221Z",
     "start_time": "2023-10-01T18:09:00.271588Z"
    }
   },
   "id": "17ee3a98671ca6f9"
  }
 ],
 "metadata": {
  "kernelspec": {
   "display_name": "Python 3",
   "language": "python",
   "name": "python3"
  },
  "language_info": {
   "codemirror_mode": {
    "name": "ipython",
    "version": 2
   },
   "file_extension": ".py",
   "mimetype": "text/x-python",
   "name": "python",
   "nbconvert_exporter": "python",
   "pygments_lexer": "ipython2",
   "version": "2.7.6"
  }
 },
 "nbformat": 4,
 "nbformat_minor": 5
}
