{
 "cells": [
  {
   "cell_type": "markdown",
   "source": [
    "# Refactor tdnoisefit\n",
    "\n",
    "Determine $\\hat{\\mathbf{\\mu}}$ by solving $\\partial C/\\partial\\mathbf{\\mu} = \\mathbf{0}$."
   ],
   "metadata": {
    "collapsed": false
   },
   "id": "e563aa0c68045297"
  },
  {
   "cell_type": "code",
   "execution_count": 1,
   "id": "initial_id",
   "metadata": {
    "collapsed": true,
    "ExecuteTime": {
     "end_time": "2023-10-01T18:09:00.270143Z",
     "start_time": "2023-10-01T18:08:59.623317Z"
    }
   },
   "outputs": [],
   "source": [
    "from __future__ import annotations\n",
    "\n",
    "import numdifftools as nd\n",
    "import numpy as np\n",
    "import scipy.optimize as opt\n",
    "\n",
    "from numpy.typing import ArrayLike\n",
    "from scipy.optimize import minimize\n",
    "from matplotlib import pyplot as plt\n",
    "from matplotlib.figure import figaspect\n",
    "from scipy.optimize import approx_fprime\n",
    "from numpy.random import default_rng\n",
    "\n",
    "import thztools as thz"
   ]
  },
  {
   "cell_type": "markdown",
   "source": [
    "## Simulate measurements\n",
    "Simulate a set of `m` waveforms, each sampled at `n` time points, with noise parameters\n",
    "`sigma_alpha`, `sigma_beta`, and `sigma_tau`, and store them in an array `x`. Note that\n",
    "`x` stores the waveforms in row orientation, with shape `(m, n)`, because NumPy\n",
    "broadcasting rules and FFT functions are simpler for arrays that are row-oriented."
   ],
   "metadata": {
    "collapsed": false
   },
   "id": "7d36ed16dd051115"
  },
  {
   "cell_type": "code",
   "execution_count": 2,
   "outputs": [],
   "source": [
    "rng = np.random.default_rng(0)\n",
    "n = 256\n",
    "m = 64\n",
    "ts = 0.05\n",
    "t = np.arange(n) * ts\n",
    "mu, _ = thz.thzgen(n, ts=ts, t0=n * ts / 3)\n",
    "sigma = np.array([1e-5, 1e-2, 1e-3])\n",
    "noise = thz.noiseamp(sigma, mu, ts) * rng.standard_normal((m, n))\n",
    "x = np.array(mu + noise)\n",
    "a = np.ones(m)\n",
    "eta = np.zeros(m)"
   ],
   "metadata": {
    "collapsed": false,
    "ExecuteTime": {
     "end_time": "2023-10-01T18:09:00.275221Z",
     "start_time": "2023-10-01T18:09:00.271588Z"
    }
   },
   "id": "17ee3a98671ca6f9"
  },
  {
   "cell_type": "markdown",
   "source": [
    "## Refactor tdnoisefit using root to solve for mu"
   ],
   "metadata": {
    "collapsed": false
   },
   "id": "a5f0a6231c4742a8"
  },
  {
   "cell_type": "code",
   "execution_count": 3,
   "outputs": [],
   "source": [
    "from thztools import tdnll\n",
    "\n",
    "NUM_NOISE_PARAMETERS = 3\n",
    "NUM_NOISE_DATA_DIMENSIONS = 2\n",
    "\n",
    "\n",
    "def tdnoisefit(\n",
    "    x: ArrayLike,\n",
    "    *,\n",
    "    v0: ArrayLike | None = None,\n",
    "    a0: ArrayLike | None = None,\n",
    "    eta0: ArrayLike | None = None,\n",
    "    ts: float = 1.0,\n",
    "    fix_v: bool = False,\n",
    "    fix_a: bool = True,\n",
    "    fix_eta: bool = True,\n",
    ") -> tuple[dict, float, dict]:\n",
    "    r\"\"\"\n",
    "    Compute time-domain noise model parameters.\n",
    "\n",
    "    Computes the noise parameters sigma and the underlying signal vector ``mu``\n",
    "    for the data matrix ``x``, where the columns of ``x`` are each noisy\n",
    "    measurements of ``mu``.\n",
    "\n",
    "    Parameters\n",
    "    ----------\n",
    "    x : ndarray\n",
    "        Data array.\n",
    "    v0 : ndarray, optional\n",
    "        Initial guess, noise model parameters with size (3,), expressed as\n",
    "        variance amplitudes.\n",
    "    a0 : ndarray, optional\n",
    "        Initial guess, amplitude vector with size (m,).\n",
    "    eta0 : ndarray, optional\n",
    "        Initial guess, delay vector with size (m,).\n",
    "    ts : float, optional\n",
    "        Sampling time\n",
    "    fix_v : bool, optional\n",
    "        Noise variance parameters.\n",
    "    fix_a : bool, optional\n",
    "        Amplitude vector.\n",
    "    fix_eta : bool, optional\n",
    "        Delay vector.\n",
    "\n",
    "    Returns\n",
    "    --------\n",
    "    p : dict\n",
    "        Output parameter dictionary containing:\n",
    "            var : ndarray\n",
    "                Noise parameters, expressed as variance amplitudes.\n",
    "            mu : ndarray\n",
    "                Signal vector.\n",
    "            a : ndarray\n",
    "                Amplitude vector.\n",
    "            eta : ndarray\n",
    "                Delay vector.\n",
    "    fval : float\n",
    "        Value of NLL cost function from FMINUNC\n",
    "    Diagnostic : dict\n",
    "        Dictionary containing diagnostic information\n",
    "            err : dic\n",
    "                Dictionary containing  error of the parameters.\n",
    "            grad : ndarray\n",
    "                Negative loglikelihood cost function gradient from\n",
    "                scipy.optimize.minimize BFGS method.\n",
    "            hessian : ndarray\n",
    "                Negative loglikelihood cost function hessian from\n",
    "                scipy.optimize.minimize BFGS method.\n",
    "    \"\"\"\n",
    "    if fix_v and fix_a and fix_eta:\n",
    "        msg = \"All variables are fixed\"\n",
    "        raise ValueError(msg)\n",
    "    # Parse and validate function inputs\n",
    "    x = np.asarray(x)\n",
    "    if x.ndim != NUM_NOISE_DATA_DIMENSIONS:\n",
    "        msg = \"Data array x must be 2D\"\n",
    "        raise ValueError(msg)\n",
    "    n, m = x.shape\n",
    "\n",
    "    if v0 is None:\n",
    "        v0 = np.mean(np.var(x, 1)) * np.ones(NUM_NOISE_PARAMETERS)\n",
    "    else:\n",
    "        v0 = np.asarray(v0)\n",
    "        if v0.size != NUM_NOISE_PARAMETERS:\n",
    "            msg = (\n",
    "                \"Noise parameter array logv must have \"\n",
    "                f\"{NUM_NOISE_PARAMETERS} elements.\"\n",
    "            )\n",
    "            raise ValueError(msg)\n",
    "\n",
    "    if a0 is None:\n",
    "        a0 = np.ones(m)\n",
    "    else:\n",
    "        a0 = np.asarray(a0)\n",
    "        if a0.size != m:\n",
    "            msg = \"Size of a0 is incompatible with data array x.\"\n",
    "            raise ValueError(msg)\n",
    "\n",
    "    if eta0 is None:\n",
    "        eta0 = np.zeros(m)\n",
    "    else:\n",
    "        eta0 = np.asarray(eta0)\n",
    "        if eta0.size != m:\n",
    "            msg = \"Size of eta0 is incompatible with data array x.\"\n",
    "            raise ValueError(msg)\n",
    "\n",
    "    # Set initial guesses for all free parameters\n",
    "    p0 = np.array([])\n",
    "    if not fix_v:\n",
    "        # Replace log(x) with -inf when x <= 0\n",
    "        logv0 = np.ma.log(v0).filled(-np.inf)\n",
    "        p0 = np.concatenate((p0, logv0))\n",
    "    if not fix_a:\n",
    "        p0 = np.concatenate((p0, a0[1:] / a0[0]))\n",
    "    if not fix_eta:\n",
    "        p0 = np.concatenate((p0, eta0[1:] - eta0[0]))\n",
    "\n",
    "    # Bundle free parameters together into objective function\n",
    "    def objective(_p):\n",
    "        if fix_v:\n",
    "            _logv = np.ma.log(v0).filled(-np.inf)\n",
    "        else:\n",
    "            _logv = _p[:3]\n",
    "            _p = _p[3:]\n",
    "        if fix_a:\n",
    "            _a = a0\n",
    "        else:\n",
    "            _a = np.concatenate((np.array([1.0]), _p[: m - 1]))\n",
    "            _p = _p[m - 1 :]\n",
    "        if fix_eta:\n",
    "            _eta = eta0\n",
    "        else:\n",
    "            _eta = np.concatenate((np.array([0.0]), _p[: m - 1]))\n",
    "\n",
    "        def _grad_mu(_mu: ArrayLike) -> ArrayLike:\n",
    "            _, grad = thz.tdnll(x.T, _mu, _logv, _a, _eta, ts, fix_logv=True, fix_mu=False, \n",
    "                        fix_a=True, fix_eta=True)\n",
    "            return grad\n",
    "\n",
    "        x_scale_shift = thz.scaleshift(x.T, a=1.0 / _a, eta=-_eta, ts=ts)\n",
    "        \n",
    "        mu0 = np.mean(x_scale_shift, axis=0)\n",
    "        sol = opt.root(_grad_mu, mu0, tol=np.finfo(float).eps)\n",
    "        mu_est = sol.x\n",
    "        \n",
    "        return tdnll(\n",
    "            x.T,\n",
    "            mu_est,\n",
    "            _logv,\n",
    "            _a,\n",
    "            _eta,\n",
    "            ts,\n",
    "            fix_logv=fix_v,\n",
    "            fix_mu=True,\n",
    "            fix_a=fix_a,\n",
    "            fix_eta=fix_eta,\n",
    "        )\n",
    "\n",
    "    # Minimize cost function with respect to free parameters\n",
    "    out = minimize(objective, p0, method=\"BFGS\", jac=True)\n",
    "\n",
    "    # Parse output\n",
    "    p = {}\n",
    "    x_out = out.x\n",
    "    if fix_v:\n",
    "        p[\"var\"] = v0\n",
    "    else:\n",
    "        p[\"var\"] = np.exp(x_out[:3])\n",
    "        x_out = x_out[3:]\n",
    "\n",
    "    if fix_a:\n",
    "        p[\"a\"] = a0\n",
    "    else:\n",
    "        p[\"a\"] = np.concatenate(([1], x_out[: m - 1]))\n",
    "        x_out = x_out[m - 1 :]\n",
    "\n",
    "    if fix_eta:\n",
    "        p[\"eta\"] = eta0\n",
    "    else:\n",
    "        p[\"eta\"] = np.concatenate(([0], x_out[: m - 1]))\n",
    "\n",
    "    p[\"ts\"] = ts\n",
    "\n",
    "    # def _grad_mu(_mu: ArrayLike) -> ArrayLike:\n",
    "    #     _, grad = thz.tdnll(x.T, _mu, np.log(p[\"var\"]), p[\"a\"], p[\"eta\"], ts, \n",
    "    #                         fix_logv=True, fix_mu=False, fix_a=True, fix_eta=True)\n",
    "    #     return grad\n",
    "    # \n",
    "    # x_scale_shift = thz.scaleshift(x.T, a=1.0 / p[\"a\"], eta=-p[\"eta\"], ts=ts)    \n",
    "    # mu0 = np.mean(x_scale_shift, axis=0)\n",
    "    # sol = opt.root(_grad_mu, mu0, tol=np.finfo(float).eps)\n",
    "    # mu_est = sol.x\n",
    "    # p[\"mu\"] = mu_est\n",
    "    # \n",
    "    diagnostic = {\n",
    "        \"grad\": out.jac,\n",
    "        \"cov\": out.hess_inv,\n",
    "        \"err\": {\n",
    "            \"var\": np.array([]),\n",
    "            \"a\": np.array([]),\n",
    "            \"eta\": np.array([]),\n",
    "        },\n",
    "        \"success\": out.success,\n",
    "        \"status\": out.status,\n",
    "        \"message\": out.message,\n",
    "        \"nfev\": out.nfev,\n",
    "        \"njev\": out.njev,\n",
    "        \"nit\": out.nit,\n",
    "    }\n",
    "    err = np.sqrt(np.diag(diagnostic[\"cov\"]))\n",
    "    if not fix_v:\n",
    "        # Propagate error from log(V) to V\n",
    "        diagnostic[\"err\"][\"var\"] = np.sqrt(\n",
    "            np.diag(np.diag(p[\"var\"]) @ diagnostic[\"cov\"][0:3, 0:3])\n",
    "            @ np.diag(p[\"var\"])\n",
    "        )\n",
    "        err = err[3:]\n",
    "\n",
    "    if not fix_a:\n",
    "        diagnostic[\"err\"][\"a\"] = np.concatenate(([0], err[: m - 1]))\n",
    "        err = err[m - 1 :]\n",
    "\n",
    "    if not fix_eta:\n",
    "        diagnostic[\"err\"][\"eta\"] = np.concatenate(([0], err[: m - 1]))\n",
    "\n",
    "    return p, out.fun, diagnostic"
   ],
   "metadata": {
    "collapsed": false,
    "ExecuteTime": {
     "end_time": "2023-10-01T18:09:00.318392Z",
     "start_time": "2023-10-01T18:09:00.316704Z"
    }
   },
   "id": "484490e2ebd8f680"
  },
  {
   "cell_type": "code",
   "execution_count": 4,
   "outputs": [],
   "source": [
    "p, out_fun, diagnostic = thz.tdnoisefit(x.T, v0=sigma**2, a0=None, eta0=None, fix_v=False, fix_a=True, fix_eta=True)"
   ],
   "metadata": {
    "collapsed": false,
    "ExecuteTime": {
     "end_time": "2023-10-01T18:09:14.137797Z",
     "start_time": "2023-10-01T18:09:00.319426Z"
    }
   },
   "id": "7dc0d10bdd8118ba"
  },
  {
   "cell_type": "code",
   "execution_count": 5,
   "outputs": [
    {
     "data": {
      "text/plain": "{'grad': array([ 2.82614283e-07, -1.96575571e-08,  3.51556190e-09]),\n 'cov': array([[ 1.68048025e-04, -1.06279276e-05,  1.87937999e-05],\n        [-1.06279276e-05,  6.85055950e-04, -5.32350921e-04],\n        [ 1.87937999e-05, -5.32350921e-04,  5.41555231e-03]]),\n 'err': {'var': array([1.27746569e-12, 2.52587949e-06, 2.72935306e-05]),\n  'mu': array([], dtype=float64),\n  'a': array([], dtype=float64),\n  'eta': array([], dtype=float64)},\n 'success': True,\n 'status': 0,\n 'message': 'Optimization terminated successfully.',\n 'nfev': 20,\n 'njev': 20,\n 'nit': 15}"
     },
     "execution_count": 5,
     "metadata": {},
     "output_type": "execute_result"
    }
   ],
   "source": [
    "diagnostic"
   ],
   "metadata": {
    "collapsed": false,
    "ExecuteTime": {
     "end_time": "2023-10-01T18:09:14.147226Z",
     "start_time": "2023-10-01T18:09:14.144643Z"
    }
   },
   "id": "3abc27fe961419a1"
  },
  {
   "cell_type": "code",
   "execution_count": 6,
   "outputs": [],
   "source": [
    "p, out_fun, diagnostic = tdnoisefit(x.T, v0=sigma**2, a0=None, eta0=None, fix_v=False, fix_a=True, fix_eta=True)"
   ],
   "metadata": {
    "collapsed": false,
    "ExecuteTime": {
     "end_time": "2023-10-01T18:09:27.191139Z",
     "start_time": "2023-10-01T18:09:14.146992Z"
    }
   },
   "id": "2051a66abfd5ba7c"
  },
  {
   "cell_type": "code",
   "execution_count": 7,
   "outputs": [
    {
     "data": {
      "text/plain": "{'grad': array([ 2.82614283e-07, -1.96575571e-08,  3.51556190e-09]),\n 'cov': array([[ 1.68048025e-04, -1.06279276e-05,  1.87937999e-05],\n        [-1.06279276e-05,  6.85055950e-04, -5.32350921e-04],\n        [ 1.87937999e-05, -5.32350921e-04,  5.41555231e-03]]),\n 'err': {'var': array([1.27746569e-12, 2.52587949e-06, 2.72935306e-05]),\n  'a': array([], dtype=float64),\n  'eta': array([], dtype=float64)},\n 'success': True,\n 'status': 0,\n 'message': 'Optimization terminated successfully.',\n 'nfev': 20,\n 'njev': 20,\n 'nit': 15}"
     },
     "execution_count": 7,
     "metadata": {},
     "output_type": "execute_result"
    }
   ],
   "source": [
    "diagnostic"
   ],
   "metadata": {
    "collapsed": false,
    "ExecuteTime": {
     "end_time": "2023-10-01T18:09:27.194620Z",
     "start_time": "2023-10-01T18:09:27.189989Z"
    }
   },
   "id": "57b7157da2744670"
  }
 ],
 "metadata": {
  "kernelspec": {
   "display_name": "Python 3",
   "language": "python",
   "name": "python3"
  },
  "language_info": {
   "codemirror_mode": {
    "name": "ipython",
    "version": 2
   },
   "file_extension": ".py",
   "mimetype": "text/x-python",
   "name": "python",
   "nbconvert_exporter": "python",
   "pygments_lexer": "ipython2",
   "version": "2.7.6"
  }
 },
 "nbformat": 4,
 "nbformat_minor": 5
}
