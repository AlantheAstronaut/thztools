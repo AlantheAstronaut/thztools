{
 "cells": [
  {
   "cell_type": "markdown",
   "source": [
    "# Simulation example with *thztools*"
   ],
   "metadata": {
    "collapsed": false
   }
  },
  {
   "cell_type": "code",
   "execution_count": 1,
   "source": [
    "from matplotlib import pyplot as plt\n",
    "from matplotlib.figure import figaspect\n",
    "\n",
    "import numpy as np\n",
    "from numpy import pi\n",
    "from numpy.fft import rfftfreq, rfft, irfft\n",
    "from numpy.random import default_rng\n",
    "\n",
    "import scipy.linalg as la\n",
    "from scipy import signal\n",
    "import scipy.optimize as opt\n",
    "from scipy import stats\n",
    "\n",
    "import thztools as thz\n",
    "from thztools.thztools import _costfuntls"
   ],
   "metadata": {
    "collapsed": false,
    "ExecuteTime": {
     "end_time": "2024-01-09T08:29:35.818460Z",
     "start_time": "2024-01-09T08:29:35.038130Z"
    }
   },
   "outputs": []
  },
  {
   "cell_type": "markdown",
   "source": [
    "## Simulate noisy terahertz time-domain waveforms\n",
    "\n",
    "Functions from `thztools`: `thzgen`, `noiseamp`\n",
    "\n",
    "The first cell below sets the parameters for the simulation, and the subsequent cell generates `n_sim = 11` noisy terahertz time-domain waveforms, each with `n = 256` samples, and stores them in an `(n_sim, n)` NumPy array `x`. The function `thzgen` returns discrete samples `mu` of an ideal waveform evaluated at the measurement times `t`. The function `noiseamp` returns the noise amplitude `sigma` at each point in the sampled waveform. We use the SciPy `periodogram` function to compute the power spectral density `psd` of each noisy waveform in `x` at the discrete frequencies `f`.\n",
    "\n",
    "The next cell generates a figure that shows (a) `mu` and `30 * sigma` as a function of `t`; and (b) `psd` as a function of `f`, normalized to the maximum value over the set."
   ],
   "metadata": {
    "collapsed": false
   }
  },
  {
   "metadata": {},
   "cell_type": "code",
   "outputs": [],
   "execution_count": null,
   "source": [
    "n = 256  # Number of samples\n",
    "m = 10  # Number of waveforms\n",
    "dt = 0.05  # Sampling time [ps]\n",
    "\n",
    "sigma_alpha = 1e-5  # Additive noise amplitude [signal units]\n",
    "sigma_beta = 1e-2  # Multiplicative noise amplitude [dimensionless]\n",
    "sigma_tau = 1e-3  # Time base noise amplitude [ps]\n",
    "noise_model = thz.NoiseModel(sigma_alpha, sigma_beta, sigma_tau)\n",
    "\n",
    "seed = 0  # RNG seed\n",
    "rng = default_rng(seed)"
   ]
  },
  {
   "metadata": {},
   "cell_type": "code",
   "outputs": [],
   "execution_count": null,
   "source": [
    "thz.global_options.sampling_time = dt\n",
    "t = thz.timebase(n)\n",
    "mu = thz.wave(n)\n",
    "sigma = noise_model.sigma_mu(mu)\n",
    "\n",
    "# Use broadcasting to generate multiple simulated noisy measurements of mu\n",
    "n_sim = 1000"
   ]
  },
  {
   "metadata": {},
   "cell_type": "code",
   "outputs": [],
   "execution_count": null,
   "source": [
    "%%time\n",
    "\n",
    "sigma_alpha_est = np.zeros(n_sim)\n",
    "sigma_alpha_err = np.zeros(n_sim)\n",
    "sigma_beta_est = np.zeros(n_sim)\n",
    "sigma_beta_err = np.zeros(n_sim)\n",
    "sigma_tau_est = np.zeros(n_sim)\n",
    "sigma_tau_err = np.zeros(n_sim)\n",
    "mu_est = np.zeros((n, n_sim))\n",
    "mu_err = np.zeros((n, n_sim))\n",
    "a_est = np.zeros((m, n_sim))\n",
    "a_err = np.zeros((m, n_sim))\n",
    "eta_est = np.zeros((m, n_sim))\n",
    "eta_err = np.zeros((m, n_sim))\n",
    "for i in range(n_sim):\n",
    "    x = mu + noise_model.noise_mu(np.tile(mu, (m, 1)), seed=i)\n",
    "    fit_result = thz.noisefit(x.T)\n",
    "    sigma_alpha_est[i] = fit_result.noise_model.sigma_alpha\n",
    "    sigma_alpha_err[i] = fit_result.err_sigma_alpha\n",
    "    sigma_beta_est[i] = fit_result.noise_model.sigma_beta\n",
    "    sigma_beta_err[i] = fit_result.err_sigma_beta\n",
    "    sigma_tau_est[i] = fit_result.noise_model.sigma_tau\n",
    "    sigma_tau_err[i] = fit_result.err_sigma_tau\n",
    "    mu_est[:, i] = fit_result.mu\n",
    "    mu_err[:, i] = fit_result.err_mu\n",
    "    a_est[:, i] = fit_result.a\n",
    "    a_err[:, i] = fit_result.err_a\n",
    "    eta_est[:, i] = fit_result.eta\n",
    "    eta_err[:, i] = fit_result.err_eta\n",
    "\n",
    "sigma_correct = np.sqrt(m / (m - 1))"
   ]
  },
  {
   "metadata": {},
   "cell_type": "code",
   "outputs": [],
   "execution_count": null,
   "source": [
    "sigma_alpha_est_mean = np.mean(sigma_alpha_est)\n",
    "sigma_alpha_est_std = np.std(sigma_alpha_est, ddof=1)\n",
    "sigma_alpha_err_mean = np.mean(sigma_alpha_err)\n",
    "\n",
    "sigma_beta_est_mean = np.mean(sigma_beta_est)\n",
    "sigma_beta_est_std = np.std(sigma_beta_est, ddof=1)\n",
    "sigma_beta_err_mean = np.mean(sigma_beta_err)\n",
    "\n",
    "sigma_tau_est_mean = np.mean(sigma_tau_est)\n",
    "sigma_tau_est_std = np.std(sigma_tau_est, ddof=1)\n",
    "sigma_tau_err_mean = np.mean(sigma_tau_err)\n",
    "\n",
    "mu_est_mean = np.mean(mu_est, axis=1)\n",
    "mu_est_std = np.std(mu_est, axis=1, ddof=1)\n",
    "mu_err_mean = np.mean(mu_err, axis=1)\n",
    "\n",
    "a_est_mean = np.mean(a_est, axis=1)\n",
    "a_est_std = np.std(a_est, axis=1)\n",
    "a_err_mean = np.mean(a_err, axis=1)\n",
    "\n",
    "eta_est_mean = np.mean(eta_est, axis=1)\n",
    "eta_est_std = np.std(eta_est, axis=1, ddof=1)\n",
    "eta_err_mean = np.mean(eta_err, axis=1)\n",
    "\n",
    "print(\n",
    "    f\"sigma_alpha: {sigma_alpha_est_mean / sigma_alpha:.4f} \"\n",
    "    f\"± {sigma_alpha_est_std / sigma_alpha:.4f}\"\n",
    ")\n",
    "print(\n",
    "    f\"sigma_beta: {sigma_beta_est_mean / sigma_beta:.4f} \"\n",
    "    f\"± {sigma_beta_est_std / sigma_beta:.4f}\"\n",
    ")\n",
    "print(\n",
    "    f\"sigma_tau: {sigma_tau_est_mean / sigma_tau:.4f} \"\n",
    "    f\"± {sigma_tau_est_std / sigma_tau:.4f}\"\n",
    ")\n",
    "\n",
    "np.savez(\n",
    "    \"sim_dump\",\n",
    "    n=n,\n",
    "    m=m,\n",
    "    dt=dt,\n",
    "    sigma_alpha=sigma_alpha,\n",
    "    sigma_beta=sigma_beta,\n",
    "    sigma_tau=sigma_tau,\n",
    "    noise_model=noise_model,\n",
    "    t=t,\n",
    "    mu=mu,\n",
    "    sigma=sigma,\n",
    "    n_sim=n_sim,\n",
    "    sigma_alpha_est=sigma_alpha_est,\n",
    "    sigma_alpha_err=sigma_alpha_err,\n",
    "    sigma_beta_est=sigma_beta_est,\n",
    "    sigma_beta_err=sigma_beta_err,\n",
    "    sigma_tau_est=sigma_tau_est,\n",
    "    sigma_tau_err=sigma_tau_err,\n",
    "    mu_est=mu_est,\n",
    "    mu_err=mu_err,\n",
    "    a_est=a_est,\n",
    "    a_err=a_err,\n",
    "    eta_est=eta_est,\n",
    "    eta_err=eta_err,\n",
    ")"
   ]
  },
  {
   "metadata": {},
   "cell_type": "code",
   "outputs": [],
   "execution_count": null,
   "source": [
    "w, h = figaspect(3.0)\n",
    "_, axs = plt.subplots(3, 1, figsize=(w, h))\n",
    "axs[0].hist(sigma_correct * sigma_alpha_est / sigma_alpha)\n",
    "axs[1].hist(sigma_correct * sigma_beta_est / sigma_beta)\n",
    "axs[2].hist(sigma_correct * sigma_tau_est / sigma_tau)\n",
    "plt.show()"
   ]
  }
 ],
 "metadata": {
  "kernelspec": {
   "display_name": "Python 3 (ipykernel)",
   "language": "python",
   "name": "python3"
  },
  "language_info": {
   "codemirror_mode": {
    "name": "ipython",
    "version": 3
   },
   "file_extension": ".py",
   "mimetype": "text/x-python",
   "name": "python",
   "nbconvert_exporter": "python",
   "pygments_lexer": "ipython3",
   "version": "3.9.16"
  }
 },
 "nbformat": 4,
 "nbformat_minor": 1
}
