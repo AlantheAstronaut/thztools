{
 "cells": [
  {
   "cell_type": "code",
   "execution_count": 1,
   "id": "2acb76ee",
   "metadata": {
    "pycharm": {
     "name": "#%%\n"
    }
   },
   "outputs": [],
   "source": [
    "import numpy as np\n",
    "import matplotlib.pyplot as plt"
   ]
  },
  {
   "cell_type": "code",
   "execution_count": 2,
   "id": "1ee85ae3",
   "metadata": {
    "pycharm": {
     "name": "#%%\n"
    }
   },
   "outputs": [],
   "source": [
    "def thzgen(N, T, t0, varargin):\n",
    "    default_A = 1\n",
    "    default_taur = 0.3\n",
    "    default_tauc = 0.1\n",
    "    default_taul = 0.05 / np.sqrt(2 * np.log(2))\n",
    "\n",
    "    A = default_A\n",
    "    taur = default_taur\n",
    "    tauc = default_tauc\n",
    "    taul = default_taul\n",
    "\n",
    "    if(N % 2 == 1):\n",
    "        f = np.fft.fftfreq(N, T)\n",
    "    else:\n",
    "        f = np.fft.fftfreq(N, T)\n",
    "        f[int(N/2)] = -f[int(N/2)]\n",
    "\n",
    "\n",
    "    w = 2 * np.pi * f\n",
    "\n",
    "    L = np.exp(-(w * taul)**2 / 2) / np.sqrt(2 * np.pi * taul**2);\n",
    "    R = 1/(1 / taur - 1j * w) - 1 / (1 / taur + 1 / tauc - 1j * w);\n",
    "    S = -1j * w * (L * R)**2 * np.exp(1j * w * t0);\n",
    "\n",
    "    t = T*np.arange(N)\n",
    "    # t = t(:);\n",
    "\n",
    "    y = np.real(   np.fft.ifft(  np.conj(S) )  )\n",
    "    y = A * y / np.max(y)\n",
    "\n",
    "    return [y,t]"
   ]
  },
  {
   "cell_type": "code",
   "execution_count": 3,
   "id": "c51d59c8",
   "metadata": {
    "pycharm": {
     "name": "#%%\n"
    }
   },
   "outputs": [
    {
     "data": {
      "image/png": "[encoded data removed]",
      "text/plain": [
       "<Figure size 720x576 with 1 Axes>"
      ]
     },
     "metadata": {
      "needs_background": "light"
     },
     "output_type": "display_data"
    }
   ],
   "source": [
    "N = 256\n",
    "T = 0.1\n",
    "t0 = 3\n",
    "\n",
    "[y, t] = thzgen(N = N, T = T, t0 = t0, varargin = 1)\n",
    "plt.figure(figsize=(10, 8))\n",
    "plt.plot(t, y, c = 'darkblue')\n",
    "plt.show()"
   ]
  },
  {
   "cell_type": "code",
   "execution_count": 8,
   "id": "85565728",
   "metadata": {
    "pycharm": {
     "name": "#%%\n"
    }
   },
   "outputs": [],
   "source": [
    "a = np.array([1, 2, 3])\n"
   ]
  },
  {
   "cell_type": "code",
   "execution_count": 9,
   "id": "e37243ad",
   "metadata": {
    "pycharm": {
     "name": "#%%\n"
    }
   },
   "outputs": [
    {
     "data": {
      "text/plain": [
       "(3,)"
      ]
     },
     "execution_count": 9,
     "metadata": {},
     "output_type": "execute_result"
    }
   ],
   "source": [
    "np.shape(a)"
   ]
  },
  {
   "cell_type": "code",
   "execution_count": 10,
   "id": "ef356820",
   "metadata": {
    "pycharm": {
     "name": "#%%\n"
    }
   },
   "outputs": [
    {
     "data": {
      "text/plain": [
       "3"
      ]
     },
     "execution_count": 10,
     "metadata": {},
     "output_type": "execute_result"
    }
   ],
   "source": [
    "len(a)"
   ]
  },
  {
   "cell_type": "code",
   "execution_count": 16,
   "id": "3fc06a34",
   "metadata": {
    "pycharm": {
     "name": "#%%\n"
    }
   },
   "outputs": [
    {
     "ename": "TypeError",
     "evalue": "cannot unpack non-iterable int object",
     "output_type": "error",
     "traceback": [
      "\u001B[1;31m---------------------------------------------------------------------------\u001B[0m",
      "\u001B[1;31mTypeError\u001B[0m                                 Traceback (most recent call last)",
      "Input \u001B[1;32mIn [16]\u001B[0m, in \u001B[0;36m<cell line: 1>\u001B[1;34m()\u001B[0m\n\u001B[1;32m----> 1\u001B[0m [N] \u001B[38;5;241m=\u001B[39m np\u001B[38;5;241m.\u001B[39mshape(a)[\u001B[38;5;241m0\u001B[39m]\n",
      "\u001B[1;31mTypeError\u001B[0m: cannot unpack non-iterable int object"
     ]
    }
   ],
   "source": [
    "[N] = np.shape(a)[0]"
   ]
  },
  {
   "cell_type": "code",
   "execution_count": null,
   "id": "05b28204",
   "metadata": {
    "pycharm": {
     "name": "#%%\n"
    }
   },
   "outputs": [],
   "source": []
  }
 ],
 "metadata": {
  "kernelspec": {
   "display_name": "Python 3 (ipykernel)",
   "language": "python",
   "name": "python3"
  },
  "language_info": {
   "codemirror_mode": {
    "name": "ipython",
    "version": 3
   },
   "file_extension": ".py",
   "mimetype": "text/x-python",
   "name": "python",
   "nbconvert_exporter": "python",
   "pygments_lexer": "ipython3",
   "version": "3.9.12"
  }
 },
 "nbformat": 4,
 "nbformat_minor": 5
}