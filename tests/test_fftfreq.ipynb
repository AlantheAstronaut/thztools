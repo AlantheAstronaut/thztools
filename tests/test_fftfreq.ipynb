{
 "cells": [
  {
   "cell_type": "code",
   "execution_count": 1,
   "id": "8cb95e81",
   "metadata": {},
   "outputs": [],
   "source": [
    "import numpy as np\n",
    "import h5py\n",
    "from thztools import thztools"
   ]
  },
  {
   "cell_type": "code",
   "execution_count": 2,
   "id": "a2262697",
   "metadata": {},
   "outputs": [],
   "source": [
    "# Load test data\n",
    "\n",
    "# The MATLAB data is stored as a structure array with\n",
    "# fields N, T, and f. Each array element is stored\n",
    "# as a 2-d array, which we reduce to 0-d or 1-d by\n",
    "# appropriate indexing.\n",
    "test = np.zeros((2,2), dtype=bool)\n",
    "with h5py.File('test_data.mat', 'r') as file:\n",
    "    Set = file['Set']\n",
    "    for i in range(2):\n",
    "        for j in range(2):\n",
    "            N = np.array(file[Set['N'][i,j]])[0,0]\n",
    "            T = np.array(file[Set['T'][i,j]])[0,0]\n",
    "            f = np.array(file[Set['f'][i,j]])[0]\n",
    "            fpy = thztools.fftfreq(N.astype(int), T)\n",
    "            test[i,j] = np.allclose(f, fpy)"
   ]
  },
  {
   "cell_type": "code",
   "execution_count": 3,
   "id": "e50e86c1",
   "metadata": {},
   "outputs": [
    {
     "name": "stdout",
     "output_type": "stream",
     "text": [
      "[[ True  True]\n",
      " [ True  True]]\n"
     ]
    }
   ],
   "source": [
    "print(test)"
   ]
  }
 ],
 "metadata": {
  "kernelspec": {
   "display_name": "Python 3 (ipykernel)",
   "language": "python",
   "name": "python3"
  },
  "language_info": {
   "codemirror_mode": {
    "name": "ipython",
    "version": 3
   },
   "file_extension": ".py",
   "mimetype": "text/x-python",
   "name": "python",
   "nbconvert_exporter": "python",
   "pygments_lexer": "ipython3",
   "version": "3.9.7"
  }
 },
 "nbformat": 4,
 "nbformat_minor": 5
}
