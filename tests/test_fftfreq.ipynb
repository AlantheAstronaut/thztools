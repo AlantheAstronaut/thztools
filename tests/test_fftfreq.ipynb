{
 "cells": [
  {
   "cell_type": "code",
   "execution_count": 1,
   "id": "8cb95e81",
   "metadata": {},
   "outputs": [],
   "source": [
    "import numpy as np\n",
    "import h5py\n",
    "from thztools import thztools"
   ]
  },
  {
   "cell_type": "code",
   "execution_count": 2,
   "id": "a2262697",
   "metadata": {},
   "outputs": [
    {
     "ename": "AssertionError",
     "evalue": "\nNot equal to tolerance rtol=1e-07, atol=0\n\nMismatched elements: 3 / 4 (75%)\nMax absolute difference: 5.\nMax relative difference: 1.\n x: array(0, dtype=uint64)\n y: array([ 0. ,  2.5,  5. , -2.5])",
     "output_type": "error",
     "traceback": [
      "\u001b[1;31m---------------------------------------------------------------------------\u001b[0m",
      "\u001b[1;31mAssertionError\u001b[0m                            Traceback (most recent call last)",
      "Input \u001b[1;32mIn [2]\u001b[0m, in \u001b[0;36m<cell line: 7>\u001b[1;34m()\u001b[0m\n\u001b[0;32m     13\u001b[0m f \u001b[38;5;241m=\u001b[39m np\u001b[38;5;241m.\u001b[39marray(file[Set[\u001b[38;5;124m'\u001b[39m\u001b[38;5;124mfftfreq\u001b[39m\u001b[38;5;124m'\u001b[39m][\u001b[38;5;124m'\u001b[39m\u001b[38;5;124mf\u001b[39m\u001b[38;5;124m'\u001b[39m][i,j]])[\u001b[38;5;241m0\u001b[39m]\n\u001b[0;32m     14\u001b[0m fpy \u001b[38;5;241m=\u001b[39m thztools\u001b[38;5;241m.\u001b[39mfftfreq(N\u001b[38;5;241m.\u001b[39mastype(\u001b[38;5;28mint\u001b[39m), T)\n\u001b[1;32m---> 15\u001b[0m \u001b[43mnp\u001b[49m\u001b[38;5;241;43m.\u001b[39;49m\u001b[43mtesting\u001b[49m\u001b[38;5;241;43m.\u001b[39;49m\u001b[43massert_allclose\u001b[49m\u001b[43m(\u001b[49m\u001b[43mf\u001b[49m\u001b[43m,\u001b[49m\u001b[43m \u001b[49m\u001b[43mfpy\u001b[49m\u001b[43m)\u001b[49m\n",
      "    \u001b[1;31m[... skipping hidden 1 frame]\u001b[0m\n",
      "File \u001b[1;32m~\\anaconda3\\envs\\thztools\\lib\\site-packages\\numpy\\testing\\_private\\utils.py:844\u001b[0m, in \u001b[0;36massert_array_compare\u001b[1;34m(comparison, x, y, err_msg, verbose, header, precision, equal_nan, equal_inf)\u001b[0m\n\u001b[0;32m    840\u001b[0m         err_msg \u001b[38;5;241m+\u001b[39m\u001b[38;5;241m=\u001b[39m \u001b[38;5;124m'\u001b[39m\u001b[38;5;130;01m\\n\u001b[39;00m\u001b[38;5;124m'\u001b[39m \u001b[38;5;241m+\u001b[39m \u001b[38;5;124m'\u001b[39m\u001b[38;5;130;01m\\n\u001b[39;00m\u001b[38;5;124m'\u001b[39m\u001b[38;5;241m.\u001b[39mjoin(remarks)\n\u001b[0;32m    841\u001b[0m         msg \u001b[38;5;241m=\u001b[39m build_err_msg([ox, oy], err_msg,\n\u001b[0;32m    842\u001b[0m                             verbose\u001b[38;5;241m=\u001b[39mverbose, header\u001b[38;5;241m=\u001b[39mheader,\n\u001b[0;32m    843\u001b[0m                             names\u001b[38;5;241m=\u001b[39m(\u001b[38;5;124m'\u001b[39m\u001b[38;5;124mx\u001b[39m\u001b[38;5;124m'\u001b[39m, \u001b[38;5;124m'\u001b[39m\u001b[38;5;124my\u001b[39m\u001b[38;5;124m'\u001b[39m), precision\u001b[38;5;241m=\u001b[39mprecision)\n\u001b[1;32m--> 844\u001b[0m         \u001b[38;5;28;01mraise\u001b[39;00m \u001b[38;5;167;01mAssertionError\u001b[39;00m(msg)\n\u001b[0;32m    845\u001b[0m \u001b[38;5;28;01mexcept\u001b[39;00m \u001b[38;5;167;01mValueError\u001b[39;00m:\n\u001b[0;32m    846\u001b[0m     \u001b[38;5;28;01mimport\u001b[39;00m \u001b[38;5;21;01mtraceback\u001b[39;00m\n",
      "\u001b[1;31mAssertionError\u001b[0m: \nNot equal to tolerance rtol=1e-07, atol=0\n\nMismatched elements: 3 / 4 (75%)\nMax absolute difference: 5.\nMax relative difference: 1.\n x: array(0, dtype=uint64)\n y: array([ 0. ,  2.5,  5. , -2.5])"
     ]
    }
   ],
   "source": [
    "# Load test data\n",
    "\n",
    "# The MATLAB data is stored as a structure array with\n",
    "# fields N, T, and f. Each array element is stored\n",
    "# as a 2-d array, which we reduce to 0-d or 1-d by\n",
    "# appropriate indexing.\n",
    "with h5py.File('test_data.mat', 'r') as file:\n",
    "    Set = file['Set']\n",
    "    for i in range(2):\n",
    "        for j in range(2):\n",
    "            N = np.array(file[Set['fftfreq']['N'][i,j]])[0,0]\n",
    "            T = np.array(file[Set['fftfreq']['T'][i,j]])[0,0]\n",
    "            f = np.array(file[Set['fftfreq']['f'][i,j]])[0]\n",
    "            fpy = thztools.fftfreq(N.astype(int), T)\n",
    "            np.testing.assert_allclose(f, fpy)"
   ]
  },
  {
   "cell_type": "code",
   "execution_count": null,
   "id": "cde13bab",
   "metadata": {},
   "outputs": [],
   "source": []
  }
 ],
 "metadata": {
  "kernelspec": {
   "display_name": "Python 3 (ipykernel)",
   "language": "python",
   "name": "python3"
  },
  "language_info": {
   "codemirror_mode": {
    "name": "ipython",
    "version": 3
   },
   "file_extension": ".py",
   "mimetype": "text/x-python",
   "name": "python",
   "nbconvert_exporter": "python",
   "pygments_lexer": "ipython3",
   "version": "3.9.12"
  }
 },
 "nbformat": 4,
 "nbformat_minor": 5
}
